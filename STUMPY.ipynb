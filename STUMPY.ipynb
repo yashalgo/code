{
 "cells": [
  {
   "cell_type": "code",
   "execution_count": 1,
   "metadata": {},
   "outputs": [],
   "source": [
    "%matplotlib inline\n",
    "\n",
    "from libs import *\n",
    "from helper_functions import *\n",
    "# plt.style.use('https://raw.githubusercontent.com/TDAmeritrade/stumpy/main/docs/stumpy.mplstyle')"
   ]
  },
  {
   "cell_type": "markdown",
   "metadata": {},
   "source": [
    "KITE CONNECT DB"
   ]
  },
  {
   "cell_type": "markdown",
   "metadata": {},
   "source": [
    "DAILY TF"
   ]
  },
  {
   "cell_type": "code",
   "execution_count": 2,
   "metadata": {},
   "outputs": [
    {
     "name": "stdout",
     "output_type": "stream",
     "text": [
      "/Users/yash/Desktop/Trading/historical_data/kite_connect/day/UCOBANK_20180101_20221231.csv\n"
     ]
    }
   ],
   "source": [
    "start_ = '20221123'\n",
    "end_ = '20221205'\n",
    "Q_df = read_file_from_symbol('UCOBANK')\n",
    "\n",
    "# Q_df = pd.DataFrame(filter_df_dates(Q_df, start_, end_)['pivot'])"
   ]
  },
  {
   "cell_type": "code",
   "execution_count": 3,
   "metadata": {},
   "outputs": [
    {
     "data": {
      "text/html": [
       "<div>\n",
       "<style scoped>\n",
       "    .dataframe tbody tr th:only-of-type {\n",
       "        vertical-align: middle;\n",
       "    }\n",
       "\n",
       "    .dataframe tbody tr th {\n",
       "        vertical-align: top;\n",
       "    }\n",
       "\n",
       "    .dataframe thead th {\n",
       "        text-align: right;\n",
       "    }\n",
       "</style>\n",
       "<table border=\"1\" class=\"dataframe\">\n",
       "  <thead>\n",
       "    <tr style=\"text-align: right;\">\n",
       "      <th></th>\n",
       "      <th>open</th>\n",
       "      <th>high</th>\n",
       "      <th>low</th>\n",
       "      <th>close</th>\n",
       "      <th>volume</th>\n",
       "      <th>Date</th>\n",
       "    </tr>\n",
       "  </thead>\n",
       "  <tbody>\n",
       "    <tr>\n",
       "      <th>0</th>\n",
       "      <td>30.00</td>\n",
       "      <td>30.85</td>\n",
       "      <td>30.00</td>\n",
       "      <td>30.60</td>\n",
       "      <td>2226297</td>\n",
       "      <td>2018-01-01</td>\n",
       "    </tr>\n",
       "    <tr>\n",
       "      <th>1</th>\n",
       "      <td>30.70</td>\n",
       "      <td>31.10</td>\n",
       "      <td>29.70</td>\n",
       "      <td>30.30</td>\n",
       "      <td>795384</td>\n",
       "      <td>2018-01-02</td>\n",
       "    </tr>\n",
       "    <tr>\n",
       "      <th>2</th>\n",
       "      <td>30.35</td>\n",
       "      <td>31.50</td>\n",
       "      <td>30.10</td>\n",
       "      <td>30.40</td>\n",
       "      <td>1272634</td>\n",
       "      <td>2018-01-03</td>\n",
       "    </tr>\n",
       "    <tr>\n",
       "      <th>3</th>\n",
       "      <td>31.95</td>\n",
       "      <td>33.90</td>\n",
       "      <td>31.50</td>\n",
       "      <td>33.30</td>\n",
       "      <td>8620848</td>\n",
       "      <td>2018-01-04</td>\n",
       "    </tr>\n",
       "    <tr>\n",
       "      <th>4</th>\n",
       "      <td>33.85</td>\n",
       "      <td>34.20</td>\n",
       "      <td>32.55</td>\n",
       "      <td>32.80</td>\n",
       "      <td>1980612</td>\n",
       "      <td>2018-01-05</td>\n",
       "    </tr>\n",
       "    <tr>\n",
       "      <th>...</th>\n",
       "      <td>...</td>\n",
       "      <td>...</td>\n",
       "      <td>...</td>\n",
       "      <td>...</td>\n",
       "      <td>...</td>\n",
       "      <td>...</td>\n",
       "    </tr>\n",
       "    <tr>\n",
       "      <th>1234</th>\n",
       "      <td>28.35</td>\n",
       "      <td>32.35</td>\n",
       "      <td>26.85</td>\n",
       "      <td>31.95</td>\n",
       "      <td>138351627</td>\n",
       "      <td>2022-12-26</td>\n",
       "    </tr>\n",
       "    <tr>\n",
       "      <th>1235</th>\n",
       "      <td>32.50</td>\n",
       "      <td>33.45</td>\n",
       "      <td>31.00</td>\n",
       "      <td>32.45</td>\n",
       "      <td>107289429</td>\n",
       "      <td>2022-12-27</td>\n",
       "    </tr>\n",
       "    <tr>\n",
       "      <th>1236</th>\n",
       "      <td>31.70</td>\n",
       "      <td>32.80</td>\n",
       "      <td>30.85</td>\n",
       "      <td>31.40</td>\n",
       "      <td>66549004</td>\n",
       "      <td>2022-12-28</td>\n",
       "    </tr>\n",
       "    <tr>\n",
       "      <th>1237</th>\n",
       "      <td>31.00</td>\n",
       "      <td>31.50</td>\n",
       "      <td>30.55</td>\n",
       "      <td>30.80</td>\n",
       "      <td>36148593</td>\n",
       "      <td>2022-12-29</td>\n",
       "    </tr>\n",
       "    <tr>\n",
       "      <th>1238</th>\n",
       "      <td>31.40</td>\n",
       "      <td>32.50</td>\n",
       "      <td>31.30</td>\n",
       "      <td>31.50</td>\n",
       "      <td>35706421</td>\n",
       "      <td>2022-12-30</td>\n",
       "    </tr>\n",
       "  </tbody>\n",
       "</table>\n",
       "<p>1239 rows × 6 columns</p>\n",
       "</div>"
      ],
      "text/plain": [
       "       open   high    low  close     volume       Date\n",
       "0     30.00  30.85  30.00  30.60    2226297 2018-01-01\n",
       "1     30.70  31.10  29.70  30.30     795384 2018-01-02\n",
       "2     30.35  31.50  30.10  30.40    1272634 2018-01-03\n",
       "3     31.95  33.90  31.50  33.30    8620848 2018-01-04\n",
       "4     33.85  34.20  32.55  32.80    1980612 2018-01-05\n",
       "...     ...    ...    ...    ...        ...        ...\n",
       "1234  28.35  32.35  26.85  31.95  138351627 2022-12-26\n",
       "1235  32.50  33.45  31.00  32.45  107289429 2022-12-27\n",
       "1236  31.70  32.80  30.85  31.40   66549004 2022-12-28\n",
       "1237  31.00  31.50  30.55  30.80   36148593 2022-12-29\n",
       "1238  31.40  32.50  31.30  31.50   35706421 2022-12-30\n",
       "\n",
       "[1239 rows x 6 columns]"
      ]
     },
     "execution_count": 3,
     "metadata": {},
     "output_type": "execute_result"
    }
   ],
   "source": [
    "Q_df"
   ]
  },
  {
   "cell_type": "code",
   "execution_count": null,
   "metadata": {},
   "outputs": [],
   "source": [
    "match_dict = dict()\n",
    "\n",
    "for f in files:\n",
    "    try:\n",
    "        symbol_ = f.split('/')[-1].split('.')[0]\n",
    "        print(symbol_)\n",
    "        df = read_file_from_symbol(symbol_)\n",
    "        df = n_month_gain(df, 1)\n",
    "        df = n_month_gain(df, 3)\n",
    "        df = n_month_gain(df, 6)\n",
    "        df = adr(df)\n",
    "        df['pivot'] = (df['high']+df['low']+df['close'])/3\n",
    "        T_df = pd.DataFrame(df['pivot'])\n",
    "        m = Q_df[\"pivot\"].size\n",
    "        # To set the exclusion zone to zero, set the denominator to np.`inf`\n",
    "        stumpy.config.STUMPY_EXCL_ZONE_DENOM = np.inf\n",
    "\n",
    "        top_N = stumpy.match(\n",
    "            Q_df[\"pivot\"],\n",
    "            T_df[\"pivot\"],\n",
    "            max_distance=np.inf, # set the threshold to infinity include all subsequences\n",
    "            max_matches=1,      # find the top 1 match\n",
    "        )[0]\n",
    "\n",
    "        stumpy.config.STUMPY_EXCL_ZONE_DENOM = 4 # Reset the denominator to its default value\n",
    "        match_distance = top_N[0]\n",
    "        match_idx = top_N[1]\n",
    "        match_dict[symbol_] = [match_distance, match_idx, df.iloc[match_idx], df.iloc[match_idx+m]]\n",
    "        print(symbol_, match_distance, match_idx)\n",
    "        print('***')\n",
    "    except:\n",
    "        print('Error in', symbol_)"
   ]
  },
  {
   "cell_type": "code",
   "execution_count": null,
   "metadata": {},
   "outputs": [],
   "source": [
    "match_dict_df = pd.DataFrame(match_dict).transpose()\n",
    "match_dict_df.columns = ['distance','index', 'Other']\n",
    "match_dict_df = match_dict_df.sort_values('distance')\n",
    "# x = match_dict_df.iloc[0,-1]\n",
    "match_dict_df\n",
    "match_dict_df['Date'] = match_dict_df['Other'].apply(lambda x: x.Date)"
   ]
  },
  {
   "cell_type": "markdown",
   "metadata": {},
   "source": [
    "Minute TF"
   ]
  },
  {
   "cell_type": "code",
   "execution_count": null,
   "metadata": {},
   "outputs": [],
   "source": [
    "path = '/Users/yash/Desktop/Trading/code/raw'\n",
    "os.chdir(path)"
   ]
  },
  {
   "cell_type": "code",
   "execution_count": null,
   "metadata": {},
   "outputs": [],
   "source": [
    "start_ = '20221123'\n",
    "end_ = '20221205'\n",
    "field = 'close'\n",
    "\n",
    "df = read_file_from_symbol3('AMBUJA', path)\n",
    "# Q_df = pd.DataFrame(filter_df_dates(Q_df, start_, end_)[field])"
   ]
  },
  {
   "cell_type": "code",
   "execution_count": null,
   "metadata": {},
   "outputs": [],
   "source": [
    "df_list = df.values.tolist()"
   ]
  },
  {
   "cell_type": "code",
   "execution_count": null,
   "metadata": {},
   "outputs": [],
   "source": [
    "Q_df = pd.DataFrame(df[field])"
   ]
  },
  {
   "cell_type": "code",
   "execution_count": null,
   "metadata": {},
   "outputs": [],
   "source": [
    "m = 60\n",
    "mp = stumpy.stump(Q_df[field], m)\n",
    "# mp = stumpy.gpu_stump(Q_df[field], m=m)  # Note that you'll need a properly configured NVIDIA GPU for this"
   ]
  },
  {
   "cell_type": "code",
   "execution_count": null,
   "metadata": {},
   "outputs": [],
   "source": [
    "motif_idx = np.argsort(mp[:, 0])[0]\n",
    "\n",
    "print(f\"The motif is located at index {motif_idx}\")"
   ]
  },
  {
   "cell_type": "code",
   "execution_count": null,
   "metadata": {},
   "outputs": [],
   "source": [
    "df_motif = df.iloc[motif_idx:motif_idx+m,:]\n",
    "\n",
    "fig = go.Figure(data=[go.Candlestick(open=df_motif['open'],\n",
    "                high=df_motif['high'],\n",
    "                low=df_motif['low'],\n",
    "                close=df_motif['close'])])\n",
    "\n",
    "fig.show()"
   ]
  },
  {
   "cell_type": "code",
   "execution_count": null,
   "metadata": {},
   "outputs": [],
   "source": [
    "motifs = stumpy.motifs(Q_df[field],\n",
    "    mp[:, 0],\n",
    "    max_distance=1.0)"
   ]
  },
  {
   "cell_type": "code",
   "execution_count": null,
   "metadata": {},
   "outputs": [],
   "source": [
    "for motif_idx in motifs[1][0]:\n",
    "    print(df['Date'].iloc[motif_idx])\n",
    "    df_motif = df.iloc[motif_idx:motif_idx+m,:]\n",
    "    \n",
    "    fig = go.Figure(data=[go.Candlestick(x=df_motif['Date'],\n",
    "                    open=df_motif['open'],\n",
    "                    high=df_motif['high'],\n",
    "                    low=df_motif['low'],\n",
    "                    close=df_motif['close'])])\n",
    "\n",
    "    fig.show()"
   ]
  },
  {
   "cell_type": "code",
   "execution_count": null,
   "metadata": {},
   "outputs": [],
   "source": [
    "\n",
    "fig = go.Figure(data=[go.Candlestick(x=df_motif['Date'],\n",
    "                open=df_motif['open'],\n",
    "                high=df_motif['high'],\n",
    "                low=df_motif['low'],\n",
    "                close=df_motif['close'])])\n",
    "\n",
    "fig.show()"
   ]
  },
  {
   "cell_type": "markdown",
   "metadata": {},
   "source": [
    "FROM KAGGLE DATASET"
   ]
  },
  {
   "cell_type": "markdown",
   "metadata": {},
   "source": [
    "DAILY TF"
   ]
  },
  {
   "cell_type": "code",
   "execution_count": null,
   "metadata": {},
   "outputs": [],
   "source": [
    "symbol_ = 'ACCELYA'\n",
    "path2 = '/Users/yash/Desktop/Trading/nse_data/Datasets/SCRIP'\n",
    "Q_df = read_file_from_symbol2(symbol_, basedir=path2)\n",
    "Q_df['pivot'] = (Q_df['high']+Q_df['low']+Q_df['close'])/3\n",
    "start_ = '20210611'\n",
    "end_ = '20210630'\n",
    "field = 'close'\n",
    "\n",
    "Q_df = pd.DataFrame(filter_df_dates(Q_df, start_, end_)[field])"
   ]
  },
  {
   "cell_type": "code",
   "execution_count": null,
   "metadata": {},
   "outputs": [],
   "source": [
    "files = glob(path2+'/*')\n",
    "match_dict_df = pd.DataFrame(columns = ['Symbol', 'd', 'idx', 1, 2])\n",
    "e = []"
   ]
  },
  {
   "cell_type": "code",
   "execution_count": null,
   "metadata": {},
   "outputs": [],
   "source": [
    "for f in files:\n",
    "    try:\n",
    "        symbol_ = f.split('/')[-1].split('.')[0]\n",
    "        print(symbol_)\n",
    "        df = read_file_from_symbol2(symbol_, path2)\n",
    "        df = n_month_gain(df, 1)\n",
    "        df = n_month_gain(df, 3)\n",
    "        df = n_month_gain(df, 6)\n",
    "        df = adr(df)\n",
    "        df['pivot'] = (df['high']+df['low']+df['close'])/3\n",
    "        T_df = pd.DataFrame(df[field])\n",
    "        m = Q_df[field].size\n",
    "        # To set the exclusion zone to zero, set the denominator to np.`inf`\n",
    "        stumpy.config.STUMPY_EXCL_ZONE_DENOM = np.inf\n",
    "        # print(Q_df.shape, T_df.shape)\n",
    "        top_N = stumpy.match(\n",
    "            Q_df[field],\n",
    "            T_df[field],\n",
    "            # max_distance=np.inf, # set the threshold to infinity include all subsequences      # find the top 1 match,\n",
    "            max_matches=5\n",
    "        )\n",
    "        # print(len(top_N))\n",
    "        for n in range(len(top_N)):\n",
    "            temp = top_N[n]\n",
    "            match_distance = temp[0]\n",
    "            match_idx = temp[1]\n",
    "            list_ = [symbol_, match_distance, match_idx, df.iloc[match_idx], df.iloc[match_idx+m]]\n",
    "            match_dict_df.loc[len(match_dict_df)] = list_\n",
    "\n",
    "        stumpy.config.STUMPY_EXCL_ZONE_DENOM = 4 # Reset the denominator to its default value\n",
    "        print('***')\n",
    "    except:\n",
    "        e.append(symbol_)\n",
    "        print('Error in', symbol_)"
   ]
  },
  {
   "cell_type": "code",
   "execution_count": null,
   "metadata": {},
   "outputs": [],
   "source": [
    "match_dict_df = match_dict_df.sort_values('d')\n",
    "match_dict_df['start_date'] = match_dict_df[1].apply(lambda x: x.Date)\n",
    "for j in ['1M_low_gain', '3M_low_gain', '6M_low_gain', 'ADR%', 'Date']:\n",
    "    match_dict_df[j] = match_dict_df[2].apply(lambda x: x[j])"
   ]
  }
 ],
 "metadata": {
  "kernelspec": {
   "display_name": "Python 3.10.9 64-bit",
   "language": "python",
   "name": "python3"
  },
  "language_info": {
   "codemirror_mode": {
    "name": "ipython",
    "version": 3
   },
   "file_extension": ".py",
   "mimetype": "text/x-python",
   "name": "python",
   "nbconvert_exporter": "python",
   "pygments_lexer": "ipython3",
   "version": "3.10.9"
  },
  "orig_nbformat": 4,
  "vscode": {
   "interpreter": {
    "hash": "b0fa6594d8f4cbf19f97940f81e996739fb7646882a419484c72d19e05852a7e"
   }
  }
 },
 "nbformat": 4,
 "nbformat_minor": 2
}
