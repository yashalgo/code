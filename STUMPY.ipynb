{
 "cells": [
  {
   "cell_type": "code",
   "execution_count": null,
   "metadata": {},
   "outputs": [],
   "source": [
    "%matplotlib inline\n",
    "\n",
    "import pandas as pd\n",
    "import stumpy\n",
    "import numpy as np\n",
    "import matplotlib.pyplot as plt\n",
    "import matplotlib.dates as dates\n",
    "from matplotlib.patches import Rectangle\n",
    "import plotly.graph_objects as go\n",
    "import datetime as dt\n",
    "import os\n",
    "from glob import glob\n",
    "import datetime\n",
    "import sys\n",
    "import subprocess\n",
    "import pkg_resources\n",
    "from helper_functions import *\n",
    "# plt.style.use('https://raw.githubusercontent.com/TDAmeritrade/stumpy/main/docs/stumpy.mplstyle')"
   ]
  },
  {
   "cell_type": "markdown",
   "metadata": {},
   "source": [
    "KITE CONNECT DB"
   ]
  },
  {
   "cell_type": "markdown",
   "metadata": {},
   "source": [
    "DAILY TF"
   ]
  },
  {
   "cell_type": "code",
   "execution_count": null,
   "metadata": {},
   "outputs": [],
   "source": [
    "start_ = '20221123'\n",
    "end_ = '20221205'\n",
    "Q_df = read_file_from_symbol('UCOBANK')\n",
    "\n",
    "# Q_df = pd.DataFrame(filter_df_dates(Q_df, start_, end_)['pivot'])"
   ]
  },
  {
   "cell_type": "code",
   "execution_count": null,
   "metadata": {},
   "outputs": [],
   "source": [
    "match_dict = dict()\n",
    "\n",
    "for f in files:\n",
    "    try:\n",
    "        symbol_ = f.split('/')[-1].split('.')[0]\n",
    "        print(symbol_)\n",
    "        df = read_file_from_symbol(symbol_)\n",
    "        df = n_month_gain(df, 1)\n",
    "        df = n_month_gain(df, 3)\n",
    "        df = n_month_gain(df, 6)\n",
    "        df = adr(df)\n",
    "        df['pivot'] = (df['high']+df['low']+df['close'])/3\n",
    "        T_df = pd.DataFrame(df['pivot'])\n",
    "        m = Q_df[\"pivot\"].size\n",
    "        # To set the exclusion zone to zero, set the denominator to np.`inf`\n",
    "        stumpy.config.STUMPY_EXCL_ZONE_DENOM = np.inf\n",
    "\n",
    "        top_N = stumpy.match(\n",
    "            Q_df[\"pivot\"],\n",
    "            T_df[\"pivot\"],\n",
    "            max_distance=np.inf, # set the threshold to infinity include all subsequences\n",
    "            max_matches=1,      # find the top 1 match\n",
    "        )[0]\n",
    "\n",
    "        stumpy.config.STUMPY_EXCL_ZONE_DENOM = 4 # Reset the denominator to its default value\n",
    "        match_distance = top_N[0]\n",
    "        match_idx = top_N[1]\n",
    "        match_dict[symbol_] = [match_distance, match_idx, df.iloc[match_idx], df.iloc[match_idx+m]]\n",
    "        print(symbol_, match_distance, match_idx)\n",
    "        print('***')\n",
    "    except:\n",
    "        print('Error in', symbol_)"
   ]
  },
  {
   "cell_type": "code",
   "execution_count": null,
   "metadata": {},
   "outputs": [],
   "source": [
    "match_dict_df = pd.DataFrame(match_dict).transpose()\n",
    "match_dict_df.columns = ['distance','index', 'Other']\n",
    "match_dict_df = match_dict_df.sort_values('distance')\n",
    "# x = match_dict_df.iloc[0,-1]\n",
    "match_dict_df\n",
    "match_dict_df['Date'] = match_dict_df['Other'].apply(lambda x: x.Date)"
   ]
  },
  {
   "cell_type": "markdown",
   "metadata": {},
   "source": [
    "Minute TF"
   ]
  },
  {
   "cell_type": "code",
   "execution_count": null,
   "metadata": {},
   "outputs": [],
   "source": [
    "path = '/Users/yash/Desktop/Trading/code/raw'\n",
    "os.chdir(path)"
   ]
  },
  {
   "cell_type": "code",
   "execution_count": null,
   "metadata": {},
   "outputs": [],
   "source": [
    "start_ = '20221123'\n",
    "end_ = '20221205'\n",
    "field = 'close'\n",
    "\n",
    "df = read_file_from_symbol3('AMBUJA', path)\n",
    "# Q_df = pd.DataFrame(filter_df_dates(Q_df, start_, end_)[field])"
   ]
  },
  {
   "cell_type": "code",
   "execution_count": null,
   "metadata": {},
   "outputs": [],
   "source": [
    "df_list = df.values.tolist()"
   ]
  },
  {
   "cell_type": "code",
   "execution_count": null,
   "metadata": {},
   "outputs": [],
   "source": [
    "Q_df = pd.DataFrame(df[field])"
   ]
  },
  {
   "cell_type": "code",
   "execution_count": null,
   "metadata": {},
   "outputs": [],
   "source": [
    "m = 60\n",
    "mp = stumpy.stump(Q_df[field], m)\n",
    "# mp = stumpy.gpu_stump(Q_df[field], m=m)  # Note that you'll need a properly configured NVIDIA GPU for this"
   ]
  },
  {
   "cell_type": "code",
   "execution_count": null,
   "metadata": {},
   "outputs": [],
   "source": [
    "motif_idx = np.argsort(mp[:, 0])[0]\n",
    "\n",
    "print(f\"The motif is located at index {motif_idx}\")"
   ]
  },
  {
   "cell_type": "code",
   "execution_count": null,
   "metadata": {},
   "outputs": [],
   "source": [
    "df_motif = df.iloc[motif_idx:motif_idx+m,:]\n",
    "\n",
    "fig = go.Figure(data=[go.Candlestick(open=df_motif['open'],\n",
    "                high=df_motif['high'],\n",
    "                low=df_motif['low'],\n",
    "                close=df_motif['close'])])\n",
    "\n",
    "fig.show()"
   ]
  },
  {
   "cell_type": "code",
   "execution_count": null,
   "metadata": {},
   "outputs": [],
   "source": [
    "motifs = stumpy.motifs(Q_df[field],\n",
    "    mp[:, 0],\n",
    "    max_distance=1.0)"
   ]
  },
  {
   "cell_type": "code",
   "execution_count": null,
   "metadata": {},
   "outputs": [],
   "source": [
    "for motif_idx in motifs[1][0]:\n",
    "    print(df['Date'].iloc[motif_idx])\n",
    "    df_motif = df.iloc[motif_idx:motif_idx+m,:]\n",
    "    \n",
    "    fig = go.Figure(data=[go.Candlestick(x=df_motif['Date'],\n",
    "                    open=df_motif['open'],\n",
    "                    high=df_motif['high'],\n",
    "                    low=df_motif['low'],\n",
    "                    close=df_motif['close'])])\n",
    "\n",
    "    fig.show()"
   ]
  },
  {
   "cell_type": "code",
   "execution_count": null,
   "metadata": {},
   "outputs": [],
   "source": [
    "\n",
    "fig = go.Figure(data=[go.Candlestick(x=df_motif['Date'],\n",
    "                open=df_motif['open'],\n",
    "                high=df_motif['high'],\n",
    "                low=df_motif['low'],\n",
    "                close=df_motif['close'])])\n",
    "\n",
    "fig.show()"
   ]
  },
  {
   "cell_type": "markdown",
   "metadata": {},
   "source": [
    "FROM KAGGLE DATASET"
   ]
  },
  {
   "cell_type": "markdown",
   "metadata": {},
   "source": [
    "DAILY TF"
   ]
  },
  {
   "cell_type": "code",
   "execution_count": null,
   "metadata": {},
   "outputs": [],
   "source": [
    "symbol_ = 'ACCELYA'\n",
    "path2 = '/Users/yash/Desktop/Trading/nse_data/Datasets/SCRIP'\n",
    "Q_df = read_file_from_symbol2(symbol_, basedir=path2)\n",
    "Q_df['pivot'] = (Q_df['high']+Q_df['low']+Q_df['close'])/3\n",
    "start_ = '20210611'\n",
    "end_ = '20210630'\n",
    "field = 'close'\n",
    "\n",
    "Q_df = pd.DataFrame(filter_df_dates(Q_df, start_, end_)[field])"
   ]
  },
  {
   "cell_type": "code",
   "execution_count": null,
   "metadata": {},
   "outputs": [],
   "source": [
    "files = glob(path2+'/*')\n",
    "match_dict_df = pd.DataFrame(columns = ['Symbol', 'd', 'idx', 1, 2])\n",
    "e = []"
   ]
  },
  {
   "cell_type": "code",
   "execution_count": null,
   "metadata": {},
   "outputs": [],
   "source": [
    "for f in files:\n",
    "    try:\n",
    "        symbol_ = f.split('/')[-1].split('.')[0]\n",
    "        print(symbol_)\n",
    "        df = read_file_from_symbol2(symbol_, path2)\n",
    "        df = n_month_gain(df, 1)\n",
    "        df = n_month_gain(df, 3)\n",
    "        df = n_month_gain(df, 6)\n",
    "        df = adr(df)\n",
    "        df['pivot'] = (df['high']+df['low']+df['close'])/3\n",
    "        T_df = pd.DataFrame(df[field])\n",
    "        m = Q_df[field].size\n",
    "        # To set the exclusion zone to zero, set the denominator to np.`inf`\n",
    "        stumpy.config.STUMPY_EXCL_ZONE_DENOM = np.inf\n",
    "        # print(Q_df.shape, T_df.shape)\n",
    "        top_N = stumpy.match(\n",
    "            Q_df[field],\n",
    "            T_df[field],\n",
    "            # max_distance=np.inf, # set the threshold to infinity include all subsequences      # find the top 1 match,\n",
    "            max_matches=5\n",
    "        )\n",
    "        # print(len(top_N))\n",
    "        for n in range(len(top_N)):\n",
    "            temp = top_N[n]\n",
    "            match_distance = temp[0]\n",
    "            match_idx = temp[1]\n",
    "            list_ = [symbol_, match_distance, match_idx, df.iloc[match_idx], df.iloc[match_idx+m]]\n",
    "            match_dict_df.loc[len(match_dict_df)] = list_\n",
    "\n",
    "        stumpy.config.STUMPY_EXCL_ZONE_DENOM = 4 # Reset the denominator to its default value\n",
    "        print('***')\n",
    "    except:\n",
    "        e.append(symbol_)\n",
    "        print('Error in', symbol_)"
   ]
  },
  {
   "cell_type": "code",
   "execution_count": null,
   "metadata": {},
   "outputs": [],
   "source": [
    "match_dict_df = match_dict_df.sort_values('d')\n",
    "match_dict_df['start_date'] = match_dict_df[1].apply(lambda x: x.Date)\n",
    "for j in ['1M_low_gain', '3M_low_gain', '6M_low_gain', 'ADR%', 'Date']:\n",
    "    match_dict_df[j] = match_dict_df[2].apply(lambda x: x[j])"
   ]
  }
 ],
 "metadata": {
  "kernelspec": {
   "display_name": "Python 3.10.9 64-bit",
   "language": "python",
   "name": "python3"
  },
  "language_info": {
   "codemirror_mode": {
    "name": "ipython",
    "version": 3
   },
   "file_extension": ".py",
   "mimetype": "text/x-python",
   "name": "python",
   "nbconvert_exporter": "python",
   "pygments_lexer": "ipython3",
   "version": "3.10.9 (main, Dec 15 2022, 17:11:09) [Clang 14.0.0 (clang-1400.0.29.202)]"
  },
  "orig_nbformat": 4,
  "vscode": {
   "interpreter": {
    "hash": "b0fa6594d8f4cbf19f97940f81e996739fb7646882a419484c72d19e05852a7e"
   }
  }
 },
 "nbformat": 4,
 "nbformat_minor": 2
}
