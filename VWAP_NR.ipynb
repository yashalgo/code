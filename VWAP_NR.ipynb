{
 "cells": [
  {
   "cell_type": "code",
   "execution_count": 1,
   "metadata": {},
   "outputs": [],
   "source": [
    "from datetime import datetime\n",
    "import pandas as pd\n",
    "import os\n",
    "from glob import glob\n",
    "\n",
    "today = datetime.today().strftime('%Y%m%d')"
   ]
  },
  {
   "cell_type": "code",
   "execution_count": 2,
   "metadata": {},
   "outputs": [],
   "source": [
    "def set_to_tv(s, outfile, exchange = 'NSE'):\n",
    "    s = {exchange + \":\" + x.replace(\"&\",\"_\").replace(\"-\",\"_\") for x in s}\n",
    "    tv_string = ','.join(list(s))\n",
    "    with open(outfile, \"w\") as text_file:\n",
    "        text_file.write(tv_string)\n",
    "    print(outfile)"
   ]
  },
  {
   "cell_type": "code",
   "execution_count": 3,
   "metadata": {},
   "outputs": [],
   "source": [
    "os.chdir('/Users/yash/Desktop/Trading/VWAP/watchlists/'+today)"
   ]
  },
  {
   "cell_type": "code",
   "execution_count": 5,
   "metadata": {},
   "outputs": [
    {
     "name": "stdout",
     "output_type": "stream",
     "text": [
      "47\n",
      "47\n",
      "20230108_NR7.txt\n"
     ]
    }
   ],
   "source": [
    "# NR4\n",
    "df = pd.read_excel('NR7.xlsx')\n",
    "print(df['Unnamed: 2'].shape[0])\n",
    "temp_set = set(df['Unnamed: 2'])\n",
    "print(len(temp_set))\n",
    "set_to_tv(temp_set, outfile = today + '_NR7.txt')"
   ]
  },
  {
   "cell_type": "code",
   "execution_count": null,
   "metadata": {},
   "outputs": [],
   "source": []
  }
 ],
 "metadata": {
  "kernelspec": {
   "display_name": "Python 3 (ipykernel)",
   "language": "python",
   "name": "python3"
  },
  "language_info": {
   "codemirror_mode": {
    "name": "ipython",
    "version": 3
   },
   "file_extension": ".py",
   "mimetype": "text/x-python",
   "name": "python",
   "nbconvert_exporter": "python",
   "pygments_lexer": "ipython3",
   "version": "3.11.0"
  },
  "vscode": {
   "interpreter": {
    "hash": "aee8b7b246df8f9039afb4144a1f6fd8d2ca17a180786b69acc140d282b71a49"
   }
  }
 },
 "nbformat": 4,
 "nbformat_minor": 2
}
