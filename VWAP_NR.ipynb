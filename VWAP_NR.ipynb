{
 "cells": [
  {
   "cell_type": "code",
   "execution_count": 1,
   "metadata": {},
   "outputs": [],
   "source": [
    "from libs import *\n",
    "from paths import *\n",
    "from helper_functions import *"
   ]
  },
  {
   "cell_type": "code",
   "execution_count": null,
   "metadata": {},
   "outputs": [],
   "source": [
    "\n",
    "today = datetime.today().strftime('%Y%m%d')"
   ]
  },
  {
   "cell_type": "code",
   "execution_count": 3,
   "metadata": {},
   "outputs": [],
   "source": [
    "os.chdir(vwap_wl / today)"
   ]
  },
  {
   "cell_type": "code",
   "execution_count": 5,
   "metadata": {},
   "outputs": [
    {
     "name": "stdout",
     "output_type": "stream",
     "text": [
      "47\n",
      "47\n",
      "20230108_NR7.txt\n"
     ]
    }
   ],
   "source": [
    "# NR4\n",
    "df = pd.read_excel('NR7.xlsx')\n",
    "print(df['Unnamed: 2'].shape[0])\n",
    "temp_set = set(df['Unnamed: 2'])\n",
    "print(len(temp_set))\n",
    "set_to_tv(temp_set, outfile = today + '_NR7.txt')"
   ]
  }
 ],
 "metadata": {
  "kernelspec": {
   "display_name": "Python 3",
   "language": "python",
   "name": "python3"
  },
  "language_info": {
   "codemirror_mode": {
    "name": "ipython",
    "version": 3
   },
   "file_extension": ".py",
   "mimetype": "text/x-python",
   "name": "python",
   "nbconvert_exporter": "python",
   "pygments_lexer": "ipython3",
   "version": "3.11.0"
  },
  "vscode": {
   "interpreter": {
    "hash": "56f907f12ae4c0fedb4fac237b3f3bdbd6f9d775ac1b216482949b5c21c748d3"
   }
  }
 },
 "nbformat": 4,
 "nbformat_minor": 2
}
