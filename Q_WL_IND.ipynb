{
 "cells": [
  {
   "cell_type": "code",
   "execution_count": 1,
   "metadata": {},
   "outputs": [
    {
     "ename": "AttributeError",
     "evalue": "module 'datetime' has no attribute 'today'",
     "output_type": "error",
     "traceback": [
      "\u001b[0;31m---------------------------------------------------------------------------\u001b[0m",
      "\u001b[0;31mAttributeError\u001b[0m                            Traceback (most recent call last)",
      "Cell \u001b[0;32mIn[1], line 6\u001b[0m\n\u001b[1;32m      4\u001b[0m \u001b[39mfrom\u001b[39;00m \u001b[39mglob\u001b[39;00m \u001b[39mimport\u001b[39;00m glob\n\u001b[1;32m      5\u001b[0m \u001b[39mfrom\u001b[39;00m \u001b[39mhelper_functions\u001b[39;00m \u001b[39mimport\u001b[39;00m \u001b[39m*\u001b[39m\n\u001b[0;32m----> 6\u001b[0m today \u001b[39m=\u001b[39m datetime\u001b[39m.\u001b[39;49mtoday()\u001b[39m.\u001b[39mstrftime(\u001b[39m'\u001b[39m\u001b[39m%\u001b[39m\u001b[39mY\u001b[39m\u001b[39m%\u001b[39m\u001b[39mm\u001b[39m\u001b[39m%d\u001b[39;00m\u001b[39m'\u001b[39m)\n",
      "\u001b[0;31mAttributeError\u001b[0m: module 'datetime' has no attribute 'today'"
     ]
    }
   ],
   "source": [
    "from datetime import datetime\n",
    "import pandas as pd\n",
    "import os\n",
    "from glob import glob\n",
    "today = datetime.today().strftime('%Y%m%d')"
   ]
  },
  {
   "cell_type": "code",
   "execution_count": 45,
   "metadata": {},
   "outputs": [],
   "source": [
    "def set_to_tv2(s, outfile = today + '_1_3_6_M_chartink.txt'):\n",
    "    s = {x.replace(\"&\",\"_\").replace(\"-\",\"_\") for x in s}\n",
    "    tv_string = ','.join(list(s))\n",
    "    with open(outfile, \"w\") as text_file:\n",
    "        text_file.write(tv_string)\n",
    "    print(outfile)"
   ]
  },
  {
   "cell_type": "code",
   "execution_count": 3,
   "metadata": {},
   "outputs": [],
   "source": [
    "today = datetime.today().strftime('%Y/%m/%d')"
   ]
  },
  {
   "cell_type": "code",
   "execution_count": 5,
   "metadata": {},
   "outputs": [],
   "source": [
    "os.chdir('/Users/yash/Desktop/Trading/Q/watchlists/'+today)"
   ]
  },
  {
   "cell_type": "code",
   "execution_count": 7,
   "metadata": {},
   "outputs": [
    {
     "name": "stdout",
     "output_type": "stream",
     "text": [
      "['RS_RANK.csv', '3.xlsx', '1.xlsx', 'orders_20221222.csv', '20221223_VWAP_WEAK50.txt', '20221222_VWAP_WEAK100.txt', 'RS_WEAK100.csv', '6.xlsx', 'rs_files']\n"
     ]
    }
   ],
   "source": [
    "files = glob('*')\n",
    "print(files)"
   ]
  },
  {
   "cell_type": "code",
   "execution_count": 8,
   "metadata": {},
   "outputs": [
    {
     "name": "stdout",
     "output_type": "stream",
     "text": [
      "(46,)\n",
      "20221223_1_M_chartink.txt\n",
      "(48,)\n",
      "20221223_3_M_chartink.txt\n",
      "(55,)\n",
      "20221223_6_M_chartink.txt\n",
      "99\n",
      "20221223_1_3_6_M_chartink.txt\n"
     ]
    }
   ],
   "source": [
    "#1-3-6 m gainers\n",
    "\n",
    "s = set()\n",
    "\n",
    "for i in [1,3,6]:\n",
    "    df = pd.read_excel(str(i) + '.xlsx')\n",
    "    print(df['Unnamed: 2'].shape)\n",
    "    temp_set = set(df['Unnamed: 2'])\n",
    "    set_to_tv(temp_set, outfile = today + '_' + str(i) + '_M_chartink.txt')\n",
    "    s.update(temp_set)\n",
    "print(len(s))\n",
    "set_to_tv(s)"
   ]
  },
  {
   "cell_type": "markdown",
   "metadata": {},
   "source": [
    "VWAP"
   ]
  },
  {
   "cell_type": "code",
   "execution_count": 7,
   "metadata": {
    "scrolled": true
   },
   "outputs": [
    {
     "name": "stdout",
     "output_type": "stream",
     "text": [
      "(138,)\n",
      "138\n",
      "20221202_VWAP.txt\n"
     ]
    }
   ],
   "source": [
    "s = set()\n",
    "\n",
    "print(df['Unnamed: 2'].shape)\n",
    "s.update(set(df['Unnamed: 2']))\n",
    "print(len(s))\n",
    "set_to_tv(s, today + '_VWAP.txt')"
   ]
  }
 ],
 "metadata": {
  "kernelspec": {
   "display_name": "Python 3",
   "language": "python",
   "name": "python3"
  },
  "language_info": {
   "codemirror_mode": {
    "name": "ipython",
    "version": 3
   },
   "file_extension": ".py",
   "mimetype": "text/x-python",
   "name": "python",
   "nbconvert_exporter": "python",
   "pygments_lexer": "ipython3",
   "version": "3.10.9"
  },
  "vscode": {
   "interpreter": {
    "hash": "b0fa6594d8f4cbf19f97940f81e996739fb7646882a419484c72d19e05852a7e"
   }
  }
 },
 "nbformat": 4,
 "nbformat_minor": 2
}
