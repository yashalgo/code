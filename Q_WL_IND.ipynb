{
 "cells": [
  {
   "cell_type": "code",
   "execution_count": 1,
   "metadata": {},
   "outputs": [],
   "source": [
    "from libs import *"
   ]
  },
  {
   "cell_type": "code",
   "execution_count": 2,
   "metadata": {},
   "outputs": [],
   "source": [
    "today = datetime.today().strftime('%Y%m%d')"
   ]
  },
  {
   "cell_type": "code",
   "execution_count": 3,
   "metadata": {},
   "outputs": [],
   "source": [
    "today = datetime.today().strftime('%Y/%m/%d')"
   ]
  },
  {
   "cell_type": "code",
   "execution_count": 5,
   "metadata": {},
   "outputs": [],
   "source": [
    "os.chdir('/Users/yash/Desktop/Trading/Q/watchlists/'+today)"
   ]
  },
  {
   "cell_type": "code",
   "execution_count": 7,
   "metadata": {},
   "outputs": [
    {
     "name": "stdout",
     "output_type": "stream",
     "text": [
      "['RS_RANK.csv', '3.xlsx', '1.xlsx', 'orders_20221222.csv', '20221223_VWAP_WEAK50.txt', '20221222_VWAP_WEAK100.txt', 'RS_WEAK100.csv', '6.xlsx', 'rs_files']\n"
     ]
    }
   ],
   "source": [
    "files = glob('*')\n",
    "print(files)"
   ]
  },
  {
   "cell_type": "code",
   "execution_count": 8,
   "metadata": {},
   "outputs": [
    {
     "name": "stdout",
     "output_type": "stream",
     "text": [
      "(46,)\n",
      "20221223_1_M_chartink.txt\n",
      "(48,)\n",
      "20221223_3_M_chartink.txt\n",
      "(55,)\n",
      "20221223_6_M_chartink.txt\n",
      "99\n",
      "20221223_1_3_6_M_chartink.txt\n"
     ]
    }
   ],
   "source": [
    "#1-3-6 m gainers\n",
    "\n",
    "s = set()\n",
    "\n",
    "for i in [1,3,6]:\n",
    "    df = pd.read_excel(str(i) + '.xlsx')\n",
    "    print(df['Unnamed: 2'].shape)\n",
    "    temp_set = set(df['Unnamed: 2'])\n",
    "    set_to_tv(temp_set, outfile = today + '_' + str(i) + '_M_chartink.txt')\n",
    "    s.update(temp_set)\n",
    "print(len(s))\n",
    "set_to_tv(s)"
   ]
  },
  {
   "cell_type": "markdown",
   "metadata": {},
   "source": [
    "VWAP"
   ]
  },
  {
   "cell_type": "code",
   "execution_count": 7,
   "metadata": {
    "scrolled": true
   },
   "outputs": [
    {
     "name": "stdout",
     "output_type": "stream",
     "text": [
      "(138,)\n",
      "138\n",
      "20221202_VWAP.txt\n"
     ]
    }
   ],
   "source": [
    "s = set()\n",
    "\n",
    "print(df['Unnamed: 2'].shape)\n",
    "s.update(set(df['Unnamed: 2']))\n",
    "print(len(s))\n",
    "set_to_tv(s, today + '_VWAP.txt')"
   ]
  }
 ],
 "metadata": {
  "kernelspec": {
   "display_name": "Python 3",
   "language": "python",
   "name": "python3"
  },
  "language_info": {
   "codemirror_mode": {
    "name": "ipython",
    "version": 3
   },
   "file_extension": ".py",
   "mimetype": "text/x-python",
   "name": "python",
   "nbconvert_exporter": "python",
   "pygments_lexer": "ipython3",
   "version": "3.10.9"
  },
  "vscode": {
   "interpreter": {
    "hash": "b0fa6594d8f4cbf19f97940f81e996739fb7646882a419484c72d19e05852a7e"
   }
  }
 },
 "nbformat": 4,
 "nbformat_minor": 2
}
