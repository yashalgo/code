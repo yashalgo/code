{
 "cells": [
  {
   "cell_type": "code",
   "execution_count": null,
   "id": "29e67d5e",
   "metadata": {},
   "outputs": [],
   "source": [
    "#!python\n",
    "import logging\n",
    "from kiteconnect import KiteConnect, KiteTicker, exceptions\n",
    "import pandas as pd\n",
    "import numpy as np\n",
    "import datetime as dt\n",
    "import sys\n",
    "import subprocess\n",
    "import pkg_resources\n",
    "import undetected_chromedriver as uc\n",
    "from selenium.webdriver.support.ui import WebDriverWait\n",
    "from selenium.webdriver.common.by import By\n",
    "import time, pyotp\n",
    "from helper_functions import *\n",
    "import json\n",
    "from glob import glob\n",
    "import os\n",
    "import time\n",
    "\n",
    "# required = {'pydrive'}\n",
    "# install_package(required)"
   ]
  },
  {
   "cell_type": "code",
   "execution_count": null,
   "id": "8028e356",
   "metadata": {},
   "outputs": [],
   "source": [
    "request_times = [0,0]"
   ]
  },
  {
   "cell_type": "code",
   "execution_count": null,
   "id": "cbc552cc",
   "metadata": {},
   "outputs": [],
   "source": [
    "def get_connection_info(file):\n",
    "    try:\n",
    "        with open('connection_info.json') as json_file:\n",
    "            data = json.load(json_file)\n",
    "    except:\n",
    "        print('Error in loading data')\n",
    "        return\n",
    "    return data\n",
    "\n",
    "def historical_data(symbol, from_date, to_date, interval):\n",
    "    \"\"\"\n",
    "    This function will return historical data of the instrument for specific period of days for specific interval\n",
    "    \"\"\"\n",
    "    \n",
    "    df = pd.DataFrame()   \n",
    "    int_token = instrument_token(master_df, symbol)  #the function we defined above which will return token no. of instrument\n",
    "    \n",
    "    to_date   = pd.Timestamp(to_date)\n",
    "    from_date = pd.Timestamp(from_date)\n",
    "    \n",
    "    limit_dict = {'minute' : 60, '3minute' : 100, '5minute' : 100, '10minute' : 100, '15minute' : 200, '30minute' : 200, '60minute' : 400, 'day' : 2000}\n",
    "    limit = limit_dict[interval]\n",
    "    while True:\n",
    "        if from_date >= (to_date - dt.timedelta(limit)):\n",
    "            #if from_date is within the 60 days limit\n",
    "            while time.time() - request_times[-2] < 1:\n",
    "                pass\n",
    "            temp_df = pd.DataFrame(kite.historical_data(int_token, from_date, to_date, interval))\n",
    "            request_times.append(time.time())\n",
    "            df = pd.concat([df, temp_df])\n",
    "            break\n",
    "            \n",
    "        else:                                                            #if from_date has more than 60 days limit\n",
    "            to_date_new = from_date + dt.timedelta(limit)\n",
    "            while time.time() - request_times[-2] < 1:\n",
    "                pass\n",
    "            temp_df = pd.DataFrame(kite.historical_data(int_token, from_date, to_date_new, interval))\n",
    "            request_times.append(time.time())\n",
    "            df = pd.concat([df, temp_df])\n",
    "            #to_date = from_date.date() + dt.timedelta(60)\n",
    "            from_date = to_date_new\n",
    "            \n",
    "    return df"
   ]
  },
  {
   "cell_type": "code",
   "execution_count": null,
   "id": "e08f0702",
   "metadata": {},
   "outputs": [],
   "source": [
    "os.chdir('/Users/yash/Desktop/Trading/kite connect/code')"
   ]
  },
  {
   "cell_type": "code",
   "execution_count": null,
   "id": "a6d3c337",
   "metadata": {},
   "outputs": [],
   "source": [
    "connection_file = 'connection_info.json'\n",
    "conInfo = get_connection_info(connection_file)\n",
    "\n",
    "kite = login_in_zerodha(conInfo['KITE_API_KEY'],\n",
    "                        conInfo['KITE_API_SECRET'],\n",
    "                        conInfo['USER'],\n",
    "                        conInfo['PASSWORD'],\n",
    "                        conInfo['TOTP_KEY'])\n",
    "print(kite.profile())"
   ]
  },
  {
   "cell_type": "code",
   "execution_count": null,
   "id": "e1b603d2",
   "metadata": {
    "scrolled": true
   },
   "outputs": [],
   "source": [
    "nse_df = pd.DataFrame(kite.instruments('NSE'))\n",
    "bse_df = pd.DataFrame(kite.instruments('BSE'))\n",
    "master_df = pd.concat([nse_df, bse_df])\n",
    "master_df.drop_duplicates(subset=\"name\",\n",
    "                     keep='first', inplace=True)"
   ]
  },
  {
   "cell_type": "code",
   "execution_count": null,
   "id": "49bbafb8",
   "metadata": {},
   "outputs": [],
   "source": [
    "start_ = '2018-01-01'\n",
    "end_ = '2022-12-31'"
   ]
  },
  {
   "cell_type": "code",
   "execution_count": null,
   "id": "ba5b9395",
   "metadata": {},
   "outputs": [],
   "source": [
    "from pydrive.auth import GoogleAuth\n",
    "from pydrive.drive import GoogleDrive\n",
    "import os\n",
    "from glob import glob\n",
    "\n",
    "gauth = GoogleAuth()           \n",
    "drive = GoogleDrive(gauth) "
   ]
  },
  {
   "cell_type": "code",
   "execution_count": null,
   "id": "33955fe0",
   "metadata": {},
   "outputs": [],
   "source": [
    "path = '/Users/yash/Desktop/Trading/kite connect/historical_data/minute/'"
   ]
  },
  {
   "cell_type": "code",
   "execution_count": null,
   "id": "639a65f0",
   "metadata": {},
   "outputs": [],
   "source": [
    "os.chdir(path)"
   ]
  },
  {
   "cell_type": "code",
   "execution_count": null,
   "id": "e5340dbe",
   "metadata": {},
   "outputs": [],
   "source": [
    "len(master_df)"
   ]
  },
  {
   "cell_type": "code",
   "execution_count": null,
   "id": "ad8edcc2",
   "metadata": {},
   "outputs": [],
   "source": [
    "#list\n",
    "done_set = set()\n",
    "minute_folder = '1tc6yb3kkqmgyDh7am7SU17_FupTlBg9o'\n",
    "drive_list = drive.ListFile({'q': \"'{}' in parents and trashed=false\".format(minute_folder)}).GetList()\n",
    "\n",
    "for file in drive_list:\n",
    "#     print(file['title'])\n",
    "#     break\n",
    "    done_set.add(file['title'].split('/')[-1].split('_')[0])\n",
    "print(len(done_set))\n",
    "files = glob(path + '*')\n",
    "\n",
    "for file in files:\n",
    "#     print(file['title'])\n",
    "#     break\n",
    "    done_set.add(file.split('/')[-1].split('_')[0])\n",
    "print(len(done_set))"
   ]
  },
  {
   "cell_type": "code",
   "execution_count": null,
   "id": "c7d61c33",
   "metadata": {
    "scrolled": true
   },
   "outputs": [],
   "source": [
    "for i, j in master_df.iterrows():\n",
    "    try:\n",
    "        symbol = j.tradingsymbol\n",
    "        fname = symbol + '_' + start_.replace('-','') + '_' + end_.replace('-','')\n",
    "        if symbol in done_set:\n",
    "    #         done_set.add(symbol)a\n",
    "            print(i, 'Skipping ', symbol)\n",
    "            continue\n",
    "        df = historical_data(symbol, start_ , end_, \"minute\")\n",
    "        df.to_csv(fname)\n",
    "        done_set.add(symbol)\n",
    "\n",
    "        files = glob('/Users/yash/Desktop/Trading/kite connect/historical_data/minute/*')\n",
    "        while len(files) > 500:\n",
    "            print('Waiting')\n",
    "            pass\n",
    "        print(i, j.tradingsymbol)\n",
    "    except:\n",
    "        pass"
   ]
  }
 ],
 "metadata": {
  "kernelspec": {
   "display_name": "Python 3",
   "language": "python",
   "name": "python3"
  },
  "language_info": {
   "codemirror_mode": {
    "name": "ipython",
    "version": 3
   },
   "file_extension": ".py",
   "mimetype": "text/x-python",
   "name": "python",
   "nbconvert_exporter": "python",
   "pygments_lexer": "ipython3",
   "version": "3.11.0 (main, Nov 25 2022, 10:38:53) [Clang 14.0.0 (clang-1400.0.29.202)]"
  },
  "vscode": {
   "interpreter": {
    "hash": "56f907f12ae4c0fedb4fac237b3f3bdbd6f9d775ac1b216482949b5c21c748d3"
   }
  }
 },
 "nbformat": 4,
 "nbformat_minor": 5
}
