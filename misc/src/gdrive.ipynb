{
 "cells": [
  {
   "cell_type": "code",
   "execution_count": null,
   "id": "2b449d44",
   "metadata": {},
   "outputs": [],
   "source": [
    "from libs import *\n",
    "from paths import *"
   ]
  },
  {
   "cell_type": "code",
   "execution_count": null,
   "id": "51f91713",
   "metadata": {},
   "outputs": [],
   "source": [
    "gauth = GoogleAuth()           \n",
    "drive = GoogleDrive(gauth) "
   ]
  },
  {
   "cell_type": "code",
   "execution_count": 5,
   "id": "32a8eea8",
   "metadata": {},
   "outputs": [],
   "source": [
    "from utils.misc import *"
   ]
  },
  {
   "cell_type": "code",
   "execution_count": null,
   "id": "a1ae9768",
   "metadata": {},
   "outputs": [],
   "source": [
    "os.chdir(minute_)\n",
    "minute_folder = '1tc6yb3kkqmgyDh7am7SU17_FupTlBg9o'\n",
    "files = glob('*')\n",
    "for upload_file in files:\n",
    "    print(upload_file)\n",
    "    gfile = drive.CreateFile({'parents': [{'id': minute_folder}]})\n",
    "    # Read file and set it as the content of this instance.\n",
    "    gfile.SetContentFile(upload_file)\n",
    "    gfile.Upload() # Upload the file.\n",
    "    os.remove(upload_file)"
   ]
  },
  {
   "cell_type": "code",
   "execution_count": null,
   "id": "211ea3ac",
   "metadata": {},
   "outputs": [],
   "source": [
    "#list\n",
    "file_list = drive.ListFile({'q': \"'{}' in parents and trashed=false\".format(minute_folder)}).GetList()\n",
    "for file in file_list:\n",
    "    print('title: %s, id: %s' % (file['title'], file['id']))"
   ]
  },
  {
   "cell_type": "markdown",
   "id": "201d1044",
   "metadata": {},
   "source": [
    "DOWNLOAD"
   ]
  },
  {
   "cell_type": "code",
   "execution_count": null,
   "id": "bff0123c",
   "metadata": {},
   "outputs": [],
   "source": [
    "for i, file in enumerate(sorted(file_list, key = lambda x: x['title']), start=1):\n",
    "    print(i, file['title'])\n",
    "    symbol = ''\n",
    "    # break\n",
    "    print('Downloading {} file from GDrive ({}/{})'.format(file['title'], i, len(file_list)))\n",
    "    file.GetContentFile(file['title'])"
   ]
  },
  {
   "cell_type": "markdown",
   "id": "0c8e4cef",
   "metadata": {},
   "source": [
    "RENAME FILES"
   ]
  },
  {
   "cell_type": "code",
   "execution_count": null,
   "id": "46817ff3",
   "metadata": {},
   "outputs": [],
   "source": [
    "drive_list = drive.ListFile({'q': \"'{}' in parents and trashed=false\".format(minute_folder)}).GetList()\n",
    "for file in drive_list:\n",
    "    title = file['title']\n",
    "    id = file['id']\n",
    "    # print(title)\n",
    "    # break\n",
    "    if 'yash' in title:\n",
    "        newTitle = title.split('/')[-1]\n",
    "        print(newTitle)\n",
    "        # renameFile(drive, id, newTitle)\n",
    "        a=drive.auth.service.files().get(fileId=id).execute()\n",
    "        a['title']=newTitle\n",
    "        update=drive.auth.service.files().update(fileId=id,body=a).execute()"
   ]
  }
 ],
 "metadata": {
  "kernelspec": {
   "display_name": "Python 3.10.9 64-bit",
   "language": "python",
   "name": "python3"
  },
  "language_info": {
   "codemirror_mode": {
    "name": "ipython",
    "version": 3
   },
   "file_extension": ".py",
   "mimetype": "text/x-python",
   "name": "python",
   "nbconvert_exporter": "python",
   "pygments_lexer": "ipython3",
   "version": "3.10.9"
  },
  "vscode": {
   "interpreter": {
    "hash": "b0fa6594d8f4cbf19f97940f81e996739fb7646882a419484c72d19e05852a7e"
   }
  }
 },
 "nbformat": 4,
 "nbformat_minor": 5
}
