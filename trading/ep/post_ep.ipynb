{
 "cells": [
  {
   "cell_type": "code",
   "execution_count": 1,
   "metadata": {},
   "outputs": [],
   "source": [
    "import pandas as pd\n",
    "import utils.misc as misc\n",
    "from config import *\n",
    "import yahoo_fin.stock_info as si\n",
    "import os\n",
    "from datetime import datetime, timedelta\n",
    "from finvizfinance.screener.custom import Custom\n",
    "from glob import glob"
   ]
  },
  {
   "cell_type": "code",
   "execution_count": 15,
   "metadata": {},
   "outputs": [],
   "source": [
    "def add_ma(df, n):\n",
    "    col_name = 'DMA'+str(n)\n",
    "    df[col_name] = df[\"close\"].rolling(n).mean()\n",
    "    return df\n",
    "def find_high(df):\n",
    "    high = max(df['high'])\n",
    "    high_date = (df[df['high'] == high].iloc[0,1])\n",
    "    # print(high, high_date)\n",
    "    return (high, high_date)\n",
    "def find_low(df):\n",
    "    low = min(df['low'])\n",
    "    low_date = df[df['low'] == low].iloc[0,1]\n",
    "    # print(low, low_date)\n",
    "    return (low, low_date)\n",
    "def returns(buy_price, sell_price):\n",
    "    return round((sell_price/buy_price - 1) * 100, 2)"
   ]
  },
  {
   "cell_type": "code",
   "execution_count": null,
   "metadata": {},
   "outputs": [],
   "source": [
    "def buy_hold(df, ex_date, next_ex_date = ''):\n",
    "    output = dict()\n",
    "    if len(next_ex_date) > 0:\n",
    "        df_buy_hold = df[(df['date'] >= ex_date) & (df['date'] < next_ex_date)]\n",
    "    else:\n",
    "        df_buy_hold = df[df['date'] >= ex_date]\n",
    "        df_buy_hold = df_buy_hold[:63]\n",
    "    buy_price = df_buy_hold.iloc[0].open\n",
    "    sell_price = df_buy_hold.iloc[-1].close\n",
    "    output['bh_returns'] = returns(buy_price, sell_price)\n",
    "    output['bh_close'] = sell_price\n",
    "    output['bh_high'], x = find_high(df_buy_hold)\n",
    "    output['bh_dth'] = df_buy_hold.loc[ex_date: x].shape[0] - 1\n",
    "    output['bh_low'], y = find_low(df_buy_hold)\n",
    "    output['bh_dtl'] = df_buy_hold.loc[ex_date: y].shape[0] - 1\n",
    "    output['bh_high_returns'] = returns(buy_price, output['bh_high'])\n",
    "    return output"
   ]
  },
  {
   "cell_type": "code",
   "execution_count": 79,
   "metadata": {},
   "outputs": [],
   "source": [
    "def trail(df, SMA):\n",
    "    sl = df.iloc[0].low\n",
    "    exit_price = -1\n",
    "    exit_method = ''\n",
    "\n",
    "    dma_col = 'DMA'+str(SMA)\n",
    "    df['above_DMA'] = (df['close'] >= df[dma_col])\n",
    "\n",
    "    if df['above_DMA'].iloc[0] == False:\n",
    "        print('Below DMA at entry, cannot trail!')\n",
    "        return -1\n",
    "    \n",
    "    for i, row in df.iterrows():\n",
    "        # print(i, row)\n",
    "        if row.low < sl:\n",
    "            exit_price = min(row.open, sl)\n",
    "            exit_method = 'SL'\n",
    "            break\n",
    "        elif row.above_DMA == False:\n",
    "            # print(row, dma_col)\n",
    "            exit_price = min(row.open, row[dma_col])\n",
    "            exit_method = 'DMA cross'\n",
    "            break\n",
    "        else:\n",
    "            exit_price = row.close\n",
    "            exit_method = 'In Position'\n",
    "    return (exit_method, row.date, exit_price)"
   ]
  },
  {
   "cell_type": "code",
   "execution_count": 77,
   "metadata": {},
   "outputs": [],
   "source": [
    "def trail_strategy(df, ex_date, SMA=10):\n",
    "    output = dict()\n",
    "    add_ma(df, SMA)\n",
    "    df_trail = df[df['date'] >= ex_date]\n",
    "    buy_price = df_trail.iloc[0].open\n",
    "    temp = trail(df_trail,SMA)\n",
    "    if temp == -1:\n",
    "        return output\n",
    "    else:\n",
    "        exit_method, exit_date, sell_price = temp\n",
    "    print(temp)\n",
    "    df_trail = df_trail[df_trail['date'] <= exit_date]\n",
    "    # print(df_trail)\n",
    "    output['tr_returns'] = returns(buy_price, sell_price)\n",
    "    output['tr_high'], x = find_high(df_trail)\n",
    "    output['tr_dth'] = df_trail.loc[ex_date: x].shape[0] - 1\n",
    "    output['tr_low'], y = find_low(df_trail)\n",
    "    output['tr_dtl'] = df_trail.loc[ex_date: y].shape[0] - 1\n",
    "    output['tr_high_returns'] = returns(buy_price, output['tr_high'])\n",
    "    output['method'] = exit_method\n",
    "    return output"
   ]
  },
  {
   "cell_type": "code",
   "execution_count": 69,
   "metadata": {},
   "outputs": [],
   "source": [
    "if __name__ == \"__main__\":\n",
    "\n",
    "    ticker = 'AAPL'\n",
    "    df = pd.read_csv(f\"../data/{ticker}_ADJUSTED_OHLC.csv\")\n",
    "    df.drop(columns=['close'], axis=1, inplace=True)\n",
    "    df.rename(columns={'adjclose': 'close'},inplace=True)\n",
    "    df.index = df['date']\n",
    "    \n",
    "    #input\n",
    "    ex_date = '2022-07-29'\n",
    "    next_ex_date = '2022-10-28'     # if next_ex_date is not available, pass \"\"\n",
    "    # next_ex_date = \"\"\n",
    "\n",
    "    #holding until next earnings\n",
    "    temp = buy_hold(df, ex_date, next_ex_date)\n",
    "    print(temp)\n",
    "\n",
    "\n",
    "    #trailing using 10 Day Moving Average\n",
    "    ma_period = 10\n",
    "    temp = trail_strategy(df, ex_date, ma_period)\n",
    "    print(temp)"
   ]
  },
  {
   "attachments": {},
   "cell_type": "markdown",
   "metadata": {},
   "source": [
    "Qullamaggie trail method\n",
    "1. Buy on ORB\n",
    "2. Stops at LOD\n",
    "3. Trail using 10 DMA"
   ]
  }
 ],
 "metadata": {
  "kernelspec": {
   "display_name": "Python 3.10.0 64-bit",
   "language": "python",
   "name": "python3"
  },
  "language_info": {
   "codemirror_mode": {
    "name": "ipython",
    "version": 3
   },
   "file_extension": ".py",
   "mimetype": "text/x-python",
   "name": "python",
   "nbconvert_exporter": "python",
   "pygments_lexer": "ipython3",
   "version": "3.10.9"
  },
  "orig_nbformat": 4,
  "vscode": {
   "interpreter": {
    "hash": "369f2c481f4da34e4445cda3fffd2e751bd1c4d706f27375911949ba6bb62e1c"
   }
  }
 },
 "nbformat": 4,
 "nbformat_minor": 2
}
