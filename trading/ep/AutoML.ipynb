{
 "cells": [
  {
   "cell_type": "code",
   "execution_count": 30,
   "metadata": {},
   "outputs": [],
   "source": [
    "import pandas as pd\n",
    "import numpy as np\n",
    "import matplotlib.pyplot as plt\n",
    "import seaborn as sns\n",
    "from sklearn.model_selection import train_test_split\n",
    "from config import *\n",
    "import utils.misc as misc"
   ]
  },
  {
   "cell_type": "code",
   "execution_count": 31,
   "metadata": {},
   "outputs": [
    {
     "data": {
      "application/javascript": [
       "\n",
       "        if (window._pyforest_update_imports_cell) { window._pyforest_update_imports_cell('import os'); }\n",
       "    "
      ],
      "text/plain": [
       "<IPython.core.display.Javascript object>"
      ]
     },
     "metadata": {},
     "output_type": "display_data"
    }
   ],
   "source": [
    "os.chdir(gap_data)"
   ]
  },
  {
   "cell_type": "code",
   "execution_count": 32,
   "metadata": {},
   "outputs": [
    {
     "data": {
      "application/javascript": [
       "\n",
       "        if (window._pyforest_update_imports_cell) { window._pyforest_update_imports_cell('import os'); }\n",
       "    "
      ],
      "text/plain": [
       "<IPython.core.display.Javascript object>"
      ]
     },
     "metadata": {},
     "output_type": "display_data"
    }
   ],
   "source": [
    "os.chdir('..')"
   ]
  },
  {
   "cell_type": "code",
   "execution_count": 33,
   "metadata": {},
   "outputs": [],
   "source": [
    "fname = 'EP_COMBINED_no_date_filter.csv'\n",
    "df = pd.read_csv(fname)"
   ]
  },
  {
   "cell_type": "code",
   "execution_count": 34,
   "metadata": {},
   "outputs": [
    {
     "data": {
      "text/plain": [
       "((43449, 52), (21401, 52), (43449,), (21401,))"
      ]
     },
     "execution_count": 34,
     "metadata": {},
     "output_type": "execute_result"
    }
   ],
   "source": [
    "variable = 'bh_returns'\n",
    "\n",
    "# df.drop('Id', axis=1, inplace=True)\n",
    "y = df[variable].copy()\n",
    "X = df.drop(variable, axis=1)\n",
    "\n",
    "X_train, X_test, y_train, y_test = train_test_split(X, y, test_size=0.33, random_state=1)\n",
    "\n",
    "X_train.shape, X_test.shape,y_train.shape, y_test.shape"
   ]
  },
  {
   "cell_type": "code",
   "execution_count": 37,
   "metadata": {},
   "outputs": [],
   "source": [
    "import autosklearn.regression\n",
    "automl = autosklearn.regression.AutoSklearnRegressor(\n",
    "time_left_for_this_task=5*60,per_run_time_limit=30, memory_limit=None)"
   ]
  },
  {
   "cell_type": "code",
   "execution_count": 38,
   "metadata": {},
   "outputs": [
    {
     "name": "stderr",
     "output_type": "stream",
     "text": [
      "/opt/homebrew/lib/python3.10/site-packages/autosklearn/data/feature_validator.py:318: UserWarning: Input Column T0 has generic type object. Autosklearn will treat this column as string. Please ensure that this setting is suitable for your task.\n",
      "  warnings.warn(\n",
      "/opt/homebrew/lib/python3.10/site-packages/autosklearn/data/feature_validator.py:318: UserWarning: Input Column T1 has generic type object. Autosklearn will treat this column as string. Please ensure that this setting is suitable for your task.\n",
      "  warnings.warn(\n",
      "/opt/homebrew/lib/python3.10/site-packages/autosklearn/data/feature_validator.py:318: UserWarning: Input Column Day has generic type object. Autosklearn will treat this column as string. Please ensure that this setting is suitable for your task.\n",
      "  warnings.warn(\n",
      "/opt/homebrew/lib/python3.10/site-packages/autosklearn/data/feature_validator.py:318: UserWarning: Input Column ReportingPeriod has generic type object. Autosklearn will treat this column as string. Please ensure that this setting is suitable for your task.\n",
      "  warnings.warn(\n",
      "/opt/homebrew/lib/python3.10/site-packages/autosklearn/data/feature_validator.py:318: UserWarning: Input Column Sector has generic type object. Autosklearn will treat this column as string. Please ensure that this setting is suitable for your task.\n",
      "  warnings.warn(\n",
      "/opt/homebrew/lib/python3.10/site-packages/autosklearn/data/feature_validator.py:318: UserWarning: Input Column Industry has generic type object. Autosklearn will treat this column as string. Please ensure that this setting is suitable for your task.\n",
      "  warnings.warn(\n",
      "/opt/homebrew/lib/python3.10/site-packages/autosklearn/data/feature_validator.py:318: UserWarning: Input Column method has generic type object. Autosklearn will treat this column as string. Please ensure that this setting is suitable for your task.\n",
      "  warnings.warn(\n",
      "/opt/homebrew/lib/python3.10/site-packages/autosklearn/data/feature_validator.py:318: UserWarning: Input Column Ticker has generic type object. Autosklearn will treat this column as string. Please ensure that this setting is suitable for your task.\n",
      "  warnings.warn(\n",
      "/opt/homebrew/lib/python3.10/site-packages/autosklearn/data/feature_validator.py:318: UserWarning: Input Column Month_Year has generic type object. Autosklearn will treat this column as string. Please ensure that this setting is suitable for your task.\n",
      "  warnings.warn(\n",
      "/opt/homebrew/lib/python3.10/site-packages/autosklearn/data/feature_validator.py:318: UserWarning: Input Column Month has generic type object. Autosklearn will treat this column as string. Please ensure that this setting is suitable for your task.\n",
      "  warnings.warn(\n",
      "/opt/homebrew/lib/python3.10/site-packages/autosklearn/data/feature_validator.py:318: UserWarning: Input Column DateDiff has generic type object. Autosklearn will treat this column as string. Please ensure that this setting is suitable for your task.\n",
      "  warnings.warn(\n",
      "Process pynisher function call:\n",
      "Traceback (most recent call last):\n",
      "  File \"/opt/homebrew/Cellar/python@3.10/3.10.9/Frameworks/Python.framework/Versions/3.10/lib/python3.10/multiprocessing/process.py\", line 314, in _bootstrap\n",
      "    self.run()\n",
      "  File \"/opt/homebrew/Cellar/python@3.10/3.10.9/Frameworks/Python.framework/Versions/3.10/lib/python3.10/multiprocessing/process.py\", line 108, in run\n",
      "    self._target(*self._args, **self._kwargs)\n",
      "  File \"/opt/homebrew/lib/python3.10/site-packages/pynisher/limit_function_call.py\", line 133, in subprocess_func\n",
      "    return_value = ((func(*args, **kwargs), 0))\n",
      "  File \"/opt/homebrew/lib/python3.10/site-packages/autosklearn/smbo.py\", line 160, in _calculate_metafeatures_encoded\n",
      "    result = calculate_all_metafeatures_encoded_labels(\n",
      "  File \"/opt/homebrew/lib/python3.10/site-packages/autosklearn/metalearning/metafeatures/metafeatures.py\", line 1115, in calculate_all_metafeatures_encoded_labels\n",
      "    return calculate_all_metafeatures(\n",
      "  File \"/opt/homebrew/lib/python3.10/site-packages/autosklearn/metalearning/metafeatures/metafeatures.py\", line 1194, in calculate_all_metafeatures\n",
      "    X_transformed = DPP.fit_transform(X)\n",
      "  File \"/opt/homebrew/lib/python3.10/site-packages/sklearn/base.py\", line 699, in fit_transform\n",
      "    return self.fit(X, **fit_params).transform(X)\n",
      "  File \"/opt/homebrew/lib/python3.10/site-packages/autosklearn/pipeline/components/data_preprocessing/feature_type.py\", line 216, in fit\n",
      "    self.column_transformer.fit(X, y)\n",
      "  File \"/opt/homebrew/lib/python3.10/site-packages/sklearn/compose/_column_transformer.py\", line 470, in fit\n",
      "    self.fit_transform(X, y=y)\n",
      "  File \"/opt/homebrew/lib/python3.10/site-packages/sklearn/compose/_column_transformer.py\", line 507, in fit_transform\n",
      "    result = self._fit_transform(X, y, _fit_transform_one)\n",
      "  File \"/opt/homebrew/lib/python3.10/site-packages/sklearn/compose/_column_transformer.py\", line 434, in _fit_transform\n",
      "    return Parallel(n_jobs=self.n_jobs)(\n",
      "  File \"/opt/homebrew/lib/python3.10/site-packages/joblib/parallel.py\", line 1085, in __call__\n",
      "    if self.dispatch_one_batch(iterator):\n",
      "  File \"/opt/homebrew/lib/python3.10/site-packages/joblib/parallel.py\", line 901, in dispatch_one_batch\n",
      "    self._dispatch(tasks)\n",
      "  File \"/opt/homebrew/lib/python3.10/site-packages/joblib/parallel.py\", line 819, in _dispatch\n",
      "    job = self._backend.apply_async(batch, callback=cb)\n",
      "  File \"/opt/homebrew/lib/python3.10/site-packages/joblib/_parallel_backends.py\", line 208, in apply_async\n",
      "    result = ImmediateResult(func)\n",
      "  File \"/opt/homebrew/lib/python3.10/site-packages/joblib/_parallel_backends.py\", line 597, in __init__\n",
      "    self.results = batch()\n",
      "  File \"/opt/homebrew/lib/python3.10/site-packages/joblib/parallel.py\", line 288, in __call__\n",
      "    return [func(*args, **kwargs)\n",
      "  File \"/opt/homebrew/lib/python3.10/site-packages/joblib/parallel.py\", line 288, in <listcomp>\n",
      "    return [func(*args, **kwargs)\n",
      "  File \"/opt/homebrew/lib/python3.10/site-packages/sklearn/utils/fixes.py\", line 222, in __call__\n",
      "    return self.function(*args, **kwargs)\n",
      "  File \"/opt/homebrew/lib/python3.10/site-packages/sklearn/pipeline.py\", line 754, in _fit_transform_one\n",
      "    res = transformer.fit_transform(X, y, **fit_params)\n",
      "  File \"/opt/homebrew/lib/python3.10/site-packages/sklearn/pipeline.py\", line 378, in fit_transform\n",
      "    Xt = self._fit(X, y, **fit_params_steps)\n",
      "  File \"/opt/homebrew/lib/python3.10/site-packages/sklearn/pipeline.py\", line 303, in _fit\n",
      "    X, fitted_transformer = fit_transform_one_cached(\n",
      "  File \"/opt/homebrew/lib/python3.10/site-packages/joblib/memory.py\", line 349, in __call__\n",
      "    return self.func(*args, **kwargs)\n",
      "  File \"/opt/homebrew/lib/python3.10/site-packages/sklearn/pipeline.py\", line 754, in _fit_transform_one\n",
      "    res = transformer.fit_transform(X, y, **fit_params)\n",
      "  File \"/opt/homebrew/lib/python3.10/site-packages/sklearn/base.py\", line 699, in fit_transform\n",
      "    return self.fit(X, **fit_params).transform(X)\n",
      "  File \"/opt/homebrew/lib/python3.10/site-packages/autosklearn/pipeline/components/data_preprocessing/imputation/categorical_imputation.py\", line 58, in fit\n",
      "    self.preprocessor.fit(X)\n",
      "  File \"/opt/homebrew/lib/python3.10/site-packages/sklearn/impute/_base.py\", line 288, in fit\n",
      "    X = self._validate_input(X, in_fit=True)\n",
      "  File \"/opt/homebrew/lib/python3.10/site-packages/sklearn/impute/_base.py\", line 266, in _validate_input\n",
      "    raise ValueError(\"SimpleImputer does not support data with dtype \"\n",
      "ValueError: SimpleImputer does not support data with dtype bool. Please provide either a numeric array (with a floating point or integer dtype) or categorical data represented either as an array with integer dtype or an array of string values with an object dtype.\n"
     ]
    },
    {
     "name": "stdout",
     "output_type": "stream",
     "text": [
      "[WARNING] [2023-04-18 15:19:13,962:Client-EnsembleBuilder] No runs were available to build an ensemble from\n",
      "[WARNING] [2023-04-18 15:19:14,517:Client-EnsembleBuilder] No runs were available to build an ensemble from\n",
      "[WARNING] [2023-04-18 15:19:15,063:Client-EnsembleBuilder] No runs were available to build an ensemble from\n",
      "[WARNING] [2023-04-18 15:19:15,656:Client-EnsembleBuilder] No runs were available to build an ensemble from\n",
      "[WARNING] [2023-04-18 15:19:16,221:Client-EnsembleBuilder] No runs were available to build an ensemble from\n",
      "[WARNING] [2023-04-18 15:19:16,778:Client-EnsembleBuilder] No runs were available to build an ensemble from\n",
      "[WARNING] [2023-04-18 15:19:17,329:Client-EnsembleBuilder] No runs were available to build an ensemble from\n",
      "[WARNING] [2023-04-18 15:19:17,870:Client-EnsembleBuilder] No runs were available to build an ensemble from\n",
      "[WARNING] [2023-04-18 15:19:18,420:Client-EnsembleBuilder] No runs were available to build an ensemble from\n",
      "[WARNING] [2023-04-18 15:19:19,016:Client-EnsembleBuilder] No runs were available to build an ensemble from\n",
      "[WARNING] [2023-04-18 15:19:19,614:Client-EnsembleBuilder] No runs were available to build an ensemble from\n",
      "[WARNING] [2023-04-18 15:19:20,204:Client-EnsembleBuilder] No runs were available to build an ensemble from\n",
      "[WARNING] [2023-04-18 15:19:20,755:Client-EnsembleBuilder] No runs were available to build an ensemble from\n",
      "[WARNING] [2023-04-18 15:19:21,313:Client-EnsembleBuilder] No runs were available to build an ensemble from\n",
      "[WARNING] [2023-04-18 15:19:21,857:Client-EnsembleBuilder] No runs were available to build an ensemble from\n",
      "[WARNING] [2023-04-18 15:19:22,407:Client-EnsembleBuilder] No runs were available to build an ensemble from\n",
      "[WARNING] [2023-04-18 15:19:22,959:Client-EnsembleBuilder] No runs were available to build an ensemble from\n",
      "[WARNING] [2023-04-18 15:19:23,490:Client-EnsembleBuilder] No runs were available to build an ensemble from\n",
      "[WARNING] [2023-04-18 15:19:24,036:Client-EnsembleBuilder] No runs were available to build an ensemble from\n",
      "[WARNING] [2023-04-18 15:19:24,560:Client-EnsembleBuilder] No runs were available to build an ensemble from\n",
      "[WARNING] [2023-04-18 15:19:25,094:Client-EnsembleBuilder] No runs were available to build an ensemble from\n",
      "[WARNING] [2023-04-18 15:19:25,643:Client-EnsembleBuilder] No runs were available to build an ensemble from\n",
      "[WARNING] [2023-04-18 15:19:26,188:Client-EnsembleBuilder] No runs were available to build an ensemble from\n",
      "[WARNING] [2023-04-18 15:19:26,709:Client-EnsembleBuilder] No runs were available to build an ensemble from\n",
      "[WARNING] [2023-04-18 15:19:27,251:Client-EnsembleBuilder] No runs were available to build an ensemble from\n",
      "[WARNING] [2023-04-18 15:19:27,813:Client-EnsembleBuilder] No runs were available to build an ensemble from\n",
      "[WARNING] [2023-04-18 15:19:30,061:Client-EnsembleBuilder] No runs were available to build an ensemble from\n",
      "[WARNING] [2023-04-18 15:19:32,287:Client-EnsembleBuilder] No runs were available to build an ensemble from\n",
      "[WARNING] [2023-04-18 15:19:32,765:Client-EnsembleBuilder] No runs were available to build an ensemble from\n",
      "[WARNING] [2023-04-18 15:19:35,224:Client-EnsembleBuilder] No runs were available to build an ensemble from\n",
      "[WARNING] [2023-04-18 15:19:35,765:Client-EnsembleBuilder] No runs were available to build an ensemble from\n",
      "[WARNING] [2023-04-18 15:19:36,234:Client-EnsembleBuilder] No runs were available to build an ensemble from\n",
      "[WARNING] [2023-04-18 15:19:38,424:Client-EnsembleBuilder] No runs were available to build an ensemble from\n",
      "[WARNING] [2023-04-18 15:19:38,894:Client-EnsembleBuilder] No runs were available to build an ensemble from\n",
      "[WARNING] [2023-04-18 15:19:39,374:Client-EnsembleBuilder] No runs were available to build an ensemble from\n",
      "[WARNING] [2023-04-18 15:19:41,766:Client-EnsembleBuilder] No runs were available to build an ensemble from\n",
      "[WARNING] [2023-04-18 15:19:42,245:Client-EnsembleBuilder] No runs were available to build an ensemble from\n",
      "[WARNING] [2023-04-18 15:19:42,709:Client-EnsembleBuilder] No runs were available to build an ensemble from\n",
      "[WARNING] [2023-04-18 15:19:43,204:Client-EnsembleBuilder] No runs were available to build an ensemble from\n",
      "[WARNING] [2023-04-18 15:19:45,665:Client-EnsembleBuilder] No runs were available to build an ensemble from\n",
      "[WARNING] [2023-04-18 15:19:46,136:Client-EnsembleBuilder] No runs were available to build an ensemble from\n",
      "[WARNING] [2023-04-18 15:19:46,661:Client-EnsembleBuilder] No runs were available to build an ensemble from\n",
      "[WARNING] [2023-04-18 15:19:49,024:Client-EnsembleBuilder] No runs were available to build an ensemble from\n",
      "[WARNING] [2023-04-18 15:19:49,512:Client-EnsembleBuilder] No runs were available to build an ensemble from\n",
      "[WARNING] [2023-04-18 15:19:49,947:Client-EnsembleBuilder] No runs were available to build an ensemble from\n",
      "[WARNING] [2023-04-18 15:19:50,413:Client-EnsembleBuilder] No runs were available to build an ensemble from\n",
      "[WARNING] [2023-04-18 15:19:50,877:Client-EnsembleBuilder] No runs were available to build an ensemble from\n",
      "[WARNING] [2023-04-18 15:19:51,340:Client-EnsembleBuilder] No runs were available to build an ensemble from\n",
      "[WARNING] [2023-04-18 15:19:51,793:Client-EnsembleBuilder] No runs were available to build an ensemble from\n",
      "[WARNING] [2023-04-18 15:19:52,277:Client-EnsembleBuilder] No runs were available to build an ensemble from\n",
      "[WARNING] [2023-04-18 15:19:52,752:Client-EnsembleBuilder] No runs were available to build an ensemble from\n",
      "[WARNING] [2023-04-18 15:19:53,232:Client-EnsembleBuilder] No runs were available to build an ensemble from\n",
      "[WARNING] [2023-04-18 15:19:53,693:Client-EnsembleBuilder] No runs were available to build an ensemble from\n",
      "[WARNING] [2023-04-18 15:19:56,177:Client-EnsembleBuilder] No runs were available to build an ensemble from\n",
      "[WARNING] [2023-04-18 15:19:58,658:Client-EnsembleBuilder] No runs were available to build an ensemble from\n",
      "[WARNING] [2023-04-18 15:19:59,185:Client-EnsembleBuilder] No runs were available to build an ensemble from\n",
      "[WARNING] [2023-04-18 15:19:59,671:Client-EnsembleBuilder] No runs were available to build an ensemble from\n",
      "[WARNING] [2023-04-18 15:20:02,118:Client-EnsembleBuilder] No runs were available to build an ensemble from\n",
      "[WARNING] [2023-04-18 15:20:04,578:Client-EnsembleBuilder] No runs were available to build an ensemble from\n",
      "[WARNING] [2023-04-18 15:20:05,049:Client-EnsembleBuilder] No runs were available to build an ensemble from\n",
      "[WARNING] [2023-04-18 15:20:07,562:Client-EnsembleBuilder] No runs were available to build an ensemble from\n",
      "[WARNING] [2023-04-18 15:20:09,725:Client-EnsembleBuilder] No runs were available to build an ensemble from\n",
      "[WARNING] [2023-04-18 15:20:12,114:Client-EnsembleBuilder] No runs were available to build an ensemble from\n",
      "[WARNING] [2023-04-18 15:20:12,593:Client-EnsembleBuilder] No runs were available to build an ensemble from\n",
      "[WARNING] [2023-04-18 15:20:13,144:Client-EnsembleBuilder] No runs were available to build an ensemble from\n",
      "[WARNING] [2023-04-18 15:20:15,589:Client-EnsembleBuilder] No runs were available to build an ensemble from\n",
      "[WARNING] [2023-04-18 15:20:18,081:Client-EnsembleBuilder] No runs were available to build an ensemble from\n",
      "[WARNING] [2023-04-18 15:20:20,443:Client-EnsembleBuilder] No runs were available to build an ensemble from\n",
      "[WARNING] [2023-04-18 15:20:22,907:Client-EnsembleBuilder] No runs were available to build an ensemble from\n",
      "[WARNING] [2023-04-18 15:20:25,617:Client-EnsembleBuilder] No runs were available to build an ensemble from\n",
      "[WARNING] [2023-04-18 15:20:28,292:Client-EnsembleBuilder] No runs were available to build an ensemble from\n",
      "[WARNING] [2023-04-18 15:20:30,994:Client-EnsembleBuilder] No runs were available to build an ensemble from\n",
      "[WARNING] [2023-04-18 15:20:33,328:Client-EnsembleBuilder] No runs were available to build an ensemble from\n",
      "[WARNING] [2023-04-18 15:20:35,944:Client-EnsembleBuilder] No runs were available to build an ensemble from\n",
      "[WARNING] [2023-04-18 15:20:36,432:Client-EnsembleBuilder] No runs were available to build an ensemble from\n",
      "[WARNING] [2023-04-18 15:20:38,868:Client-EnsembleBuilder] No runs were available to build an ensemble from\n"
     ]
    },
    {
     "name": "stdout",
     "output_type": "stream",
     "text": [
      "[WARNING] [2023-04-18 15:20:39,373:Client-EnsembleBuilder] No runs were available to build an ensemble from\n",
      "[WARNING] [2023-04-18 15:20:39,869:Client-EnsembleBuilder] No runs were available to build an ensemble from\n",
      "[WARNING] [2023-04-18 15:20:40,350:Client-EnsembleBuilder] No runs were available to build an ensemble from\n",
      "[WARNING] [2023-04-18 15:20:42,924:Client-EnsembleBuilder] No runs were available to build an ensemble from\n",
      "[WARNING] [2023-04-18 15:20:43,406:Client-EnsembleBuilder] No runs were available to build an ensemble from\n",
      "[WARNING] [2023-04-18 15:20:45,884:Client-EnsembleBuilder] No runs were available to build an ensemble from\n",
      "[WARNING] [2023-04-18 15:20:46,368:Client-EnsembleBuilder] No runs were available to build an ensemble from\n",
      "[WARNING] [2023-04-18 15:20:48,716:Client-EnsembleBuilder] No runs were available to build an ensemble from\n",
      "[WARNING] [2023-04-18 15:20:51,292:Client-EnsembleBuilder] No runs were available to build an ensemble from\n",
      "[WARNING] [2023-04-18 15:20:51,759:Client-EnsembleBuilder] No runs were available to build an ensemble from\n",
      "[WARNING] [2023-04-18 15:20:54,071:Client-EnsembleBuilder] No runs were available to build an ensemble from\n",
      "[WARNING] [2023-04-18 15:20:56,587:Client-EnsembleBuilder] No runs were available to build an ensemble from\n",
      "[WARNING] [2023-04-18 15:20:57,069:Client-EnsembleBuilder] No runs were available to build an ensemble from\n",
      "[WARNING] [2023-04-18 15:20:57,534:Client-EnsembleBuilder] No runs were available to build an ensemble from\n",
      "[WARNING] [2023-04-18 15:20:59,930:Client-EnsembleBuilder] No runs were available to build an ensemble from\n",
      "[WARNING] [2023-04-18 15:21:00,421:Client-EnsembleBuilder] No runs were available to build an ensemble from\n",
      "[WARNING] [2023-04-18 15:21:02,840:Client-EnsembleBuilder] No runs were available to build an ensemble from\n",
      "[WARNING] [2023-04-18 15:21:03,318:Client-EnsembleBuilder] No runs were available to build an ensemble from\n",
      "[WARNING] [2023-04-18 15:21:03,809:Client-EnsembleBuilder] No runs were available to build an ensemble from\n",
      "[WARNING] [2023-04-18 15:21:06,214:Client-EnsembleBuilder] No runs were available to build an ensemble from\n",
      "[WARNING] [2023-04-18 15:21:06,692:Client-EnsembleBuilder] No runs were available to build an ensemble from\n",
      "[WARNING] [2023-04-18 15:21:07,190:Client-EnsembleBuilder] No runs were available to build an ensemble from\n",
      "[WARNING] [2023-04-18 15:21:07,666:Client-EnsembleBuilder] No runs were available to build an ensemble from\n",
      "[WARNING] [2023-04-18 15:21:08,143:Client-EnsembleBuilder] No runs were available to build an ensemble from\n",
      "[WARNING] [2023-04-18 15:21:10,600:Client-EnsembleBuilder] No runs were available to build an ensemble from\n",
      "[WARNING] [2023-04-18 15:21:11,072:Client-EnsembleBuilder] No runs were available to build an ensemble from\n",
      "[WARNING] [2023-04-18 15:21:13,492:Client-EnsembleBuilder] No runs were available to build an ensemble from\n",
      "[WARNING] [2023-04-18 15:21:16,172:Client-EnsembleBuilder] No runs were available to build an ensemble from\n",
      "[WARNING] [2023-04-18 15:21:16,775:Client-EnsembleBuilder] No runs were available to build an ensemble from\n",
      "[WARNING] [2023-04-18 15:21:17,281:Client-EnsembleBuilder] No runs were available to build an ensemble from\n",
      "[WARNING] [2023-04-18 15:21:19,753:Client-EnsembleBuilder] No runs were available to build an ensemble from\n",
      "[WARNING] [2023-04-18 15:21:22,588:Client-EnsembleBuilder] No runs were available to build an ensemble from\n",
      "[WARNING] [2023-04-18 15:21:25,212:Client-EnsembleBuilder] No runs were available to build an ensemble from\n",
      "[WARNING] [2023-04-18 15:21:27,850:Client-EnsembleBuilder] No runs were available to build an ensemble from\n",
      "[WARNING] [2023-04-18 15:21:30,768:Client-EnsembleBuilder] No runs were available to build an ensemble from\n",
      "[WARNING] [2023-04-18 15:21:31,314:Client-EnsembleBuilder] No runs were available to build an ensemble from\n",
      "[WARNING] [2023-04-18 15:21:33,893:Client-EnsembleBuilder] No runs were available to build an ensemble from\n",
      "[WARNING] [2023-04-18 15:21:34,428:Client-EnsembleBuilder] No runs were available to build an ensemble from\n",
      "[WARNING] [2023-04-18 15:21:37,107:Client-EnsembleBuilder] No runs were available to build an ensemble from\n",
      "[WARNING] [2023-04-18 15:21:39,794:Client-EnsembleBuilder] No runs were available to build an ensemble from\n",
      "[WARNING] [2023-04-18 15:21:40,301:Client-EnsembleBuilder] No runs were available to build an ensemble from\n",
      "[WARNING] [2023-04-18 15:21:42,893:Client-EnsembleBuilder] No runs were available to build an ensemble from\n",
      "[WARNING] [2023-04-18 15:21:45,340:Client-EnsembleBuilder] No runs were available to build an ensemble from\n",
      "[WARNING] [2023-04-18 15:21:48,015:Client-EnsembleBuilder] No runs were available to build an ensemble from\n",
      "[WARNING] [2023-04-18 15:21:48,500:Client-EnsembleBuilder] No runs were available to build an ensemble from\n",
      "[WARNING] [2023-04-18 15:21:49,049:Client-EnsembleBuilder] No runs were available to build an ensemble from\n",
      "[WARNING] [2023-04-18 15:21:49,570:Client-EnsembleBuilder] No runs were available to build an ensemble from\n",
      "[WARNING] [2023-04-18 15:21:52,020:Client-EnsembleBuilder] No runs were available to build an ensemble from\n",
      "[WARNING] [2023-04-18 15:21:54,697:Client-EnsembleBuilder] No runs were available to build an ensemble from\n",
      "[WARNING] [2023-04-18 15:21:57,149:Client-EnsembleBuilder] No runs were available to build an ensemble from\n",
      "[WARNING] [2023-04-18 15:21:57,689:Client-EnsembleBuilder] No runs were available to build an ensemble from\n",
      "[WARNING] [2023-04-18 15:22:00,452:Client-EnsembleBuilder] No runs were available to build an ensemble from\n",
      "[WARNING] [2023-04-18 15:22:02,836:Client-EnsembleBuilder] No runs were available to build an ensemble from\n",
      "[WARNING] [2023-04-18 15:22:03,335:Client-EnsembleBuilder] No runs were available to build an ensemble from\n",
      "[WARNING] [2023-04-18 15:22:03,833:Client-EnsembleBuilder] No runs were available to build an ensemble from\n",
      "[WARNING] [2023-04-18 15:22:06,205:Client-EnsembleBuilder] No runs were available to build an ensemble from\n"
     ]
    },
    {
     "name": "stderr",
     "output_type": "stream",
     "text": [
      "Process ForkProcess-5:\n",
      "Traceback (most recent call last):\n",
      "  File \"/opt/homebrew/Cellar/python@3.10/3.10.9/Frameworks/Python.framework/Versions/3.10/lib/python3.10/multiprocessing/process.py\", line 314, in _bootstrap\n",
      "    self.run()\n",
      "  File \"/opt/homebrew/Cellar/python@3.10/3.10.9/Frameworks/Python.framework/Versions/3.10/lib/python3.10/multiprocessing/process.py\", line 108, in run\n",
      "    self._target(*self._args, **self._kwargs)\n",
      "  File \"/opt/homebrew/lib/python3.10/site-packages/autosklearn/util/logging_.py\", line 317, in start_log_server\n",
      "    receiver.serve_until_stopped()\n",
      "  File \"/opt/homebrew/lib/python3.10/site-packages/autosklearn/util/logging_.py\", line 347, in serve_until_stopped\n",
      "    rd, wr, ex = select.select([self.socket.fileno()], [], [], self.timeout)\n",
      "KeyboardInterrupt\n"
     ]
    },
    {
     "name": "stdout",
     "output_type": "stream",
     "text": [
      "[WARNING] [2023-04-18 15:22:07,430:Client-EnsembleBuilder] No runs were available to build an ensemble from\n",
      "[WARNING] [2023-04-18 15:22:07,919:Client-EnsembleBuilder] No runs were available to build an ensemble from\n",
      "Unexpected exception formatting exception. Falling back to standard exception\n"
     ]
    },
    {
     "name": "stderr",
     "output_type": "stream",
     "text": [
      "Traceback (most recent call last):\n",
      "  File \"/Users/yash/Library/Python/3.10/lib/python/site-packages/IPython/core/interactiveshell.py\", line 3442, in run_code\n",
      "    exec(code_obj, self.user_global_ns, self.user_ns)\n",
      "  File \"/var/folders/_3/qbdc2k351_379d2nk16_q9p80000gn/T/ipykernel_84883/2404017442.py\", line 1, in <module>\n",
      "    automl.fit(X_train, y_train)\n",
      "  File \"/opt/homebrew/lib/python3.10/site-packages/autosklearn/estimators.py\", line 1587, in fit\n",
      "    super().fit(\n",
      "  File \"/opt/homebrew/lib/python3.10/site-packages/autosklearn/estimators.py\", line 540, in fit\n",
      "    self.automl_.fit(load_models=self.load_models, **kwargs)\n",
      "  File \"/opt/homebrew/lib/python3.10/site-packages/autosklearn/automl.py\", line 2394, in fit\n",
      "    return super().fit(\n",
      "  File \"/opt/homebrew/lib/python3.10/site-packages/autosklearn/automl.py\", line 899, in fit\n",
      "    ) = _proc_smac.run_smbo()\n",
      "  File \"/opt/homebrew/lib/python3.10/site-packages/autosklearn/smbo.py\", line 552, in run_smbo\n",
      "    smac.optimize()\n",
      "  File \"/opt/homebrew/lib/python3.10/site-packages/smac/facade/smac_ac_facade.py\", line 720, in optimize\n",
      "    incumbent = self.solver.run()\n",
      "  File \"/opt/homebrew/lib/python3.10/site-packages/smac/optimizer/smbo.py\", line 229, in run\n",
      "    intent, run_info = self.intensifier.get_next_run(\n",
      "  File \"/opt/homebrew/lib/python3.10/site-packages/smac/intensification/simple_intensifier.py\", line 169, in get_next_run\n",
      "    challenger = self._next_challenger(challengers=challengers,\n",
      "  File \"/opt/homebrew/lib/python3.10/site-packages/smac/intensification/abstract_racer.py\", line 260, in _next_challenger\n",
      "    for challenger in chall_gen:\n",
      "  File \"/opt/homebrew/lib/python3.10/site-packages/smac/optimizer/ei_optimization.py\", line 723, in __next__\n",
      "    self.challengers = self.challengers_callback()\n",
      "  File \"/opt/homebrew/lib/python3.10/site-packages/smac/optimizer/ei_optimization.py\", line 92, in next_configs_by_acq_value\n",
      "    return [t[1] for t in self._maximize(runhistory, stats, num_points)]\n",
      "  File \"/opt/homebrew/lib/python3.10/site-packages/smac/optimizer/ei_optimization.py\", line 656, in _maximize\n",
      "    next_configs_by_local_search = self.local_search._maximize(\n",
      "  File \"/opt/homebrew/lib/python3.10/site-packages/smac/optimizer/ei_optimization.py\", line 233, in _maximize\n",
      "    configs_acq = self._do_search(init_points)\n",
      "  File \"/opt/homebrew/lib/python3.10/site-packages/smac/optimizer/ei_optimization.py\", line 383, in _do_search\n",
      "    acq_val = self.acquisition_function(neighbors)\n",
      "  File \"/opt/homebrew/lib/python3.10/site-packages/smac/optimizer/acquisition.py\", line 80, in __call__\n",
      "    acq = self._compute(X)\n",
      "  File \"/opt/homebrew/lib/python3.10/site-packages/smac/optimizer/acquisition.py\", line 227, in _compute\n",
      "    m, v = self.model.predict_marginalized_over_instances(X)\n",
      "  File \"/opt/homebrew/lib/python3.10/site-packages/smac/epm/rf_with_instances.py\", line 283, in predict_marginalized_over_instances\n",
      "    mean_, var = self.predict(X)\n",
      "  File \"/opt/homebrew/lib/python3.10/site-packages/smac/epm/base_epm.py\", line 219, in predict\n",
      "    mean, var = self._predict(X, cov_return_type)\n",
      "  File \"/opt/homebrew/lib/python3.10/site-packages/smac/epm/rf_with_instances.py\", line 217, in _predict\n",
      "    X = self._impute_inactive(X)\n",
      "  File \"/opt/homebrew/lib/python3.10/site-packages/smac/epm/base_rf.py\", line -1, in _impute_inactive\n",
      "KeyboardInterrupt\n",
      "\n",
      "During handling of the above exception, another exception occurred:\n",
      "\n",
      "Traceback (most recent call last):\n",
      "  File \"/Users/yash/Library/Python/3.10/lib/python/site-packages/IPython/core/interactiveshell.py\", line 2057, in showtraceback\n",
      "    stb = self.InteractiveTB.structured_traceback(\n",
      "  File \"/Users/yash/Library/Python/3.10/lib/python/site-packages/IPython/core/ultratb.py\", line 1118, in structured_traceback\n",
      "    return FormattedTB.structured_traceback(\n",
      "  File \"/Users/yash/Library/Python/3.10/lib/python/site-packages/IPython/core/ultratb.py\", line 1012, in structured_traceback\n",
      "    return VerboseTB.structured_traceback(\n",
      "  File \"/Users/yash/Library/Python/3.10/lib/python/site-packages/IPython/core/ultratb.py\", line 865, in structured_traceback\n",
      "    formatted_exception = self.format_exception_as_a_whole(etype, evalue, etb, number_of_lines_of_context,\n",
      "  File \"/Users/yash/Library/Python/3.10/lib/python/site-packages/IPython/core/ultratb.py\", line 818, in format_exception_as_a_whole\n",
      "    frames.append(self.format_record(r))\n",
      "  File \"/Users/yash/Library/Python/3.10/lib/python/site-packages/IPython/core/ultratb.py\", line 736, in format_record\n",
      "    result += ''.join(_format_traceback_lines(frame_info.lines, Colors, self.has_colors, lvals))\n",
      "  File \"/Users/yash/Library/Python/3.10/lib/python/site-packages/stack_data/utils.py\", line 144, in cached_property_wrapper\n",
      "    value = obj.__dict__[self.func.__name__] = self.func(obj)\n",
      "  File \"/Users/yash/Library/Python/3.10/lib/python/site-packages/stack_data/core.py\", line 734, in lines\n",
      "    pieces = self.included_pieces\n",
      "  File \"/Users/yash/Library/Python/3.10/lib/python/site-packages/stack_data/utils.py\", line 144, in cached_property_wrapper\n",
      "    value = obj.__dict__[self.func.__name__] = self.func(obj)\n",
      "  File \"/Users/yash/Library/Python/3.10/lib/python/site-packages/stack_data/core.py\", line 681, in included_pieces\n",
      "    pos = scope_pieces.index(self.executing_piece)\n",
      "  File \"/Users/yash/Library/Python/3.10/lib/python/site-packages/stack_data/utils.py\", line 144, in cached_property_wrapper\n",
      "    value = obj.__dict__[self.func.__name__] = self.func(obj)\n",
      "  File \"/Users/yash/Library/Python/3.10/lib/python/site-packages/stack_data/core.py\", line 660, in executing_piece\n",
      "    return only(\n",
      "  File \"/Users/yash/Library/Python/3.10/lib/python/site-packages/executing/executing.py\", line 190, in only\n",
      "    raise NotOneValueFound('Expected one value, found 0')\n",
      "executing.executing.NotOneValueFound: Expected one value, found 0\n"
     ]
    }
   ],
   "source": [
    "automl.fit(X_train, y_train)\n",
    "from sklearn.metrics import mean_absolute_error\n",
    "from autosklearn.metrics import mean_absolute_error as auto_mean_absolute_error"
   ]
  },
  {
   "cell_type": "code",
   "execution_count": 26,
   "metadata": {},
   "outputs": [
    {
     "name": "stdout",
     "output_type": "stream",
     "text": [
      "2020_Fink_AreviewofthePEAD_1.pdf \u001b[1m\u001b[36menv\u001b[m\u001b[m\r\n",
      "\u001b[1m\u001b[36mAutoViz_Plots\u001b[m\u001b[m                    \u001b[1m\u001b[36mfinnhub\u001b[m\u001b[m\r\n",
      "EP_COMBINED_no_date_filter.csv   \u001b[1m\u001b[36mfinnhub2\u001b[m\u001b[m\r\n",
      "EP_COMBINED_v2.csv               \u001b[1m\u001b[36mgap_final\u001b[m\u001b[m\r\n",
      "EP_COMBINED_v3.csv               summary.csv\r\n",
      "\u001b[1m\u001b[36mcharts_db\u001b[m\u001b[m                        \u001b[1m\u001b[36mwatchlists\u001b[m\u001b[m\r\n",
      "\u001b[1m\u001b[36mdata\u001b[m\u001b[m\r\n"
     ]
    }
   ],
   "source": [
    "!ls"
   ]
  },
  {
   "cell_type": "code",
   "execution_count": 25,
   "metadata": {},
   "outputs": [],
   "source": [
    "!cd .."
   ]
  }
 ],
 "metadata": {
  "kernelspec": {
   "display_name": "Python 3 (ipykernel)",
   "language": "python",
   "name": "python3"
  },
  "language_info": {
   "codemirror_mode": {
    "name": "ipython",
    "version": 3
   },
   "file_extension": ".py",
   "mimetype": "text/x-python",
   "name": "python",
   "nbconvert_exporter": "python",
   "pygments_lexer": "ipython3",
   "version": "3.10.9"
  }
 },
 "nbformat": 4,
 "nbformat_minor": 2
}
