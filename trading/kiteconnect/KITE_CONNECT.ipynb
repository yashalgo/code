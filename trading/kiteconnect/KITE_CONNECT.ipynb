{
 "cells": [
  {
   "cell_type": "code",
   "execution_count": 2,
   "id": "b9e5d59f",
   "metadata": {},
   "outputs": [],
   "source": [
    "from utils.technical_indicators import *"
   ]
  },
  {
   "cell_type": "code",
   "execution_count": 6,
   "id": "8028e356",
   "metadata": {},
   "outputs": [],
   "source": [
    "request_times = [0,0]"
   ]
  },
  {
   "cell_type": "code",
   "execution_count": 7,
   "id": "cbc552cc",
   "metadata": {},
   "outputs": [],
   "source": [
    "def get_connection_info(file):\n",
    "    try:\n",
    "        with open('connection_info.json') as json_file:\n",
    "            data = json.load(json_file)\n",
    "    except:\n",
    "        print('Error in loading data')\n",
    "        return\n",
    "    return data\n",
    "\n",
    "def historical_data(symbol, from_date, to_date, interval):\n",
    "    \"\"\"\n",
    "    This function will return historical data of the instrument for specific period of days for specific interval\n",
    "    \"\"\"\n",
    "    \n",
    "    df = pd.DataFrame()   \n",
    "    int_token = instrument_token(master_df, symbol)  #the function we defined above which will return token no. of instrument\n",
    "    \n",
    "    to_date   = pd.Timestamp(to_date)\n",
    "    from_date = pd.Timestamp(from_date)\n",
    "    \n",
    "    limit_dict = {'minute' : 60, '3minute' : 100, '5minute' : 100, '10minute' : 100, '15minute' : 200, '30minute' : 200, '60minute' : 400, 'day' : 2000}\n",
    "    limit = limit_dict[interval]\n",
    "    while True:\n",
    "        if from_date >= (to_date - datetime.timedelta(limit)):\n",
    "            #if from_date is within the 60 days limit\n",
    "            while time.time() - request_times[-2] < 1:\n",
    "                pass\n",
    "            temp_df = pd.DataFrame(kite.historical_data(int_token, from_date, to_date, interval))\n",
    "            request_times.append(time.time())\n",
    "            df = pd.concat([df, temp_df])\n",
    "            break\n",
    "            \n",
    "        else:                                                            #if from_date has more than 60 days limit\n",
    "            to_date_new = from_date + datetime.timedelta(limit)\n",
    "            while time.time() - request_times[-2] < 1:\n",
    "                pass\n",
    "            temp_df = pd.DataFrame(kite.historical_data(int_token, from_date, to_date_new, interval))\n",
    "            request_times.append(time.time())\n",
    "            df = pd.concat([df, temp_df])\n",
    "            #to_date = from_date.date() + datetime.timedelta(60)\n",
    "            from_date = to_date_new\n",
    "            \n",
    "    return df"
   ]
  },
  {
   "cell_type": "code",
   "execution_count": 8,
   "id": "e08f0702",
   "metadata": {},
   "outputs": [
    {
     "data": {
      "application/javascript": "\n        if (window._pyforest_update_imports_cell) { window._pyforest_update_imports_cell('import os'); }\n    ",
      "text/plain": [
       "<IPython.core.display.Javascript object>"
      ]
     },
     "metadata": {},
     "output_type": "display_data"
    },
    {
     "ename": "NameError",
     "evalue": "name 'code_' is not defined",
     "output_type": "error",
     "traceback": [
      "\u001b[0;31m---------------------------------------------------------------------------\u001b[0m",
      "\u001b[0;31mNameError\u001b[0m                                 Traceback (most recent call last)",
      "Cell \u001b[0;32mIn[8], line 1\u001b[0m\n\u001b[0;32m----> 1\u001b[0m os\u001b[39m.\u001b[39mchdir(code_)\n",
      "\u001b[0;31mNameError\u001b[0m: name 'code_' is not defined"
     ]
    }
   ],
   "source": [
    "os.chdir(code_)"
   ]
  },
  {
   "cell_type": "code",
   "execution_count": null,
   "id": "a6d3c337",
   "metadata": {},
   "outputs": [],
   "source": [
    "connection_file = 'connection_info.json'\n",
    "conInfo = get_connection_info(connection_file)\n",
    "\n",
    "kite = login_in_zerodha(conInfo['KITE_API_KEY'],\n",
    "                        conInfo['KITE_API_SECRET'],\n",
    "                        conInfo['USER'],\n",
    "                        conInfo['PASSWORD'],\n",
    "                        conInfo['TOTP_KEY'])\n",
    "print(kite.profile())"
   ]
  },
  {
   "cell_type": "code",
   "execution_count": null,
   "id": "e1b603d2",
   "metadata": {
    "scrolled": true
   },
   "outputs": [],
   "source": [
    "nse_df = pd.DataFrame(kite.instruments('NSE'))\n",
    "bse_df = pd.DataFrame(kite.instruments('BSE'))\n",
    "master_df = pd.concat([nse_df, bse_df])\n",
    "master_df.drop_duplicates(subset=\"name\",\n",
    "                     keep='first', inplace=True)"
   ]
  },
  {
   "cell_type": "code",
   "execution_count": null,
   "id": "49bbafb8",
   "metadata": {},
   "outputs": [],
   "source": [
    "start_ = '2018-01-01'\n",
    "end_ = '2022-12-31'"
   ]
  },
  {
   "cell_type": "code",
   "execution_count": null,
   "id": "ba5b9395",
   "metadata": {},
   "outputs": [],
   "source": [
    "from pydrive.auth import GoogleAuth\n",
    "from pydrive.drive import GoogleDrive\n",
    "import os\n",
    "from glob import glob\n",
    "\n",
    "gauth = GoogleAuth()           \n",
    "drive = GoogleDrive(gauth) "
   ]
  },
  {
   "cell_type": "code",
   "execution_count": null,
   "id": "639a65f0",
   "metadata": {},
   "outputs": [],
   "source": [
    "os.chdir(minute_)"
   ]
  },
  {
   "cell_type": "code",
   "execution_count": null,
   "id": "ad8edcc2",
   "metadata": {},
   "outputs": [],
   "source": [
    "#list\n",
    "done_set = set()\n",
    "minute_folder = '1tc6yb3kkqmgyDh7am7SU17_FupTlBg9o'\n",
    "drive_list = drive.ListFile({'q': \"'{}' in parents and trashed=false\".format(minute_folder)}).GetList()\n",
    "\n",
    "for file in drive_list:\n",
    "#     print(file['title'])\n",
    "#     break\n",
    "    done_set.add(file['title'].split('/')[-1].split('_')[0])\n",
    "print(len(done_set))\n",
    "files = glob(path + '*')\n",
    "\n",
    "for file in files:\n",
    "#     print(file['title'])\n",
    "#     break\n",
    "    done_set.add(file.split('/')[-1].split('_')[0])\n",
    "print(len(done_set))"
   ]
  },
  {
   "cell_type": "code",
   "execution_count": null,
   "id": "c7d61c33",
   "metadata": {
    "scrolled": true
   },
   "outputs": [],
   "source": [
    "for i, j in master_df.iterrows():\n",
    "    try:\n",
    "        symbol = j.tradingsymbol\n",
    "        fname = symbol + '_' + start_.replace('-','') + '_' + end_.replace('-','')\n",
    "        if symbol in done_set:\n",
    "    #         done_set.add(symbol)a\n",
    "            print(i, 'Skipping ', symbol)\n",
    "            continue\n",
    "        df = historical_data(symbol, start_ , end_, \"minute\")\n",
    "        df.to_csv(fname)\n",
    "        done_set.add(symbol)\n",
    "\n",
    "        files = glob( str(minute_) + '/*')\n",
    "        while len(files) > 500:\n",
    "            print('Waiting')\n",
    "            pass\n",
    "        print(i, j.tradingsymbol)\n",
    "    except:\n",
    "        pass"
   ]
  }
 ],
 "metadata": {
  "kernelspec": {
   "display_name": "Python 3",
   "language": "python",
   "name": "python3"
  },
  "language_info": {
   "codemirror_mode": {
    "name": "ipython",
    "version": 3
   },
   "file_extension": ".py",
   "mimetype": "text/x-python",
   "name": "python",
   "nbconvert_exporter": "python",
   "pygments_lexer": "ipython3",
   "version": "3.10.9"
  },
  "vscode": {
   "interpreter": {
    "hash": "b0fa6594d8f4cbf19f97940f81e996739fb7646882a419484c72d19e05852a7e"
   }
  }
 },
 "nbformat": 4,
 "nbformat_minor": 5
}
