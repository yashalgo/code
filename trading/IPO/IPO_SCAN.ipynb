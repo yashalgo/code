{
  "cells": [
    {
      "cell_type": "code",
      "execution_count": 1,
      "metadata": {},
      "outputs": [
        {
          "ename": "ImportError",
          "evalue": "attempted relative import with no known parent package",
          "output_type": "error",
          "traceback": [
            "\u001b[0;31m---------------------------------------------------------------------------\u001b[0m",
            "\u001b[0;31mImportError\u001b[0m                               Traceback (most recent call last)",
            "Cell \u001b[0;32mIn[1], line 5\u001b[0m\n\u001b[1;32m      3\u001b[0m \u001b[39mfrom\u001b[39;00m \u001b[39mglob\u001b[39;00m \u001b[39mimport\u001b[39;00m glob\n\u001b[1;32m      4\u001b[0m \u001b[39mfrom\u001b[39;00m \u001b[39mdateutil\u001b[39;00m \u001b[39mimport\u001b[39;00m parser\n\u001b[0;32m----> 5\u001b[0m \u001b[39mfrom\u001b[39;00m \u001b[39m.\u001b[39;00m\u001b[39m.\u001b[39;00m\u001b[39mcommon\u001b[39;00m\u001b[39m.\u001b[39;00m\u001b[39mconfig\u001b[39;00m \u001b[39mimport\u001b[39;00m \u001b[39m*\u001b[39m\n\u001b[1;32m      6\u001b[0m \u001b[39mimport\u001b[39;00m \u001b[39mos\u001b[39;00m\n",
            "\u001b[0;31mImportError\u001b[0m: attempted relative import with no known parent package"
          ]
        }
      ],
      "source": [
        "from datetime import datetime\n",
        "import pandas as pd\n",
        "from glob import glob\n",
        "from dateutil import parser\n",
        "from ..common.config import *\n",
        "import os"
      ]
    },
    {
      "cell_type": "code",
      "execution_count": 14,
      "metadata": {},
      "outputs": [],
      "source": [
        "stocks_url = 'https://archives.nseindia.com/content/equities/EQUITY_L.csv'\n",
        "stocks_data = pd.read_csv(nse_master_urlstocks_url)"
      ]
    },
    {
      "cell_type": "code",
      "execution_count": 15,
      "metadata": {},
      "outputs": [],
      "source": [
        "stocks_data['ListingDate'] = stocks_data[' DATE OF LISTING'].apply(lambda x: parser.parse(x))"
      ]
    },
    {
      "cell_type": "code",
      "execution_count": 16,
      "metadata": {},
      "outputs": [],
      "source": [
        "stocks_data['ListingYear'] = stocks_data['ListingDate'].apply(lambda x: x.year)"
      ]
    },
    {
      "cell_type": "code",
      "execution_count": 17,
      "metadata": {},
      "outputs": [],
      "source": [
        "years = set(stocks_data['ListingYear'])"
      ]
    },
    {
      "cell_type": "code",
      "execution_count": 18,
      "metadata": {},
      "outputs": [],
      "source": [
        "grouped = stocks_data.groupby(['ListingYear'])"
      ]
    },
    {
      "cell_type": "code",
      "execution_count": 10,
      "metadata": {},
      "outputs": [],
      "source": [
        "# os.chdir(trading_)\n",
        "# os.chdir('tradingview_watchlists')\n",
        "# os.chdir('IPO')"
      ]
    },
    {
      "cell_type": "code",
      "execution_count": 21,
      "metadata": {},
      "outputs": [
        {
          "name": "stdout",
          "output_type": "stream",
          "text": [
            "1994.txt\n",
            "1995.txt\n",
            "1996.txt\n",
            "1997.txt\n",
            "1998.txt\n",
            "1999.txt\n",
            "2000.txt\n",
            "2001.txt\n",
            "2002.txt\n",
            "2003.txt\n",
            "2004.txt\n",
            "2005.txt\n",
            "2006.txt\n",
            "2007.txt\n",
            "2008.txt\n",
            "2009.txt\n",
            "2010.txt\n",
            "2011.txt\n",
            "2012.txt\n",
            "2013.txt\n",
            "2014.txt\n",
            "2015.txt\n",
            "2016.txt\n",
            "2017.txt\n",
            "2018.txt\n",
            "2019.txt\n",
            "2020.txt\n",
            "2021.txt\n",
            "2022.txt\n",
            "2023.txt\n"
          ]
        }
      ],
      "source": [
        "for y in years:\n",
        "    temp = grouped.get_group(y)\n",
        "    s = set(temp['SYMBOL'])\n",
        "    set_to_tv_ind(s, f\"{y}.txt\")"
      ]
    },
    {
      "cell_type": "code",
      "execution_count": null,
      "metadata": {},
      "outputs": [],
      "source": []
    }
  ],
  "metadata": {
    "kernelspec": {
      "display_name": "Python 3",
      "language": "python",
      "name": "python3"
    },
    "language_info": {
      "codemirror_mode": {
        "name": "ipython",
        "version": 3
      },
      "file_extension": ".py",
      "mimetype": "text/x-python",
      "name": "python",
      "nbconvert_exporter": "python",
      "pygments_lexer": "ipython3",
      "version": "3.11.3"
    },
    "orig_nbformat": 4
  },
  "nbformat": 4,
  "nbformat_minor": 2
}
