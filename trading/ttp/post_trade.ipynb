{
 "cells": [
  {
   "cell_type": "code",
   "execution_count": 2,
   "metadata": {},
   "outputs": [],
   "source": [
    "import pandas as pd\n",
    "import os\n",
    "from glob import glob\n",
    "from config import *"
   ]
  },
  {
   "cell_type": "code",
   "execution_count": 3,
   "metadata": {},
   "outputs": [],
   "source": [
    "os.chdir(trading_ / \"TTP/Logs\")"
   ]
  },
  {
   "cell_type": "code",
   "execution_count": 8,
   "metadata": {},
   "outputs": [],
   "source": [
    "files = glob('*') "
   ]
  },
  {
   "cell_type": "code",
   "execution_count": 35,
   "metadata": {},
   "outputs": [],
   "source": [
    "filename = files[0]"
   ]
  },
  {
   "cell_type": "code",
   "execution_count": 10,
   "metadata": {},
   "outputs": [],
   "source": [
    "df = pd.read_csv(filename)"
   ]
  },
  {
   "cell_type": "code",
   "execution_count": 21,
   "metadata": {},
   "outputs": [
    {
     "name": "stdout",
     "output_type": "stream",
     "text": [
      "argument of type 'numpy.int64' is not iterable\n",
      "argument of type 'numpy.float64' is not iterable\n",
      "argument of type 'numpy.float64' is not iterable\n",
      "argument of type 'numpy.float64' is not iterable\n",
      "argument of type 'numpy.float64' is not iterable\n",
      "Exposure\n"
     ]
    }
   ],
   "source": [
    "for i in df.columns:\n",
    "    try:\n",
    "        if 'USD' in df[i].iloc[0]:\n",
    "            print(i)\n",
    "            df[i] = df[i].apply(lambda x: float(x.split(' ')[0].replace(',','')))\n",
    "    except Exception as e:\n",
    "        print(e)"
   ]
  },
  {
   "cell_type": "code",
   "execution_count": 23,
   "metadata": {},
   "outputs": [],
   "source": [
    "capital = 20e3"
   ]
  },
  {
   "cell_type": "code",
   "execution_count": 26,
   "metadata": {},
   "outputs": [],
   "source": [
    "df['Exposure_Ratio'] = round(df['Exposure'] / capital * 100, 2)"
   ]
  },
  {
   "cell_type": "code",
   "execution_count": 30,
   "metadata": {},
   "outputs": [],
   "source": [
    "df_groups = df.groupby('Symbol')"
   ]
  },
  {
   "cell_type": "code",
   "execution_count": 33,
   "metadata": {},
   "outputs": [
    {
     "data": {
      "text/html": [
       "<div>\n",
       "<style scoped>\n",
       "    .dataframe tbody tr th:only-of-type {\n",
       "        vertical-align: middle;\n",
       "    }\n",
       "\n",
       "    .dataframe tbody tr th {\n",
       "        vertical-align: top;\n",
       "    }\n",
       "\n",
       "    .dataframe thead th {\n",
       "        text-align: right;\n",
       "    }\n",
       "</style>\n",
       "<table border=\"1\" class=\"dataframe\">\n",
       "  <thead>\n",
       "    <tr style=\"text-align: right;\">\n",
       "      <th></th>\n",
       "      <th>Date/Time</th>\n",
       "      <th>Symbol</th>\n",
       "      <th>Side</th>\n",
       "      <th>Quantity</th>\n",
       "      <th>Price</th>\n",
       "      <th>Gross P/L</th>\n",
       "      <th>Execution fee</th>\n",
       "      <th>Net P/L</th>\n",
       "      <th>Exposure</th>\n",
       "      <th>Order type</th>\n",
       "      <th>Exposure_Ratio</th>\n",
       "    </tr>\n",
       "  </thead>\n",
       "  <tbody>\n",
       "    <tr>\n",
       "      <th>0</th>\n",
       "      <td>10-05-2023 19:02:31</td>\n",
       "      <td>CELH</td>\n",
       "      <td>Buy</td>\n",
       "      <td>11</td>\n",
       "      <td>124.00</td>\n",
       "      <td>0.00</td>\n",
       "      <td>-1.5</td>\n",
       "      <td>-1.50</td>\n",
       "      <td>1364.00</td>\n",
       "      <td>Stop</td>\n",
       "      <td>6.82</td>\n",
       "    </tr>\n",
       "    <tr>\n",
       "      <th>1</th>\n",
       "      <td>10-05-2023 19:09:10</td>\n",
       "      <td>CELH</td>\n",
       "      <td>Buy</td>\n",
       "      <td>11</td>\n",
       "      <td>123.87</td>\n",
       "      <td>0.00</td>\n",
       "      <td>-1.5</td>\n",
       "      <td>-1.50</td>\n",
       "      <td>1362.57</td>\n",
       "      <td>Stop</td>\n",
       "      <td>6.81</td>\n",
       "    </tr>\n",
       "    <tr>\n",
       "      <th>10</th>\n",
       "      <td>10-05-2023 19:55:59</td>\n",
       "      <td>CELH</td>\n",
       "      <td>Buy</td>\n",
       "      <td>30</td>\n",
       "      <td>128.25</td>\n",
       "      <td>0.00</td>\n",
       "      <td>-1.5</td>\n",
       "      <td>-1.50</td>\n",
       "      <td>3847.50</td>\n",
       "      <td>Limit</td>\n",
       "      <td>19.24</td>\n",
       "    </tr>\n",
       "    <tr>\n",
       "      <th>13</th>\n",
       "      <td>10-05-2023 20:01:54</td>\n",
       "      <td>CELH</td>\n",
       "      <td>Buy</td>\n",
       "      <td>17</td>\n",
       "      <td>129.00</td>\n",
       "      <td>0.00</td>\n",
       "      <td>-1.5</td>\n",
       "      <td>-1.50</td>\n",
       "      <td>2193.00</td>\n",
       "      <td>Stop</td>\n",
       "      <td>10.96</td>\n",
       "    </tr>\n",
       "    <tr>\n",
       "      <th>15</th>\n",
       "      <td>10-05-2023 20:08:26</td>\n",
       "      <td>CELH</td>\n",
       "      <td>Sell</td>\n",
       "      <td>35</td>\n",
       "      <td>130.02</td>\n",
       "      <td>103.63</td>\n",
       "      <td>-1.5</td>\n",
       "      <td>102.13</td>\n",
       "      <td>4550.70</td>\n",
       "      <td>Limit</td>\n",
       "      <td>22.75</td>\n",
       "    </tr>\n",
       "    <tr>\n",
       "      <th>16</th>\n",
       "      <td>10-05-2023 20:25:41</td>\n",
       "      <td>CELH</td>\n",
       "      <td>Sell</td>\n",
       "      <td>34</td>\n",
       "      <td>130.74</td>\n",
       "      <td>125.15</td>\n",
       "      <td>-1.5</td>\n",
       "      <td>123.65</td>\n",
       "      <td>4445.16</td>\n",
       "      <td>Trailing stop</td>\n",
       "      <td>22.23</td>\n",
       "    </tr>\n",
       "  </tbody>\n",
       "</table>\n",
       "</div>"
      ],
      "text/plain": [
       "              Date/Time Symbol  Side  Quantity   Price  Gross P/L  \\\n",
       "0   10-05-2023 19:02:31   CELH   Buy        11  124.00       0.00   \n",
       "1   10-05-2023 19:09:10   CELH   Buy        11  123.87       0.00   \n",
       "10  10-05-2023 19:55:59   CELH   Buy        30  128.25       0.00   \n",
       "13  10-05-2023 20:01:54   CELH   Buy        17  129.00       0.00   \n",
       "15  10-05-2023 20:08:26   CELH  Sell        35  130.02     103.63   \n",
       "16  10-05-2023 20:25:41   CELH  Sell        34  130.74     125.15   \n",
       "\n",
       "    Execution fee  Net P/L  Exposure     Order type  Exposure_Ratio  \n",
       "0            -1.5    -1.50   1364.00           Stop            6.82  \n",
       "1            -1.5    -1.50   1362.57           Stop            6.81  \n",
       "10           -1.5    -1.50   3847.50          Limit           19.24  \n",
       "13           -1.5    -1.50   2193.00           Stop           10.96  \n",
       "15           -1.5   102.13   4550.70          Limit           22.75  \n",
       "16           -1.5   123.65   4445.16  Trailing stop           22.23  "
      ]
     },
     "execution_count": 33,
     "metadata": {},
     "output_type": "execute_result"
    }
   ],
   "source": [
    "df_groups.get_group('CELH')"
   ]
  },
  {
   "cell_type": "code",
   "execution_count": 36,
   "metadata": {},
   "outputs": [],
   "source": [
    "df.to_csv(filename)"
   ]
  }
 ],
 "metadata": {
  "kernelspec": {
   "display_name": "Python 3",
   "language": "python",
   "name": "python3"
  },
  "language_info": {
   "codemirror_mode": {
    "name": "ipython",
    "version": 3
   },
   "file_extension": ".py",
   "mimetype": "text/x-python",
   "name": "python",
   "nbconvert_exporter": "python",
   "pygments_lexer": "ipython3",
   "version": "3.11.3"
  },
  "orig_nbformat": 4
 },
 "nbformat": 4,
 "nbformat_minor": 2
}
