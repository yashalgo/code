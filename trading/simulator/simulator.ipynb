{
 "cells": [
  {
   "cell_type": "code",
   "execution_count": 2,
   "metadata": {},
   "outputs": [],
   "source": [
    "# Importing Packages\n",
    "import matplotlib.pyplot as plt\n",
    "import random\n",
    "import pandas as pd\n",
    "from statistics import mean"
   ]
  },
  {
   "cell_type": "code",
   "execution_count": 3,
   "metadata": {},
   "outputs": [],
   "source": [
    "# Creating Roll Dice Function\n",
    "def trade(rr, win_rate, rpt, balance):\n",
    "    outcome = random.choices([-1, 1 * rr], [1-win_rate, win_rate])[0] * rpt * balance\n",
    "    return outcome"
   ]
  },
  {
   "cell_type": "code",
   "execution_count": 4,
   "metadata": {},
   "outputs": [],
   "source": [
    "def get_dd(balance, max_trades = 100000):\n",
    "    mySeries = pd.Series(balance) \n",
    "\n",
    "    Roll_Max = mySeries.rolling(max_trades, min_periods=1).max()\n",
    "    Daily_Drawdown = mySeries - Roll_Max\n",
    "\n",
    "    # Next we calculate the minimum (negative) daily drawdown in that window.\n",
    "    # Again, use min_periods=1 if you want to allow the expanding window\n",
    "    Max_Daily_Drawdown = Daily_Drawdown.rolling(max_trades, min_periods=1).min()\n",
    "\n",
    "    # Plot the results\n",
    "    # Daily_Drawdown.plot()\n",
    "    # Max_Daily_Drawdown.plot()\n",
    "    # mySeries.plot(secondary_y=True)\n",
    "    return Max_Daily_Drawdown.iloc[-1]"
   ]
  },
  {
   "cell_type": "code",
   "execution_count": 6,
   "metadata": {},
   "outputs": [],
   "source": [
    "def to_per(n):\n",
    "    return round(n * 100, 2)"
   ]
  },
  {
   "cell_type": "code",
   "execution_count": 10,
   "metadata": {},
   "outputs": [],
   "source": [
    "def simulator(trade_stats = [0.5,2,0.01, 30], funding_stats = [0.08, 0.12, 10000], num_simulations = 10000):\n",
    "    win_rate, rr, rpt, max_trades = trade_stats\n",
    "    target, max_dd, start_balance = funding_stats\n",
    "\n",
    "#     print(f\"\"\"\n",
    "# Simulation Parameters {num_simulations} Simulations::\n",
    "# WIN_RATE: {to_per(win_rate)}% | RPT: {to_per(rpt)}% | RR: {rr} | #Trades_Per_Day: {trades_per_day}\n",
    "# ---------------------------\"\"\")\n",
    "          \n",
    "    print(f\"WIN_RATE: {to_per(win_rate)}% | RPT: {to_per(rpt)}% | RR: {rr} | #Trades: {max_trades}\")\n",
    "    win_probability = []\n",
    "    drawdown = []\n",
    "    end_balance = []\n",
    "    funded = []\n",
    "\n",
    "    # Creating Figure for Simulation Balances\n",
    "    # fig = plt.figure()\n",
    "    # plt.title(\"Monte Carlo Equity Simulator [\" + str(num_simulations) + \"simulations]\")\n",
    "    # plt.xlabel(\"Trade #\")\n",
    "    # plt.ylabel(\"Balance [$]\")\n",
    "    # plt.xlim([0, max_trades])\n",
    "    \n",
    "    # For loop to run for the number of simulations desired\n",
    "    for i in range(num_simulations):\n",
    "        balance = [start_balance]\n",
    "        num_trades = [0]\n",
    "        num_wins = 0\n",
    "\n",
    "        while num_trades[-1] < max_trades:\n",
    "            outcome = trade(rr, win_rate, rpt, start_balance)\n",
    "            # Result if the dice are the same number\n",
    "            balance.append(balance[-1] + outcome)\n",
    "            num_wins += (1 if outcome > 0 else 0)\n",
    "            num_trades.append(num_trades[-1] + 1)\n",
    "    # Store tracking variables and add line to figure\n",
    "        # dd = get_dd(balance, max_trades)\n",
    "        dd = abs(start_balance - min(balance))\n",
    "        drawdown.append(dd)\n",
    "        win_probability.append(num_wins/num_trades[-1])\n",
    "        end_balance.append(balance[-1])\n",
    "        # print(balance[-1], 10000 * (1+target), abs(dd), start_balance * max_dd)\n",
    "        if (balance[-1] > 10000 * (1+target)) and (abs(dd) < start_balance * max_dd):\n",
    "            funded.append(1)\n",
    "        else:\n",
    "            funded.append(0)\n",
    "        # plt.plot(num_trades, balance)\n",
    "# Showing the plot after the simulations are finished\n",
    "    # plt.show()\n",
    "\n",
    "    # Averaging win probability and end balance\n",
    "    # overall_win_probability = sum(win_probability)/len(win_probability)\n",
    "    overall_end_balance = mean(end_balance)\n",
    "    overall_funding_probability = mean(funded)\n",
    "    # Displaying the averages\n",
    "    # print(\"Average win probability after \" + str(num_simulations) + \" runs: \" + str(overall_win_probability))\n",
    "    biggest_max_dd = abs(max(drawdown))\n",
    "    avg_max_dd = abs(mean(drawdown))\n",
    "    print(f\"Average funding probability: {to_per(overall_funding_probability)}%\")\n",
    "    return [to_per(overall_funding_probability), biggest_max_dd, avg_max_dd]\n",
    "    # print(f\"Average Performance: ${overall_end_balance} ({to_per(overall_end_balance/start_balance - 1)}%)\")\n",
    "    # print(f\"Biggest Max DD: ${biggest_max_dd} ({to_per(biggest_max_dd/start_balance)}%)\")\n",
    "    # print(f\"Average Max DD: ${avg_max_dd} ({to_per(avg_max_dd/start_balance)}%)\")\n"
   ]
  },
  {
   "cell_type": "code",
   "execution_count": 11,
   "metadata": {},
   "outputs": [
    {
     "name": "stdout",
     "output_type": "stream",
     "text": [
      "WIN_RATE: 50.0% | RPT: 0.25% | RR: 2 | #Trades: 15\n",
      "Average funding probability: 0%\n",
      "=======================\n",
      "WIN_RATE: 50.0% | RPT: 0.25% | RR: 2 | #Trades: 30\n",
      "Average funding probability: 2.25%\n",
      "=======================\n",
      "WIN_RATE: 50.0% | RPT: 0.25% | RR: 2 | #Trades: 60\n",
      "Average funding probability: 45.25%\n",
      "=======================\n",
      "WIN_RATE: 50.0% | RPT: 0.25% | RR: 2 | #Trades: 90\n",
      "Average funding probability: 82.33%\n",
      "=======================\n",
      "WIN_RATE: 50.0% | RPT: 0.25% | RR: 2 | #Trades: 120\n",
      "Average funding probability: 95.86%\n",
      "=======================\n",
      "WIN_RATE: 50.0% | RPT: 0.5% | RR: 2 | #Trades: 15\n",
      "Average funding probability: 6.27%\n",
      "=======================\n",
      "WIN_RATE: 50.0% | RPT: 0.5% | RR: 2 | #Trades: 30\n",
      "Average funding probability: 42.41%\n",
      "=======================\n",
      "WIN_RATE: 50.0% | RPT: 0.5% | RR: 2 | #Trades: 60\n",
      "Average funding probability: 88.24%\n",
      "=======================\n",
      "WIN_RATE: 50.0% | RPT: 0.5% | RR: 2 | #Trades: 90\n",
      "Average funding probability: 97.65%\n",
      "=======================\n",
      "WIN_RATE: 50.0% | RPT: 0.5% | RR: 2 | #Trades: 120\n",
      "Average funding probability: 99.72%\n",
      "=======================\n",
      "WIN_RATE: 50.0% | RPT: 1.0% | RR: 2 | #Trades: 15\n",
      "Average funding probability: 50.3%\n",
      "=======================\n",
      "WIN_RATE: 50.0% | RPT: 1.0% | RR: 2 | #Trades: 30\n",
      "Average funding probability: 82.12%\n",
      "=======================\n",
      "WIN_RATE: 50.0% | RPT: 1.0% | RR: 2 | #Trades: 60\n",
      "Average funding probability: 97.22%\n",
      "=======================\n",
      "WIN_RATE: 50.0% | RPT: 1.0% | RR: 2 | #Trades: 90\n",
      "Average funding probability: 99.25%\n",
      "=======================\n",
      "WIN_RATE: 50.0% | RPT: 1.0% | RR: 2 | #Trades: 120\n",
      "Average funding probability: 99.51%\n",
      "=======================\n",
      "WIN_RATE: 50.0% | RPT: 2.0% | RR: 2 | #Trades: 15\n",
      "Average funding probability: 69.11%\n",
      "=======================\n",
      "WIN_RATE: 50.0% | RPT: 2.0% | RR: 2 | #Trades: 30\n",
      "Average funding probability: 88.06%\n",
      "=======================\n",
      "WIN_RATE: 50.0% | RPT: 2.0% | RR: 2 | #Trades: 60\n",
      "Average funding probability: 93.38%\n",
      "=======================\n",
      "WIN_RATE: 50.0% | RPT: 2.0% | RR: 2 | #Trades: 90\n",
      "Average funding probability: 94.27%\n",
      "=======================\n",
      "WIN_RATE: 50.0% | RPT: 2.0% | RR: 2 | #Trades: 120\n",
      "Average funding probability: 94.31%\n",
      "=======================\n"
     ]
    }
   ],
   "source": [
    "if __name__ == \"__main__\":\n",
    "    df = pd.DataFrame(columns=['Win%', 'RPT', 'RR', 'Trades', 'FundingProbability', 'Max_DD', 'Avg_DD'])\n",
    "    rpt_list = [0.0025,0.005,0.01,0.02]\n",
    "    num_trade_list = [15,30,60,90,120]\n",
    "    for i in rpt_list:\n",
    "        for j in num_trade_list:\n",
    "            df.loc[len(df.index)] = [0.5, i, 2, j] + simulator(trade_stats = [0.5,2,i,j])\n",
    "            print(\"=======================\")"
   ]
  },
  {
   "cell_type": "code",
   "execution_count": 12,
   "metadata": {},
   "outputs": [],
   "source": [
    "df.to_csv('temp')"
   ]
  },
  {
   "cell_type": "code",
   "execution_count": 85,
   "metadata": {},
   "outputs": [
    {
     "data": {
      "text/plain": [
       "'/Users/yash/Desktop/Trading/code/ep/src'"
      ]
     },
     "execution_count": 85,
     "metadata": {},
     "output_type": "execute_result"
    }
   ],
   "source": [
    "import os\n",
    "os.getcwd()"
   ]
  }
 ],
 "metadata": {
  "kernelspec": {
   "display_name": "Python 3",
   "language": "python",
   "name": "python3"
  },
  "language_info": {
   "codemirror_mode": {
    "name": "ipython",
    "version": 3
   },
   "file_extension": ".py",
   "mimetype": "text/x-python",
   "name": "python",
   "nbconvert_exporter": "python",
   "pygments_lexer": "ipython3",
   "version": "3.11.3"
  },
  "orig_nbformat": 4
 },
 "nbformat": 4,
 "nbformat_minor": 2
}
