{
 "cells": [
  {
   "cell_type": "code",
   "execution_count": 1,
   "metadata": {},
   "outputs": [],
   "source": [
    "import os\n",
    "from glob import glob\n",
    "from path import Path\n",
    "from datetime import date, datetime, timedelta\n",
    "from collections import Counter\n",
    "from pprint import pprint\n",
    "import shutil\n",
    "# from ..common.config import *"
   ]
  },
  {
   "cell_type": "code",
   "execution_count": 2,
   "metadata": {},
   "outputs": [],
   "source": [
    "temp_path = Path(\"/Users/yash/Desktop/Trading/Q/back_setups_us/\")"
   ]
  },
  {
   "cell_type": "code",
   "execution_count": 3,
   "metadata": {},
   "outputs": [],
   "source": [
    "os.chdir(temp_path)"
   ]
  },
  {
   "cell_type": "code",
   "execution_count": 4,
   "metadata": {},
   "outputs": [
    {
     "name": "stdout",
     "output_type": "stream",
     "text": [
      "2023-06-05 2023-06-09\n"
     ]
    }
   ],
   "source": [
    "today = date.today() - timedelta(days=2)\n",
    "latest_monday = today + timedelta(days=-today.weekday())\n",
    "latest_friday = latest_monday + timedelta(days=4)\n",
    "print(latest_monday, latest_friday)"
   ]
  },
  {
   "cell_type": "code",
   "execution_count": 5,
   "metadata": {},
   "outputs": [],
   "source": [
    "datelist = []\n",
    "datelist2 = []\n",
    "for i in range(5):\n",
    "    d = latest_monday + timedelta(days=i)\n",
    "    datelist += [d.strftime(\"%Y-%m-%d\")]\n",
    "    datelist2 += [d.strftime(\"%d %b\")]"
   ]
  },
  {
   "cell_type": "code",
   "execution_count": 6,
   "metadata": {},
   "outputs": [],
   "source": [
    "file_set = dict()"
   ]
  },
  {
   "cell_type": "code",
   "execution_count": 8,
   "metadata": {},
   "outputs": [],
   "source": [
    "folder_name = f\"{datelist[0].replace('-','')}_{datelist[-1].replace('-','')}\"\n",
    "os.mkdir(folder_name)"
   ]
  },
  {
   "cell_type": "code",
   "execution_count": 10,
   "metadata": {},
   "outputs": [
    {
     "name": "stdout",
     "output_type": "stream",
     "text": [
      "2023-06-05 ['MRSN_2023-06-05.png', 'CRVS_2023-06-05.png']\n",
      "2023-06-06 ['LMND_2023-06-06.png', 'EBIX_2023-06-06.png', 'TSP_2023-06-06.png', 'QTRX_2023-06-06.png', 'ACHR_2023-06-06.png', 'DMRC_2023-06-06.png', 'KRNT_2023-06-06.png', 'VYGR_2023-06-06.png']\n",
      "2023-06-07 ['SYM_2023-06-07.png']\n",
      "2023-06-08 ['IONQ_2023-06-08.png']\n",
      "2023-06-09 ['XFOR_2023-06-09.png', 'WEAV_2023-06-09.png', 'IRON_2023-06-09.png']\n"
     ]
    }
   ],
   "source": [
    "for i in datelist:\n",
    "    files = glob(f'*_{i}.png', recursive=True)\n",
    "    print(i, files)\n",
    "    for j in files:\n",
    "        shutil.move(j, f\"{folder_name}/{j}\")\n",
    "    file_set[i] = files"
   ]
  },
  {
   "cell_type": "code",
   "execution_count": 11,
   "metadata": {},
   "outputs": [],
   "source": [
    "s = f\"\"\"{datelist2[0]} - {datelist2[-1]} [US]\n",
    "High Tight Flag | Wedges | Continuation Pocket Pivots    \n",
    "\n",
    "Actionable Setups from watchlist::\n",
    "\n",
    "\"\"\""
   ]
  },
  {
   "cell_type": "code",
   "execution_count": 12,
   "metadata": {},
   "outputs": [
    {
     "name": "stdout",
     "output_type": "stream",
     "text": [
      "2023-06-05 2\n",
      "2023-06-06 8\n",
      "2023-06-07 1\n",
      "2023-06-08 1\n",
      "2023-06-09 3\n"
     ]
    }
   ],
   "source": [
    "total = 0\n",
    "k = 0\n",
    "for i, j in file_set.items():\n",
    "    total += len(j)\n",
    "    s += f\"{datelist2[k]}: {len(j)}\\n\"\n",
    "    print(i, len(j))\n",
    "    k += 1"
   ]
  },
  {
   "cell_type": "code",
   "execution_count": 13,
   "metadata": {},
   "outputs": [],
   "source": [
    "s += f\"\"\"\n",
    "----------\n",
    "Total: {total}\"\"\""
   ]
  },
  {
   "cell_type": "code",
   "execution_count": 14,
   "metadata": {},
   "outputs": [
    {
     "name": "stdout",
     "output_type": "stream",
     "text": [
      "05 Jun - 09 Jun [US]\n",
      "High Tight Flag | Wedges | Continuation Pocket Pivots    \n",
      "\n",
      "Actionable Setups from watchlist::\n",
      "\n",
      "05 Jun: 2\n",
      "06 Jun: 8\n",
      "07 Jun: 1\n",
      "08 Jun: 1\n",
      "09 Jun: 3\n",
      "\n",
      "----------\n",
      "Total: 15\n"
     ]
    }
   ],
   "source": [
    "print(s)"
   ]
  }
 ],
 "metadata": {
  "kernelspec": {
   "display_name": "env",
   "language": "python",
   "name": "python3"
  },
  "language_info": {
   "codemirror_mode": {
    "name": "ipython",
    "version": 3
   },
   "file_extension": ".py",
   "mimetype": "text/x-python",
   "name": "python",
   "nbconvert_exporter": "python",
   "pygments_lexer": "ipython3",
   "version": "3.11.3"
  },
  "orig_nbformat": 4
 },
 "nbformat": 4,
 "nbformat_minor": 2
}
