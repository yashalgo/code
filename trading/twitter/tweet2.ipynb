{
 "cells": [
  {
   "cell_type": "code",
   "execution_count": 1,
   "metadata": {},
   "outputs": [],
   "source": [
    "import tweepy\n",
    "import json"
   ]
  },
  {
   "cell_type": "code",
   "execution_count": 2,
   "metadata": {},
   "outputs": [],
   "source": [
    "def api(data):\n",
    "    auth = tweepy.OAuthHandler(data[\"api_key\"], data[\"api_secret\"])\n",
    "    auth.set_access_token(data[\"access_token\"], data[\"access_token_secret\"])\n",
    "    return tweepy.API(auth)"
   ]
  },
  {
   "cell_type": "code",
   "execution_count": 3,
   "metadata": {},
   "outputs": [],
   "source": [
    "def tweet(api: tweepy.API, message: str, image_path=None):\n",
    "    api.update_status(message, image_path)"
   ]
  },
  {
   "cell_type": "code",
   "execution_count": 4,
   "metadata": {},
   "outputs": [],
   "source": [
    "def get_credentials(filepath = \"cred_twitter.json\"):\n",
    "    f = open(filepath)\n",
    "    data = json.load(f)\n",
    "    f.close()\n",
    "    return data"
   ]
  },
  {
   "cell_type": "code",
   "execution_count": 5,
   "metadata": {},
   "outputs": [],
   "source": [
    "credentials = get_credentials(\"/Users/yash/Desktop/Trading/code/credentials/cred_twitter_yash.json\")\n",
    "# api = api(credentials)"
   ]
  },
  {
   "cell_type": "code",
   "execution_count": 8,
   "metadata": {},
   "outputs": [
    {
     "name": "stdout",
     "output_type": "stream",
     "text": [
      "MEDIA:  Media(_api=<tweepy.api.API object at 0x1085a44d0>, media_id=1682306780997771264, media_id_string='1682306780997771264', size=64812, expires_after_secs=86400, image={'image_type': 'image/png', 'w': 1000, 'h': 1600})\n",
      "TWEET:  Status(_api=<tweepy.api.API object at 0x1085a44d0>, _json={'created_at': 'Fri Jul 21 08:29:27 +0000 2023', 'id': 1682306784500027398, 'id_str': '1682306784500027398', 'text': 'Image upload https://t.co/rzFD4G6ORS', 'truncated': False, 'entities': {'hashtags': [], 'symbols': [], 'user_mentions': [], 'urls': [], 'media': [{'id': 1682306780997771264, 'id_str': '1682306780997771264', 'indices': [13, 36], 'media_url': 'http://pbs.twimg.com/media/F1jBGqSaYAAbOHs.png', 'media_url_https': 'https://pbs.twimg.com/media/F1jBGqSaYAAbOHs.png', 'url': 'https://t.co/rzFD4G6ORS', 'display_url': 'pic.twitter.com/rzFD4G6ORS', 'expanded_url': 'https://twitter.com/TheLogicalSwing/status/1682306784500027398/photo/1', 'type': 'photo', 'sizes': {'large': {'w': 1000, 'h': 1600, 'resize': 'fit'}, 'medium': {'w': 750, 'h': 1200, 'resize': 'fit'}, 'thumb': {'w': 150, 'h': 150, 'resize': 'crop'}, 'small': {'w': 425, 'h': 680, 'resize': 'fit'}}}]}, 'extended_entities': {'media': [{'id': 1682306780997771264, 'id_str': '1682306780997771264', 'indices': [13, 36], 'media_url': 'http://pbs.twimg.com/media/F1jBGqSaYAAbOHs.png', 'media_url_https': 'https://pbs.twimg.com/media/F1jBGqSaYAAbOHs.png', 'url': 'https://t.co/rzFD4G6ORS', 'display_url': 'pic.twitter.com/rzFD4G6ORS', 'expanded_url': 'https://twitter.com/TheLogicalSwing/status/1682306784500027398/photo/1', 'type': 'photo', 'sizes': {'large': {'w': 1000, 'h': 1600, 'resize': 'fit'}, 'medium': {'w': 750, 'h': 1200, 'resize': 'fit'}, 'thumb': {'w': 150, 'h': 150, 'resize': 'crop'}, 'small': {'w': 425, 'h': 680, 'resize': 'fit'}}}]}, 'source': '<a href=\"https://twitter.com/TheLogicalSwing\" rel=\"nofollow\">Test_LogicalSwing</a>', 'in_reply_to_status_id': None, 'in_reply_to_status_id_str': None, 'in_reply_to_user_id': None, 'in_reply_to_user_id_str': None, 'in_reply_to_screen_name': None, 'user': {'id': 1650391195829571585, 'id_str': '1650391195829571585', 'name': 'The Logical Swing', 'screen_name': 'TheLogicalSwing', 'location': '', 'description': 'The Diary of a Trader', 'url': None, 'entities': {'description': {'urls': []}}, 'protected': False, 'followers_count': 153, 'friends_count': 77, 'listed_count': 1, 'created_at': 'Mon Apr 24 06:48:30 +0000 2023', 'favourites_count': 43, 'utc_offset': None, 'time_zone': None, 'geo_enabled': False, 'verified': False, 'statuses_count': 295, 'lang': None, 'contributors_enabled': False, 'is_translator': False, 'is_translation_enabled': False, 'profile_background_color': 'F5F8FA', 'profile_background_image_url': None, 'profile_background_image_url_https': None, 'profile_background_tile': False, 'profile_image_url': 'http://pbs.twimg.com/profile_images/1650393282927824896/A5fYVl84_normal.jpg', 'profile_image_url_https': 'https://pbs.twimg.com/profile_images/1650393282927824896/A5fYVl84_normal.jpg', 'profile_banner_url': 'https://pbs.twimg.com/profile_banners/1650391195829571585/1682319397', 'profile_link_color': '1DA1F2', 'profile_sidebar_border_color': 'C0DEED', 'profile_sidebar_fill_color': 'DDEEF6', 'profile_text_color': '333333', 'profile_use_background_image': True, 'has_extended_profile': True, 'default_profile': True, 'default_profile_image': False, 'following': False, 'follow_request_sent': False, 'notifications': False, 'translator_type': 'none', 'withheld_in_countries': []}, 'geo': None, 'coordinates': None, 'place': None, 'contributors': None, 'is_quote_status': False, 'retweet_count': 0, 'favorite_count': 0, 'favorited': False, 'retweeted': False, 'possibly_sensitive': False, 'lang': 'en'}, created_at=datetime.datetime(2023, 7, 21, 8, 29, 27, tzinfo=datetime.timezone.utc), id=1682306784500027398, id_str='1682306784500027398', text='Image upload https://t.co/rzFD4G6ORS', truncated=False, entities={'hashtags': [], 'symbols': [], 'user_mentions': [], 'urls': [], 'media': [{'id': 1682306780997771264, 'id_str': '1682306780997771264', 'indices': [13, 36], 'media_url': 'http://pbs.twimg.com/media/F1jBGqSaYAAbOHs.png', 'media_url_https': 'https://pbs.twimg.com/media/F1jBGqSaYAAbOHs.png', 'url': 'https://t.co/rzFD4G6ORS', 'display_url': 'pic.twitter.com/rzFD4G6ORS', 'expanded_url': 'https://twitter.com/TheLogicalSwing/status/1682306784500027398/photo/1', 'type': 'photo', 'sizes': {'large': {'w': 1000, 'h': 1600, 'resize': 'fit'}, 'medium': {'w': 750, 'h': 1200, 'resize': 'fit'}, 'thumb': {'w': 150, 'h': 150, 'resize': 'crop'}, 'small': {'w': 425, 'h': 680, 'resize': 'fit'}}}]}, extended_entities={'media': [{'id': 1682306780997771264, 'id_str': '1682306780997771264', 'indices': [13, 36], 'media_url': 'http://pbs.twimg.com/media/F1jBGqSaYAAbOHs.png', 'media_url_https': 'https://pbs.twimg.com/media/F1jBGqSaYAAbOHs.png', 'url': 'https://t.co/rzFD4G6ORS', 'display_url': 'pic.twitter.com/rzFD4G6ORS', 'expanded_url': 'https://twitter.com/TheLogicalSwing/status/1682306784500027398/photo/1', 'type': 'photo', 'sizes': {'large': {'w': 1000, 'h': 1600, 'resize': 'fit'}, 'medium': {'w': 750, 'h': 1200, 'resize': 'fit'}, 'thumb': {'w': 150, 'h': 150, 'resize': 'crop'}, 'small': {'w': 425, 'h': 680, 'resize': 'fit'}}}]}, source='Test_LogicalSwing', source_url='https://twitter.com/TheLogicalSwing', in_reply_to_status_id=None, in_reply_to_status_id_str=None, in_reply_to_user_id=None, in_reply_to_user_id_str=None, in_reply_to_screen_name=None, author=User(_api=<tweepy.api.API object at 0x1085a44d0>, _json={'id': 1650391195829571585, 'id_str': '1650391195829571585', 'name': 'The Logical Swing', 'screen_name': 'TheLogicalSwing', 'location': '', 'description': 'The Diary of a Trader', 'url': None, 'entities': {'description': {'urls': []}}, 'protected': False, 'followers_count': 153, 'friends_count': 77, 'listed_count': 1, 'created_at': 'Mon Apr 24 06:48:30 +0000 2023', 'favourites_count': 43, 'utc_offset': None, 'time_zone': None, 'geo_enabled': False, 'verified': False, 'statuses_count': 295, 'lang': None, 'contributors_enabled': False, 'is_translator': False, 'is_translation_enabled': False, 'profile_background_color': 'F5F8FA', 'profile_background_image_url': None, 'profile_background_image_url_https': None, 'profile_background_tile': False, 'profile_image_url': 'http://pbs.twimg.com/profile_images/1650393282927824896/A5fYVl84_normal.jpg', 'profile_image_url_https': 'https://pbs.twimg.com/profile_images/1650393282927824896/A5fYVl84_normal.jpg', 'profile_banner_url': 'https://pbs.twimg.com/profile_banners/1650391195829571585/1682319397', 'profile_link_color': '1DA1F2', 'profile_sidebar_border_color': 'C0DEED', 'profile_sidebar_fill_color': 'DDEEF6', 'profile_text_color': '333333', 'profile_use_background_image': True, 'has_extended_profile': True, 'default_profile': True, 'default_profile_image': False, 'following': False, 'follow_request_sent': False, 'notifications': False, 'translator_type': 'none', 'withheld_in_countries': []}, id=1650391195829571585, id_str='1650391195829571585', name='The Logical Swing', screen_name='TheLogicalSwing', location='', description='The Diary of a Trader', url=None, entities={'description': {'urls': []}}, protected=False, followers_count=153, friends_count=77, listed_count=1, created_at=datetime.datetime(2023, 4, 24, 6, 48, 30, tzinfo=datetime.timezone.utc), favourites_count=43, utc_offset=None, time_zone=None, geo_enabled=False, verified=False, statuses_count=295, lang=None, contributors_enabled=False, is_translator=False, is_translation_enabled=False, profile_background_color='F5F8FA', profile_background_image_url=None, profile_background_image_url_https=None, profile_background_tile=False, profile_image_url='http://pbs.twimg.com/profile_images/1650393282927824896/A5fYVl84_normal.jpg', profile_image_url_https='https://pbs.twimg.com/profile_images/1650393282927824896/A5fYVl84_normal.jpg', profile_banner_url='https://pbs.twimg.com/profile_banners/1650391195829571585/1682319397', profile_link_color='1DA1F2', profile_sidebar_border_color='C0DEED', profile_sidebar_fill_color='DDEEF6', profile_text_color='333333', profile_use_background_image=True, has_extended_profile=True, default_profile=True, default_profile_image=False, following=False, follow_request_sent=False, notifications=False, translator_type='none', withheld_in_countries=[]), user=User(_api=<tweepy.api.API object at 0x1085a44d0>, _json={'id': 1650391195829571585, 'id_str': '1650391195829571585', 'name': 'The Logical Swing', 'screen_name': 'TheLogicalSwing', 'location': '', 'description': 'The Diary of a Trader', 'url': None, 'entities': {'description': {'urls': []}}, 'protected': False, 'followers_count': 153, 'friends_count': 77, 'listed_count': 1, 'created_at': 'Mon Apr 24 06:48:30 +0000 2023', 'favourites_count': 43, 'utc_offset': None, 'time_zone': None, 'geo_enabled': False, 'verified': False, 'statuses_count': 295, 'lang': None, 'contributors_enabled': False, 'is_translator': False, 'is_translation_enabled': False, 'profile_background_color': 'F5F8FA', 'profile_background_image_url': None, 'profile_background_image_url_https': None, 'profile_background_tile': False, 'profile_image_url': 'http://pbs.twimg.com/profile_images/1650393282927824896/A5fYVl84_normal.jpg', 'profile_image_url_https': 'https://pbs.twimg.com/profile_images/1650393282927824896/A5fYVl84_normal.jpg', 'profile_banner_url': 'https://pbs.twimg.com/profile_banners/1650391195829571585/1682319397', 'profile_link_color': '1DA1F2', 'profile_sidebar_border_color': 'C0DEED', 'profile_sidebar_fill_color': 'DDEEF6', 'profile_text_color': '333333', 'profile_use_background_image': True, 'has_extended_profile': True, 'default_profile': True, 'default_profile_image': False, 'following': False, 'follow_request_sent': False, 'notifications': False, 'translator_type': 'none', 'withheld_in_countries': []}, id=1650391195829571585, id_str='1650391195829571585', name='The Logical Swing', screen_name='TheLogicalSwing', location='', description='The Diary of a Trader', url=None, entities={'description': {'urls': []}}, protected=False, followers_count=153, friends_count=77, listed_count=1, created_at=datetime.datetime(2023, 4, 24, 6, 48, 30, tzinfo=datetime.timezone.utc), favourites_count=43, utc_offset=None, time_zone=None, geo_enabled=False, verified=False, statuses_count=295, lang=None, contributors_enabled=False, is_translator=False, is_translation_enabled=False, profile_background_color='F5F8FA', profile_background_image_url=None, profile_background_image_url_https=None, profile_background_tile=False, profile_image_url='http://pbs.twimg.com/profile_images/1650393282927824896/A5fYVl84_normal.jpg', profile_image_url_https='https://pbs.twimg.com/profile_images/1650393282927824896/A5fYVl84_normal.jpg', profile_banner_url='https://pbs.twimg.com/profile_banners/1650391195829571585/1682319397', profile_link_color='1DA1F2', profile_sidebar_border_color='C0DEED', profile_sidebar_fill_color='DDEEF6', profile_text_color='333333', profile_use_background_image=True, has_extended_profile=True, default_profile=True, default_profile_image=False, following=False, follow_request_sent=False, notifications=False, translator_type='none', withheld_in_countries=[]), geo=None, coordinates=None, place=None, contributors=None, is_quote_status=False, retweet_count=0, favorite_count=0, favorited=False, retweeted=False, possibly_sensitive=False, lang='en')\n"
     ]
    }
   ],
   "source": [
    "media = api.media_upload(filename=\"./20230721_mm.png\")\n",
    "print(\"MEDIA: \", media)\n",
    "\n",
    "tweet = api.update_status(status=\"Image upload\", media_ids= \n",
    "[media.media_id_string])\n",
    "print(\"TWEET: \", tweet)"
   ]
  },
  {
   "cell_type": "markdown",
   "metadata": {},
   "source": [
    "V2"
   ]
  }
 ],
 "metadata": {
  "kernelspec": {
   "display_name": "env",
   "language": "python",
   "name": "python3"
  },
  "language_info": {
   "codemirror_mode": {
    "name": "ipython",
    "version": 3
   },
   "file_extension": ".py",
   "mimetype": "text/x-python",
   "name": "python",
   "nbconvert_exporter": "python",
   "pygments_lexer": "ipython3",
   "version": "3.11.5"
  },
  "orig_nbformat": 4
 },
 "nbformat": 4,
 "nbformat_minor": 2
}
