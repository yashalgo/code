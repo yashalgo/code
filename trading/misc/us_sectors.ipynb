{
 "cells": [
  {
   "cell_type": "code",
   "execution_count": 1,
   "metadata": {},
   "outputs": [],
   "source": [
    "from finvizfinance.screener.custom import Custom"
   ]
  },
  {
   "cell_type": "code",
   "execution_count": 2,
   "metadata": {},
   "outputs": [],
   "source": [
    "fcustom = Custom()"
   ]
  },
  {
   "cell_type": "code",
   "execution_count": 3,
   "metadata": {},
   "outputs": [],
   "source": [
    "ind = fcustom.get_filter_options('Industry')"
   ]
  },
  {
   "cell_type": "code",
   "execution_count": 4,
   "metadata": {},
   "outputs": [],
   "source": [
    "sect = fcustom.get_filter_options('Sector')"
   ]
  },
  {
   "cell_type": "code",
   "execution_count": null,
   "metadata": {},
   "outputs": [],
   "source": [
    "#SCREENER\n",
    "fcustom = Custom()\n",
    "cols = [0,1,2,3,4,6,43,44,45,51,52,53,63,65,68]\n",
    "# vol1 = 'Month - Over 3%'\n",
    "# perf1 = 'Month +10%'\n",
    "mcap = '+Micro (over $50mln)'\n",
    "filters_dict1 = {'Market Cap.': mcap, 'Industry': 'Yesterday After Market Close'}\n",
    "filters_dict2 = {'Market Cap.': mcap, 'Earnings Date': 'Today Before Market Open'}\n",
    "\n",
    "fcustom.set_filter(filters_dict=filters_dict1)\n",
    "df1 = fcustom.screener_view(columns=cols, sleep_sec = 1, order= 'Performance (Month)', ascend=False)\n",
    "print(df1.shape[0], '\\n')\n",
    "\n",
    "fcustom.set_filter(filters_dict=filters_dict2)\n",
    "df2 = fcustom.screener_view(columns=cols, sleep_sec = 1, order= 'Performance (Month)', ascend=False)\n",
    "print(df2.shape[0], '\\n')"
   ]
  }
 ],
 "metadata": {
  "kernelspec": {
   "display_name": "Python 3",
   "language": "python",
   "name": "python3"
  },
  "language_info": {
   "codemirror_mode": {
    "name": "ipython",
    "version": 3
   },
   "file_extension": ".py",
   "mimetype": "text/x-python",
   "name": "python",
   "nbconvert_exporter": "python",
   "pygments_lexer": "ipython3",
   "version": "3.10.9"
  },
  "orig_nbformat": 4,
  "vscode": {
   "interpreter": {
    "hash": "b0fa6594d8f4cbf19f97940f81e996739fb7646882a419484c72d19e05852a7e"
   }
  }
 },
 "nbformat": 4,
 "nbformat_minor": 2
}
