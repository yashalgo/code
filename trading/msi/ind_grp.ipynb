{
 "cells": [
  {
   "cell_type": "code",
   "execution_count": 6,
   "metadata": {},
   "outputs": [],
   "source": [
    "from selenium import webdriver\n",
    "from selenium.webdriver.chrome.options import Options\n",
    "from selenium.webdriver.common.by import By\n",
    "from selenium.webdriver.support.ui import WebDriverWait\n",
    "from selenium.webdriver.support import expected_conditions as EC\n",
    "import pandas as pd\n",
    "import time\n",
    "import os"
   ]
  },
  {
   "cell_type": "code",
   "execution_count": null,
   "metadata": {},
   "outputs": [],
   "source": [
    "options = Options()\n",
    "# options.add_argument(\"--headless\")  # Enable headless mode\n",
    "driver = webdriver.Chrome(options=options)"
   ]
  },
  {
   "cell_type": "code",
   "execution_count": null,
   "metadata": {},
   "outputs": [],
   "source": [
    "# LOGIN\n",
    "driver.get('https://marketsmithindia.com/mstool/landing.jsp#/signIn')\n",
    "try:\n",
    "    WebDriverWait(driver, 10).until(EC.element_to_be_clickable((By.XPATH, \"//button[text()='Accept']\"))).click()\n",
    "except:\n",
    "    pass\n",
    "credentials = {\n",
    "  \"email_id\": \"deepthegame@gmail.com\",\n",
    "  \"password\": \"Ms@12340\"\n",
    "}\n",
    "WebDriverWait(driver, 10).until(EC.presence_of_element_located((By.ID, 'landingIframe')))\n",
    "\n",
    "# Switch to the iframe\n",
    "iframe = driver.find_element(By.ID, 'landingIframe')\n",
    "driver.switch_to.frame(iframe)\n",
    "# Find the login form fields\n",
    "username_field = driver.find_element(By.ID, \"loginEmail\")\n",
    "username_field.send_keys(credentials['email_id'])\n",
    "password_field = driver.find_element(By.ID, 'loginPassword')\n",
    "password_field.send_keys(credentials['password'])\n",
    "# Assume driver is your WebDriver instance and you've already switched to the correct iframe\n",
    "\n",
    "# Find the submit button by its text and click it\n",
    "submit_button = driver.find_element(By.XPATH,\"//a[normalize-space()='Sign In']\")\n",
    "submit_button.click()\n"
   ]
  },
  {
   "cell_type": "code",
   "execution_count": null,
   "metadata": {},
   "outputs": [],
   "source": [
    "ind_list = pd.read_csv(\"/Users/yash/Desktop/Trading/msi/ind_grp_names_links.csv\")"
   ]
  },
  {
   "cell_type": "code",
   "execution_count": null,
   "metadata": {},
   "outputs": [],
   "source": [
    "\n",
    "for i, j in ind_list.iterrows():\n",
    "    print(i)\n",
    "    url = j.Link\n",
    "    driver.get(url)\n",
    "    # break\n",
    "    try:\n",
    "        # Wait until the export button is clickable, then click it\n",
    "        export_button = WebDriverWait(driver, 10).until(\n",
    "            EC.element_to_be_clickable((By.CSS_SELECTOR, '.industryExport'))\n",
    "        )\n",
    "        export_button.click()\n",
    "    except Exception as e:\n",
    "        print(f'Failed to download CSV from {url}: {e}')\n"
   ]
  },
  {
   "cell_type": "code",
   "execution_count": null,
   "metadata": {},
   "outputs": [],
   "source": [
    "#combining CSVs\n",
    "\n",
    "# Get a list of all CSV files\n",
    "from glob import glob\n",
    "import os\n",
    "# csv_files = [f for f in os.listdir('/path/to/csv/files') if f.endswith('.csv')]\n",
    "downloads = \"/Users/yash/Downloads\"\n",
    "os.chdir(downloads)\n",
    "csv_files = glob('*.csv')\n",
    "# Initialize an empty DataFrame to store the combined data\n",
    "combined_df = pd.DataFrame()\n",
    "\n",
    "for csv_file in csv_files:\n",
    "    # Load the CSV file into a DataFrame\n",
    "    df = pd.read_csv(csv_file)\n",
    "\n",
    "    # Extract the industry group name from the file name\n",
    "    industry_group = csv_file.split('_')[0]\n",
    "    print(industry_group)\n",
    "    \n",
    "    # Add a new column for the industry group\n",
    "    df['Industry Group'] = industry_group\n",
    "    # print(df.head(2))\n",
    "    # break\n",
    "\n",
    "    # Append the DataFrame to the combined DataFrame\n",
    "    combined_df = pd.concat([combined_df, df])"
   ]
  },
  {
   "cell_type": "code",
   "execution_count": null,
   "metadata": {},
   "outputs": [],
   "source": [
    "combined_df.head()"
   ]
  },
  {
   "cell_type": "code",
   "execution_count": null,
   "metadata": {},
   "outputs": [],
   "source": [
    "cols = combined_df.columns"
   ]
  },
  {
   "cell_type": "code",
   "execution_count": null,
   "metadata": {},
   "outputs": [],
   "source": [
    "cols_new = ['Symbol', 'CompanyName', 'MarketCapital', 'MasterScore',\n",
    "       'EPSRank', 'PriceStrength', 'BuyerDemand', 'Price', 'PricePercChange', 'temp',\n",
    "       'Industry Group']"
   ]
  },
  {
   "cell_type": "code",
   "execution_count": null,
   "metadata": {},
   "outputs": [],
   "source": [
    "combined_df.columns = cols_new"
   ]
  },
  {
   "cell_type": "code",
   "execution_count": null,
   "metadata": {},
   "outputs": [],
   "source": [
    "\n",
    "# Save the combined DataFrame to a new CSV file\n",
    "combined_df.to_csv('Ind_Grp_raw.csv', index=False)\n"
   ]
  },
  {
   "cell_type": "code",
   "execution_count": null,
   "metadata": {},
   "outputs": [],
   "source": [
    "\n",
    "driver.quit()\n"
   ]
  },
  {
   "cell_type": "code",
   "execution_count": null,
   "metadata": {},
   "outputs": [],
   "source": [
    "files = glob(\"*.csv\")"
   ]
  },
  {
   "cell_type": "markdown",
   "metadata": {},
   "source": [
    "INDUSTRY GROUP WATCHLISTS DOWNLOAD"
   ]
  },
  {
   "cell_type": "code",
   "execution_count": 4,
   "metadata": {},
   "outputs": [],
   "source": [
    "path_ = \"/Users/yash/Desktop/Trading/code/trading/msi/data/watchlists\""
   ]
  }
 ],
 "metadata": {
  "kernelspec": {
   "display_name": "env",
   "language": "python",
   "name": "python3"
  },
  "language_info": {
   "codemirror_mode": {
    "name": "ipython",
    "version": 3
   },
   "file_extension": ".py",
   "mimetype": "text/x-python",
   "name": "python",
   "nbconvert_exporter": "python",
   "pygments_lexer": "ipython3",
   "version": "3.11.5"
  },
  "orig_nbformat": 4
 },
 "nbformat": 4,
 "nbformat_minor": 2
}
