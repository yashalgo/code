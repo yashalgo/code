{
 "cells": [
  {
   "cell_type": "code",
   "execution_count": 1,
   "metadata": {},
   "outputs": [],
   "source": [
    "import pandas as pd\n",
    "import os"
   ]
  },
  {
   "cell_type": "code",
   "execution_count": 4,
   "metadata": {},
   "outputs": [],
   "source": [
    "os.chdir('data/ind_grp/wl')"
   ]
  },
  {
   "cell_type": "code",
   "execution_count": 5,
   "metadata": {},
   "outputs": [],
   "source": [
    "df = pd.read_csv(\"G1040IG_20230919.csv\")"
   ]
  },
  {
   "cell_type": "code",
   "execution_count": 6,
   "metadata": {},
   "outputs": [
    {
     "data": {
      "text/html": [
       "<div>\n",
       "<style scoped>\n",
       "    .dataframe tbody tr th:only-of-type {\n",
       "        vertical-align: middle;\n",
       "    }\n",
       "\n",
       "    .dataframe tbody tr th {\n",
       "        vertical-align: top;\n",
       "    }\n",
       "\n",
       "    .dataframe thead th {\n",
       "        text-align: right;\n",
       "    }\n",
       "</style>\n",
       "<table border=\"1\" class=\"dataframe\">\n",
       "  <thead>\n",
       "    <tr style=\"text-align: right;\">\n",
       "      <th></th>\n",
       "      <th>Sno</th>\n",
       "      <th>Symbol</th>\n",
       "      <th>CompanyName</th>\n",
       "      <th>MarketCapital</th>\n",
       "      <th>MasterScore</th>\n",
       "      <th>EPSRank</th>\n",
       "      <th>PriceStrength</th>\n",
       "      <th>BuyerDemand</th>\n",
       "      <th>Price</th>\n",
       "      <th>PricePercChange</th>\n",
       "    </tr>\n",
       "  </thead>\n",
       "  <tbody>\n",
       "    <tr>\n",
       "      <th>1</th>\n",
       "      <td>512068</td>\n",
       "      <td>Deccan Gold Mines</td>\n",
       "      <td>1,121.73 Cr</td>\n",
       "      <td>B</td>\n",
       "      <td>26</td>\n",
       "      <td>95</td>\n",
       "      <td>A+</td>\n",
       "      <td>88.44</td>\n",
       "      <td>3.84%</td>\n",
       "      <td>NaN</td>\n",
       "    </tr>\n",
       "    <tr>\n",
       "      <th>2</th>\n",
       "      <td>AUSOMENT</td>\n",
       "      <td>Ausom Enterprise</td>\n",
       "      <td>104.43 Cr</td>\n",
       "      <td>C</td>\n",
       "      <td>35</td>\n",
       "      <td>50</td>\n",
       "      <td>B-</td>\n",
       "      <td>76.65</td>\n",
       "      <td>1.66%</td>\n",
       "      <td>NaN</td>\n",
       "    </tr>\n",
       "    <tr>\n",
       "      <th>3</th>\n",
       "      <td>539116</td>\n",
       "      <td>O P Chains</td>\n",
       "      <td>17.13 Cr</td>\n",
       "      <td>C</td>\n",
       "      <td>99</td>\n",
       "      <td>83</td>\n",
       "      <td>B-</td>\n",
       "      <td>25.00</td>\n",
       "      <td>0%</td>\n",
       "      <td>NaN</td>\n",
       "    </tr>\n",
       "    <tr>\n",
       "      <th>4</th>\n",
       "      <td>539143</td>\n",
       "      <td>Panth Infinity</td>\n",
       "      <td>14.77 Cr</td>\n",
       "      <td>D</td>\n",
       "      <td>3</td>\n",
       "      <td>13</td>\n",
       "      <td>C-</td>\n",
       "      <td>7.99</td>\n",
       "      <td>1.48%</td>\n",
       "      <td>NaN</td>\n",
       "    </tr>\n",
       "    <tr>\n",
       "      <th>5</th>\n",
       "      <td>540190</td>\n",
       "      <td>Franklin Industries</td>\n",
       "      <td>13.25 Cr</td>\n",
       "      <td>C</td>\n",
       "      <td>N.A</td>\n",
       "      <td>98</td>\n",
       "      <td>A+</td>\n",
       "      <td>36.66</td>\n",
       "      <td>1.95%</td>\n",
       "      <td>NaN</td>\n",
       "    </tr>\n",
       "    <tr>\n",
       "      <th>6</th>\n",
       "      <td>526570</td>\n",
       "      <td>Midwest Gold</td>\n",
       "      <td>10.78 Cr</td>\n",
       "      <td>D</td>\n",
       "      <td>5</td>\n",
       "      <td>25</td>\n",
       "      <td>E</td>\n",
       "      <td>32.98</td>\n",
       "      <td>0%</td>\n",
       "      <td>NaN</td>\n",
       "    </tr>\n",
       "  </tbody>\n",
       "</table>\n",
       "</div>"
      ],
      "text/plain": [
       "        Sno               Symbol  CompanyName MarketCapital MasterScore  \\\n",
       "1    512068    Deccan Gold Mines  1,121.73 Cr             B          26   \n",
       "2  AUSOMENT     Ausom Enterprise    104.43 Cr             C          35   \n",
       "3    539116           O P Chains     17.13 Cr             C          99   \n",
       "4    539143       Panth Infinity     14.77 Cr             D           3   \n",
       "5    540190  Franklin Industries     13.25 Cr             C         N.A   \n",
       "6    526570         Midwest Gold     10.78 Cr             D           5   \n",
       "\n",
       "   EPSRank PriceStrength  BuyerDemand  Price  PricePercChange  \n",
       "1       95            A+        88.44  3.84%              NaN  \n",
       "2       50            B-        76.65  1.66%              NaN  \n",
       "3       83            B-        25.00     0%              NaN  \n",
       "4       13            C-         7.99  1.48%              NaN  \n",
       "5       98            A+        36.66  1.95%              NaN  \n",
       "6       25             E        32.98     0%              NaN  "
      ]
     },
     "execution_count": 6,
     "metadata": {},
     "output_type": "execute_result"
    }
   ],
   "source": [
    "df"
   ]
  },
  {
   "cell_type": "code",
   "execution_count": null,
   "metadata": {},
   "outputs": [],
   "source": [
    "def apply_get_tv_ticker(ticker):\n",
    "    sec_id, error = get_tv_ticker(ticker)\n",
    "    return sec_id if error is None else None\n",
    "\n",
    "# Apply the modified function to the 'Symbol' column and create a new column 'SecID'\n",
    "df['SecID'] = df['Symbol'].apply(apply_get_tv_ticker)"
   ]
  }
 ],
 "metadata": {
  "kernelspec": {
   "display_name": "env",
   "language": "python",
   "name": "python3"
  },
  "language_info": {
   "codemirror_mode": {
    "name": "ipython",
    "version": 3
   },
   "file_extension": ".py",
   "mimetype": "text/x-python",
   "name": "python",
   "nbconvert_exporter": "python",
   "pygments_lexer": "ipython3",
   "version": "3.11.5"
  },
  "orig_nbformat": 4
 },
 "nbformat": 4,
 "nbformat_minor": 2
}
