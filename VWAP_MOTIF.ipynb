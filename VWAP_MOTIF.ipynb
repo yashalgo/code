{
 "cells": [
  {
   "cell_type": "code",
   "execution_count": null,
   "metadata": {},
   "outputs": [],
   "source": [
    "#!python\n",
    "from libs import *\n",
    "from helper_functions import *\n",
    "from paths import *\n",
    "%matplotlib inline"
   ]
  },
  {
   "cell_type": "code",
   "execution_count": null,
   "metadata": {},
   "outputs": [],
   "source": [
    "# gauth = GoogleAuth(settings_file=code_ / \"config/settings.yaml\")           \n",
    "# drive = GoogleDrive(gauth)\n",
    "# minute_folder = '1tc6yb3kkqmgyDh7am7SU17_FupTlBg9o'"
   ]
  },
  {
   "cell_type": "code",
   "execution_count": null,
   "metadata": {},
   "outputs": [],
   "source": [
    "nifty500_str =  nifty500_txt.read_text()\n",
    "os.chdir(minute_nifty500)\n",
    "nifty500_list = tv_str_to_list(nifty500_str)"
   ]
  },
  {
   "cell_type": "code",
   "execution_count": null,
   "metadata": {},
   "outputs": [],
   "source": [
    "start_ = '2018-01-01'\n",
    "end_ = '2022-12-31'"
   ]
  },
  {
   "cell_type": "markdown",
   "metadata": {},
   "source": [
    "DOWNLOADING NIFTY500 DATA"
   ]
  },
  {
   "cell_type": "code",
   "execution_count": null,
   "metadata": {},
   "outputs": [],
   "source": [
    "# file_list = drive.ListFile({'q': \"'{}' in parents and trashed=false\".format(minute_folder)}).GetList()"
   ]
  },
  {
   "cell_type": "code",
   "execution_count": null,
   "metadata": {},
   "outputs": [],
   "source": [
    "# e = 0\n",
    "# for i, file in enumerate(sorted(file_list, key = lambda x: x['title']), start=1):\n",
    "#     title = file['title']\n",
    "#     print(i, title)\n",
    "#     symbol = title.split('_')[0]\n",
    "#     if symbol in nifty500_list:\n",
    "#         try:\n",
    "#             print('Downloading {} file from GDrive ({}/{})'.format(file['title'], i, len(file_list)))\n",
    "#             file.GetContentFile(file['title'])\n",
    "#         except:\n",
    "#             e += 1\n",
    "#             print('Error downloading symbol: ', symbol)\n",
    "#     # break"
   ]
  },
  {
   "cell_type": "code",
   "execution_count": null,
   "metadata": {},
   "outputs": [],
   "source": [
    "def vwap(df):\n",
    "    q = df.volume.values\n",
    "    p = df.close.values\n",
    "    return df.assign(vwap=(p * q).cumsum() / q.cumsum())\n",
    "def typical_vwap(df):\n",
    "    q = df.volume.values\n",
    "    p = df.typical_price.values\n",
    "    return df.assign(typical_vwap=(p * q).cumsum() / q.cumsum())"
   ]
  },
  {
   "cell_type": "code",
   "execution_count": null,
   "metadata": {},
   "outputs": [],
   "source": [
    "files = glob('*2018*.csv')"
   ]
  },
  {
   "cell_type": "code",
   "execution_count": null,
   "metadata": {},
   "outputs": [],
   "source": [
    "for f in files:\n",
    "    df = pd.read_csv(f)\n",
    "    # try:\n",
    "    if 'typical_price' not in df.columns:\n",
    "        df['typical_price'] = (df['high']+df['low']+ df['close'])/3\n",
    "    if 'typical_vwap' not in df.columns:\n",
    "        df = df.groupby(df.Date, group_keys=False).apply(typical_vwap)\n",
    "    if 'vwap_close' not in df.columns:\n",
    "        df['vwap_close'] = df['vwap'] - df['close']\n",
    "    if 'vwap_typical' not in df.columns:\n",
    "        df['vwap_typical'] = df['vwap'] - df['typical_price']\n",
    "    for i in df.columns:\n",
    "        if 'Unnamed' in i:\n",
    "            df.drop(i, inplace = True, axis=1)\n",
    "    df.to_csv(f)\n",
    "    print(f)\n",
    "# except:\n",
    "    #     print('Error in Symbol', f)"
   ]
  },
  {
   "cell_type": "code",
   "execution_count": null,
   "metadata": {},
   "outputs": [],
   "source": [
    "def check_vols(df):\n",
    "    if max(df.volume) <= 0:\n",
    "        return False    \n",
    "    return True"
   ]
  },
  {
   "cell_type": "code",
   "execution_count": null,
   "metadata": {},
   "outputs": [],
   "source": [
    "for f in files:\n",
    "    try:\n",
    "        df = pd.read_csv(f)\n",
    "        for name, group in df.groupby(['Date']):\n",
    "            # print(group.shape[0])\n",
    "            if not check_vols(group) or group.shape[0] < 375:\n",
    "                idx = df[df['Date'] == name].index\n",
    "                df.drop(idx, inplace=True)\n",
    "        df.to_csv(f.replace('.csv', '_filtered.csv'))\n",
    "        print(f)\n",
    "    except:\n",
    "        print('Error in ', f)"
   ]
  },
  {
   "cell_type": "markdown",
   "metadata": {},
   "source": [
    "4. MOTIF SEARCH"
   ]
  },
  {
   "cell_type": "code",
   "execution_count": null,
   "metadata": {},
   "outputs": [],
   "source": [
    "for f in files:\n",
    "    try:\n",
    "        df = pd.read_csv(f)\n",
    "        for name, group in df.groupby(['Date']):\n",
    "            if not check_vols(group) or group.shape[0] < 360:\n",
    "                indexAge = df[df['Date'] == name].index\n",
    "                df.drop(indexAge , inplace=True)\n",
    "        df.to_csv(f)\n",
    "        print(f)\n",
    "    except:\n",
    "        print('Error in ', f)"
   ]
  },
  {
   "cell_type": "code",
   "execution_count": null,
   "metadata": {},
   "outputs": [],
   "source": [
    "tf = 60\n",
    "Ts = []"
   ]
  },
  {
   "cell_type": "code",
   "execution_count": null,
   "metadata": {},
   "outputs": [],
   "source": [
    "for f in files:\n",
    "    print(f)\n",
    "    df = pd.read_csv(f)\n",
    "    for name, group in df.groupby(['Date']):\n",
    "        # open_ = df['open'].iloc[0]\n",
    "        # close_ = df['close'].iloc[-1]\n",
    "        Ts.append(group['vwap_close'])"
   ]
  },
  {
   "cell_type": "code",
   "execution_count": null,
   "metadata": {},
   "outputs": [],
   "source": [
    "m = tf  # Chosen since the eog signal was downsampled to 50 Hz\n",
    "radius, Ts_idx, subseq_idx = stumpy.ostinato(Ts, m)"
   ]
  },
  {
   "cell_type": "code",
   "execution_count": null,
   "metadata": {},
   "outputs": [],
   "source": [
    "print(f'Found Best Radius {np.round(radius, 2)} in time series {Ts_idx} starting at subsequence index location {subseq_idx}.')"
   ]
  },
  {
   "cell_type": "code",
   "execution_count": null,
   "metadata": {},
   "outputs": [],
   "source": [
    "consensus_motif = Ts[Ts_idx][subseq_idx : subseq_idx + m]\n",
    "nn_idx = []\n",
    "for i, T in enumerate(Ts):\n",
    "    nn_idx.append(np.argmin(stumpy.core.mass(consensus_motif, T)))\n",
    "    lw = 1\n",
    "    label = None\n",
    "    if i == Ts_idx:\n",
    "        lw = 4\n",
    "        label = 'Consensus Motif'\n",
    "    plt.plot(stumpy.core.z_norm(T[nn_idx[i] : nn_idx[i]+m]), lw=lw, label=label)\n",
    "\n",
    "plt.title('The Consensus Motif (Z-normalized)')\n",
    "plt.xlabel('Time (s)')\n",
    "plt.legend()\n",
    "plt.show()"
   ]
  }
 ],
 "metadata": {
  "kernelspec": {
   "display_name": "Python 3.10.9 64-bit",
   "language": "python",
   "name": "python3"
  },
  "language_info": {
   "codemirror_mode": {
    "name": "ipython",
    "version": 3
   },
   "file_extension": ".py",
   "mimetype": "text/x-python",
   "name": "python",
   "nbconvert_exporter": "python",
   "pygments_lexer": "ipython3",
   "version": "3.10.9"
  },
  "orig_nbformat": 4,
  "vscode": {
   "interpreter": {
    "hash": "b0fa6594d8f4cbf19f97940f81e996739fb7646882a419484c72d19e05852a7e"
   }
  }
 },
 "nbformat": 4,
 "nbformat_minor": 2
}
