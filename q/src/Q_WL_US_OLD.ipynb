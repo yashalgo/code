{
 "cells": [
  {
   "cell_type": "code",
   "execution_count": 1,
   "id": "f516b741",
   "metadata": {},
   "outputs": [],
   "source": [
    "from datetime import datetime\n",
    "import os\n",
    "from glob import glob\n",
    "from config import *\n",
    "import utils.tradingview as tv\n",
    "from finvizfinance.screener.custom import Custom"
   ]
  },
  {
   "cell_type": "code",
   "execution_count": 2,
   "id": "0d63aaae",
   "metadata": {},
   "outputs": [],
   "source": [
    "fcustom = Custom()"
   ]
  },
  {
   "cell_type": "markdown",
   "id": "b83616cc",
   "metadata": {},
   "source": [
    "------FILTERS------"
   ]
  },
  {
   "cell_type": "code",
   "execution_count": 3,
   "id": "c898a42f",
   "metadata": {},
   "outputs": [],
   "source": [
    "today = datetime.today().strftime('%Y%m%d')"
   ]
  },
  {
   "cell_type": "code",
   "execution_count": 4,
   "id": "2dc0d6b2",
   "metadata": {},
   "outputs": [],
   "source": [
    "today_ = datetime.today().strftime('%Y/%m/%d')\n"
   ]
  },
  {
   "cell_type": "code",
   "execution_count": 5,
   "id": "ef7e1fc9",
   "metadata": {},
   "outputs": [
    {
     "data": {
      "text/plain": [
       "'/Users/yash/Desktop/Trading/Q/watchlists/2023/02/15'"
      ]
     },
     "execution_count": 5,
     "metadata": {},
     "output_type": "execute_result"
    }
   ],
   "source": [
    "path_ = q_wl / today_\n",
    "if not os.path.isdir(path_):\n",
    "    os.mkdir(path_)\n",
    "os.chdir(path_)\n",
    "os.getcwd()"
   ]
  },
  {
   "cell_type": "code",
   "execution_count": 6,
   "id": "048a4486",
   "metadata": {},
   "outputs": [
    {
     "name": "stdout",
     "output_type": "stream",
     "text": [
      "[]\n"
     ]
    }
   ],
   "source": [
    "\n",
    "# In[4]:\n",
    "outfile_ = today + '_US.txt'\n",
    "files = glob('**/*_US.txt', recursive = True)\n",
    "print(files)\n",
    "if outfile_ in files:\n",
    "    print('File already present. Aborting!')\n",
    "    exit()"
   ]
  },
  {
   "cell_type": "code",
   "execution_count": 14,
   "id": "d26643f4",
   "metadata": {},
   "outputs": [],
   "source": [
    "limit = 50\n",
    "\n",
    "#1-month performance\n",
    "perf1 = 'Month +30%'\n",
    "vol1 = 'Month - Over 5%'\n",
    "\n",
    "#3-month performance\n",
    "perf3 = 'Quarter +50%'\n",
    "vol3 = 'Month - Over 5%'\n",
    "\n",
    "#6-month performance\n",
    "perf6 = 'Half +100%'\n",
    "vol6 = 'Month - Over 5%'\n",
    "\n",
    "cols = [0,1,2,3,4,6,43,44,45,51,52,53,63,65,68]\n",
    "\n",
    "filters_dict1 = {'Market Cap.': '+Micro (over $50mln)','Performance': perf1, 'Price': 'Over $1',\n",
    "                'Volatility': vol1, 'Average Volume': 'Over 100K'}\n",
    "\n",
    "filters_dict3 = filters_dict1.copy()\n",
    "filters_dict3['Performance'] = perf3\n",
    "filters_dict3['Volatility'] = vol3\n",
    "\n",
    "filters_dict6 = filters_dict1.copy()\n",
    "filters_dict6['Performance'] = perf6\n",
    "filters_dict6['Volatility'] = vol6"
   ]
  },
  {
   "cell_type": "markdown",
   "id": "f4ea8f0d",
   "metadata": {},
   "source": [
    "--------------1 MONTH GAINERS-------------"
   ]
  },
  {
   "cell_type": "code",
   "execution_count": 15,
   "id": "1b91b2bd",
   "metadata": {},
   "outputs": [
    {
     "name": "stdout",
     "output_type": "stream",
     "text": [
      "102fo] loading page [##############################] 6/6 \n"
     ]
    },
    {
     "data": {
      "text/plain": [
       "50"
      ]
     },
     "execution_count": 15,
     "metadata": {},
     "output_type": "execute_result"
    }
   ],
   "source": [
    "fcustom.set_filter(filters_dict=filters_dict1)\n",
    "df1 = fcustom.screener_view(columns=cols, sleep_sec = 1, order= 'Performance (Month)', ascend=False)\n",
    "print(df1.shape[0])\n",
    "df1 = df1.head(limit)\n",
    "\n",
    "df1.shape[0]"
   ]
  },
  {
   "cell_type": "markdown",
   "id": "e63dd6e2",
   "metadata": {},
   "source": [
    "--------------3 MONTH GAINERS-------------"
   ]
  },
  {
   "cell_type": "code",
   "execution_count": 16,
   "id": "eefff25d",
   "metadata": {},
   "outputs": [
    {
     "name": "stdout",
     "output_type": "stream",
     "text": [
      "153fo] loading page [##############################] 8/8 \n"
     ]
    },
    {
     "data": {
      "text/plain": [
       "50"
      ]
     },
     "execution_count": 16,
     "metadata": {},
     "output_type": "execute_result"
    }
   ],
   "source": [
    "fcustom.set_filter(filters_dict=filters_dict3)\n",
    "df3 = fcustom.screener_view(columns=cols, sleep_sec = 1,  order='Performance (Quarter)', ascend=False)\n",
    "print(df3.shape[0])\n",
    "df3 = df3.head(limit)\n",
    "\n",
    "df3.shape[0]"
   ]
  },
  {
   "cell_type": "markdown",
   "id": "71f77edc",
   "metadata": {},
   "source": [
    "--------------6 MONTH GAINERS-------------"
   ]
  },
  {
   "cell_type": "code",
   "execution_count": 17,
   "id": "9f21cdc6",
   "metadata": {},
   "outputs": [
    {
     "name": "stdout",
     "output_type": "stream",
     "text": [
      "41nfo] loading page [##############################] 3/3 \n"
     ]
    },
    {
     "data": {
      "text/plain": [
       "41"
      ]
     },
     "execution_count": 17,
     "metadata": {},
     "output_type": "execute_result"
    }
   ],
   "source": [
    "fcustom.set_filter(filters_dict=filters_dict6)\n",
    "df6 = fcustom.screener_view(columns=cols, sleep_sec = 1,  order='Performance (Half Year)', ascend=False)\n",
    "print(df6.shape[0])\n",
    "\n",
    "df6 = df6.head(limit)\n",
    "\n",
    "df6.shape[0]"
   ]
  },
  {
   "cell_type": "markdown",
   "id": "e2174ef8",
   "metadata": {},
   "source": [
    "--------------MERGE-------------"
   ]
  },
  {
   "cell_type": "code",
   "execution_count": 18,
   "id": "934b1ee2",
   "metadata": {},
   "outputs": [],
   "source": [
    "df_final = pd.concat([df1, df3, df6], axis=0)"
   ]
  },
  {
   "cell_type": "code",
   "execution_count": 19,
   "id": "a4470984",
   "metadata": {},
   "outputs": [],
   "source": [
    "df_final = df_final.drop_duplicates(subset=['Ticker'], keep='first')"
   ]
  },
  {
   "cell_type": "code",
   "execution_count": 20,
   "id": "9c474b04",
   "metadata": {},
   "outputs": [
    {
     "data": {
      "text/plain": [
       "111"
      ]
     },
     "execution_count": 20,
     "metadata": {},
     "output_type": "execute_result"
    }
   ],
   "source": [
    "df_final.shape[0]"
   ]
  },
  {
   "cell_type": "code",
   "execution_count": 21,
   "id": "4de270f9",
   "metadata": {},
   "outputs": [],
   "source": [
    "s = set(df_final['Ticker'])"
   ]
  },
  {
   "cell_type": "code",
   "execution_count": 22,
   "id": "d1649db1",
   "metadata": {},
   "outputs": [
    {
     "name": "stdout",
     "output_type": "stream",
     "text": [
      "20230215_Q_US.txt\n"
     ]
    }
   ],
   "source": [
    "tv.set_to_tv(s, datetime.today().strftime('%Y%m%d') + '_Q_US.txt')"
   ]
  }
 ],
 "metadata": {
  "kernelspec": {
   "display_name": "Python 3.10.9 64-bit",
   "language": "python",
   "name": "python3"
  },
  "language_info": {
   "codemirror_mode": {
    "name": "ipython",
    "version": 3
   },
   "file_extension": ".py",
   "mimetype": "text/x-python",
   "name": "python",
   "nbconvert_exporter": "python",
   "pygments_lexer": "ipython3",
   "version": "3.10.9"
  },
  "vscode": {
   "interpreter": {
    "hash": "b0fa6594d8f4cbf19f97940f81e996739fb7646882a419484c72d19e05852a7e"
   }
  }
 },
 "nbformat": 4,
 "nbformat_minor": 5
}
