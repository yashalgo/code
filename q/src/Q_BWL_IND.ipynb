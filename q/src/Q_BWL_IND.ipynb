{
 "cells": [
  {
   "cell_type": "markdown",
   "id": "d72ef3e3",
   "metadata": {},
   "source": [
    "#Creates backwatchlist set for watchlists from last friday to most recent thursday => watchlists for all trading days for last trading week"
   ]
  },
  {
   "cell_type": "code",
   "execution_count": 1,
   "id": "59a15744",
   "metadata": {},
   "outputs": [],
   "source": [
    "from datetime import date, timedelta\n",
    "import os\n",
    "from glob import glob\n",
    "from config import *\n",
    "import utils.tradingview as tv"
   ]
  },
  {
   "cell_type": "code",
   "execution_count": 10,
   "id": "997203c7",
   "metadata": {},
   "outputs": [],
   "source": [
    "today = date.today()\n",
    "last_friday = today + timedelta(days=-today.weekday()-3)\n",
    "latest_thursday = last_friday + timedelta(days = 6)"
   ]
  },
  {
   "cell_type": "code",
   "execution_count": 11,
   "id": "04dbec81",
   "metadata": {},
   "outputs": [
    {
     "name": "stdout",
     "output_type": "stream",
     "text": [
      "2023-02-23 2023-02-17\n"
     ]
    }
   ],
   "source": [
    "print(latest_thursday, last_friday)"
   ]
  },
  {
   "cell_type": "code",
   "execution_count": 12,
   "id": "2e22c8c9",
   "metadata": {},
   "outputs": [],
   "source": [
    "dateset = set()"
   ]
  },
  {
   "cell_type": "code",
   "execution_count": 13,
   "id": "849ca80d",
   "metadata": {},
   "outputs": [],
   "source": [
    "for i in range(7):\n",
    "    d = last_friday + timedelta(days=i)\n",
    "    ds = d.strftime('%Y%m%d')\n",
    "    dateset.add(ds)"
   ]
  },
  {
   "cell_type": "code",
   "execution_count": 15,
   "id": "68c1f055",
   "metadata": {
    "scrolled": false
   },
   "outputs": [],
   "source": [
    "os.chdir(q_wl)"
   ]
  },
  {
   "cell_type": "code",
   "execution_count": 16,
   "id": "8b76be9a",
   "metadata": {},
   "outputs": [],
   "source": [
    "files = glob('**/????????_Q_IND.txt', recursive = True)"
   ]
  },
  {
   "cell_type": "code",
   "execution_count": 18,
   "id": "4fe51d86",
   "metadata": {},
   "outputs": [],
   "source": [
    "ticker_set = set()"
   ]
  },
  {
   "cell_type": "code",
   "execution_count": 19,
   "id": "05da662b",
   "metadata": {},
   "outputs": [
    {
     "name": "stdout",
     "output_type": "stream",
     "text": [
      "0\n"
     ]
    }
   ],
   "source": [
    "for f in files:\n",
    "    ds = f.split('/')[-1].split('_')[0]\n",
    "    if ds in dateset:\n",
    "        print(ds)\n",
    "        with open(f, 'r') as file:\n",
    "            data = file.read().replace('\\n', '')\n",
    "        data = data.split(',')\n",
    "        ticker_set.update(set(data))\n",
    "print(len(ticker_set))"
   ]
  },
  {
   "cell_type": "code",
   "execution_count": 20,
   "id": "67791f20",
   "metadata": {},
   "outputs": [],
   "source": [
    "os.chdir(q_bwl)"
   ]
  },
  {
   "cell_type": "code",
   "execution_count": 21,
   "id": "ebf62786",
   "metadata": {},
   "outputs": [
    {
     "name": "stdout",
     "output_type": "stream",
     "text": [
      "20230217_20230226_back.txt\n"
     ]
    }
   ],
   "source": [
    "tv.set_to_tv(ticker_set, last_friday.strftime('%Y%m%d') + '_' + today.strftime('%Y%m%d') + '_back.txt')"
   ]
  }
 ],
 "metadata": {
  "kernelspec": {
   "display_name": "Python 3",
   "language": "python",
   "name": "python3"
  },
  "language_info": {
   "codemirror_mode": {
    "name": "ipython",
    "version": 3
   },
   "file_extension": ".py",
   "mimetype": "text/x-python",
   "name": "python",
   "nbconvert_exporter": "python",
   "pygments_lexer": "ipython3",
   "version": "3.10.9"
  },
  "vscode": {
   "interpreter": {
    "hash": "b0fa6594d8f4cbf19f97940f81e996739fb7646882a419484c72d19e05852a7e"
   }
  }
 },
 "nbformat": 4,
 "nbformat_minor": 5
}
