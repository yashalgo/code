{
 "cells": [
  {
   "cell_type": "code",
   "execution_count": 5,
   "metadata": {},
   "outputs": [],
   "source": [
    "#!/usr/bin/env python\n",
    "# coding: utf-8\n",
    "\n",
    "# #Creates backwatchlist set for watchlists from last friday to most recent thursday => watchlists for all trading days for last trading week\n",
    "from datetime import date, timedelta, datetime\n",
    "import os\n",
    "from glob import glob\n",
    "from config import *\n",
    "import utils.tradingview as tv"
   ]
  },
  {
   "cell_type": "code",
   "execution_count": 2,
   "metadata": {},
   "outputs": [
    {
     "name": "stdout",
     "output_type": "stream",
     "text": [
      "2023-02-26 2023-02-20\n"
     ]
    }
   ],
   "source": [
    "today = date.today()\n",
    "latest_monday = today + timedelta(days=-today.weekday())\n",
    "\n",
    "print(today, latest_monday)"
   ]
  },
  {
   "cell_type": "code",
   "execution_count": 3,
   "metadata": {},
   "outputs": [],
   "source": [
    "dateset = set()\n",
    "\n",
    "for i in range(5):\n",
    "    d = latest_monday + timedelta(days=i)\n",
    "    ds = d.strftime(\"%Y%m%d\")\n",
    "    dateset.add(ds)\n",
    "\n",
    "os.chdir(q_wl)"
   ]
  },
  {
   "cell_type": "code",
   "execution_count": 4,
   "metadata": {},
   "outputs": [
    {
     "name": "stdout",
     "output_type": "stream",
     "text": [
      "0\n"
     ]
    }
   ],
   "source": [
    "files = glob(\"**/*US.txt\", recursive=True)\n",
    "\n",
    "ticker_set = set()\n",
    "\n",
    "for f in files:\n",
    "    ds = f.split(\"/\")[-1].split(\"_\")[0]\n",
    "    if ds in dateset:\n",
    "        print(ds)\n",
    "        with open(f, \"r\") as file:\n",
    "            data = file.read().replace(\"\\n\", \"\")\n",
    "        data = data.split(\",\")\n",
    "        ticker_set.update(set(data))\n",
    "print(len(ticker_set))"
   ]
  },
  {
   "cell_type": "code",
   "execution_count": 6,
   "metadata": {},
   "outputs": [
    {
     "name": "stdout",
     "output_type": "stream",
     "text": [
      "20230220_20230226_BWL_US.txt\n"
     ]
    }
   ],
   "source": [
    "os.chdir(q_bwl)\n",
    "\n",
    "outfile = (\n",
    "    latest_monday.strftime(\"%Y%m%d\")\n",
    "    + \"_\"\n",
    "    + datetime.today().strftime(\"%Y%m%d\")\n",
    "    + \"_BWL_US.txt\"\n",
    ")\n",
    "tv.set_to_tv(ticker_set, outfile)"
   ]
  }
 ],
 "metadata": {
  "kernelspec": {
   "display_name": "Python 3",
   "language": "python",
   "name": "python3"
  },
  "language_info": {
   "codemirror_mode": {
    "name": "ipython",
    "version": 3
   },
   "file_extension": ".py",
   "mimetype": "text/x-python",
   "name": "python",
   "nbconvert_exporter": "python",
   "pygments_lexer": "ipython3",
   "version": "3.10.9"
  },
  "orig_nbformat": 4,
  "vscode": {
   "interpreter": {
    "hash": "b0fa6594d8f4cbf19f97940f81e996739fb7646882a419484c72d19e05852a7e"
   }
  }
 },
 "nbformat": 4,
 "nbformat_minor": 2
}
