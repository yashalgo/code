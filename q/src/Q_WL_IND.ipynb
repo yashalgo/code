{
 "cells": [
  {
   "cell_type": "code",
   "execution_count": null,
   "metadata": {},
   "outputs": [],
   "source": [
    "from datetime import date, timedelta, datetime\n",
    "import os\n",
    "from glob import glob\n",
    "from config import *\n",
    "import utils.tradingview as tv"
   ]
  },
  {
   "cell_type": "code",
   "execution_count": null,
   "metadata": {},
   "outputs": [],
   "source": [
    "today = datetime.today().strftime('%Y/%m/%d')"
   ]
  },
  {
   "cell_type": "code",
   "execution_count": null,
   "metadata": {},
   "outputs": [],
   "source": [
    "os.chdir(q_wl  / today)"
   ]
  },
  {
   "cell_type": "code",
   "execution_count": null,
   "metadata": {},
   "outputs": [],
   "source": [
    "files = glob('*')\n",
    "print(files)"
   ]
  },
  {
   "cell_type": "code",
   "execution_count": null,
   "metadata": {},
   "outputs": [],
   "source": [
    "#1-3-6 m gainers\n",
    "\n",
    "s = set()\n",
    "\n",
    "for i in [1,3,6]:\n",
    "    df = pd.read_excel(str(i) + '.xlsx')\n",
    "    print(df['Unnamed: 2'].shape)\n",
    "    temp_set = set(df['Unnamed: 2'])\n",
    "    tv.set_to_tv(temp_set, outfile = today + '_' + str(i) + '_M_chartink.txt')\n",
    "    s.update(temp_set)\n",
    "print(len(s))\n",
    "tv.set_to_tv(s)"
   ]
  },
  {
   "cell_type": "markdown",
   "metadata": {},
   "source": [
    "VWAP"
   ]
  },
  {
   "cell_type": "code",
   "execution_count": null,
   "metadata": {
    "scrolled": true
   },
   "outputs": [],
   "source": [
    "s = set()\n",
    "\n",
    "print(df['Unnamed: 2'].shape)\n",
    "s.update(set(df['Unnamed: 2']))\n",
    "print(len(s))\n",
    "tv.set_to_tv(s, today + '_VWAP.txt')"
   ]
  }
 ],
 "metadata": {
  "kernelspec": {
   "display_name": "Python 3",
   "language": "python",
   "name": "python3"
  },
  "language_info": {
   "codemirror_mode": {
    "name": "ipython",
    "version": 3
   },
   "file_extension": ".py",
   "mimetype": "text/x-python",
   "name": "python",
   "nbconvert_exporter": "python",
   "pygments_lexer": "ipython3",
   "version": "3.10.9"
  },
  "vscode": {
   "interpreter": {
    "hash": "b0fa6594d8f4cbf19f97940f81e996739fb7646882a419484c72d19e05852a7e"
   }
  }
 },
 "nbformat": 4,
 "nbformat_minor": 2
}
