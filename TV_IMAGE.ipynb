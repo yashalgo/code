{
 "cells": [
  {
   "cell_type": "code",
   "execution_count": null,
   "metadata": {},
   "outputs": [],
   "source": [
    "from PIL import Image\n",
    "import pytesseract\n",
    "from helper_functions import *"
   ]
  },
  {
   "cell_type": "code",
   "execution_count": null,
   "metadata": {},
   "outputs": [],
   "source": [
    "for f in files:\n",
    "    df = pd.read_csv(f)\n",
    "    # try:\n",
    "    if 'typical_price' not in df.columns:\n",
    "        df['typical_price'] = (df['high']+df['low']+ df['close'])/3\n",
    "    if 'typical_vwap' not in df.columns:\n",
    "        df = df.groupby(df.Date, group_keys=False).apply(typical_vwap)\n",
    "    if 'vwap_close' not in df.columns:\n",
    "        df['vwap_close'] = df['vwap'] - df['close']\n",
    "    if 'vwap_typical' not in df.columns:\n",
    "        df['vwap_typical'] = df['vwap'] - df['typical_price']\n",
    "    for i in df.columns:\n",
    "        if 'Unnamed' in i:\n",
    "            df.drop(i, inplace = True, axis=1)\n",
    "    df.to_csv(f)\n",
    "    print(f)\n",
    "# except:\n",
    "    #     print('Error in Symbol', f)"
   ]
  },
  {
   "cell_type": "code",
   "execution_count": null,
   "metadata": {},
   "outputs": [],
   "source": [
    "# Read the image file\n",
    "image = Image.open(\"319.png\")\n",
    "\n",
    "# Pass the image to tesseract to extract the text\n",
    "text = pytesseract.image_to_string(image)\n",
    "\n",
    "# Print the extracted text\n",
    "print(text)"
   ]
  }
 ],
 "metadata": {
  "kernelspec": {
   "display_name": "Python 3",
   "language": "python",
   "name": "python3"
  },
  "language_info": {
   "codemirror_mode": {
    "name": "ipython",
    "version": 3
   },
   "file_extension": ".py",
   "mimetype": "text/x-python",
   "name": "python",
   "nbconvert_exporter": "python",
   "pygments_lexer": "ipython3",
   "version": "3.10.9 (main, Dec 15 2022, 17:11:09) [Clang 14.0.0 (clang-1400.0.29.202)]"
  },
  "orig_nbformat": 4,
  "vscode": {
   "interpreter": {
    "hash": "b0fa6594d8f4cbf19f97940f81e996739fb7646882a419484c72d19e05852a7e"
   }
  }
 },
 "nbformat": 4,
 "nbformat_minor": 2
}
