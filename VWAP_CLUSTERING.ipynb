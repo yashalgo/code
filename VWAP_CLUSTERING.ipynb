{
 "cells": [
  {
   "cell_type": "code",
   "execution_count": null,
   "metadata": {},
   "outputs": [],
   "source": [
    "#!python\n",
    "from helper_functions import *\n",
    "from libs import *\n",
    "from paths import *\n",
    "%matplotlib inline"
   ]
  },
  {
   "cell_type": "code",
   "execution_count": null,
   "metadata": {},
   "outputs": [],
   "source": [
    "df500 = pd.read_csv(nifty500_csv)\n",
    "nifty500_list = df500['Symbol']"
   ]
  },
  {
   "cell_type": "code",
   "execution_count": null,
   "metadata": {},
   "outputs": [],
   "source": [
    "os.chdir(vwap_img)"
   ]
  },
  {
   "cell_type": "code",
   "execution_count": null,
   "metadata": {},
   "outputs": [],
   "source": [
    "files = glob(str(minute_5) + \"/*filt*\")"
   ]
  },
  {
   "cell_type": "code",
   "execution_count": null,
   "metadata": {},
   "outputs": [],
   "source": [
    "len(files)"
   ]
  },
  {
   "cell_type": "code",
   "execution_count": null,
   "metadata": {},
   "outputs": [],
   "source": [
    "l = []\n",
    "files = glob('*')\n",
    "for f in files:\n",
    "    if 'png' in f:\n",
    "        # print(f)\n",
    "        # break\n",
    "        change = float(f.split('_')[-1].replace('.png',''))\n",
    "        if change >= 3.0:\n",
    "            # print(change)\n",
    "            shutil.move(f, str(vwap_img) + \"/plus_3p/\" +f)"
   ]
  },
  {
   "cell_type": "code",
   "execution_count": null,
   "metadata": {},
   "outputs": [],
   "source": [
    "img_files = glob('*')\n",
    "for i in img_files:\n",
    "    print(i.split('_')[0])\n",
    "    display(Image(filename=i))\n",
    "    setup = -1\n",
    "    while setup not in range(1,7):\n",
    "        setup = int(input('Setup: '))\n",
    "    path2 = str(vwap_img) + \"/setup_{}/\".format(setup) +i\n",
    "    shutil.move(i, path2)\n",
    "    clear_output(wait=True)"
   ]
  },
  {
   "cell_type": "code",
   "execution_count": null,
   "metadata": {},
   "outputs": [],
   "source": [
    "for f in files:\n",
    "    # print(f)\n",
    "    # if 'filtered' not in f:\n",
    "    #     print('Skipping', f)\n",
    "    #     continue\n",
    "    # try:\n",
    "    df = pd.read_csv(f)\n",
    "    # df['DateTime'] = df['date'].apply(lambda x: datetime.strptime(x.split('+')[0], '%Y-%m-%d %H:%M:%S'))\n",
    "    # df['Date'] = df['date'].apply(lambda x: datetime.strptime(x.split(' ')[0], '%Y-%m-%d'))\n",
    "    # if 'vwap' not in df.columns:\n",
    "    #     df = df.groupby(df.Date, group_keys=False).apply(vwap)\n",
    "    # if 'tp' not in df.columns:\n",
    "    #     df['tp'] = (df['high']+df['low']+ df['close'])/3\n",
    "    # if 'tp_vwap' not in df.columns:\n",
    "    #     df = df.groupby(df.Date, group_keys=False).apply(typical_vwap)\n",
    "    # if 'vwap_close' not in df.columns:\n",
    "    #     df['vwap_close'] = df['vwap'] - df['close']\n",
    "    # if 'vwap_tp' not in df.columns:\n",
    "    #     df['vwap_typical'] = df['vwap'] - df['tp']\n",
    "\n",
    "    for name, group in df.groupby(['Date']):\n",
    "        # print(group.shape[0])\n",
    "        # if not check_vols(group) or group.shape[0] < 75:\n",
    "        #     idx = df[df['Date'] == name].index\n",
    "        #     df.drop(idx, inplace=True)\n",
    "        # else:\n",
    "        c = group['close'].iloc[-1]\n",
    "        o = group['open'].iloc[0]\n",
    "        h = max(group['high'])\n",
    "        c0 = group['close'].iloc[0]\n",
    "        change_ = round((c/o - 1) * 100,2)\n",
    "        peak_change = round((h/o - 1) * 100,2)\n",
    "        od = round((c0/o - 1) * 100,2)\n",
    "\n",
    "        imgname = f.split('/')[-1].split('_')[0] + '_' +str(name).split(' ')[0].replace('-','') + '_' + str(change_)\n",
    "        # os.chdir(vwap_img)\n",
    "        # print(od, peak_change)\n",
    "        if imgname not in glob('*.png') and od > 0 and peak_change > od:\n",
    "            save_plot(group, imgname)\n",
    "    # for i in df.columns:\n",
    "    #     if 'Unnamed' in i:\n",
    "    #         df.drop(i, inplace = True, axis=1)\n",
    "    # os.chdir(minute_5)\n",
    "    # df.to_csv(f + '_filtered.csv')\n",
    "    print(f)\n",
    "    # break\n",
    "    # except:\n",
    "    #         print('Error in Symbol', f)"
   ]
  },
  {
   "cell_type": "markdown",
   "metadata": {},
   "source": [
    "CLUSTERING"
   ]
  },
  {
   "cell_type": "code",
   "execution_count": null,
   "metadata": {},
   "outputs": [],
   "source": [
    "# Import library\n",
    "from clustimage import Clustimage"
   ]
  },
  {
   "cell_type": "code",
   "execution_count": null,
   "metadata": {},
   "outputs": [],
   "source": [
    "\n",
    "# init with PCA method\n",
    "cl = Clustimage(grayscale=True)\n",
    "# cl = Clustimage(method='hog', params_hog={'orientations':8, 'pixels_per_cell':(8,8)})"
   ]
  },
  {
   "cell_type": "code",
   "execution_count": null,
   "metadata": {},
   "outputs": [],
   "source": [
    "results = cl.fit_transform(str(vwap_img) + '/plus_3p//', max_clust=50, cluster = 'kmeans')"
   ]
  },
  {
   "cell_type": "code",
   "execution_count": null,
   "metadata": {},
   "outputs": [],
   "source": [
    "# Cluster evaluation plots such as the Silhouette plot\n",
    "cl.clusteval.plot()\n",
    "cl.clusteval.scatter(cl.results['xycoord'])"
   ]
  },
  {
   "cell_type": "code",
   "execution_count": null,
   "metadata": {},
   "outputs": [],
   "source": [
    "cl.plot_unique(img_mean=False)"
   ]
  },
  {
   "cell_type": "code",
   "execution_count": null,
   "metadata": {},
   "outputs": [],
   "source": [
    "cl.scatter(dotsize=8, zoom=0.2, img_mean=False)"
   ]
  }
 ],
 "metadata": {
  "kernelspec": {
   "display_name": "Python 3",
   "language": "python",
   "name": "python3"
  },
  "language_info": {
   "codemirror_mode": {
    "name": "ipython",
    "version": 3
   },
   "file_extension": ".py",
   "mimetype": "text/x-python",
   "name": "python",
   "nbconvert_exporter": "python",
   "pygments_lexer": "ipython3",
   "version": "3.10.9"
  },
  "orig_nbformat": 4,
  "vscode": {
   "interpreter": {
    "hash": "b0fa6594d8f4cbf19f97940f81e996739fb7646882a419484c72d19e05852a7e"
   }
  }
 },
 "nbformat": 4,
 "nbformat_minor": 2
}
