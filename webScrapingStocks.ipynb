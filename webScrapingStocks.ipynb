{
  "nbformat": 4,
  "nbformat_minor": 0,
  "metadata": {
    "colab": {
      "provenance": []
    },
    "kernelspec": {
      "name": "python3",
      "display_name": "Python 3"
    },
    "language_info": {
      "name": "python"
    }
  },
  "cells": [
    {
      "cell_type": "markdown",
      "source": [
        "#**Webscraping the Indian Stock Market data**\n",
        "*data present at* : https://www.tradingview.com/markets/stocks-india/sectorandindustry-sector/\n"
      ],
      "metadata": {
        "id": "4gbph8jhex4T"
      }
    },
    {
      "cell_type": "code",
      "source": [
        "import requests \n",
        "import pandas as pd\n",
        "from bs4 import BeautifulSoup as bs"
      ],
      "metadata": {
        "id": "XcZKYB9UeuDp"
      },
      "execution_count": null,
      "outputs": []
    },
    {
      "cell_type": "markdown",
      "source": [
        "#Pipeline for Sector-wise Dataset"
      ],
      "metadata": {
        "id": "Wor0DK9JeZsi"
      }
    },
    {
      "cell_type": "code",
      "source": [
        "url_1 = 'https://www.tradingview.com/markets/stocks-india/sectorandindustry-sector/'\n",
        "r = requests.get(url_1)   \n",
        "htmlContent = r.content    ## geting content fron given url\n",
        "soup_1 =  bs(htmlContent , 'html.parser')\n",
        "direct_df = pd.read_html(url_1)   ## this gives the structure of dataframe look ugly!!!\n",
        "direct_df = pd.read_html(str(soup_1))  ## this gives a better dataframe\n",
        "sectors = list(direct_df[0]['Sector'])\n",
        "\n",
        "def get_sector_data():\n",
        "  frames = []\n",
        "  sec = []\n",
        "  for i in range(0,len(sectors)):\n",
        "    sector_df = None\n",
        "    temp = ' ' in sectors[i]\n",
        "    if temp == True:\n",
        "     s  = sectors[i]\n",
        "     s  = s[:s.index(\" \")]+'-'+s[s.index(\" \")+1:]\n",
        "     url = 'https://www.tradingview.com/markets/stocks-india/sectorandindustry-sector/'+s.lower()+'/'\n",
        "     r = requests.get(url)   \n",
        "     htmlContent = r.content    ## geting content fron given url\n",
        "     soup =  bs(htmlContent , 'html.parser') \n",
        "     sector_df = pd.read_html(str(soup))  ## this gives a better dataframe\n",
        "     sector_df = sector_df[0]\n",
        "     for k in range(0,sector_df.shape[0]):\n",
        "       sec.append(sectors[i])\n",
        "     frames.append(sector_df)\n",
        "    else:\n",
        "     url = 'https://www.tradingview.com/markets/stocks-india/sectorandindustry-sector/'+sectors[i].lower()+'/'\n",
        "     r = requests.get(url)   \n",
        "     htmlContent = r.content    ## geting content fron given url\n",
        "     soup =  bs(htmlContent , 'html.parser') \n",
        "     sector_df = pd.read_html(str(soup))  ## this gives a better dataframe\n",
        "     sector_df = sector_df[0]\n",
        "     for k in range(0,sector_df.shape[0]):\n",
        "       sec.append(sectors[i])\n",
        "     frames.append(sector_df)\n",
        "  result = pd.concat(frames)\n",
        "  result['Sector'] = sec\n",
        "  return result "
      ],
      "metadata": {
        "id": "i9lMdreISVxe"
      },
      "execution_count": 30,
      "outputs": []
    },
    {
      "cell_type": "code",
      "source": [
        "df_sector = get_sector_data()\n",
        "df_sector"
      ],
      "metadata": {
        "id": "NkcoL76vtygc"
      },
      "execution_count": 31,
      "outputs": []
    },
    {
      "cell_type": "markdown",
      "source": [
        "#Pipeline for Industry-wise Dataset\n"
      ],
      "metadata": {
        "id": "GWsaDR5HdbHo"
      }
    },
    {
      "cell_type": "code",
      "source": [
        "url_2 = 'https://www.tradingview.com/markets/stocks-india/sectorandindustry-industry/'\n",
        "r = requests.get(url_2)   \n",
        "htmlContent = r.content    ## geting content fron given url\n",
        "soup_2 =  bs(htmlContent , 'html.parser')\n",
        "direct_df = pd.read_html(url_2)   ## this gives the structure of dataframe look ugly!!!\n",
        "direct_df = pd.read_html(str(soup_2))  ## this gives a better dataframe\n",
        "industries = list(direct_df[0]['Industry'])\n",
        "\n",
        "def removeSpcl(arr):\n",
        "  s = [' & ',': ','/',' ']\n",
        "  for i in range(0,len(arr)):\n",
        "    for j in range(0,len(s)):\n",
        "      if s[j] in arr[i]:\n",
        "        arr[i] = arr[i].replace(s[j],'-')\n",
        "    arr[i] = arr[i].lower()\n",
        "removeSpcl(industries)\n",
        "\n",
        "#fetching dataset of Industry page\n",
        "url_3 = 'https://www.tradingview.com/markets/stocks-india/sectorandindustry-industry/'\n",
        "r = requests.get(url_3)   \n",
        "htmlContent = r.content    ## geting content fron given url\n",
        "soup_3 =  bs(htmlContent , 'html.parser')\n",
        "direct_df = pd.read_html(url_3)   ## this gives the structure of dataframe look ugly!!!\n",
        "direct_df = pd.read_html(str(soup_3))  ## this gives a better dataframe\n",
        "direct_df =direct_df[0]\n",
        "sec_for_indusDF = list(direct_df['Sector']) # this gives the sector of a stock \n",
        "len(sec_for_indusDF)\n",
        "\n",
        "def get_industry_data():\n",
        "  frames = []\n",
        "  industry = []\n",
        "  sec_for_indus =[] #stores the sector of a industry\n",
        "  for i in range(0,len(industries)):\n",
        "    indus_df = None\n",
        "    temp = ' ' in industries[i]\n",
        "    if temp == True:\n",
        "     s  = industries[i]\n",
        "     s  = s[:s.index(\" \")]+'-'+s[s.index(\" \")+1:]\n",
        "     url = 'https://www.tradingview.com/markets/stocks-india/sectorandindustry-industry/'+s.lower()+'/'\n",
        "     r = requests.get(url)   \n",
        "     htmlContent = r.content    ## geting content fron given url\n",
        "     soup =  bs(htmlContent , 'html.parser') \n",
        "     indus_df = pd.read_html(str(soup))  ## this gives a better dataframe\n",
        "     indus_df = indus_df[0]\n",
        "     for k in range(0,indus_df.shape[0]):\n",
        "       industry.append(industries[i])\n",
        "       sec_for_indus.append(sec_for_indusDF[i])\n",
        "     frames.append(indus_df)\n",
        "    else:\n",
        "     url = 'https://www.tradingview.com/markets/stocks-india/sectorandindustry-industry/'+industries[i].lower()+'/'\n",
        "     r = requests.get(url)   \n",
        "     htmlContent = r.content    ## geting content fron given url\n",
        "     soup =  bs(htmlContent , 'html.parser') \n",
        "     indus_df = pd.read_html(str(soup))  ## this gives a better dataframe\n",
        "     indus_df = indus_df[0]\n",
        "     for k in range(0,indus_df.shape[0]):\n",
        "       industry.append(industries[i])\n",
        "       sec_for_indus.append(sec_for_indusDF[i])\n",
        "     frames.append(indus_df)\n",
        "  result = pd.concat(frames)\n",
        "  result['Industry'] = industry #adding industry column from industry list to final dataset\n",
        "  result['Sector'] = sec_for_indus #adding sector column from sec_for_indus list to final dataset\n",
        "  return result"
      ],
      "metadata": {
        "id": "mgA56SHksahN",
        "colab": {
          "base_uri": "https://localhost:8080/"
        },
        "outputId": "593685e1-00de-4f3e-b720-643472a52789"
      },
      "execution_count": 33,
      "outputs": [
        {
          "output_type": "stream",
          "name": "stdout",
          "text": [
            "100\n"
          ]
        }
      ]
    },
    {
      "cell_type": "code",
      "source": [
        "df_indus = get_industry_data()"
      ],
      "metadata": {
        "id": "ePI2gaAtxoFN"
      },
      "execution_count": 34,
      "outputs": []
    },
    {
      "cell_type": "code",
      "source": [
        "df_indus"
      ],
      "metadata": {
        "colab": {
          "base_uri": "https://localhost:8080/",
          "height": 745
        },
        "id": "310AnuhgxyRx",
        "outputId": "ce63f03c-f344-4fa1-c3bf-c3f02c6d5a5b"
      },
      "execution_count": 39,
      "outputs": [
        {
          "output_type": "execute_result",
          "data": {
            "text/plain": [
              "                           Ticker       Price Change % 1D  Change 1D  \\\n",
              "0      33RDROCK3RD ROCK MULTIMEDI   64.60 INR       0.00%   0.00 INR   \n",
              "1     NNOIDATOLLNOIDA TOLL BRIDGE    6.80 INR      −2.16%  −0.15 INR   \n",
              "2      PPRESSMNPRESSMAN ADVERTISI   59.55 INR       4.93%   2.80 INR   \n",
              "3      SSPCENETSPACENET ENTERPRIS   20.95 INR       0.24%   0.05 INR   \n",
              "4   VVERTOZVERTOZ ADVERTISING LTD  195.15 INR       1.01%   1.95 INR   \n",
              "..                            ...         ...         ...        ...   \n",
              "13     SSATIASATIA INDUSTRIES LTD  121.85 INR      −3.26%  −4.10 INR   \n",
              "14  SSESHAPAPERSESHASAYEE PAPER&B  259.60 INR      −0.54%  −1.40 INR   \n",
              "15  SSHREYANINDSHREYANS INDUSTRIE  157.00 INR       0.54%   0.85 INR   \n",
              "16     SSTARPAPERSTAR PAPER MILLS  170.70 INR       0.68%   1.15 INR   \n",
              "17        TTNPLTAMIL NADU NEWSPRI  225.25 INR      −0.18%  −0.40 INR   \n",
              "\n",
              "   Technical Rating 1D Volume 1D Volume * Price 1D   Market cap P/E(TTM)  \\\n",
              "0              Neutral     15.6K            1.008M            —        —   \n",
              "1          Strong Sell  182.784K            1.243M    1.27B INR        —   \n",
              "2                  Buy   88.491K             5.27M   1.408B INR    32.35   \n",
              "3                 Sell  133.233K            2.791M            —        —   \n",
              "4              Neutral   37.114K            7.243M   2.336B INR    26.37   \n",
              "..                 ...       ...               ...          ...      ...   \n",
              "13                Sell  246.575K           30.045M  12.195B INR     7.18   \n",
              "14                Sell   18.396K            4.776M  16.369B INR     6.86   \n",
              "15                 Buy   10.529K            1.653M   2.166B INR     4.45   \n",
              "16                Sell   12.918K            2.205M   2.655B INR     3.95   \n",
              "17                Sell  152.677K            34.39M  15.593B INR     5.08   \n",
              "\n",
              "     EPS(TTM) Employees                        Industry               Sector  \n",
              "0           —         —  advertising-marketing-services  Commercial Services  \n",
              "1   −1.86 INR         3  advertising-marketing-services  Commercial Services  \n",
              "2    1.75 INR        18  advertising-marketing-services  Commercial Services  \n",
              "3           —         —  advertising-marketing-services  Commercial Services  \n",
              "4    7.33 INR       113  advertising-marketing-services  Commercial Services  \n",
              "..        ...       ...                             ...                  ...  \n",
              "13  17.55 INR    2.012K                      pulp-paper   Process Industries  \n",
              "14  38.07 INR    2.555K                      pulp-paper   Process Industries  \n",
              "15  35.05 INR    1.299K                      pulp-paper   Process Industries  \n",
              "16  42.94 INR       371                      pulp-paper   Process Industries  \n",
              "17  44.43 INR    2.371K                      pulp-paper   Process Industries  \n",
              "\n",
              "[1780 rows x 13 columns]"
            ],
            "text/html": [
              "\n",
              "  <div id=\"df-b9387c00-ad2a-452e-aa79-e28561df1129\">\n",
              "    <div class=\"colab-df-container\">\n",
              "      <div>\n",
              "<style scoped>\n",
              "    .dataframe tbody tr th:only-of-type {\n",
              "        vertical-align: middle;\n",
              "    }\n",
              "\n",
              "    .dataframe tbody tr th {\n",
              "        vertical-align: top;\n",
              "    }\n",
              "\n",
              "    .dataframe thead th {\n",
              "        text-align: right;\n",
              "    }\n",
              "</style>\n",
              "<table border=\"1\" class=\"dataframe\">\n",
              "  <thead>\n",
              "    <tr style=\"text-align: right;\">\n",
              "      <th></th>\n",
              "      <th>Ticker</th>\n",
              "      <th>Price</th>\n",
              "      <th>Change % 1D</th>\n",
              "      <th>Change 1D</th>\n",
              "      <th>Technical Rating 1D</th>\n",
              "      <th>Volume 1D</th>\n",
              "      <th>Volume * Price 1D</th>\n",
              "      <th>Market cap</th>\n",
              "      <th>P/E(TTM)</th>\n",
              "      <th>EPS(TTM)</th>\n",
              "      <th>Employees</th>\n",
              "      <th>Industry</th>\n",
              "      <th>Sector</th>\n",
              "    </tr>\n",
              "  </thead>\n",
              "  <tbody>\n",
              "    <tr>\n",
              "      <th>0</th>\n",
              "      <td>33RDROCK3RD ROCK MULTIMEDI</td>\n",
              "      <td>64.60 INR</td>\n",
              "      <td>0.00%</td>\n",
              "      <td>0.00 INR</td>\n",
              "      <td>Neutral</td>\n",
              "      <td>15.6K</td>\n",
              "      <td>1.008M</td>\n",
              "      <td>—</td>\n",
              "      <td>—</td>\n",
              "      <td>—</td>\n",
              "      <td>—</td>\n",
              "      <td>advertising-marketing-services</td>\n",
              "      <td>Commercial Services</td>\n",
              "    </tr>\n",
              "    <tr>\n",
              "      <th>1</th>\n",
              "      <td>NNOIDATOLLNOIDA TOLL BRIDGE</td>\n",
              "      <td>6.80 INR</td>\n",
              "      <td>−2.16%</td>\n",
              "      <td>−0.15 INR</td>\n",
              "      <td>Strong Sell</td>\n",
              "      <td>182.784K</td>\n",
              "      <td>1.243M</td>\n",
              "      <td>1.27B INR</td>\n",
              "      <td>—</td>\n",
              "      <td>−1.86 INR</td>\n",
              "      <td>3</td>\n",
              "      <td>advertising-marketing-services</td>\n",
              "      <td>Commercial Services</td>\n",
              "    </tr>\n",
              "    <tr>\n",
              "      <th>2</th>\n",
              "      <td>PPRESSMNPRESSMAN ADVERTISI</td>\n",
              "      <td>59.55 INR</td>\n",
              "      <td>4.93%</td>\n",
              "      <td>2.80 INR</td>\n",
              "      <td>Buy</td>\n",
              "      <td>88.491K</td>\n",
              "      <td>5.27M</td>\n",
              "      <td>1.408B INR</td>\n",
              "      <td>32.35</td>\n",
              "      <td>1.75 INR</td>\n",
              "      <td>18</td>\n",
              "      <td>advertising-marketing-services</td>\n",
              "      <td>Commercial Services</td>\n",
              "    </tr>\n",
              "    <tr>\n",
              "      <th>3</th>\n",
              "      <td>SSPCENETSPACENET ENTERPRIS</td>\n",
              "      <td>20.95 INR</td>\n",
              "      <td>0.24%</td>\n",
              "      <td>0.05 INR</td>\n",
              "      <td>Sell</td>\n",
              "      <td>133.233K</td>\n",
              "      <td>2.791M</td>\n",
              "      <td>—</td>\n",
              "      <td>—</td>\n",
              "      <td>—</td>\n",
              "      <td>—</td>\n",
              "      <td>advertising-marketing-services</td>\n",
              "      <td>Commercial Services</td>\n",
              "    </tr>\n",
              "    <tr>\n",
              "      <th>4</th>\n",
              "      <td>VVERTOZVERTOZ ADVERTISING LTD</td>\n",
              "      <td>195.15 INR</td>\n",
              "      <td>1.01%</td>\n",
              "      <td>1.95 INR</td>\n",
              "      <td>Neutral</td>\n",
              "      <td>37.114K</td>\n",
              "      <td>7.243M</td>\n",
              "      <td>2.336B INR</td>\n",
              "      <td>26.37</td>\n",
              "      <td>7.33 INR</td>\n",
              "      <td>113</td>\n",
              "      <td>advertising-marketing-services</td>\n",
              "      <td>Commercial Services</td>\n",
              "    </tr>\n",
              "    <tr>\n",
              "      <th>...</th>\n",
              "      <td>...</td>\n",
              "      <td>...</td>\n",
              "      <td>...</td>\n",
              "      <td>...</td>\n",
              "      <td>...</td>\n",
              "      <td>...</td>\n",
              "      <td>...</td>\n",
              "      <td>...</td>\n",
              "      <td>...</td>\n",
              "      <td>...</td>\n",
              "      <td>...</td>\n",
              "      <td>...</td>\n",
              "      <td>...</td>\n",
              "    </tr>\n",
              "    <tr>\n",
              "      <th>13</th>\n",
              "      <td>SSATIASATIA INDUSTRIES LTD</td>\n",
              "      <td>121.85 INR</td>\n",
              "      <td>−3.26%</td>\n",
              "      <td>−4.10 INR</td>\n",
              "      <td>Sell</td>\n",
              "      <td>246.575K</td>\n",
              "      <td>30.045M</td>\n",
              "      <td>12.195B INR</td>\n",
              "      <td>7.18</td>\n",
              "      <td>17.55 INR</td>\n",
              "      <td>2.012K</td>\n",
              "      <td>pulp-paper</td>\n",
              "      <td>Process Industries</td>\n",
              "    </tr>\n",
              "    <tr>\n",
              "      <th>14</th>\n",
              "      <td>SSESHAPAPERSESHASAYEE PAPER&amp;B</td>\n",
              "      <td>259.60 INR</td>\n",
              "      <td>−0.54%</td>\n",
              "      <td>−1.40 INR</td>\n",
              "      <td>Sell</td>\n",
              "      <td>18.396K</td>\n",
              "      <td>4.776M</td>\n",
              "      <td>16.369B INR</td>\n",
              "      <td>6.86</td>\n",
              "      <td>38.07 INR</td>\n",
              "      <td>2.555K</td>\n",
              "      <td>pulp-paper</td>\n",
              "      <td>Process Industries</td>\n",
              "    </tr>\n",
              "    <tr>\n",
              "      <th>15</th>\n",
              "      <td>SSHREYANINDSHREYANS INDUSTRIE</td>\n",
              "      <td>157.00 INR</td>\n",
              "      <td>0.54%</td>\n",
              "      <td>0.85 INR</td>\n",
              "      <td>Buy</td>\n",
              "      <td>10.529K</td>\n",
              "      <td>1.653M</td>\n",
              "      <td>2.166B INR</td>\n",
              "      <td>4.45</td>\n",
              "      <td>35.05 INR</td>\n",
              "      <td>1.299K</td>\n",
              "      <td>pulp-paper</td>\n",
              "      <td>Process Industries</td>\n",
              "    </tr>\n",
              "    <tr>\n",
              "      <th>16</th>\n",
              "      <td>SSTARPAPERSTAR PAPER MILLS</td>\n",
              "      <td>170.70 INR</td>\n",
              "      <td>0.68%</td>\n",
              "      <td>1.15 INR</td>\n",
              "      <td>Sell</td>\n",
              "      <td>12.918K</td>\n",
              "      <td>2.205M</td>\n",
              "      <td>2.655B INR</td>\n",
              "      <td>3.95</td>\n",
              "      <td>42.94 INR</td>\n",
              "      <td>371</td>\n",
              "      <td>pulp-paper</td>\n",
              "      <td>Process Industries</td>\n",
              "    </tr>\n",
              "    <tr>\n",
              "      <th>17</th>\n",
              "      <td>TTNPLTAMIL NADU NEWSPRI</td>\n",
              "      <td>225.25 INR</td>\n",
              "      <td>−0.18%</td>\n",
              "      <td>−0.40 INR</td>\n",
              "      <td>Sell</td>\n",
              "      <td>152.677K</td>\n",
              "      <td>34.39M</td>\n",
              "      <td>15.593B INR</td>\n",
              "      <td>5.08</td>\n",
              "      <td>44.43 INR</td>\n",
              "      <td>2.371K</td>\n",
              "      <td>pulp-paper</td>\n",
              "      <td>Process Industries</td>\n",
              "    </tr>\n",
              "  </tbody>\n",
              "</table>\n",
              "<p>1780 rows × 13 columns</p>\n",
              "</div>\n",
              "      <button class=\"colab-df-convert\" onclick=\"convertToInteractive('df-b9387c00-ad2a-452e-aa79-e28561df1129')\"\n",
              "              title=\"Convert this dataframe to an interactive table.\"\n",
              "              style=\"display:none;\">\n",
              "        \n",
              "  <svg xmlns=\"http://www.w3.org/2000/svg\" height=\"24px\"viewBox=\"0 0 24 24\"\n",
              "       width=\"24px\">\n",
              "    <path d=\"M0 0h24v24H0V0z\" fill=\"none\"/>\n",
              "    <path d=\"M18.56 5.44l.94 2.06.94-2.06 2.06-.94-2.06-.94-.94-2.06-.94 2.06-2.06.94zm-11 1L8.5 8.5l.94-2.06 2.06-.94-2.06-.94L8.5 2.5l-.94 2.06-2.06.94zm10 10l.94 2.06.94-2.06 2.06-.94-2.06-.94-.94-2.06-.94 2.06-2.06.94z\"/><path d=\"M17.41 7.96l-1.37-1.37c-.4-.4-.92-.59-1.43-.59-.52 0-1.04.2-1.43.59L10.3 9.45l-7.72 7.72c-.78.78-.78 2.05 0 2.83L4 21.41c.39.39.9.59 1.41.59.51 0 1.02-.2 1.41-.59l7.78-7.78 2.81-2.81c.8-.78.8-2.07 0-2.86zM5.41 20L4 18.59l7.72-7.72 1.47 1.35L5.41 20z\"/>\n",
              "  </svg>\n",
              "      </button>\n",
              "      \n",
              "  <style>\n",
              "    .colab-df-container {\n",
              "      display:flex;\n",
              "      flex-wrap:wrap;\n",
              "      gap: 12px;\n",
              "    }\n",
              "\n",
              "    .colab-df-convert {\n",
              "      background-color: #E8F0FE;\n",
              "      border: none;\n",
              "      border-radius: 50%;\n",
              "      cursor: pointer;\n",
              "      display: none;\n",
              "      fill: #1967D2;\n",
              "      height: 32px;\n",
              "      padding: 0 0 0 0;\n",
              "      width: 32px;\n",
              "    }\n",
              "\n",
              "    .colab-df-convert:hover {\n",
              "      background-color: #E2EBFA;\n",
              "      box-shadow: 0px 1px 2px rgba(60, 64, 67, 0.3), 0px 1px 3px 1px rgba(60, 64, 67, 0.15);\n",
              "      fill: #174EA6;\n",
              "    }\n",
              "\n",
              "    [theme=dark] .colab-df-convert {\n",
              "      background-color: #3B4455;\n",
              "      fill: #D2E3FC;\n",
              "    }\n",
              "\n",
              "    [theme=dark] .colab-df-convert:hover {\n",
              "      background-color: #434B5C;\n",
              "      box-shadow: 0px 1px 3px 1px rgba(0, 0, 0, 0.15);\n",
              "      filter: drop-shadow(0px 1px 2px rgba(0, 0, 0, 0.3));\n",
              "      fill: #FFFFFF;\n",
              "    }\n",
              "  </style>\n",
              "\n",
              "      <script>\n",
              "        const buttonEl =\n",
              "          document.querySelector('#df-b9387c00-ad2a-452e-aa79-e28561df1129 button.colab-df-convert');\n",
              "        buttonEl.style.display =\n",
              "          google.colab.kernel.accessAllowed ? 'block' : 'none';\n",
              "\n",
              "        async function convertToInteractive(key) {\n",
              "          const element = document.querySelector('#df-b9387c00-ad2a-452e-aa79-e28561df1129');\n",
              "          const dataTable =\n",
              "            await google.colab.kernel.invokeFunction('convertToInteractive',\n",
              "                                                     [key], {});\n",
              "          if (!dataTable) return;\n",
              "\n",
              "          const docLinkHtml = 'Like what you see? Visit the ' +\n",
              "            '<a target=\"_blank\" href=https://colab.research.google.com/notebooks/data_table.ipynb>data table notebook</a>'\n",
              "            + ' to learn more about interactive tables.';\n",
              "          element.innerHTML = '';\n",
              "          dataTable['output_type'] = 'display_data';\n",
              "          await google.colab.output.renderOutput(dataTable, element);\n",
              "          const docLink = document.createElement('div');\n",
              "          docLink.innerHTML = docLinkHtml;\n",
              "          element.appendChild(docLink);\n",
              "        }\n",
              "      </script>\n",
              "    </div>\n",
              "  </div>\n",
              "  "
            ]
          },
          "metadata": {},
          "execution_count": 39
        }
      ]
    },
    {
      "cell_type": "code",
      "source": [
        "arr_indus  = list(df_indus['Ticker'])\n"
      ],
      "metadata": {
        "id": "W69kvu_3gyDK"
      },
      "execution_count": 40,
      "outputs": []
    },
    {
      "cell_type": "code",
      "source": [
        "df_indus.to_csv(\"Industries_Data.csv\")"
      ],
      "metadata": {
        "id": "6pRjTNYrx7bB"
      },
      "execution_count": 41,
      "outputs": []
    },
    {
      "cell_type": "code",
      "source": [
        "df_sector.to_csv(\"sector_data.csv\")"
      ],
      "metadata": {
        "id": "WMopT_H71c4a"
      },
      "execution_count": 25,
      "outputs": []
    },
    {
      "cell_type": "code",
      "source": [
        "df1 = pd.read_excel(\"/content/drive/MyDrive/MCAP31122022_0.xlsx\")"
      ],
      "metadata": {
        "id": "fSF-fbjn1wac"
      },
      "execution_count": 26,
      "outputs": []
    },
    {
      "cell_type": "code",
      "source": [
        "arr1 = list(df1['Symbol'])\n",
        "len(arr1)"
      ],
      "metadata": {
        "colab": {
          "base_uri": "https://localhost:8080/"
        },
        "id": "4S6tjmnDergX",
        "outputId": "a893ec7c-6204-4786-95c0-a3b009132464"
      },
      "execution_count": 27,
      "outputs": [
        {
          "output_type": "execute_result",
          "data": {
            "text/plain": [
              "2114"
            ]
          },
          "metadata": {},
          "execution_count": 27
        }
      ]
    },
    {
      "cell_type": "code",
      "source": [
        "df2  = pd.read_csv(\"/content/drive/MyDrive/BSE.csv\")"
      ],
      "metadata": {
        "id": "u9dRfq6kaUNi"
      },
      "execution_count": 28,
      "outputs": []
    },
    {
      "cell_type": "code",
      "source": [
        "arr2 = list(df2['Issuer Name'])\n",
        "len(arr2)"
      ],
      "metadata": {
        "colab": {
          "base_uri": "https://localhost:8080/"
        },
        "id": "ljiVcqLHcoW8",
        "outputId": "c3558a94-fc39-4e54-c475-6c31887ed3f9"
      },
      "execution_count": 29,
      "outputs": [
        {
          "output_type": "execute_result",
          "data": {
            "text/plain": [
              "9250"
            ]
          },
          "metadata": {},
          "execution_count": 29
        }
      ]
    },
    {
      "cell_type": "code",
      "source": [
        "final_list = (arr1 + arr2)\n",
        "len(final_list)"
      ],
      "metadata": {
        "colab": {
          "base_uri": "https://localhost:8080/"
        },
        "id": "vud_UcIAdBcN",
        "outputId": "aa7a5c74-14b2-404c-bae8-46b2d5c08321"
      },
      "execution_count": 30,
      "outputs": [
        {
          "output_type": "execute_result",
          "data": {
            "text/plain": [
              "11364"
            ]
          },
          "metadata": {},
          "execution_count": 30
        }
      ]
    },
    {
      "cell_type": "code",
      "source": [
        "final_list.sort\n",
        "print((final_list))"
      ],
      "metadata": {
        "colab": {
          "base_uri": "https://localhost:8080/"
        },
        "id": "sU4qqTyfEmtz",
        "outputId": "134bb391-82f2-46da-add1-d5fff4ee5112"
      },
      "execution_count": 44,
      "outputs": [
        {
          "output_type": "stream",
          "name": "stdout",
          "text": [
            "['20MICRONS', '3IINFOLTD', '3MINDIA', '4THDIM', '5PAISA', '63MOONS', 'AARTIDRUGS', 'AARTIIND', 'AARTISURF', 'AARVI', 'AAVAS', 'ABAN', 'ABB', 'ABCAPITAL', 'ABFRL', 'ABSLAMC', 'ACC', 'ACCELYA', 'ACCURACY', 'ACE', 'ACI', 'ADANIENT', 'ADANIGREEN', 'ADANIPORTS', 'ADANIPOWER', 'ADANITRANS', 'ADFFOODS', 'ADORWELD', 'ADSL', 'ADVANIHOTR', 'ADVENZYMES', 'AEGISCHEM', 'AETHER', 'AFFLE', 'AGARIND', 'AGI', 'AGSTRA', 'AHL', 'AHLEAST', 'AHLUCONT', 'AIAENG', 'AJANTPHARM', 'AJMERA', 'AKZOINDIA', 'ALBERTDAVD', 'ALEMBICLTD', 'ALICON', 'ALKEM', 'ALKYLAMINE', 'ALLCARGO', 'ALLETEC', 'ALLSEC', 'ALOKINDS', 'AMARAJABAT', 'AMBER', 'AMBIKCO', 'AMBUJACEM', 'AMIORG', 'AMRUTANJAN', 'ANANDRATHI', 'ANANTRAJ', 'ANDHRAPAP', 'ANDHRSUGAR', 'ANGELONE', 'ANNAPURNA', 'ANUP', 'ANURAS', 'APARINDS', 'APCL', 'APCOTEXIND', 'APEX', 'APLAPOLLO', 'APLLTD', 'APOLLO', 'APOLLOHOSP', 'APOLLOPIPE', 'APOLLOTYRE', 'APOLSINHOT', 'APTECHT', 'APTUS', 'ARIES', 'ARIHANTCAP', 'ARIHANTSUP', 'ARMANFIN', 'ARROWGREEN', 'ARTEMISMED', 'ARVIND', 'ARVINDFASN', 'ARVSMART', 'ASAHIINDIA', 'ASAHISONG', 'ASAL', 'ASALCBR', 'ASHAPURMIN', 'ASHIANA', 'ASHIMASYN', 'ASHOKA', 'ASHOKLEY', 'ASIANENE', 'ASIANPAINT', 'ASIANTILES', 'ASTEC', 'ASTERDM', 'ASTRAL', 'ASTRAMICRO', 'ASTRAZEN', 'ATFL', 'ATGL', 'ATUL', 'ATULAUTO', 'AUBANK', 'AURIONPRO', 'AUROPHARMA', 'AURUM', 'AUTOAXLES', 'AUTOIND', 'AVADHSUGAR', 'AVANTIFEED', 'AVTNPL', 'AWHCL', 'AWL', 'AXISBANK', 'AXISCADES', 'AXITA', 'AYMSYNTEX', 'BAFNAPH', 'BAJAJ-AUTO', 'BAJAJCON', 'BAJAJELEC', 'BAJAJFINSV', 'BAJAJHCARE', 'BAJAJHIND', 'BAJAJHLDNG', 'BAJFINANCE', 'BALAJITELE', 'BALAMINES', 'BALAXI', 'BALKRISIND', 'BALMLAWRIE', 'BALRAMCHIN', 'BANARISUG', 'BANCOINDIA', 'BANDHANBNK', 'BANKBARODA', 'BANKINDIA', 'BANSWRAS', 'BARBEQUE', 'BASF', 'BASML', 'BATAINDIA', 'BBL', 'BBOX', 'BBTC', 'BBTCL', 'BCG', 'BCLIND', 'BCONCEPTS', 'BDL', 'BECTORFOOD', 'BEL', 'BEML', 'BEPL', 'BERGEPAINT', 'BETA', 'BFINVEST', 'BFUTILITIE', 'BGRENERGY', 'BHAGCHEM', 'BHAGERIA', 'BHARATFORG', 'BHARATRAS', 'BHARATWIRE', 'BHARTIARTL', 'BHEL', 'BIGBLOC', 'BIKAJI', 'BIL', 'BINDALAGRO', 'BIOCON', 'BIRLACABLE', 'BIRLACORPN', 'BIRLAMONEY', 'BLISSGVS', 'BLKASHYAP', 'BLS', 'BLUEDART', 'BLUESTARCO', 'BMETRICS', 'BODALCHEM', 'BOMDYEING', 'BOROLTD', 'BORORENEW', 'BOSCHLTD', 'BPCL', 'BPL', 'BRIGADE', 'BRITANNIA', 'BRNL', 'BROOKS', 'BSE', 'BSHSL', 'BSOFT', 'BUTTERFLY', 'CAMLINFINE', 'CAMPUS', 'CAMS', 'CANBK', 'CANFINHOME', 'CANTABIL', 'CAPACITE', 'CAPLIPOINT', 'CARBORUNIV', 'CAREERP', 'CARERATING', 'CARTRADE', 'CARYSIL', 'CASTROLIND', 'CCL', 'CDSL', 'CEATLTD', 'CENTENKA', 'CENTRALBK', 'CENTRUM', 'CENTUM', 'CENTURYPLY', 'CENTURYTEX', 'CERA', 'CESC', 'CGCL', 'CGPOWER', 'CHALET', 'CHAMBLFERT', 'CHEMBOND', 'CHEMCON', 'CHEMFAB', 'CHEMPLASTS', 'CHENNPETRO', 'CHEVIOT', 'CHOICEIN', 'CHOLAFIN', 'CHOLAHLDNG', 'CIGNITITEC', 'CINELINE', 'CIPLA', 'CLEAN', 'CLEDUCATE', 'CLNINDIA', 'CLOUD', 'CLSEL', 'CMSINFO', 'COALINDIA', 'COASTCORP', 'COCHINSHIP', 'COFFEEDAY', 'COFORGE', 'COLPAL', 'CONCOR', 'CONFIPET', 'CONSOFINVT', 'CONTROLPR', 'COOLCAPS', 'COROMANDEL', 'COSMOFIRST', 'CRAFTSMAN', 'CREATIVE', 'CREDITACC', 'CREST', 'CRISIL', 'CROMPTON', 'CSBBANK', 'CSLFINANCE', 'CUB', 'CUMMINSIND', 'CUPID', 'CYBERTECH', 'CYIENT', 'DAAWAT', 'DABUR', 'DALBHARAT', 'DALMIASUG', 'DANGEE', 'DATAMATICS', 'DATAPATTNS', 'DBCORP', 'DBL', 'DBOL', 'DBREALTY', 'DCAL', 'DCBBANK', 'DCMNVL', 'DCMSHRIRAM', 'DCMSRIND', 'DCW', 'DCXINDIA', 'DECCANCE', 'DEEPAKFERT', 'DEEPAKNTR', 'DEEPENR', 'DEEPINDS', 'DELHIVERY', 'DELPHIFX', 'DELTACORP', 'DEN', 'DENORA', 'DEVIT', 'DEVYANI', 'DFMFOODS', 'DHAMPURSUG', 'DHANBANK', 'DHANI', 'DHANUKA', 'DHARMAJ', 'DHUNINV', 'DIAMONDYD', 'DICIND', 'DIGISPICE', 'DISHTV', 'DIVISLAB', 'DIXON', 'DLF', 'DLINKINDIA', 'DMART', 'DMCC', 'DODLA', 'DOLLAR', 'DONEAR', 'DPABHUSHAN', 'DPSCLTD', 'DPWIRES', 'DREAMFOLKS', 'DREDGECORP', 'DRREDDY', 'DSSL', 'DTIL', 'DUCON', 'DUGLOBAL', 'DVL', 'DWARKESH', 'DYCL', 'DYNAMATECH', 'DYNPRO', 'E2E', 'EASEMYTRIP', 'ECLERX', 'EDELWEISS', 'EICHERMOT', 'EIDPARRY', 'EIFFL', 'EIHAHOTELS', 'EIHOTEL', 'EIMCOELECO', 'EKC', 'ELDEHSG', 'ELECON', 'ELECTCAST', 'ELGIEQUIP', 'ELIN', 'EMAMILTD', 'EMAMIPAP', 'EMAMIREAL', 'EMIL', 'EMKAYTOOLS', 'EMUDHRA', 'ENDURANCE', 'ENGINERSIN', 'ENIL', 'EPL', 'EQUIPPP', 'EQUITAS', 'EQUITASBNK', 'ERIS', 'EROSMEDIA', 'ESABINDIA', 'ESCORTS', 'ESSENTIA', 'ESTER', 'ETHOSLTD', 'EUROBOND', 'EVEREADY', 'EVERESTIND', 'EXCELINDUS', 'EXIDEIND', 'EXPLEOSOL', 'EXXARO', 'FACT', 'FAIRCHEMOR', 'FAZE3Q', 'FCL', 'FCONSUMER', 'FCSSOFT', 'FDC', 'FEDERALBNK', 'FIEMIND', 'FILATEX', 'FINCABLES', 'FINEORG', 'FINOPB', 'FINPIPE', 'FIVESTAR', 'FLUOROCHEM', 'FMGOETZE', 'FOCE', 'FOCUS', 'FOODSIN', 'FORTIS', 'FOSECOIND', 'FROG', 'FSL', 'FUSION', 'GABRIEL', 'GAEL', 'GAIL', 'GALAXYSURF', 'GALLANTT', 'GANDHITUBE', 'GANECOS', 'GANESHBE', 'GANESHHOUC', 'GARFIBRES', 'GATEWAY', 'GATI', 'GEECEE', 'GENESYS', 'GENUSPAPER', 'GENUSPOWER', 'GEOJITFSL', 'GEPIL', 'GESHIP', 'GET&D', 'GFLLIMITED', 'GHCL', 'GICHSGFIN', 'GICRE', 'GILLETTE', 'GINNIFILA', 'GIPCL', 'GIRRESORTS', 'GKWLIMITED', 'GLAND', 'GLAXO', 'GLENMARK', 'GLOBAL', 'GLOBUSSPR', 'GLS', 'GMBREW', 'GMDCLTD', 'GMMPFAUDLR', 'GMRINFRA', 'GMRP&UI', 'GNA', 'GNFC', 'GOACARBON', 'GOCLCORP', 'GOCOLORS', 'GODFRYPHLP', 'GODREJAGRO', 'GODREJCP', 'GODREJIND', 'GODREJPROP', 'GOKEX', 'GOKUL', 'GOKULAGRO', 'GOLDIAM', 'GOODLUCK', 'GOYALALUM', 'GPIL', 'GPPL', 'GPTINFRA', 'GRANULES', 'GRAPHITE', 'GRASIM', 'GRAVITA', 'GREAVESCOT', 'GREENLAM', 'GREENPANEL', 'GREENPLY', 'GREENPOWER', 'GRINDWELL', 'GRINFRA', 'GRMOVER', 'GRPLTD', 'GRSE', 'GRWRHITECH', 'GSCLCEMENT', 'GSFC', 'GSPL', 'GSS', 'GTLINFRA', 'GTPL', 'GUFICBIO', 'GUJALKALI', 'GUJAPOLLO', 'GUJGASLTD', 'GULFOILLUB', 'GULPOLY', 'GVKPIL', 'HAL', 'HAPPSTMNDS', 'HARDWYN', 'HARIOMPIPE', 'HARRMALAYA', 'HARSHA', 'HATHWAY', 'HATSUN', 'HAVELLS', 'HBLPOWER', 'HCC', 'HCG', 'HCL-INSYS', 'HCLTECH', 'HDFC', 'HDFCAMC', 'HDFCBANK', 'HDFCLIFE', 'HDIL', 'HEG', 'HEIDELBERG', 'HEMIPROP', 'HERANBA', 'HERCULES', 'HERITGFOOD', 'HEROMOTOCO', 'HESTERBIO', 'HEXATRADEX', 'HFCL', 'HGINFRA', 'HGS', 'HIKAL', 'HIL', 'HIMATSEIDE', 'HINDALCO', 'HINDCOMPOS', 'HINDCOPPER', 'HINDMOTORS', 'HINDOILEXP', 'HINDPETRO', 'HINDUNILVR', 'HINDWAREAP', 'HINDZINC', 'HIRECT', 'HITECH', 'HITECHCORP', 'HITECHGEAR', 'HLVLTD', 'HMT', 'HMVL', 'HOMEFIRST', 'HONAUT', 'HONDAPOWER', 'HPAL', 'HPL', 'HSCL', 'HTMEDIA', 'HUBTOWN', 'HUDCO', 'HUHTAMAKI', 'IBREALEST', 'IBULHSGFIN', 'ICEMAKE', 'ICICIBANK', 'ICICIGI', 'ICICIPRULI', 'ICIL', 'ICRA', 'IDBI', 'IDEA', 'IDFC', 'IDFCFIRSTB', 'IEL', 'IEX', 'IFBAGRO', 'IFBIND', 'IFCI', 'IFGLEXPOR', 'IGARASHI', 'IGL', 'IGPL', 'IIFL', 'IIFLSEC', 'IIFLWAM', 'IMAGICAA', 'IMFA', 'IMPAL', 'INDHOTEL', 'INDIACEM', 'INDIAGLYCO', 'INDIAMART', 'INDIANB', 'INDIANHUME', 'INDIGO', 'INDIGOPNTS', 'INDNIPPON', 'INDOAMIN', 'INDOBORAX', 'INDOCO', 'INDORAMA', 'INDOSTAR', 'INDOTHAI', 'INDRAMEDCO', 'INDSWFTLAB', 'INDTERRAIN', 'INDUSINDBK', 'INDUSTOWER', 'INEOSSTYRO', 'INFIBEAM', 'INFOBEAN', 'INFY', 'INGERRAND', 'INNOVANA', 'INOXGREEN', 'INOXLEISUR', 'INOXWIND', 'INSECTICID', 'INSPIRISYS', 'INTELLECT', 'INTLCONV', 'IOB', 'IOC', 'IOLCP', 'IONEXCHANG', 'IPCALAB', 'IPL', 'IRB', 'IRCON', 'IRCTC', 'IRFC', 'IRISDOREME', 'ISEC', 'ISGEC', 'ISMTLTD', 'ITC', 'ITDC', 'ITDCEM', 'ITI', 'IVC', 'IWEL', 'J&KBANK', 'JAGRAN', 'JAGSNPHARM', 'JAIBALAJI', 'JAICORPLTD', 'JAMNAAUTO', 'JASH', 'JAYAGROGN', 'JAYBARMARU', 'JAYNECOIND', 'JAYSREETEA', 'JBCHEPHARM', 'JBMA', 'JCHAC', 'JETAIRWAYS', 'JINDALPHOT', 'JINDALPOLY', 'JINDALSAW', 'JINDALSTEL', 'JINDRILL', 'JINDWORLD', 'JISLJALEQS', 'JITFINFRA', 'JKCEMENT', 'JKIL', 'JKLAKSHMI', 'JKPAPER', 'JKTYRE', 'JMCPROJECT', 'JMFINANCIL', 'JPASSOCIAT', 'JPOLYINVST', 'JPPOWER', 'JSL', 'JSLHISAR', 'JSLL', 'JSWENERGY', 'JSWHL', 'JSWISPL', 'JSWSTEEL', 'JTEKTINDIA', 'JUBLFOOD', 'JUBLINDS', 'JUBLINGREA', 'JUBLPHARMA', 'JUSTDIAL', 'JWL', 'JYOTHYLAB', 'JYOTISTRUC', 'KABRAEXTRU', 'KAJARIACER', 'KALPATPOWR', 'KALYANKJIL', 'KAMATHOTEL', 'KAMDHENU', 'KANORICHEM', 'KANSAINER', 'KARURVYSYA', 'KAYA', 'KAYNES', 'KCP', 'KCPSUGIND', 'KDDL', 'KEC', 'KECL', 'KEI', 'KELLTONTEC', 'KERNEX', 'KESORAMIND', 'KFINTECH', 'KHADIM', 'KHAICHEM', 'KICL', 'KILITCH', 'KIMS', 'KINGFA', 'KIOCL', 'KIRIINDUS', 'KIRLOSBROS', 'KIRLOSENG', 'KIRLOSIND', 'KITEX', 'KKCL', 'KMSUGAR', 'KNAGRI', 'KNRCON', 'KOKUYOCMLN', 'KOLTEPATIL', 'KOPRAN', 'KORE', 'KOTAKBANK', 'KOTARISUG', 'KOTHARIPET', 'KOTHARIPRO', 'KOTYARK', 'KPIGREEN', 'KPITTECH', 'KPRMILL', 'KRBL', 'KREBSBIO', 'KRISHANA', 'KRISHIVAL', 'KRITI', 'KRITINUT', 'KRSNAA', 'KSB', 'KSCL', 'KSL', 'KSOLVES', 'KTKBANK', 'KUANTUM', 'L&TFH', 'LALPATHLAB', 'LANDMARK', 'LAOPALA', 'LATENTVIEW', 'LAURUSLABS', 'LAXMIMACH', 'LEMONTREE', 'LGBBROSLTD', 'LGBFORGE', 'LIBERTSHOE', 'LICHSGFIN', 'LICI', 'LIKHITHA', 'LINC', 'LINCOLN', 'LINDEINDIA', 'LODHA', 'LOYALTEX', 'LSIL', 'LT', 'LTIM', 'LTTS', 'LUMAXIND', 'LUMAXTECH', 'LUPIN', 'LUXIND', 'LXCHEM', 'LYKALABS', 'M&M', 'M&MFIN', 'MAANALU', 'MACPOWER', 'MADRASFERT', 'MAGADSUGAR', 'MAHABANK', 'MAHEPC', 'MAHINDCIE', 'MAHLIFE', 'MAHLOG', 'MAHSCOOTER', 'MAHSEAMLES', 'MAITHANALL', 'MALLCOM', 'MANAKSIA', 'MANAKSTEEL', 'MANALIPETC', 'MANAPPURAM', 'MANGCHEFER', 'MANGLMCEM', 'MANINDS', 'MANINFRA', 'MANORAMA', 'MANORG', 'MANYAVAR', 'MAPMYINDIA', 'MARALOVER', 'MARATHON', 'MARICO', 'MARINE', 'MARKSANS', 'MARUTI', 'MASFIN', 'MASTEK', 'MATRIMONY', 'MAWANASUG', 'MAXHEALTH', 'MAXIND', 'MAXVIL', 'MAYURUNIQ', 'MAZDA', 'MAZDOCK', 'MBAPL', 'MCDOWELL-N', 'MCLEODRUSS', 'MEDANTA', 'MEDICAMEQ', 'MEDICO', 'MEDPLUS', 'MEGASOFT', 'MEGASTAR', 'MENONBE', 'MEP', 'METROBRAND', 'METROPOLIS', 'MFL', 'MFSL', 'MGEL', 'MGL', 'MHLXMIRU', 'MHRIL', 'MIDHANI', 'MINDACORP', 'MINDTECK', 'MIRCELECTR', 'MIRZAINT', 'MKPL', 'MMFL', 'MMP', 'MMTC', 'MOIL', 'MOL', 'MOLDTECH', 'MOLDTKPAC', 'MONARCH', 'MONTECARLO', 'MOREPENLAB', 'MOTHERSON', 'MOTILALOFS', 'MPHASIS', 'MPSLTD', 'MRF', 'MRPL', 'MSPL', 'MSTCLTD', 'MSUMI', 'MTARTECH', 'MTNL', 'MUKANDLTD', 'MUNJALAU', 'MUNJALSHOW', 'MURUDCERA', 'MUTHOOTCAP', 'MUTHOOTFIN', 'MWL', 'NACLIND', 'NAHARCAP', 'NAHARINDUS', 'NAHARPOLY', 'NAHARSPING', 'NAM-INDIA', 'NATCOPHARM', 'NATHBIOGEN', 'NATIONALUM', 'NAUKRI', 'NAVA', 'NAVINFLUOR', 'NAVKARCORP', 'NAVNETEDUL', 'NAZARA', 'NBCC', 'NBIFIN', 'NCC', 'NCLIND', 'NDL', 'NDRAUTO', 'NDTV', 'NECLIFE', 'NELCAST', 'NELCO', 'NEOGEN', 'NESCO', 'NETWORK18', 'NEULANDLAB', 'NEWGEN', 'NFL', 'NGLFINE', 'NH', 'NHPC', 'NIACL', 'NIITLTD', 'NILAINFRA', 'NILKAMAL', 'NIPPOBATRY', 'NITINSPIN', 'NLCINDIA', 'NMDC', 'NOCIL', 'NRAIL', 'NRBBEARING', 'NRL', 'NSIL', 'NTPC', 'NUCLEUS', 'NURECA', 'NUVOCO', 'NXTDIGITAL', 'NYKAA', 'OAL', 'OBEROIRLTY', 'OCCL', 'OFSS', 'OIL', 'OLECTRA', 'OMAXE', 'OMINFRAL', 'ONEPOINT', 'ONGC', 'ONMOBILE', 'ONWARDTEC', 'OPTIEMUS', 'ORBTEXP', 'ORCHPHARMA', 'ORICONENT', 'ORIENTABRA', 'ORIENTBELL', 'ORIENTCEM', 'ORIENTELEC', 'ORIENTHOT', 'ORIENTPPR', 'ORISSAMINE', 'OSIAHYPER', 'OSWALAGRO', 'OSWALSEEDS', 'PAGEIND', 'PAISALO', 'PANACEABIO', 'PANAMAPET', 'PARACABLES', 'PARADEEP', 'PARAGMILK', 'PARAS', 'PARSVNATH', 'PASUPTAC', 'PATANJALI', 'PATELENG', 'PAVNAIND', 'PAYTM', 'PCBL', 'PCJEWELLER', 'PDMJEPAPER', 'PDSL', 'PEL', 'PENIND', 'PENINLAND', 'PERSISTENT', 'PETRONET', 'PFC', 'PFIZER', 'PFOCUS', 'PFS', 'PGEL', 'PGHH', 'PGHL', 'PGIL', 'PHANTOMFX', 'PHOENIXLTD', 'PIDILITIND', 'PIIND', 'PILANIINVS', 'PIONDIST', 'PITTIENG', 'PIXTRANS', 'PLASTIBLEN', 'PNB', 'PNBGILTS', 'PNBHOUSING', 'PNCINFRA', 'PODDARMENT', 'POKARNA', 'POLICYBZR', 'POLYCAB', 'POLYMED', 'POLYPLEX', 'PONNIERODE', 'POONAWALLA', 'POWERGRID', 'POWERINDIA', 'POWERMECH', 'PPAP', 'PPL', 'PPLPHARMA', 'PRAJIND', 'PRAKASH', 'PRECAM', 'PRECOT', 'PRECWIRE', 'PREMEXPLN', 'PRESTIGE', 'PRICOLLTD', 'PRIMESECU', 'PRINCEPIPE', 'PRIVISCL', 'PROZONINTU', 'PRSMJOHNSN', 'PRUDENT', 'PSB', 'PSPPROJECT', 'PTC', 'PTL', 'PUNJABCHEM', 'PURVA', 'PVP', 'PVR', 'QMSMEDI', 'QUESS', 'QUICKHEAL', 'RADHIKAJWE', 'RADICO', 'RADIOCITY', 'RAILTEL', 'RAIN', 'RAINBOW', 'RAJESHEXPO', 'RAJMET', 'RAJRATAN', 'RAJTV', 'RALLIS', 'RAMANEWS', 'RAMAPHO', 'RAMASTEEL', 'RAMCOCEM', 'RAMCOIND', 'RAMCOSYS', 'RAMKY', 'RAMRAT', 'RANASUG', 'RANEHOLDIN', 'RATEGAIN', 'RATNAMANI', 'RAYMOND', 'RBA', 'RBL', 'RBLBANK', 'RCF', 'RECLTD', 'REDINGTON', 'REFEX', 'RELAXO', 'RELIANCE', 'RELIGARE', 'RELINFRA', 'RENUKA', 'REPCOHOME', 'REPL', 'REPRO', 'RESPONIND', 'REVATHI', 'RGL', 'RHIM', 'RICOAUTO', 'RIIL', 'RILINFRA', 'RITCO', 'RITES', 'RKFORGE', 'RML', 'ROHLTD', 'ROLEXRINGS', 'ROSSARI', 'ROSSELLIND', 'ROTO', 'ROUTE', 'RPGLIFE', 'RPOWER', 'RPSGVENT', 'RSWM', 'RSYSTEMS', 'RTNINDIA', 'RTNPOWER', 'RUBYMILLS', 'RUCHIRA', 'RUPA', 'RUSHIL', 'RUSTOMJEE', 'RVNL', 'SADBHAV', 'SAFARI', 'SAGCEM', 'SAIL', 'SAKAR', 'SAKHTISUG', 'SAKSOFT', 'SAKUMA', 'SALASAR', 'SALZERELEC', 'SANDESH', 'SANDHAR', 'SANGAMIND', 'SANGHIIND', 'SANGHVIMOV', 'SANOFI', 'SANSERA', 'SAPPHIRE', 'SARDAEN', 'SAREGAMA', 'SARLAPOLY', 'SASKEN', 'SASTASUNDR', 'SATIA', 'SATIN', 'SATINDLTD', 'SBC', 'SBCL', 'SBICARD', 'SBILIFE', 'SBIN', 'SCHAEFFLER', 'SCHAND', 'SCHNEIDER', 'SCI', 'SCPL', 'SDBL', 'SEAMECLTD', 'SECL', 'SEJALLTD', 'SELAN', 'SEPC', 'SEQUENT', 'SERVOTECH', 'SESHAPAPER', 'SFL', 'SHAILY', 'SHAKTIPUMP', 'SHALBY', 'SHALPAINTS', 'SHANKARA', 'SHANTIGEAR', 'SHARDACROP', 'SHARDAMOTR', 'SHAREINDIA', 'SHEMAROO', 'SHILPAMED', 'SHIVALIK', 'SHIVAMAUTO', 'SHIVAUM', 'SHK', 'SHOPERSTOP', 'SHREDIGCEM', 'SHREECEM', 'SHREEPUSHK', 'SHREYAS', 'SHRIPISTON', 'SHRIRAMFIN', 'SHRIRAMPPS', 'SHYAMCENT', 'SHYAMMETL', 'SIEMENS', 'SIGACHI', 'SIL', 'SILINV', 'SILVERTUC', 'SIMPLEXINF', 'SINTERCOM', 'SINTEX', 'SIRCA', 'SIS', 'SIYSIL', 'SJS', 'SJVN', 'SKFINDIA', 'SKIPPER', 'SKMEGGPROD', 'SKP', 'SMCGLOBAL', 'SMLISUZU', 'SMSPHARMA', 'SNOWMAN', 'SOBHA', 'SOLARA', 'SOLARINDS', 'SOLEX', 'SOMANYCERA', 'SONACOMS', 'SONATSOFTW', 'SOTL', 'SOUTHBANK', 'SOUTHWEST', 'SPAL', 'SPANDANA', 'SPARC', 'SPCENET', 'SPECIALITY', 'SPENCERS', 'SPIC', 'SPLPETRO', 'SPORTKING', 'SREEL', 'SRF', 'SRHHYPOLTD', 'SSWL', 'STAR', 'STARCEMENT', 'STARHEALTH', 'STARPAPER', 'STCINDIA', 'STEELCAS', 'STEELXIND', 'STEL', 'STERTOOLS', 'STLTECH', 'STOVEKRAFT', 'STYLAMIND', 'SUBEXLTD', 'SUBROS', 'SUDARSCHEM', 'SUKHJITS', 'SULA', 'SUMICHEM', 'SUMMITSEC', 'SUNCLAYLTD', 'SUNDARMFIN', 'SUNDARMHLD', 'SUNDRMFAST', 'SUNFLAG', 'SUNPHARMA', 'SUNTECK', 'SUNTV', 'SUPRAJIT', 'SUPREMEIND', 'SUPRIYA', 'SURYAROSNI', 'SURYODAY', 'SUTLEJTEX', 'SUVEN', 'SUVENPHAR', 'SUZLON', 'SVPGLOB', 'SWANENERGY', 'SWARAJENG', 'SWASTIK', 'SWELECTES', 'SWSOLAR', 'SYMPHONY', 'SYNCOMF', 'SYNGENE', 'SYRMA', 'TAJGVK', 'TAKE', 'TALBROAUTO', 'TANLA', 'TARC', 'TARSONS', 'TASTYBITE', 'TATACHEM', 'TATACOFFEE', 'TATACOMM', 'TATACONSUM', 'TATAELXSI', 'TATAINVEST', 'TATAMETALI', 'TATAMOTORS', 'TATAPOWER', 'TATASTEEL', 'TATASTLLP', 'TATVA', 'TBZ', 'TCI', 'TCIEXP', 'TCNSBRANDS', 'TCPLPACK', 'TCS', 'TDPOWERSYS', 'TEAMLEASE', 'TECHM', 'TECHNOE', 'TEGA', 'TEJASNET', 'TEXINFRA', 'TEXRAIL', 'TFCILTD', 'THANGAMAYL', 'THEINVEST', 'THEJO', 'THEMISMED', 'THERMAX', 'THOMASCOOK', 'THYROCARE', 'TI', 'TIDEWATER', 'TIIL', 'TIINDIA', 'TIMETECHNO', 'TIMKEN', 'TINPLATE', 'TIPSINDLTD', 'TIRUMALCHM', 'TITAN', 'TMB', 'TNPETRO', 'TNPL', 'TORNTPHARM', 'TORNTPOWER', 'TOTAL', 'TPLPLASTEH', 'TRACXN', 'TRENT', 'TRIDENT', 'TRIGYN', 'TRIL', 'TRITURBINE', 'TRIVENI', 'TTKHLTCARE', 'TTKPRESTIG', 'TTML', 'TV18BRDCST', 'TVSELECT', 'TVSMOTOR', 'TVSSRICHAK', 'TVTODAY', 'TWL', 'UBL', 'UCALFUEL', 'UCOBANK', 'UFLEX', 'UFO', 'UGARSUGAR', 'UGROCAP', 'UJJIVAN', 'UJJIVANSFB', 'ULTRACEMCO', 'UNICHEMLAB', 'UNIDT', 'UNIENTER', 'UNIONBANK', 'UNIPARTS', 'UNITECH', 'UNITEDPOLY', 'UNIVCABLES', 'UNIVPHOTO', 'UNOMINDA', 'UPL', 'URJA', 'USASEEDS', 'USHAMART', 'UTIAMC', 'UTTAMSUGAR', 'V2RETAIL', 'VADILALIND', 'VAIBHAVGBL', 'VAKRANGEE', 'VALIANTORG', 'VARDHACRLC', 'VARROC', 'VASCONEQ', 'VBL', 'VEDL', 'VENKEYS', 'VENUSPIPES', 'VENUSREM', 'VERANDA', 'VERTOZ', 'VESUVIUS', 'VGUARD', 'VHL', 'VIDHIING', 'VIJAYA', 'VIKASECO', 'VIKASLIFE', 'VIMTALABS', 'VINATIORGA', 'VINDHYATEL', 'VINYLINDIA', 'VIPCLOTHNG', 'VIPIND', 'VISAKAIND', 'VISHNU', 'VISHWARAJ', 'VITAL', 'VLSFINANCE', 'VMART', 'VOLTAMP', 'VOLTAS', 'VRLLOG', 'VSSL', 'VSTIND', 'VSTTILLERS', 'VTL', 'WABAG', 'WALCHANNAG', 'WEALTH', 'WEBELSOLAR', 'WEL', 'WELCORP', 'WELENT', 'WELSPUNIND', 'WENDT', 'WHEELS', 'WHIRLPOOL', 'WINDLAS', 'WINDMACHIN', 'WIPRO', 'WOCKPHARMA', 'WONDERLA', 'WSTCSTPAPR', 'XCHANGING', 'XPROINDIA', 'YESBANK', 'YUKEN', 'ZEEL', 'ZEELEARN', 'ZEEMEDIA', 'ZENSARTECH', 'ZENTEC', 'ZFCVINDIA', 'ZIMLAB', 'ZODIACLOTH', 'ZOMATO', 'ZOTA', 'ZUARI', 'ZUARIIND', 'ZYDUSLIFE', 'ZYDUSWELL', '3RDROCK', 'A2ZINFRA', 'AAATECH', 'AAKASH', 'AAREYDRUGS', 'AARON', 'AARVEEDEN', 'ABCOTS', 'ABMINTLLTD', 'ACEINTEG', 'AGRITECH', 'AGROPHOS', 'AHLADA', 'AIRAN', 'AIROLAM', 'AJOONI', 'AJRINFRA', 'AKASH', 'AKG', 'AKSHAR', 'AKSHARCHEM', 'AKSHOPTFBR', 'ALANKIT', 'ALKALI', 'ALMONDZ', 'ALPA', 'ALPHAGEO', 'AMDIND', 'AMJLAND', 'ANIKINDS', 'ANKITMETAL', 'ANMOL', 'ARCHIDPLY', 'ARCHIES', 'ARHAM', 'ARIHANTACA', 'AROGRANITE', 'ARSHIYA', 'ARTNIRMAN', 'ARVEE', 'ASCOM', 'ASIANHOTNR', 'ASPINWALL', 'ASTRON', 'ATALREAL', 'ATLANTA', 'AURDIS', 'AUSOMENT', 'AVG', 'AVROIND', 'AVSL', 'BAGFILMS', 'BAHETI', 'BALLARPUR', 'BALPHARMA', 'BANARBEADS', 'BANG', 'BANKA', 'BDR', 'BEARDSELL', 'BEDMUTHA', 'BEWLTD', 'BHAGYANGR', 'BHANDARI', 'BHARATGEAR', 'BIOFILCHEM', 'BLBLIMITED', 'BOHRAIND', 'BSL', 'BTML', 'BVCL', 'BYKE', 'CAPTRUST', 'CCHHL', 'CELEBRITY', 'CENTEXT', 'CEREBRAINT', 'CINEVISTA', 'CMRSL', 'COMPINFO', 'COMPUSOFT', 'CORALFINAC', 'CORDSCABLE', 'CTE', 'CUBEXTUB', 'DAMODARIND', 'DBSTOCKBRO', 'DCI', 'DCM', 'DELTAMAGNT', 'DGCONTENT', 'DHRUV', 'DIL', 'DJML', 'DOLLEX', 'DRSDILIP', 'ELECTHERM', 'ELGIRUBCO', 'EMKAY', 'EMMBI', 'ENERGYDEV', 'ESSARSHPNG', 'EXCEL', 'FEL', 'FIBERWEB', 'FIDEL', 'FLEXITUFF', 'FLFL', 'FSC', 'GAL', 'GANGAFORGE', 'GANGESSECU', 'GAYAPROJ', 'GEEKAYWIRE', 'GENCON', 'GICL', 'GILLANDERS', 'GIRIRAJ', 'GLOBALVECT', 'GLOBE', 'GOLDENTOBC', 'GOLDSTAR', 'GOLDTECH', 'GROBTEA', 'GSTL', 'GTL', 'GULFPETRO', 'HECPROJECT', 'HILTON', 'HINDCON', 'HISARMETAL', 'HOVS', 'HPIL', 'HYBRIDFIN', 'IITL', 'IL&FSENGG', 'IL&FSTRANS', 'INCREDIBLE', 'INDBANK', 'INDIANCARD', 'INDOTECH', 'INDOWIND', 'INDSWFTLTD', 'INTENTECH', 'INVENTURE', 'IPSL', 'IRIS', 'ISFT', 'IVP', 'IZMO', 'JAINAM', 'JAIPURKURT', 'JBFIND', 'JHS', 'JMA', 'JOCIL', 'KAKATCEM', 'KALYANIFRG', 'KANANIIND', 'KANPRPLA', 'KAPSTON', 'KBCGLOBAL', 'KEYFINSERV', 'KHANDSE', 'KKVAPOW', 'KOHINOOR', 'KRISHNADEF', 'KRITIKA', 'KSHITIJPOL', 'LAGNAM', 'LAMBODHARA', 'LASA', 'LATTEYS', 'LEMERITE', 'LEXUS', 'LGHL', 'LLOYDS', 'LOKESHMACH', 'LOTUSEYE', 'LOVABLE', 'LPDC', 'MADHAVBAUG', 'MAGNUM', 'MAHAPEXLTD', 'MAHASTEEL', 'MAHESHWARI', 'MAHICKRA', 'MALUPAPER', 'MANAKALUCO', 'MANAKCOAT', 'MANGALAM', 'MBECL', 'MBLINFRA', 'MCL', 'MDL', 'MHHL', 'MITCON', 'MODIRUBBER', 'MODISONLTD', 'MOKSH', 'MORARJEE', 'MOTOGENFIN', 'MRO-TEK', 'MTEDUCARE', 'MUKTAARTS', 'NAGREEKEXP', 'NDGL', 'NECCLTD', 'NGIL', 'NIBL', 'NIDAN', 'NILASPACES', 'NIRAJ', 'NITCO', 'NITIRAJ', 'NOIDATOLL', 'NPST', 'OBCL', 'OILCOUNTUB', 'OMAXAUTO', 'ORIENTLTD', 'PALASHSECU', 'PALREDTEC', 'PANACHE', 'PANSARI', 'PAR', 'PARIN', 'PARTYCRUS', 'PASHUPATI', 'PATINTLOG', 'PENTAGOLD', 'PIGL', 'PILITA', 'PIONEEREMB', 'PKTEA', 'PNC', 'PODDARHOUS', 'PRAENG', 'PRAKASHSTL', 'PRAXIS', 'PRECISION', 'PREMIERPOL', 'PRESSMN', 'PRITI', 'PRITIKAUTO', 'PROLIFE', 'PROPEQUITY', 'PULZ', 'RAJSREESUG', 'RANEENGINE', 'REGENCERAM', 'RELCHEMQ', 'RELIABLE', 'REMSONSIND', 'RHFL', 'RKEC', 'RNAVAL', 'ROLTA', 'ROML', 'RPPINFRA', 'RPPL', 'RSSOFTWARE', 'RUCHINFRA', 'RVHL', 'SADBHIN', 'SALONA', 'SALSTEEL', 'SAMBHAAV', 'SANWARIA', 'SARVESHWAR', 'SECURCRED', 'SECURKLOUD', 'SEPOWER', 'SETCO', 'SGIL', 'SHAHALLOYS', 'SHIGAN', 'SHIVAMILLS', 'SHIVATEX', 'SHRADHA', 'SHREERAMA', 'SHRENIK', 'SHREYANIND', 'SIDDHIKA', 'SIGIND', 'SIGMA', 'SIKKO', 'SIMBHALS', 'SITINET', 'SMARTLINK', 'SMLT', 'SMSLIFE', 'SOFTTECH', 'SOMICONVEY', 'SONAMCLOCK', 'SPECTRUM', 'SPLIL', 'SPMLINFRA', 'SPTL', 'SRPL', 'STARTECK', 'STEELCITY', 'SUMEETINDS', 'SUMIT', 'SUNDARAM', 'SUNDRMBRAK', 'SUPERHOUSE', 'SUPERSPIN', 'SUPREMEINF', 'SURANASOL', 'SURANAT&P', 'SURYALAXMI', 'SUULD', 'SUVIDHAA', 'SVLL', 'TAINWALCHM', 'TARACHAND', 'TARMAT', 'TEMBO', 'TERASOFT', 'TEXMOPIPES', 'TIL', 'TIMESCAN', 'TIPSFILMS', 'TIRUPATI', 'TIRUPATIFL', 'TOKYOPLAST', 'TOUCHWOOD', 'TREEHOUSE', 'TREJHARA', 'TRF', 'TTL', 'UJAAS', 'UMA', 'UMAEXPORTS', 'UMANGDAIRY', 'UNITEDTEA', 'UNIVASTU', 'URAVI', 'VAISHALI', 'VASWANI', 'VETO', 'VINEETLAB', 'VINNY', 'VIPULLTD', 'VISASTEEL', 'VISESHINFO', 'VIVIANA', 'VIVIMEDLAB', 'VMARCIND', 'WANBURY', 'WEIZMANIND', 'WELINV', 'WEWIN', 'WIPL', 'WORTH', 'XELPMOC', 'YAARI', 'ZENITHSTL', 'ZODIAC', '21STCENMGM', '3PLAND', 'ABINFRA', 'ABNINT', 'ACCORD', 'ADL', 'ADROITINFO', 'AGNI', 'AHIMSA', 'AILIMITED', 'AISL', 'ALPSINDUS', 'AMBANIORG', 'AMBICAAGAR', 'AMEYA', 'AMIABLE', 'AMJUMBO', 'ANTGRAPHIC', 'ARENTERP', 'ARSSINFRA', 'ASLIND', 'BALKRISHNA', 'BHALCHANDR', 'BKMINDST', 'BRIGHT', 'BURNPUR', 'CADSYS', 'CALSOFT', 'CMICABLES', 'CMMIPL', 'CONTI', 'COUNCODOS', 'CREATIVEYE', 'CROWN', 'CYBERMEDIA', 'DCMFINSERV', 'DESTINY', 'DHARSUGAR', 'DKEGL', 'DNAMEDIA', 'DRL', 'DYNAMIC', 'EASTSILK', 'EDUCOMP', 'EUROTEXIND', 'FELIX', 'FMNL', 'GAYAHWS', 'GLFL', 'GODHA', 'GOENKA', 'GRETEX', 'GUJRAFFIA', 'HAVISHA', 'HBSL', 'HEADSUP', 'ICDSLTD', 'INDLMETER', 'INFOMEDIA', 'INNOVATIVE', 'ISHAN', 'JAKHARIA', 'JALAN', 'JETFREIGHT', 'JETKNIT', 'JFLLIFE', 'KALYANI', 'KANDARP', 'KARMAENG', 'KAUSHALYA', 'KAVVERITEL', 'KCK', 'KEEPLEARN', 'KHAITANLTD', 'KHFM', 'KRIDHANINF', 'LAKPRE', 'LAXMICOT', 'LCCINFOTEC', 'LFIC', 'LIBAS', 'LYPSAGEMS', 'MADHAV', 'MADHUCON', 'MAKS', 'MANAV', 'MANUGRAPH', 'MARSHALL', 'MASKINVEST', 'MEGAFLEX', 'MELSTAR', 'MERCATOR', 'METALFORGE', 'MILTON', 'MINDPOOL', 'MITTAL', 'MOHITIND', 'MOXSH', 'MPTODAY', 'MRO', 'NAGREEKCAP', 'NARMADA', 'NATNLSTEEL', 'NEXTMEDIA', 'NIRAJISPAT', 'NKIND', 'NORBTEAEXP', 'OMFURN', 'OMKARCHEM', 'ONELIFECAP', 'ORIENTALTL', 'ORTINLAB', 'PARASPETRO', 'PEARLPOLY', 'PERFECT', 'PREMIER', 'PRITIKA', 'QUADPRO', 'RADAAN', 'REXPIPES', 'RICHA', 'RITEZONE', 'RKDL', 'RMCL', 'RMDRIP', 'ROLLT', 'S&SPOWER', 'SABAR', 'SABEVENTS', 'SAGARDEEP', 'SANGINITA', 'SATHAISPAT', 'SETUINFRA', 'SGL', 'SHAIVAL', 'SHANTI', 'SHUBHLAXMI', 'SHYAMTEL', 'SILGO', 'SILLYMONKS', 'SKSTEXTILE', 'SMVD', 'SOMATEX', 'SONAHISONA', 'SONUINFRA', 'SPRL', 'SRIRAM', 'SSINFRA', 'SUBCAPCITY', 'SUPREMEENG', 'SURANI', 'SWARAJ', 'TANTIACONS', 'TAPIFRUIT', 'TARAPUR', 'TECHIN', 'TFL', 'TGBHOTELS', 'THOMASCOTT', 'TIJARIA', 'TIMESGTY', 'TNTELE', 'TRANSWIND', 'TVVISION', 'UCL', 'UMESLTD', 'UNIINFO', 'UWCSL', 'VARDMNPOLY', 'VASA', 'VCL', 'VEEKAYEM', 'VERA', 'VIJIFIN', 'VIVIDHA', 'VIVO', 'VSCL', 'WALPAR', 'WILLAMAGOR', 'ZENITHEXPO', 'ABHISHEK', 'AHLWEST', 'AIFL', 'ALCHEM', 'ANDHRACEMT', 'ANSALAPI', 'ARCOTECH', 'ARTEDZ', 'ASIL', 'ATCOM', 'ATLASCYCLE', 'ATNINTER', 'AUTOLITIND', 'AUTORIDFIN', 'BANSAL', 'BARTRONICS', 'BGLOBAL', 'BHARATIDIL', 'BILENERGY', 'BINANIIND', 'BIRLATYRE', 'BLUEBLENDS', 'BLUECHIP', 'BLUECOAST', 'BRFL', 'CANDC', 'CCCL', 'CELESTIAL', 'CKFSL', 'CKPLEISURE', 'COX&KINGS', 'DIAPOWER', 'DIGJAMLMTD', 'DOLPHINOFF', 'DQE', 'DRCSYSTEMS', 'DSKULKARNI', 'EASTSUGIND', 'EASUNREYRL', 'EMCO', 'EON', 'EUROCERA', 'EUROMULTI', 'FEDDERELEC', 'FIVECORE', 'FRETAIL', 'GAMMONIND', 'GANGOTRI', 'GBGLOBAL', 'GFSTEELS', 'GISOLUTION', 'GITANJALI', 'HINDNATGLS', 'ICSA', 'IMPEXFERRO', 'INDOSOLAR', 'IVRCLINFRA', 'JAINSTUDIO', 'JIKIND', 'JINDCOT', 'JMTAUTOLTD', 'JPINFRATEC', 'KEERTI', 'KGL', 'KSERASERA', 'KSK', 'LAKSHMIEFL', 'LEEL', 'MANPASAND', 'MCDHOLDING', 'METKORE', 'MICEL', 'MODTHREAD', 'MOHOTAIND', 'MVL', 'NAGAFERT', 'NAKODA', 'NITINFIRE', 'NTL', 'NUTEK', 'OISL', 'OPAL', 'OPTOCIRCUI', 'ORTEL', 'PDPL', 'PINCON', 'POWERFUL', 'PRATIBHA', 'PRUDMOULI', 'PSL', 'PUNJLLOYD', 'QUINTEGRA', 'RAINBOWPAP', 'RAJRILTD', 'RAJVIR', 'RCOM', 'RELCAPITAL', 'RMMIL', 'RUSHABEAR', 'SABTN', 'SANCO', 'SBIHOMEFIN', 'SELMC', 'SEYAIND', 'SHARONBIO', 'SHIRPUR-G', 'SICAL', 'SIIL', 'SKIL', 'SONISOYA', 'SPENTEX', 'SPYL', 'SREINFRA', 'STAMPEDE', 'STERLINBIO', 'TALWALKARS', 'TALWGYM', 'TCIFINANCE', 'TECHNOFAB', 'TECILCHEM', 'THIRUSUGAR', 'TULSI', 'UNIPLY', 'UNITY', 'UNIVAFOODS', 'VALECHAENG', 'VALUEIND', 'VICEROY', 'VIDEOIND', 'VISUINTL', 'WINSOME', 'WSI', 'ZICOM', nan, 'ABB', 'AEGISLOG', 'TPAEC', 'AKARLAMIN', 'ALPHADR', 'AMARAJABAT', 'AMBALALSA', 'HDFC', 'AMRTMIL-BDM', 'ANDHRAPET', 'ANSALAPI', 'UTIQUE', 'ICICIDM', 'ARUNAHTEL', 'ARPOLDM', 'BOR', 'BOMDYEING', 'ASINCOF', 'ASIANHOTNR', 'ASSAMCO', 'ASSAMBR', 'ATSHIND', 'ATUL', 'ATVPR', 'AUTOLITIND', 'AUTORIDFIN', 'BAJAJELEC', 'BAJAJHIND', 'FORCEMOT', 'BAJFINANCE', 'BALAJIDI', 'BALAJIIND', 'BALMERL-B', 'BALRAMCHIN*', 'BANCOINDIA', 'CENTURYTEX', 'BANARISUG', 'BASF', 'BATAINDIA', 'RAYBAN', 'BELLARYS', 'BECREL', 'BETANAP', 'BEML', 'BEL', 'BHARATRA', 'BHAGGAS', 'BEPL', 'BHAZINC', 'BHRTITE-B', 'TATASTLBSL', 'UTIMRDM', 'ABCIL', 'BIHSPONG', 'BINANIIND', 'BIRLACABLE', 'ANVALDM', 'ASHOKLEYFIN', 'OSWALCHEM', 'BGFL', 'BLUESTARCO', 'DISAQ', 'QUESTCAP', 'BOP', 'BONGAIREFN', 'BPLENG', 'BPL', 'NAGARFER', 'BURROWEL', 'CCI', 'OAL', 'CARIR', 'CAUVERSOFT', 'CELEINT', 'CENCHDM', 'CENTEXT', 'CESC', 'CHAMBLFERT', 'EXIDEIND', 'CIPLA', 'DICIND', 'MADUCOA', 'COREPARENT', 'CRISIL', 'CGPOWER', 'CTCOTTON', 'WYETH', 'DABUR', 'DALMIASUG', 'SKYLNEPC', 'CENTINPO', 'DAEWOO', 'ARVIND', 'BALLARPUR', 'BHEL', 'HINDPETRO', 'IPCL', 'IFCI', 'JINDALIRON', 'MTNL', 'MRPL', 'CHENNPETRO', 'RELCAPITAL', 'SBIN', 'SAIL', 'TITAN', 'MSTRP', 'IDBI', 'DCW', 'DHAMPURSUG', 'DIAMINESQ', 'DIGITAL', 'AMBUJACEMR', 'ELANTAS', 'DRREDDY', 'EIDPARRY', 'PGHL', 'ESTMNAL', 'ELECTCAST', 'ELAUPAR-BDM', 'ELGIF', 'ELGITR', 'EMPEESUG', 'ESABINDIA', 'ESSAROIL', 'EPL', 'ESTER', 'UNIWORTHT', 'FEDDERELEC', 'FEMNORM-B', 'FERROALL', 'FGP', 'PHCAP', 'FINCABLES', 'FIRSTLEASE', 'COCKERILL', 'UFLEX', 'FLOAI', 'FOSECOIND', 'GOLDENTOBC', 'GRMAG', 'GANESHBE', 'FOSCL', 'GARDENSILK', 'GRMNR', 'GICBALN-B', 'GICBGVL-B', 'METROGLOBL', 'GTL', 'GTB', 'PARRYSUGAR', 'GODFRYPHLP', 'GODREJIND', 'KANSAINER', 'GOODRICKE', 'GOVMC', 'GOODYEAR', 'GRPCOMI', 'GTNINDS', 'GHCL', 'GFLLIMITED', 'GLFL', 'GTCL', 'HAMCMIN-B', 'HANILERA', 'HARCR', 'HCL-INSYS', 'HDFCBANK', 'HRBTSON-B', 'HEROMOTOCO', 'HFCL', 'HSCL', 'HCC', 'HINDOILEXP', 'AGI', 'HINDZINC', 'NXTDIGITAL', 'HITDRDM', 'HMT', 'PRAGBOS', 'HLVLTD', 'HOTLINGLAS', 'HTSUMAG', 'IBP', 'IGPL', 'INDIAGLYCO', 'INDLEASE', 'INDPOLY', 'INDSEC', 'MARGOFIN', 'INDORAMA', 'INDUNISS', 'INFY*', 'INGERRAND', 'INSILCO', 'IFSL', 'ITHL', 'IONEXCHANG', 'ATFL', 'ITCHOTEL', 'ITWSGDM', 'JKPHARMA', 'JISLJALEQS', 'JASCH', 'JPHOTEL', 'JCTEL', 'JCTLTD', 'JNDST', 'CONSOFIN', 'JINDALPOLY', 'JSWSTEEL', 'JINDVJY', 'JINDALV', 'UMANGDAIR', 'JORDENG-B', 'KAJARIACER', 'KAKATCEM', 'KSL', 'KANELIND', 'KEDIADI-B', 'WHIRLPOOL', 'KGDENIM', 'KINETICENG', 'KIRLOSBROS', 'KIRPNDM', 'KIRLOSIND', 'KIRLFER', 'ENVAIREL', 'KOTAKBANK', 'KRIFILIND', 'KSB', 'LGBBROSLTD', 'TRENT', 'LAXMIMACH', 'LICHSGFIN', 'UTTAMVALUE', 'LML', 'LOKHSG', 'LUPIN', 'LUPINDM', 'LYKALABS', 'RAMCOCEM', 'MDRPTRO', 'HYBRIDFIN', 'MAFATIND', 'MAHSEAMLES', 'MAHSCOOTER', 'MAJESAUT', 'MANALIPETC', 'MARDIACH', 'BARODARY', 'MFSL', 'MAXWORC-B', 'MCDWLDM', 'MESPHAR-B', 'MTZIND', 'MICROPL-B', 'MIDINDIA', 'MIDESTI-B', 'MIRCELECTR', 'CENTENKA', 'MDRNTHR-B', 'MDTERYT-B', 'LORDSCHLO', 'SPICEJET', 'MONTA', 'MOREPENLAB', 'MSGF', 'MRF', 'HEIDELBERG', 'MYSRKIR-B', 'NCC', 'VEDL', 'NAHARSPING', 'NATAL', 'NATPEROX', 'GRASIM', 'NEPCMICON', 'PEL', 'ABIRLANUVO', 'NIITLTD', 'JSWISPAT', 'JAYKAY', 'NIRLON', 'NIRMA', 'NOVAEL-', 'NOVOPANIND', 'NUCHEM', 'ONGC', 'OILCOUNTUB', 'ORIENTHOT', 'ORIENTBANK', 'OSWALAGRO', 'OSSWM', 'INDSUCR', 'PADMINIT', 'PANCM', 'PAREKHPLAT', 'RELIANCE', 'PATHEJA-B', 'PILITA', 'PENTFOR-B', 'PENTAGRAPH', 'RAYMOND', 'PIDILITIND', 'PITICEM-B', 'PIXTRANS', 'PRMRVNY-B', 'BIRLACORPN', 'SURYAROSNI', 'PRIMESECU', 'PRSMJOHNSN', 'RAIN', 'ITBHPDM', 'PRUDCAP-BDM', 'PRUDMOULI', 'AMJLAND', 'PUNJABTRAC', 'PPOWER-', 'PUNJCOMMU', 'PUNWRDM', 'QLTYSTL', 'RASIC', 'RSWM', 'RAJPOTU', 'RAJTOOL', 'RAJNSTL-B', 'RAJSREESUG', 'RALLIS', 'RAMANEWS', 'RAMAPPR-B', 'RAMAPETRO', 'RANBAXY', 'RAPICUT', 'RASPRO', 'RECRON', 'REVAP', 'REPETDM', 'WELSPLSOL', 'ROLTA', 'RUBFILA', 'PATANJALI', 'RPGTRANS', 'SALORAINTL', 'SAMTELIN', 'SAMTEL', 'CLARIANT', 'SANAS', 'SANGHIPOLY', 'SATYAM', 'SHREEJIPHOS', 'JINDALSAW', 'SBIHOMEFIN', 'JKLAKSHMI', 'SBIMGNE-B', 'BRABOURNE', 'SHAMKNSPIN', 'SHREECEM', 'SKPMIL', 'SILVERLINE', 'RELINFRA', 'SMDYECH', 'SOLPHR--Z', 'SOLCT', 'SOUTHNHE', 'TASSLDM', 'HENKELSPIC', 'GECAP', 'STEELCO', 'TATAPOWER', 'SPMLINFRA', 'SUNDRMFAST', 'SUNFLAG', 'SPLPETRO', 'SURYAGRO', 'SWARAJENG', 'TATAELXSI', 'TAHYDDM', 'ACC', 'THERMAX', 'TIRUMALCHM', 'THOMASCOOK', 'TIMEX', 'TISCSPN-B', 'TITAGRST', 'TITANAL', 'TOKYOPLAST', 'TOLANDM', 'TORNTPHARM', 'TPINDIA', 'TRANSCHEM', 'TVSEL', 'TVSSZDM', 'AMBUJACEM', 'UTLINDS', 'UNIFLEX', 'UNIPLAS', 'UNIPHOS', 'UNITEDWESTB', 'USHAINDIA', 'USHAISPAT', 'UTIGN', 'MSTGN', 'UMISPST', 'UTI2000-B', 'UTI5000-B', 'VAJRABE', 'VHL', 'HINDALCO', 'VIRALFL-BDM', 'WARTSILA', 'WSTCSTPAPR', 'INDAL', 'CAROL', 'YOGIPHA', 'HINDC', 'HOCL', 'MPILCORPL', 'MDRNSUT-B', 'NEPCAGRO', 'PAAMPHR-B', 'PASUPTAC', 'PNTASOL-B', 'KORE', 'PGHH', 'MUKANDLTD', 'SIV', 'BBOX', 'UCALFUEL', 'VARUNSHIP', 'STERHFN', 'HARRMALAYA', 'WESTPAQ-B', 'FEDERALBNK', 'TATASTEEL', 'SKFINDIA', 'ASHOKLEY', 'CUMMINSIND', 'TATACOMM', 'ABBOTINDIA', 'BAJAJHLDNG', 'BHARATFORG', 'ESCORTS', 'HINDMOTORS', 'LT', 'M&M', 'BOSCHLTD', 'PREMIER', 'BPCL', 'SIEMENS', 'PEICO', 'TATAMOTORS', 'VOLTAS', 'GESHIP', 'ESSARSTEEL', 'ESSARPORTS', 'DEEPAKFERT', 'SMIPHDM', 'EXCELINDUS', 'GRWRHITECH', 'GLAXO', 'GNFC', 'NOVARTIND', 'SANOFI', 'GSKCONS', 'PARKD', 'PFIZER', 'GSFC', 'HINDUNILVR', 'AKZOINDIA', 'FUTURAPOLY', 'IGLCRDM', 'NOCIL', 'RCKBEDM', 'SPIC', 'TATACHEM', 'TNPETRO', 'ZUARIIND', 'NESTLEIND', 'CADBRDM', 'TATACONSUM', 'ASIANPAINT', 'BRITANNIA', 'COLPAL', 'EIHOTEL', 'INDHOTEL', 'CASTROLIND', 'KOCHIREF', 'ITC', 'APOLLOTYRE', 'CEATLTD', 'JAIPRAKASH', 'MODIRUBBER', 'STERLITEIND', 'FINOLEXIND', 'VALUEIND', 'VIDEOCONINT', 'WIMCO', 'SBIMG90-B', 'MSTRSDM', 'SBBJ', 'SUNRINV', 'ZGOLDINV', 'ZMIPCOIN', 'ZOCEAINV', 'PEOPLIN', 'ZBHAVIIN', 'DSINVEST', 'CENTRUM', 'KARTKIN', 'ROSEI', 'ZSURYODI', 'OSCAR', 'MAESTROM', 'BIDL', 'TCIFINANCE', 'SAGARIN', 'KRATOSENER', 'SHRERAN', 'ANTARIKSH', 'IITL', 'INDPRUD', 'TATAINVEST', 'JAYBHCR', 'PRISMX', 'KILLICK', 'KIRTIIN', 'HNDTRAN', 'MOTOGENFIN', 'RAPIDIN', 'ORINTIN', 'GUJORGA', 'WALCHPF', 'ZURVICHM', 'SHAWWALLACE', 'ZSWASTSA', 'WHBRADY', 'AKASAGC', 'ALERPTR', 'TECHNVISN', 'SHAILY', 'BBTC', 'BOMBCYC', 'GREAVESCOT', 'MAFATDY', 'BOSTON', 'MACK', 'MALTC', 'MULLER', 'PARDI', 'UNITMOT', 'SHDHOOT', 'AMALGAM', 'ANANDPROJ', 'ZANDHVRT', 'INDIANVSH', 'TPSEC', 'THAES', 'BHARLIN', 'CENTPROV', 'COASTCORP', 'CHOWGULSTM', 'GLOBOFFS', 'DHENUBUILD', 'ASIIL', 'MEWARMR', 'PANCHCE', 'DHARCEM', 'JANPRIY', 'SAGCEM', 'HEMACEM', 'DECCANCE', 'KLYNCEM', 'MANGLMCEM', 'NARMC', 'OCL', 'NCLIND', 'SAURASHCEM', 'SHREDIGCEM', 'ZSOMESCE', 'BOMBPOT', 'BORORENEW', 'XCLGLASS', 'IAG', 'LERTHAI', 'NEYCERI', 'ORSIND', 'RASSIREF', 'SHVALGL', 'TRIVENIGQ', 'NILACHAL', 'LAXMPOPDM', 'ANDHRAPAP', 'JOLLNEW', 'AURANPAP', 'BALKRISIND', 'COAPADM', 'ELLOPAP', 'JYNTPPR-B', 'MYSPAPE', 'NATHPULP', 'ORIENTPPR', 'CITADEL', 'ROLLT', 'SESHAPAPER', 'SHRVINDPPR', 'SIRPAPER', 'SOLIDCO', 'SPECIAPP', 'DHAMSUGR', 'VIDHAPA', 'SHIVAPPR', 'SHBHAWPA', 'PAMWPAP', 'NATHIND', 'VAPIPPR', 'KITPLY', 'ARUNODAY', 'BANSTEX', 'BELWSPG', 'SINTEX', 'BLUBLND-B', 'ZCUDDSPG', 'DAWNMILL', 'DCM', 'DRBYTEX-B', 'ZGAEKWAR', 'GNDHISP', 'FORBESCO', 'HPCOTTON', 'HINDSPG', 'UNITEDINT', 'JAMSHRI', 'KCTXL-B1', 'KATRSPG', 'KESORAMIND', 'KHATAU', 'LDTXL', 'LAKSHMIMIL', 'VTL', 'MAHWRML', 'MALWACOTT', 'MATUSTX', 'MODERN', 'PENINLAND', 'NAVSARI', 'PASUSPG', 'PHOENIXLTD', 'MARATHON', 'RAJABAH', 'RELCHEMQ', 'RUBYMILLS', 'SHREERAM', 'SIMPLXREA', 'SAMSPIN', 'SUPERSYN', 'SVDSIMI', 'SWANENERGY', 'VICTMILL', 'ZSVTRADI', 'ZSVARAJT', 'ZDOLPINV', 'SHELLIN', 'SALSAIN', 'DHANLEELA', 'INDSOYA', 'ZODIACVEN', 'AEONIA', 'VEERENRGY', 'SW1', 'SHETYLSDM', 'TILAK', 'NEWCCRD', 'ZMANOWIN', 'KKFIN', 'UNIJOLL', 'CMMQ', 'WAGEND', 'ZLIGHTHS', 'GLMINEF', 'ELCIDIN', 'ZRAIINVE', 'MEDIAONE', 'HEALINV', 'SAHARA', 'SOLITIN', 'COBALIN', 'SHRENTI', 'GEODESIC', 'ZHARYCONDM', 'BANSWRAS', 'ZAMBISLK', 'BOMSILKDM', 'GSLINDL', 'GRWRENY', 'APR', 'MODWOOL', 'MODIPON', 'NRC', 'SHRUSYN', 'DIGJAM', 'SHREESYN', 'SHRIDINE', 'SRF', 'SIYSIL', 'SWADPOL', 'BIRLATR', 'KAREEMS', 'FOMEHOT', 'SHRAJSYNQ', 'HAMSTAL', 'JAINSPN', 'SUPERSP', 'JAIPURPO', 'SHRMFGC', 'PRIYADSP', 'TRPATFB', 'ORNTSYN', 'HINDSYNTEX', 'ZSATYASL', 'ARIHANTIND', 'OXEM BAP', 'ASIANELEC', 'BAROELE', 'BBL', 'CTRMFG', 'DEVINDL', 'ZDIGIELE', 'EDDYCUR', 'ELPROINTL', 'EMCO', 'GEE', 'GLOBACT', 'HIRECT', 'NIPPOBATRY', 'INDSCBL', 'ZENSARTECH', 'JYOTI', 'JSLINDL', 'KAYCEEI', 'KHNDHER', 'INDOKEM', 'PANAENERG', 'MLTRNSM', 'NELCO', 'OTISEDM', 'PERMAGN', 'HIGHENE', 'STDBAT', 'SYLVAEL', 'TRANELE', 'UNIVCABLES', 'WSIND', 'WILLARD', 'DLTNCBL', 'GENELEC', 'ELCTRA', 'FCIOEN', 'SAHAKEI', 'DELTRON', 'LAKSELEC', 'KHAITANELE', 'MODULEX', 'WESTELE', 'PUALIDM', 'DELTAMAGNT', 'POLARIND', 'TATAINFOTE', 'KARWELD', 'PAZEL', 'INTRA', 'ZBALSHYG', 'CONFINT', 'RELTD', 'KANUMUN', 'SAMLEPU', 'GDTRAGN', 'EMPOWER', 'ZTITANTR', 'ZMULTIPU', 'TURBO', 'REMISIN', 'ZSIYARPO', 'RIDHISYN', 'CHAMPFIN', 'GRANDMA', 'ZARDIINV', 'ZOPALTRD', 'SOFTBPO', 'ATETRMGDM', 'NYSSACORP', 'FLOMIC', 'SMPLXTR', 'ELFTRDG', 'ZBALGHOL', 'AVTIL', 'KRISHNA', 'UPTOWTR', 'GANHOLD', 'SJCORP', 'MALCO', 'HARSTEEL', 'UNIABEXAL', 'SARDAEN', 'SOMANI', 'BIHRFOC', 'ANILSPL', 'BGWTATO', 'BOMBWIR', 'CANRSTL', 'UNIVPRIM', 'GALADA', 'GONTER', 'GKW', 'GRHMFRT-B', 'GUJSTUB', 'HINDWRS', 'HWIREMT', 'STRIPMT', 'IBRIGST', 'INFORDR', 'INDIANHUME', 'ZDERCOIL', 'INLCM', 'INDMETA-B', 'INSMT', 'INDWIRE-B', 'INVPRECQ', 'SUMMITSEC', 'INFORTEC', 'MAHINDUGIN', 'MAHELEK', 'KAIRA', 'MHECKMT', 'ZMUSSSTL', 'PRATRAJ', 'ORISSASP', 'ORIENTABRA', 'NATIONSTD', 'NAHARINT', 'RATHIAL', 'RATHISPA', 'RATHIST', 'DUNCANENG', 'SANDUMA', 'JHAGCOP', 'ZSMAHISP', 'STELCOM', 'STOVACQ', 'STEWARTQ', 'TATAYODOGA', 'TINPLATE', 'CHOLAHLDNG', 'ZWELCAST', 'VIDIRMT', 'BHRKSTSER', 'WMINIMT', 'AUTOAXLES', 'ATLASCYCLE', 'ACGL', 'CLUTCHAUTO', 'SETCO', 'INRADIA', 'SCOOTER', 'SANENG', 'TALBROAUTO', 'ZFSTEERING', 'BOSCHCHAS', 'KINETIC', 'SMLISUZU', 'TIL', 'EICHERMOT', 'JAINEX', 'ALFREDHE', 'CIMMCO', 'VELJAN', 'DYNAMATECH', 'GGDANDE', 'TATCP', 'GMM', 'INDABRT', 'WEBELSE', 'JOHNFWL-B', 'KIRLPNU', 'TULIVE', 'KPT', 'KUNLENG', 'LXMIATO', 'LYNMC', 'MANUGRAPH', 'ZLOYAENG', 'MIRCH', 'MONOT', 'NESCO', 'INTEGRAEN', 'BOSCHDM', 'REVATHI', 'SIMTOOL', 'STANENG', 'SLMMNKL', 'TECHELE', 'TEXINFRA', 'WENDT', 'STARMCH', 'BIRLMCTOL', 'PSITINFRA', 'SINDUVA', 'AXONVL', 'RESPONIND', 'ZSAMTULI', 'SHRSHATEX', 'SHYMINV', 'ZARIHPET', 'MAHACORP', 'ZPARICIN', 'DOLATALGO', 'SHYAMHO', 'PRISMINFO', 'WESTLIFE', 'ZVVNMFG', 'ZEEL', 'IMCFINA', 'SUNFI', 'BALAHDG', 'ZAQULNDI', 'GOLDCORP', 'WWTECHHOL', 'ZKOVALIN', 'SVPGLOB', 'SHKRISHNAB', 'MULTIIN', 'SKYLMILAR', 'REMIPRO', 'ABCBEARS', 'ASIANBRG', 'CPECLTD', 'BIMETAL', 'CHIPIDM', 'TAPARIA', 'BHARATGEAR', 'BRADYM', 'LATIMMETAL', 'ELECON', 'DECANBRG', 'GRAUWEIL', 'GAJRA', 'HIMTEK', 'GABRIEL', 'HERCULES', 'AQFINTECH', 'IFBIND', 'SINGER', 'INTLCOMBQ', 'FMGOETZE', 'JOSTS', 'OTOKLIN', 'PERCI', 'SCHAEFFLER', 'MPCOSEMB', 'RANEHOLDIN', 'ROLCOEN', 'REILELEC', 'SECALS', 'SNL', 'SHBEREN', 'JAIPAN', 'APSSTAR-B', 'MANCREDIT', 'TRF', 'WPIL', 'ALFALAVAL', 'KENNAMET', 'HINDHARD', 'EXEDYIND', 'VISHMEL', 'CENTTUBDM', 'TRITONV', 'HINDUJAFO', 'AJNTTUB', 'SUDAI', 'JRIIIL', 'PRAKASH', 'HVL', 'BHRKALM', 'MAISF', 'ZPRBHSTE', 'ARIHAST', 'STEELTUBES', 'ARSHIYA', 'GRINDWELL', 'LAKPRE', 'ANUPMAL', 'BCLFRG***', 'CASTRON', 'QPRO', 'VICTENT', 'STANROS', 'PRECTRA', 'GENESYS', 'ZJALAVEG', 'LIFELINE', 'VIVEKCO', 'ALNATRD', 'PANKAJPIYUS', 'NIDHIPL', 'PARNAXLAB', 'NGRJFIN-B', 'INDIACO', 'INTELLCAP', 'HIRAMFN', 'VYAPAR', 'VIVIDHA', 'SARAFSO', 'GATEHLD', 'ETCNETWORK', 'ASISL', 'ISHWATR', 'TERRAFORM', 'BRINDHL', 'APIS', 'NASHINV', 'HIRAN', 'ZSAMPACH', 'ZJTYUTXL', 'SUSMITR', 'VELOXIND', 'EMERGENT', 'KANANIIND', 'GCKL', 'ZSARVAMA', 'ZSUSHRTR', 'ASL', 'VIKSHEN', 'BLISSGVS', 'MRTENTI', 'STYRENIX', 'ADARCHM', 'RHODIA', 'ALEMBICLTD', 'AMRDYCMDM', 'AMNPLST', 'ANUHPHR', 'MODISONLTD', 'ARLABS', 'ASSAPET', 'BARIUMC', 'BAYERCROP', 'SASHWAT', 'BORAX', 'CELUPRO', 'CHMEQUP', 'CHEMPLAST', 'CHEMOPH', 'CITRIND', 'CITURGIA', 'CLNINDIA', 'COROMANDEL', 'DEEPAKNI', 'DMCC', 'FERMENTA', 'FICOMOR', 'ZGATEWCH', 'GUJCARB', 'SIGROUP', 'HICOPRO', 'GOCLCORP', 'IDI', 'INDELTC', 'JKINVESTR', 'JYNTVTM', 'JAYCH', 'JLMORI', 'KANORICHEM', 'KELENRG', 'KEMP', 'NITTAGELA', 'ZKEYTUCH', 'KUTCSAL', 'MPAGI', 'SIEHEALTH', 'ORIENTCQ', 'PBGLOBAL', 'PCBL', 'AMAL', 'POLYCHEM', 'RAJPCHM', 'SUNASIAN', 'PUNJABCHEM', 'GUJCMDS', 'SADHNANIQ', 'SEARSOLDM', 'ZSOMAIYO', 'SUDARSCHEM', 'SYNTHCHEM', 'TRELCHE-B', 'ULTRAMAR', 'TRANSPEK', 'UNICHEMLAB', 'CABINDM', 'SWASURF', 'ZANDUREALT', 'MYSORPETRO', 'HINDLEVCHM', 'RHONPDM', 'PAUSHAK', 'ALKYLAMINE', 'FULFORD', 'TUTIALKA', 'DIVYCHM', 'PHARMACIAH', 'ASTRAZEN', 'AIPCL', 'UDAYPCH', 'PUNNFERDM', 'PRIMO', 'TANFACIND', 'GUJPETR', 'SWADEIN', 'MASCH', 'MAHAXPO', 'MAHEXCH', 'SHREEJAL', 'GUJTHEM', 'PIRHL', 'CHEMFALKAL', 'MERIN', 'VARACDM', 'SHACIDS', 'SCBL', 'JAYSYN', 'MAKERSL', 'ZGUJBNIL', 'CONTCHM', 'KAPPH', 'HARPCDM', 'JBCHEPHARM', 'IGLFXPL-B', 'ADVPETR-B', 'NIRUPSYDM', 'INDGPRO', 'MOTOROLSP', 'ZRATHIND', 'AGROCHM', 'BBREALTY', 'RAJSPTR', 'APTPACK', 'BLUECHIPT', 'TWILITAKA', 'GWPLPIP', 'RGNTCHM', 'NOBLEXP', 'HINDACH', 'SHRISHM', 'BELAIND', 'BSILTD', 'GWALSUG', 'HARBRDM', 'ZHINDBRE', 'INDSUGA', 'JAGAJITIND', 'KESARENT', 'KOTHARIS', 'TI', 'OUDHSUG', 'EMERALL', 'ARLMBRWDM', 'RAVALSUGAR', 'SAKHTISUG', 'SICBRDM', 'SKOLBDM', 'VISHNSG', 'WALCHANNAG', 'PONNI', 'CHAMPGN', 'KHODAY', 'IFBAGRO', 'DHARSUGAR', 'SIMBHSUGAR', 'MACAGRO', 'THIRUSUGAR', 'RAJBREW', 'UBHOLDINGS', 'WCOSTSG', 'SHVANI', 'VENUSUG', 'KFBL', 'BLOSIND', 'ISHMS', 'DUJOHN', 'SRCHRDM', 'CAPRO', 'GMBREW', 'RANASUG', 'CHABRDM', 'PICCASUG', 'GIRDSGA', 'RIGASUG', 'SDBL', 'CJGEL', 'SULINDI', 'SUPDF', 'RAINBRE', 'MOUNTSHIQ', 'AMRITCORP', 'ASALCBR', 'EASTSUGIND', 'ASIFOOD', 'INBEFDM', 'CORAGRO', 'FOODSIN', 'IVP', 'KLRFM', 'ZLAXMSTADM', 'OLYOI', 'MLKFOOD', 'POLSON', 'RASOI', 'ZSATHEBI', 'RATNAMAGRO', 'SAGRSOY-B', 'TRISTR', 'MHSHPRT', 'WIPRO', 'ORIBEVER', 'PRESHMP-B', 'PHARLAB-B', 'GILTPKG', 'EBEPH', 'DHANUKA', 'DEEPPHR-B', 'SHVFERT', 'SANDRSN', 'GODAVRFERT', 'DRSABHP', 'HARSCHM', 'TTKHEALTH', 'MJPHADM', 'TGVSL', 'CEPHORG', 'LIMECHM', 'TEEM', 'GUJPLYW', 'SILTP', 'KANPRPLA', 'TAINWALCHM', 'JAGSNPHARM', 'GUJPRDM', 'KHAICHEM', 'JHAVFLEXO', 'UNTTEMI', 'NOL', 'GILLETTE', 'WIREFABR', 'VOLEX', 'TURNKEYDM', 'ANSALHSG', 'PREMRIN', 'COMPUPN', 'MCCHRLS-B', 'KOTRIFNDM', 'ADDIND', 'PIONRINV', 'GUJOILD', 'VIJAYCO', 'LLOYDFIN', 'ASHNOOR', 'MALABARB', 'UNITECH', 'VIPIND', 'NUMEM', 'DHRUVES', 'WINSOMEDJ', 'SCHABLON', 'DYNASFN', 'JAIYATA', 'HOYSBLO', 'FIBERWEB', 'LKPFIN', 'SAMRTHS', 'EASTBUILD', 'ARUMUGA', 'ZGOLDHOL', 'BLCHPLE', 'JAYBFAB', 'WRLDLNK', 'KUDRINV', 'ALEXCON', 'INOVTV', 'MNPLFIN', 'HIGHL', 'JOGENG', 'BAJAJST', 'KIDUJA', 'KEYCORP', 'SHIKHARLETR', 'VITAMZD', 'CONCON', 'GUJHOTE', 'RAJATH', 'ALIANCP', 'RASRESOR', 'JOLYPLS', 'PARMCOS-B', 'JINDHOT', 'SERIND', 'JPTRLES', 'OPGMTFN', 'SIMMOND', 'BNALTD', 'DPIL', 'WTAL', 'ROSINDM', 'LEDOTEA', 'HAWKINCOOK', 'WARRENTEA', 'COCHMAL', 'BESTEAST', 'NEAGI', 'SATELINFO', 'UNIQEST', 'ISTLTD', 'GORDONW', 'COSMOFIRST', 'FICSCON', 'ZASIATPR', 'ZKAMPACO', 'LUSTRTI', 'DIAMANT', 'NEWMKTADV', 'APOLLOHOSP', 'NITINCAST', 'ZENCAP', 'SMIFS', 'EVERESTIND', 'BELLREMDM', 'ZPROGLEA', 'ZSNEHCON', 'WINDSCP', 'MIDINDIDM', 'IRONWOOD', 'MSRINDIA', 'NORTHPR', 'JOYREALTY', 'AYMSYNTEX', 'KIRTIMO', 'BLCISER', 'PANCARBON', 'FINKURVE', 'HBLEAS', 'SHRICON', 'STRLGUA', 'MOTOROL', 'SULABEN', 'SPANCO', 'SPLTECHNO', 'FRONTCAP', 'LINKSONI', 'BHAHODM', 'ABACUS', 'NAVNETEDUL', 'KEDIACN', 'SATRAPROP', 'STEERINTER', 'DAGALEA', 'EMPHOTR', 'TRANOCE', 'PAGITLS', 'AUSOMENT', 'CHISEL', 'THAKRAL', 'RUCHINFRA', 'DOWELEA', 'GOLDLEG', 'VJTFEDU', 'ESERVE', 'JAFLEAS', 'KALPVIND', 'VOLLF', 'NETLINK', 'TRILIANCE', 'LANCORHOL', 'INDINFO', 'BANASFN', 'VISAKAIND', 'GHARFIL', 'ZHIMATMO', 'INFOMEDIA', 'HATHWAYB', 'PRESSMN', 'GUFICBIO', 'MIDLIND', 'PHOTON', 'GROVERLE', 'HAJIMAN', 'OSWALEA', 'ARICONS', 'MODISTO', 'DUNLOP-B1', 'GOVINDRU', 'GRPLTD', 'INDAG', 'ZKERARUB', 'MMRUBBR-B', 'PTL', 'TVSSRICHAK', 'SWASRUB', 'VIKTY', 'AMZLAUT', 'ECGIL', 'APTANN', 'WOPOLIN', 'SEL', 'BENARAS', 'BELLGRP', 'BHAGWOX', 'ZBIHAAIR', 'BOMOXY-B1', 'CRAVATEX', 'BOMPAINT', 'BRITCAR', 'BERGEPAINT', 'CAPRIHANS', 'GRAPHITE', 'CARONA', 'ITDCEM', 'CTRNIND', 'DOLPHOT', 'DSPML', 'EMPIND', 'FALCONTQ', 'EASTHOT', 'GCLARIDDM', 'GRAVISSHO', 'GAMMONIND', 'GARFIBRES', 'GARWAMAR', 'GOACARBON', 'ZGOVPOOX', 'GRPHIDM', 'HARDCAS', 'HLTNRUB', 'HINDDORROL', 'HEG', 'HINDCOMPOS', 'ZHINDHSG', 'HINDOXG', 'HOTBENJ', 'HIL', 'INDIAFOI', 'INDIANCARD', 'DGPSEC', 'GESTETQ', 'KODAKDM', 'INTLCONV*', 'VDOINDIA', 'JAYSHREETEA', 'BHURUKA', 'KOTIC', 'MNDVPEL', 'MODRNSH', 'MAPROIN', 'OSEASPR', 'NEWINDI', 'HUHTAMAKI', 'POONHOTDM', 'PREMSYN', 'PUNWOOLC', 'RJSHAH', 'ROPLAS', 'SHAHCON', 'SHALPAINTS', 'SINNAR', 'SIPORDM', 'HINDMILL', 'ZSOUTGAS', 'TECHCON', 'ZSHVIJAY', 'SUPREMEIND', 'THACKER', 'TRADWIN', 'TCI-B1', 'UPHOT', 'VSTIND', 'UBENGG', 'SWASTIVI', 'MADHUSE', 'YAMNINV', 'PREMCAP', 'ZMILGFIN', 'ZSUBWAYF', 'GULFODM', 'NAGPINV-B', 'INTEGFIN', 'JINDRILL', 'ZARCOLEA', 'DCLFIDM', 'STDMDCH', 'KUSUMEL', 'RANAKEX', 'FLFININ', 'VIJAYLE', 'JUMBFNL', 'APLAYA', 'SAKTHIFIN', 'DHFL', 'EASYFIN', 'SATINDLTD', 'ZTELETEK', 'MAAJTL', 'CIFCO', 'JMDVL', 'TVOLCON', 'NIVEF', 'SHIVTEX', 'VBDESAI', 'VALUEMAR', 'QUADRANT', '1STCUS', 'DUGARFNDM', 'GALAXCP', 'KAMANWALA', 'KOTHARIFIN', 'BAJRFIN', 'SANEX', 'ASYAINFO', 'WSFX', 'REMITR', 'ANJANIFOODS', 'SAFIN', 'SHRIRAMI', 'ELCONFN', 'RKDAGRRTL', 'PARSHWANA', 'SHOPINV-B', 'SURYAKR', 'MILLENNIUM', 'ZCANSHR', 'ICDSLTD', 'CANFINHOME', 'MUNCAPM', 'IVC', 'BASILINF', 'LEAFIN', 'SHRIRAMFIN', 'CANDBLE', 'TATAFIN', 'CHOLAFIN', 'BOMTALKIES', 'SAGARSYST', 'IDINFO', 'GICRISE', 'GICRIBO', 'NEDBKDM', 'KKUMTFN', 'CEATFIN', 'KIRIF', 'MEFCOM', 'CRBCAP-B1', 'GRUH', 'GLOBFIN', 'PALCRED', 'PREMINT', 'GICCUBN', 'RADKHFI', 'INDMOTI', 'ALPICFIN', 'VLSFINANCE*', 'SANMACDM', 'APPLECREDT', 'UCILLEA', 'SYNRGFN', 'INDCEMCAP', 'KAILASH', 'ADMANUM', 'VISHWAFIN', 'MEGLON', 'FIRFIN', 'VATCO', 'JNFSL', 'CONCCAP', 'MEHIF', 'FIDLFIN', 'HARVFINDM', 'BURBR', 'IFBFINADM', 'VIDEOIND', 'INTRGLB', 'DFLINFRA', 'BALATECGL', 'MCLTD', 'MERCARD', 'SHRISTI', 'CREST', 'WEBSITY', 'LEASIFN', 'PINEANIM', 'SCHEMFN', 'ATNINTER', 'INTEGENT', 'VAKRANGEE', 'INSTAF', 'COIMLAK-B', 'GUJCRED', 'ICICIPR', 'VGPFINC', 'SYLPH', 'DHARFIN', 'ALEXANDER', 'RUSHBCP', 'SHUKDTA', 'INDBANK', 'BIRCFDM', 'CHEMXSC', 'THAPRFN', 'GANDLEA', 'VCKCAP', 'YULEFIN', 'ARIHCOR', 'BHARAT', 'SECEARTH', 'CAPITALT', 'USHAKIRA', 'VIVOBIOT', 'MONEYCF', 'SARLCRD', 'SSLINDI', 'SURAJSC', 'TULIPFIN', 'VEERHEALTH', 'PANINDIAC', 'LALBHFN', 'APACFIN', 'SAHARAHOUS', 'NDASEC', 'SUPRATRE', 'PLATIFN', 'GSBFIN', 'KIEVFIN', 'MORARKFI', 'MONARCH', 'ONIDA', 'PROFINC', 'PUNSUFO', 'TIMESGTY', 'INDNAVR', 'SANCF', 'SOURFIN', 'SODFC', 'CRBARIH', 'AMRUTCR', 'SAVFI', 'KINALFN', 'REGTRUS', 'AMBSECU', 'AVONMORE', 'SHRACHI', 'LIBORDFIN', 'PALSOFT', 'RAUNAFI', 'YASHMGM', 'ARIHCAPM', 'BIRSHLEDU', 'ISLCONSUL', 'DCMFINSERV', 'HARVIC', 'ICIPOWRDM', 'JIKIND', 'GANITAK', 'TAURUSN', 'BCLFSER-B', 'RRFIN', 'IMCAP', 'SAMBHAAV', 'OLYMTFI', 'DUGARHOU', 'DJSSS', 'MADHURC', 'SANGHCO', 'WISEC', 'OMEGAIN', 'VIJACAP', 'ATASECU', 'CVILINFRA', 'GEMOIL', 'SUGALDAM', 'CYBERSPACE', 'NETTLINX', 'PREMCAPM', 'AJBRO', 'BGIL', 'MANGFIN', 'FACTENT', 'ADCONCP', 'SCANSTL', 'OLYCAP', 'GICHSGFIN', 'DAMANFN', 'MRRYSFN', 'IFLPROMOT', 'RELIAFN', 'MATHEWE', 'WARNER', 'AJCON', 'ALPINFN', 'CHRTEDCA', 'BHAGYFN', 'STANCAP', 'YOGI', 'SHRIBFN', 'ACTIONFI', 'CUBIFIN', 'RELICTEC', 'NIMBSPROJ', 'ESCORTSFIN', 'ATHENA', 'CAPMANFI', 'SOMANFN', 'BAIDFIN', 'VIPUL', 'KZLFIN', 'AVASARA', 'PASUFIN', 'USHDI', 'MEHSECU', 'MEHTAHG', 'UGROCAP', 'FCGL', 'KSTRIFN', 'ASCENTEX', 'ORTHGFN', 'SAHLIBHFI', 'ABIRAFN', 'MANSIFIN', 'SEVENHILL', 'KUBERFN', 'AASTAFIN', 'MUTHTFN', 'MASTERTR', 'ZTRANS23', 'HAREKIN', 'ZJIWAAPP', 'VISNUPR', 'ZNILKENG', 'EFCIL', 'ANGFNDM', 'TEATIME', 'SOBME', 'ZEXDONTR', 'CNIRESLTD', 'ZSARACOM', 'WINROC', 'NDMETAL', 'INERTIAST', 'PHTRADING', 'SHOTI', 'PRISMER', 'KAPILCO', 'ASWTR', 'CHEMXCHDM', 'ROYALIND', 'LUHARUKA', 'SAGRSLK', 'DRAVIND', 'SHYAM', 'ZSANMCOM', 'AYOME', 'VISVEN', 'MRUTR', 'VISJYTR', 'DECNGOLD', 'ZBIOSTCODM', 'UPL', 'SUCHTRD', 'DOCTORBI', 'PARIJAT', 'ANSHNCO', 'CRANESSOFT', 'ZFOURDIMDM', 'SAICOM', 'EY', 'TRIPR', 'NIDHGRN', 'PROAIMENT', 'ZGOLKOND', 'AVIVA', 'JAHATRADM', 'KELVINFIN', 'ROSEMER', 'TWIROST', 'ZATULTRD', 'ZSANCHTR', 'ETPCORP', 'JAYAMEL', 'SIGNETIND', 'ENSSI', 'ZACUMTRD', 'ZWALCONS', 'CREDNFN', 'KAJALSY', 'AVANCE', 'MLINDLTD', 'TERRAREAL', 'SECURKLOUD', 'EXTCO', 'ABANSENT', 'MATRAREAL', 'CAPRICORN', 'PARKAVN', 'VAMA', 'CHMERCN', 'SUNTECK', 'HARTF', 'IOLN', 'GRFINDL', 'PREMKUT', 'MISHKAFIN', 'ZDCLSECU', 'BENTCOM', 'SILVERO', 'COREEDUTEC', 'VATSAEDU', 'EFFTXT', 'SANGEXP', 'CLASELE', 'STEPHANOTIS', 'PRISMMEDI', 'FINAVENT', 'SPVGLOBAL', 'ZSIMCOTR', 'ANGLOBA', 'VERITAS', 'JAYTEX', 'JAICORPLTD', 'ZJQARTCH', 'SURASEC', 'ZNIVITRD', 'ASHCAP', 'MEUSEKARA', 'ZWINMOTR', 'SVARTCORP', 'BAJGLOB', 'ZPURVENGDM', 'AVONMERC', 'MMWL', 'ZWARDENC', 'TASHIND', 'ARONICOMM', 'AUTOINT', 'NNTL', 'EUROPLS', 'YUVINTL', 'SHIRPUR-G', 'ZSPEEDCO', 'ZPARAPLY', 'BHAGYNAGAR', 'SHANTAI', 'STERLINBIO', 'CHMBBRW', 'ZMANSOON', 'ZKASLOWTDM', 'ROSETEX', 'SURCHIN', 'BIJLTEX', 'NTWSTFN', 'RAJLXIN', 'TRLTRAG', 'KRL', 'BIRLACAP', 'AVSWLTR', 'MAHSHRE', 'CESL', 'ARAVALIS', 'YASTF', 'LEADPKG', 'LINKH', 'ZMAGICOE', 'RUSODAY', 'ZANUKCOM', 'ZSUNITCO', 'SWORDEDGE', 'CUPIDTR', 'COSYMER', 'ZSHERAPR', 'ENNORE', 'ZESQENGP', 'INNOVENT', 'MAGANTR', 'CRESSAN', 'STARTECK', 'ZDELSTCO', 'WIINDDM', 'WASTHOU', 'SHARDUL', 'RATANGLI', 'SERA', 'ZKAYTCOT', 'BENGALS', 'IPOWER', 'UNIWSEC', 'RAJSAN', 'AUROBRT', 'SPECTACLE', 'MERCTRD', 'TRITRADE', 'ZSAMPKTR', 'MTZPOLY', 'NIRAVCOM', 'DEORAPL', 'NITININ', 'WHITHAL', 'ASUTENT', 'APOLLOFI', 'ESQRMON', 'ENBETRD', 'GANONPRO', 'DEVITRD', 'INNOVIS', 'SVCRES', 'SHRJAGP', 'LLOYDSME', 'PUNCTRD', 'SHRGLTR', 'SANTOWIN', 'BETXIND', 'VIRYA', 'POLYTEX', 'DHANCOT', 'REMIELEK', 'OASISEC', 'SONUSYN', 'GARNETINT', 'SHALPRO', 'AMARVAN', 'VARUNME', 'VINVANI', 'DONEAR', 'PRIYANK', 'NEPTEXP', 'SUPER', 'SEQUENT', 'STCINDIA', 'BHRATCOM', 'ASAHINFRA', 'LKSMITR', 'MAHDECO', 'KIRANTRDM', 'WORLDTR', 'DRUCGRF', 'PITFI', 'ZENITHEXPO', 'SAVOV', 'GIRSHTR', 'KOHINOOR', 'CHINEXP', 'OKARLES', 'RTEXPO', 'BHARPAR', 'ARONIEP', 'ADITLIM', 'AVANTI', 'RITESEX', 'GUJNRECOKE', 'LYNXINDDM', 'ENVCLEN', 'KARMA', 'ZODJRDMKJ', 'SITAENT', 'PULSRIN', 'PREMIND', 'UNIMOVR', 'KEYFINSER', 'ADANIENT', 'MACINTR', 'ASHPROP', 'HARIAEXPO', 'RUPIM', 'BHANDHOS', 'SHRIVAR', 'GRANHPH', 'ORINEXP', 'RLF', 'DUCTA', 'INDOSWI', 'REGENTRP', 'ORBTEXP', 'ACQUATR', 'SAVERA', 'PREYATRDM', 'AMIGOEXDM', 'STOCKNET', 'ARTIBIOIN', 'ARIHENT', 'ANDHRSI', 'VBCFERROQ', 'TATASTLLP', 'ZJEETMAC', 'HIMISPTDM', 'ZHIMTUBL', 'NAVA', 'ZHINUDYP', 'ISPLIND', 'REMIEDEL', 'GSAUTO', 'TRANSFRE', 'SANGHVI', 'FEROCON', 'SHBCLQ', 'GANDHITUBE', 'AMFORG', 'ABCGAS', 'ORICON', 'GUJWDGE', 'METAI', 'PIOALOY', 'BALASORE', 'ACROW', 'STINDIA', 'TECHTREK', 'SRAMSTLDM', 'STLSTRINF', 'STELAGE-B', 'ZRGISPAT', 'NATNLSTEEL', 'KRSTLDM', 'ANNFODM', 'MEKSOLT', 'GMMITAL', 'ANUPAST', 'HOGANDM', 'RMISTEL', 'UTTAMSTL', 'SRIISHR', 'PENIND', 'INDCHR', 'CHOKSITUQ', 'MSLIND', 'KANTHDM', 'JYOTISTRUC', 'JAYUSH', 'OREXTR', 'SSWL', 'MUKESTL', 'MANINDS', 'HINFIND', 'SUPERFORGE', 'THPRISP-B', 'GKSTLALDM', 'PREMPIPES', 'IMEC', 'SNGMALM', 'JALNISP', 'MDRNSTL', 'TERRASCOPE', 'SYNTHFO', 'GOLKONDA', 'ATMASTL', 'KUSMINV', 'AMBJELE', 'TAMSPON', 'GSALIND', 'DHTUSNK', 'BHUWALST', 'METALFORGE', 'GUJTLRM', 'GRANDFONRY', 'JALNFRG', 'AJMERA', 'SRKRSTR', 'COCHINM', 'MRMGAST', 'AMBJZNC', 'PARINFRA', 'ISWL', 'VARAHI', 'KVFORGE', 'CARBORUNIV', 'MMTC', 'DHAPOWR', 'INSSADM', 'DHTUFRG', 'SNGHLSW-B', 'NOVST', 'VALLABHSQ', 'ORDEIND', 'ASHIS', 'PMTELELIN', 'PENNARALUM', 'RAIPF', 'RAJINAL', 'ALCOBMT-B', 'SMPL', 'SMFIL', 'LADAMST', 'BLOIN', 'ELLOSTL', 'TRINETRA', 'MAITRI', 'TATAMETALI', 'SHAHALLOYS', 'RAJAMBI', 'ANIKSTL', 'SWETAST', 'JSWISPL', 'GANFNDR', 'MRDIACO', 'ELANGO', 'KANSHST', 'ASIANAL-B', 'MAHALXSE', 'SAMNAST', 'USHAIRN', 'DENHSTLDM', 'SIMPLEXCAS', 'STRNJAY', 'SAURALL', 'RAKSTEL', 'UNIMETA', 'TRIDSTLDM', 'SSWRL', 'GUJCONC', 'ASLOSTL', 'SIZEMASTER', 'SOUTHMG', 'CHARMST', 'BAROEXT', 'JAYAGRO', 'STARELE', 'GUJCONT', 'KALYANIFRG', 'PANCHMAHQ', 'ADITYA', 'SRIND', 'STEELCAS', 'PITTIENG', 'PUNIRST', 'SHREGRN', 'GLITTEKG', 'STELCOST', 'PRADPME', 'VARDHINDQ', 'GNRL', 'TNSTLTU', 'JAYIRST', 'MSCTC', 'SHRDAIS', 'MAHASTEEL', 'SERHDMT', 'REALSTR', 'VIRAJAL', 'MITHIMJ', 'NOVIS', 'RATHIMJ', 'VISHWAST', 'STERPOW', 'MIDWEIR', 'FFPL', 'SB&TINTL', 'STACH', 'GLEITLAI', 'SURANAIND', 'HINDCOPPER', 'MALHOST', 'MORWIRE', 'SRIPIPES', 'SRIVASAV', 'PITHMST', 'PRESHAMET', 'SHIVLOH', 'INLACGR', 'GLOARYA', 'SMELTER', 'KUSIS', 'KRISFEP', 'TULSYAN', 'RAJMALL', 'DHARIND', 'PANAUTO', 'TALVROC', 'NATUSTO', 'HJSSTON', 'AXELPOLY', 'BALAJST', 'DEWNSTL', 'MARGPROIN', 'CENTSHT', 'MIDEINT', 'NLCINDIA', 'MULTIARC', 'SPECTRA', 'JMTAUTOLTD', 'KAJARIR', 'SIDVIME', 'SINGALLDM', 'SOLIDSTON', 'AACHALL', 'KUMARWI', 'VARDWIR', 'MARDIAST', 'SHILGRAVQ', 'KITTIST', 'WHITEORG', 'VALLYAB', 'SAROMET', 'MFSINTRCRP', 'HGIND', 'CVSTEEL', 'RANJEEV', 'AROGRANITE', 'JGFOUMT', 'SHPOMMT', 'HIMFIBP', 'GUJFILA', 'PRSRSYN-B', 'BINDLTX', 'RAJKSYN', 'DEEPAKSP', 'SHRDATX', 'JBFIND', 'LOYALTEX', 'AKCSYNT', 'PRSRIND', 'HIMATSEIDE', 'BSL', 'ADHUSYN', 'EVERTEX', 'TRIMSYN', 'RAJPOLY', 'KRIMPEX', 'PBMPOLY', 'FUSPOLY', 'ADINATH', 'OASISTEX', 'GUPTSYN', 'ESKAY', 'ARIHANTCOT', 'KONARKSY', 'ARYNFFB-B', 'SURYALA', 'SURYVANSP', 'TTL', 'UNIWORTH', 'LKSHSYN-B', 'SHAMKMUL', 'VKAYFIBDM', 'MAHENPET', 'WELSPUNIND', 'INDIANACRY', 'GANECOS', 'VIKASAS', 'CEETAIN', 'VARDMNPOLY', 'RISHYRN', 'PUNFIBR', 'BLACKROSE', 'SHATEX', 'KESWASY', 'BHIWDEN', 'STCORP', 'BALATECIN', 'MARUTISDM', 'LOHIAPL', 'LIBRAFL', 'NUFABID', 'SHAMKENC', 'SUMEETINDS', 'MKDOTEX', 'BINNY', 'ZSRMEENDM', 'NHRFBDM', 'KLIFESTYL', 'RAMGOPOLY', 'KAYELSY', 'MADHUMI-B', 'CHANDSY', 'SANGAMIND', 'TTLEL', 'MKVENTURES', 'KUSHIND', 'MHMLIND', 'SILKONS', 'EASTRNSI', 'SRECR', 'MAYASPN', 'GIRNFIB', 'ENKTEXFOOD', 'HYTONE', 'SURBHIN', 'ANKITYN', 'SEASONST', 'ZENIFIB', 'SUBHTXT', 'AMARPLY', 'BHILSPIN', 'AARVEEDEN', 'GJKNIT', 'SANTETX', 'UNIIN', 'GKAYTEX', 'ASHIMASYN', 'INDPLYF', 'KREMSPN', 'HARYANATEX', 'INTEGRAL', 'PIONEEREMB', 'VIPPYSP', 'SKUMARN', 'GARLNIN', 'HANJFIB', 'PATEXTI', 'JAIHINDS', 'YNGIRSY', 'RAGHUSYN', 'JATTAINDUS', 'KAMADGIRI', 'OMNITEX', 'PATSPINLTD', 'NACHKNIT', 'ONEGLOBAL', 'NEOINFRA', 'DIVYENT', 'GENESIS', 'ADITYPL', 'ARNMNTX', 'BINASYN', 'BAROPOL', 'WINSOME', 'SSTSILKS', 'PAROSYN', 'PREMIERPOL', 'EVERLON', 'KRRAIL', 'ORIEFAB', 'MUKSYNT', 'CITIZYN', 'HARPOLY', 'USHMAPL', 'JAIPSYN', 'YARNSYN', 'MAIKALFI', 'UNIRLEA', 'GUJCOTEX', 'KARNIND', 'JAIMI', 'AJIL', 'ARMPOLY', 'SHEETFI', 'GARWSYN', 'SHARDFI', 'KRISSYN', 'NEINTEX', 'ORTOSYN', 'TOORPSY', 'SARUPINDUS', 'OXFORDIN', 'KAMALDS', 'MANORG', 'SDHATER', 'HINDADH', 'RAJRS', 'NTEXINDDM', 'RSLINDU', 'KONGINT', 'SUPSOXL', 'BPTEX', 'SRIKPRIND', 'LSIND', 'JYOTIRES', 'MHLXMIRU', 'ADHUYRN', 'SOUTLAT', 'SHANINT', 'OSWAYRN', 'TAICHONG', 'ESSJSYN', 'WINSOMTX', 'FILAMENT', 'FAIRDSY', 'AKAIMPX', 'TERRYGOL', 'ARIHANTRED', 'ASAHIIND', 'THAMBBI', 'POLTC', 'SARDAINF', 'INDPOLYS', 'MANGALVEN', 'SHSHYAM', 'SPACI', 'MODINSU', 'UNIFRAXINDM', 'REGENCERAM', 'VICGLSS', 'WILDONDM', 'ASAHIINDIA', 'ROCKCOP', 'BELLCERA', 'MURUDCERA', 'MTLXCER', 'SAINTGOBAIN', 'ATULGLS', 'ZGMBCERA', 'ANANTRAJ', 'MADHUDIN', 'GRPOGRN', 'SANDPLS', 'SRIVAJRA', 'RESTILE', 'DCCNGRN', 'MADHAV', 'GGGRAN', 'VERTICLIND', 'YNPYMN', 'CHARMGR', 'ASSMRMO', 'CRBCORP', 'STIGRAN', 'UPMINRL', 'COMTGLS', 'RAMASIGNS', 'DUCKFIN', 'CANAGLS', 'PHILIPSGLDM', 'HARYANSHET', 'HINDNATGLS', 'HALDYNGL', 'HINDCER', 'HIMATAUT', 'TUNGPUL', 'DUROPLY', 'MANGTIMBER', 'BESTBRD', 'SHREYANIND', 'AGIOPAPER', 'STARPAPER', 'SHREAMBP', 'YASHPAKKA', 'SARDAPPR', 'SUSHLPU', 'RNPAPER', 'SOMAPPR', 'SHREEIN', 'DADRAWP', 'NAYAPAP', 'SHEFAPP', 'NISHPAP', 'BUTAPRNDM', 'RUPALAM', 'FLORAWA', 'JACKPRD', 'NATPLY', 'ARROWGREEN', 'MUKPA', 'CRESCOL', 'VISHNU', 'RANAMOH', 'ADORTECH', 'JUMBO', 'SUPEPOL', 'NRAGRINDQ', 'VIDHIIN', 'SRPML', 'SAURAPB-B', 'WATSSOFT', '3PLAND', 'SANPA', 'VENTURA', 'CONWAYP-BDM', 'CRESPAP', 'SHKARTP', 'STHINPA', 'FAMILYCARE', 'BKDUPLEX', 'BIRLAPOWER', 'PIONAUT', 'VINDHYATEL', 'POWERFL', 'RIR', 'ADORWELD', 'IDM', 'FORWSEC', 'PUNSUMI', 'RPGCAB', 'SALZER', 'JETKINGQ', 'INDAGIV', 'HIGHGROUND', 'WSTNCOM', 'APLAB', 'PCS', 'VHELIND-B', 'MOSERBAER', 'USHAMART', 'SPARKPL', 'TELECABL', 'ZENITHCOMP', 'SPELS', 'SUBROS', 'EDVENSWA', 'PERVASIVE', 'HONAUT', 'TEKTRON', 'SLDAIRE', 'ORGINFO', 'NATNSWI', 'SWITCHTE', 'BEELE', 'ELNETLDM', 'LUMAXIND', 'TOSHA', 'HOTLINET', 'ONIDASAV', 'AKGACCU', 'DIGISPICE', 'YOKOGAWA', 'INCAB', 'BPLREF', 'SUJANAUNI', 'TRENDELEC', 'PAEL', 'CALCOM', 'DYNAVSN', 'HINDPOW', 'BCCFUBA', 'BST', 'INTEGRA', 'PROFCIR', 'PRECISIO', 'FINELINE', 'PRTHELE', 'NAMTECHELE', 'HBLPOWER', 'S&SPOWER', 'SRYMRPH', 'INTRODM', 'VIJAYIND', 'TRNSPEN', 'VPPOLYC', 'AUTOPAL', 'GUJARATPOLY', 'PHOENIXLL', 'GIPCL', 'MDHITCH', 'ELCAPCP', 'SALZCNTDM', 'INDOASFU', 'SAVINFOCO', 'CMC', 'SPRMCON', 'CMI', 'MUKATITDM', 'MOTHERSON', 'MODMA', 'MINTAGE', 'MINDTECK', 'PURVIEL', 'DIGIWRDDM', 'EIDRELE', 'HAVELLS', 'ACIIN', 'ELITAPL', 'SBECSYS', 'ALACRIEL', 'SRSTENT-B', 'INCAP', 'GUJINTRX', 'MUKSTRI', 'OPAL', 'ELEXT', 'IGARASHI', 'KRISOEL', 'SYMPHONY', 'USHAUDG', 'GAMIE', 'VINTRON', 'UCALPWR', 'PANELEC', 'VXLINSTR', 'SUNSOUI', 'ADITYEL', 'TOYAMAQ', 'SHYAMTEL', 'LEENEE', 'PATELSAI', 'HARTNCO', 'BUTTERFLY', 'INTEGSW', 'HARTNET', 'ATHENAGLO', 'NARMP', 'INSOE', 'EQUPCON', 'DUTRON', 'TRNINGL', 'RSSOFTWARE', 'MAGNAELQ', 'ARUNPIPDM', 'ANCO', 'LINAKS', 'ODVDC', 'MARSONS', 'WORLDGT', 'KOATOOLIN', 'DATAPRO', 'ELNET', 'APTL', 'MICROEN', 'INDOPWR', 'SATKAR', 'SUPSTAW', 'STIPROD', 'ACCEL', 'RICOHQ', 'WEBELSOLAR', 'ROTO', 'ICESOFT', 'GEMCABLE', 'TTKPRESTIG', 'DYNIDUS-B', 'DIGHELE', 'MOTIELE', 'DHINDIA', 'LEEL', 'RAJGLOWIR', 'INDITALIA', 'SJBTUBE', 'SURANAT&P', 'RAJVELE', 'NIVINFRA', 'ONWARDTEC', 'DIGIMULT', 'NEXUSSOF', 'CENTUM', 'ALFATRAN', 'STARLITE', 'ADVNCMIC', 'NHCFOODS', 'PVP', 'TINAELE', 'TRIGYN', 'GRCABLE', 'ASHCONIUL', 'RAMSTEL', 'KEI', 'INDLMETER', 'DMCEDU', 'KEERTHI', 'BHEEMACEM', 'SRVIC', 'SUDRCEM', 'GSCLCEMENT', 'BALACEM', 'PRCEM', 'JPTRCEM', 'VINAYCEM', 'SRICC', 'PRCEMENDM', 'PANASIN', 'BANJCEM', 'SOMANCM', 'LKSMCEM', 'SURAJ', 'RAGHCEM', 'MAHNDCM', 'MODECEM', 'SSIMHCM', 'SINGLCM', 'SHUBI', 'APCL', 'GANGCEM', 'VSHWCEM', 'INDACEM', 'RANISCM', 'VARUCEM-B', 'SIGMACE', 'MODINATUR', 'ALPININ-B', 'PRSNTIN', 'ASHOKCT', 'KCHROIL', 'PRESTIG', 'SHAHFOOD', 'WADALACOM', 'VIPPY', 'KEDIAVA', 'ZKHANDEN', 'ATLSOYA', 'SALSTAR', 'NPCHWIN', 'CHHATIN', 'TASTYBIT', 'RITESHIN', 'AVTNPL', 'HNDFDS', 'AMRTPRTDM', 'DHARI', 'NAHARINDUS', 'MRVJIOL', 'VGPRFOO', 'AMBJFLR', 'VRUNAGR', 'VADILENT', 'VADILALIND', 'KANVA', 'AMBAGIN', 'NIJJER', 'BRARVNS', 'ASHAI', 'KOTHSOY', 'PRMRPRT', 'ADFFOODS', 'FORFOOD', 'MNSGOIL', 'RGRL', 'SATGAGR', 'PANKAGR', 'RICOAGR', 'NVCMIND', 'INOVAFOOD', 'WILLIMFI', 'AJANTSOY', 'RANKAQU', 'INDBF', 'WILLAMAGOR', 'ZBISHDM', 'TEMPTFD', 'RICHIRICH', 'LIBOMDM', 'SIEL', 'SUPLFOD', 'SPTRSHI', 'SRDAPRT', 'HMGRFOD', 'JVLAGRO', 'VSHLLTK', 'SWADIND', 'SANWARIA', 'PRIMAGR', 'NKUMBDP', 'BENGTEA', 'JSMNFOD', 'UNOINDL', 'AMISNFD', 'RSHBAGR', 'MADHURIND', 'AGRODUTCH', 'KINGIAQ', 'TARAI', 'MODAIRY', 'PRUSRJG', 'CORBIOT', 'BAMBINO', 'PRIMIND', 'TROMBOEXT', 'SVRNAQU', 'VIKASWSP', 'PATELFD', 'SYPAGFD', 'SARVIND', 'BHAGVEG', 'JATALIA', 'WESTFRT', 'MURLIIND', 'PANASAG', 'DHARNAG', 'INDDAIRDM', 'VSFPROJ', 'RLAGRO', 'MLKPIL', 'NUTCHAG', 'KLMARAG', 'MRTPLST', 'SWAIVAN', 'AMPRPRO', 'GJTAQFD', 'BHAKIND', 'GPINDUS', 'BANSTEA', 'SHISRAG', 'TRFJTFD', 'POONADAL', 'IDANFDF', 'TRANSFD', 'SOMKAFD', 'VIMALOIL', 'RMIFOOD', 'MEHARDT', 'WINFAGR', 'ANIKINDS', 'SAWNTFD', 'IDUSFOD', 'EASTOVR', 'DALMIAIN', 'HARSM', 'SHINDL', 'CENTPRTDM', 'INDOAQA', 'SANJAG', 'UNILIFD', 'SURSF', 'DATIWARE', 'KMGMILK', 'MONESHIA', 'MAYAGRP', 'KSE', 'HERMMLK', 'MAHVIFD', 'VAFAGRO', 'PIONAGR', 'JAIDIND', 'THAPOIL', 'PAWANPR', 'PRIMSOL', 'SHRSHAK', 'VADIDAI', 'NARBADA', 'VIRATCRA', 'CHAKVEG', 'IBINFO', 'AVIINDSDM', 'RATVA', 'AMBARPIL', 'TRILLENT', 'CHORDIA', 'CIANAGRO', 'OMEAG', 'MIHIJAM', 'TAIIND', 'KOHINOORT', 'SH.ANJY', 'OCEAGRO', 'NKIND', 'TRATF', 'GLBLFDS', 'BKV', 'MAHINDL', 'NCCBLUE', 'GENUINC', 'ANMOLDY', 'DRMSY', 'RAJSOLV', 'ROYCMAR', 'INTWATR', 'SAHASAG', 'NORBTEAEXP', 'ASIANTNE', 'VISAKAQ', 'AGRMARI', 'INDOFREB', 'KANAFOD', 'VRUNDAG', 'KENGI', 'KJINTFD', 'BUBNMAJ', 'HERITGFOOD', 'CONFAGR', 'WESTEFD', 'NEHAINT', 'PASEAFD', 'ORIEVEG', 'SIMRAN', 'LAKSHMIO', 'UNITYAG', 'HINDUST', 'INDODFD', 'JAGDAMD', 'HANUMAN', 'UNTEDFD-B', 'GOLDEFD', 'SMILAX', 'DFM', 'CCL', 'KELLTONTEC', 'SURFI', 'INTEGFD', 'LILACFD', 'SUNCITY', 'MAHAANF', 'VYVRAUT', 'RICOAUTO', 'OMAXAUTO', 'DENSO', 'MANSAROVARP', 'HELLAIND', 'MUNJALSHOW', 'JAMNAAUTO', 'SUNCLAYLTD', 'JTEKTINDIA', 'MUNJALAU', 'LAKSHMIAUTO', 'GKNDRDM', 'JAYBARMARU', 'RENZTLB-B', 'NATAUTO', 'JAPSP', 'RACLGEAR', 'SAMKRG', 'AMTEKAUTO', 'INDIASTE', 'SICA', 'ECSTSTL', 'SICAL', 'SIPNAUT', 'ATOTNSN', 'TVSAUTOL', 'ZBAJAJTR', 'RATNAMANI', 'VESUVIUS', 'BRAKAUT', 'SUNKU', 'ASAL', 'ARCEEIN', 'ABCINDQ', 'DESIGNAU', 'BALTE', 'COARO', 'ALANGMR-B', 'JAGSONAI', 'SIBARAUT', 'FAIRFIEL', 'CRCARRIDM', 'MAFLU', 'SHREYAS', 'INDCASTDM', 'STARLOG', 'SHVSUIT', 'TITANIN', 'ANANROT', 'EUROTEXIND', 'ICIL', 'MARALOVER', 'SURYAJYOTI', 'AMTEXTL', 'SHEENA', 'VEENATX', 'NAKODA', 'SOMATEX', 'SOURCEIND', 'TAMJAIM', 'VANASTEX', 'ADVLIFE', 'SALEMTX', 'KAKTEX', 'CHESLINTEX', 'DENIKNI', 'OCTAVE', 'TRIDENT', 'HISARSP', 'ALOKTEXT', 'INTRCRF', 'KORATEX', 'ASIL', 'PASARI', 'SPENTEX', 'SAGRAPR', 'VNYGCLO', 'KARNFBR', 'RAGHUIN', 'HINCOTX', 'HLNHOSR', 'AMARJOTHI', 'EMTEXIND', 'AMRAPALI', 'OLYMPTX', 'SAJJNT', 'NAGREEKEXP', 'SALZETX', 'SUDTIND-B', 'PRSMMIL', 'KKRSONS', 'SRIMALI', 'PEARLGLO', 'DRIND', 'KHTRFIB', 'GUJTEXSP', 'SBFL', 'GEMSPIN', 'VJYKMCT', 'EUREKAI', 'MHGTCXT', 'ADITYASP', 'JERSETXDM', 'MILLENNIUM', 'PRIMEURB', 'DHANFAB', 'PEGAPPA', 'PERSCAR', 'SLSTLQ', 'ZODIACLOTH', 'ANACOTS', 'FRONTBUSS', 'DENIMFS', 'SSMILLS', 'ARORAFIB', 'GANGOTRI', 'SRMCL', 'SUPERSPIN', 'SEASONF', 'PRECM', 'UNITEDTE', 'PANCLTH', 'NEPCTEX', 'SILINV', 'RAVISPN', 'SURYALAXMI', 'SIDHART', 'SAMTEX', 'ATLANTSP', 'CITYMAN', 'BALWTEX', 'KESARTX', 'DHANROTO', 'DELIHND', 'DAMOINDUS', 'SANBLUE', 'KONGATX', 'UNIROYAL', 'TATIAGLOB', 'GOLDTXT', 'SUNILTX', 'SRINACHA', 'SROGNGM', 'KDL', 'SAMBANDAM', 'KANDAGIRI', 'CHITRTX', 'PARASPETRO', 'KITEX', 'SRUMATX', 'RADHIKAS', 'CRANEX', 'BATLIBOI', 'AUSTENG', 'UNIDT', 'VCCLLTD', 'FLUIDOM', 'EMAINDIA', 'WINDMACHIN', 'SHANTIGEAR', 'MIVENMACH', 'CNTLVAL', 'SMENER', 'ATURIAC', 'BEMCOJK', 'SACHI', 'INDAGEVIN', 'KAVIENGDM', 'HONDAPOWER', 'SHRIHON', 'HITECHGEAR', 'ELGIEQUIP', 'ELBSCHF', 'TERRUZZI', 'STONEIN', 'UVDRHOR', 'WELII', 'INCEN', 'ZINDUCIN', 'KLBRENG-B', 'GRMHCNCDM', 'BIRLAPREC', 'VIPCORP', 'YUKEN', 'TIMKEN', 'ALXNXTR', 'TEXTOOL', 'ZMEEKTRA', 'VOITHPAPR', 'HEATSHRINKT', 'VIDIANI', 'ARTSONEN', 'BHAGEENG', 'PATNIEN', 'TECHFOR', 'GORDONHE', 'ADTYFRG', 'SOLIMAC', 'SOLRSNI', 'BANKA', 'DIAPOWER', 'INDSILHYD', 'FLEXENG', 'SNEHDHR', 'TMTIND-B1', 'KRISHNAENG', 'SVOGL', 'PRFASDM', 'ITL', 'TTGINDM', 'KNDENGT', 'BILINDU', 'FRONTSP', 'MONOZYM', 'AAKARENG', 'CHAININ', 'PRAJIND', 'RASANDIK', 'YOGISUNG', 'RAJBALL', 'HLEGLAS', 'GUJAPOLLO', 'HYDFLEXI', 'SRILAEG', 'MARTELI', 'TANAA', 'CONART', 'VHCLINDUS', 'MINALIND', 'SHIVAGR', 'MMFL', 'LAKSRAT', 'IYKOTHITE', 'MAYURUNIQ', 'CENLUB', 'FORGBLO', 'RAJOOENG', 'KALINDEE', 'DOLPHINOFF', 'JMCPROJECT', 'VJLAXMIE', 'COVENSP-B', 'UNIONBE', 'AHMDSTE', 'GET&D', 'SRPIND', 'SATELENG', 'RAMRAT', 'JAYNECOIND', 'KALPATPOWR', 'NMSRESRC', 'CANDOUR', 'TIGLOB', 'CONTROLPR', 'SSFORMT', 'MICROMT', 'BEMHY', 'ANSALBU', 'WEIZMANIND', 'BNRSEC', 'RISHITECH', 'SINCLAIR', 'SAFARIND', 'NUWAREI', 'RAJDHNIL', 'SOUNDCRAFT', 'SARVDIM', 'HFML', 'RINKIPET', 'DEWRUBB-B', 'ZBINTXPP', 'JJFINCOR', 'INDIAGYP', 'PRALE', 'ASROTOPDM', 'KHTNREF', 'AEC', 'SOMPLAST', 'SAFPACKDM', 'HOPELES', 'COSMOFE', 'CONSFNDDM', 'ZPPOLYSA', 'ZMAGNETI', 'FUTURSEC', 'SANCTRN', 'ADORMUL', 'ELARFSH', 'EIHAHOTELS', 'KHAOVER', 'BONINDL', 'SOLBUSDM', 'MEDICAPQ', 'ARPLC', 'OTCO', 'GKAYEXM-B', 'HEMKUNT', 'MORGANITE', 'SIPIND', 'INDSMFNDM', 'AYPLAMI', 'ROCKLES-B', 'BAPACK', 'MAZDAPR', 'CLASSIC', 'ABAN', 'KOKUYOCMLN', 'NICCOUCO', 'KILBURN', 'MCSLTD', 'SRMENERGY', 'BHARATSE', 'JALPAC', 'CONTPTR', 'SHRENUJ', 'GUJINST', 'NBFOOT', 'MOHANFI', 'CHOKINT', 'MACPLASQ', 'DEWNTYR-B', 'PEARLPOLY', 'VENKYS', 'GANGAPP', 'ESSTE', 'ADVANIHOTR', 'SUPOFDM', 'GVFILM', 'SUPERHOUSE', 'PRMRHS-B1DM', 'RAMAVISION', 'SUMANMOTEL', 'ROCKWOOL', 'TCPLPACK', 'BESTE', 'PANASONIC', 'SHRIGANG', 'PURITY', 'NARANGIN', 'BALMLAWRIE', 'KASHPAN', 'KOVAI', 'GINNIFIL', 'RENEWPW', 'ELDEHSG', 'DHARNOV', 'POLARPH', 'KUSHDIA', 'RAJNPIP-B', 'MICROSE', 'STDSHOE', 'CDRHLTH', 'GUJJHM', 'SHARPIND', 'AGRITHA', 'STERLINH', 'RKVNFLO', 'DCMSHRIRAM', 'DCMSRMIND', 'MAWANASUG', 'MINID', 'MODITHR', 'GUJAP', 'MINISOFT', 'MAHAPEXLTD', 'NILKAMAL', 'TRITON', 'OXIDE', 'NAHARPOLY', '3MINDIA', 'JCHAC', 'JMFINANCIL', 'LANESEDA', 'HNDMGTDM', 'ADCINDIA', 'HMG', 'COVENTRY', 'TNTELE', 'AIRCOMI', 'RCSVANP', 'SUNRAJDI', 'TITANFO', 'BSAPPLI', 'NWERURB', 'MGWLMAC', 'POLMRMO', 'SHWALEL', 'VKRMPRJDM', 'TMLNDHS', 'RIIL', 'ALSAMRN-B', 'SHARP', 'RADMULT', 'TECPO', 'LINDEINDIA', 'ELETROLUXK', 'INDBNK', 'JAIMATAG', 'RAVIHTC', 'GUJSSPN', 'LOTUSCHO', 'GUJRATGAS', 'PACIFICI', 'CMMHOSP', 'LUNRDMD', 'PAMDIDM', 'VITLFOD', 'GUJBXIT', 'AANKITG', 'VISHVEL', 'SRLXMED', 'UNIOFFICE', 'RAINBOWPAP', 'SPPTROL', 'AVNCPRN', 'APMIN', 'PRECWIRE', 'DYNALMP', 'MONEL', 'HYDCONN', 'KRYPTONQ', 'SSIND-B1', 'SWISSMLTRY', 'MRGNIND', 'MARBU', 'CNRTSPC', 'INTRUBI', 'FEL', 'FLAWLESD', 'MURABLK', 'SIPRD', 'INDTONER', 'JENSONICOL', 'KUNSTOFF', 'IRCONIN', 'SCI', 'NORTECHDM', 'UNICORP-B', 'SIKA', 'ITI', 'DKCHEMO', 'RISHABH', 'DREDGECORP', 'PHRMASI', 'BELLCONT', 'PODDAR', 'NFL', 'UNIPORT', 'VASHISTIDET', 'IPRINGLTD', 'VENKYSI', 'PIIND', 'LIFELINDM', 'PLASTIBLEN', 'YASHINNO', 'KKPLASTICK', 'UNILITE', 'RISHIRUB', 'WATERBASE', 'SITAPLY', 'DEVFA', 'NOIMC', 'FLEXFO', 'GOLKUNDIA', 'MALANLT', 'BTWIN', 'KRYSTPL', 'MSSHOES', 'APCOTEXIND', 'FORTISMLR', 'MIDLANDP', 'PACKTEC', 'MASTEK', 'EIMCOELECO', 'SAYAJIHOTL', 'JMGCORP', 'ASHIANA', 'ASHOKFSDM', 'SVAMSOF', 'VIJSHAN', 'KHPAPER', 'SIDDHATUBE', 'ECOBOAR', 'DVL', 'ALACRIHS', 'TIHIL', 'MAHEPC', 'SREINFRA', 'ITIL', 'SATNEXP', 'SAKURAS-B', 'ICCON', 'GUJBOROS', 'IDISL', 'SSHELTR', 'YSPORCL', 'RASEXTR', 'MITSHI', 'AVIKMRS', 'INDRUBR', 'SHUKJEW', 'MAZDALTD', 'GLOBT', 'VICEROY', 'HANIIND', 'GOMIND', 'JFLABS', 'GWALTRN', 'BHORIND', 'DIVINE', 'ARHTIND', 'SRINSME', 'NEOCORP', 'THPAPEX', 'DUPONTS', 'SOVERDIA', 'MENONBE', 'FLEETWL', 'MUKATPIP', 'GUJRAFIA', 'SIMPLEXINF', 'INNOVTEC', 'SUPTANERY', 'CONSTRONIC', 'SKYSS', 'SRSHTSHDM', 'AXTEL', 'NUCORWR', 'ZSEEMEINDM', 'TORRCABS', 'ESSMCAT', 'GYANLTH', 'PIFL', 'DSQSOFT', 'MAGNA', 'PRECISION', 'JYOTIOVR', 'TOTEX', 'GUJSPLB', 'MAGNSRB', 'MICROINK', 'VRWODAR', 'DSKULKARNI', 'GEMEYDM', 'CROWNTV', 'APIL', 'BHTERMI', 'INTRLNK', 'DATALIN', 'POONAWALLA', 'GUJHITC', 'GENOMICS', 'HINFLUR', 'KINGFA', 'PATIDAR', 'RAMAPHO', 'VENLONENT', 'ZUNIALK', 'PETPLST', 'POLYPLEX', 'PANIDPR', 'VARNPLY', 'CHEMECHDM', 'SRNEDYE', 'AMRACHEDM', 'ALBERTDA', 'HARLETH', 'HARLPHR', 'MONSANTO', 'UNICORN', 'CARYSIL', 'JUPIBIOT', 'LINEARIND', 'SUMEXCH', 'ORGCHEM', 'KABRAEXTRU', 'PHARMA-B1', 'PROTCHEM', 'KPLINT', 'INDMAIZ', 'CEPHAMP', 'THIRNCH', 'VINYLINDIA', 'PCCOSMA', 'MAHINCOMP', 'CHDRGDM', 'BONANZA', 'BLUBPTR', 'TCMLMTD', 'SMZS', 'PFIMEXP', 'ZSHRAYPE', 'IOLCP', 'WYTHLAB-B', 'TITACOM', 'DSQBIO', 'KESARPE', 'PNTXCHM', 'ROCKHARD', 'BNZOPTR', 'VINATIORGA', 'LACTOSE', 'TEEAI', 'ASTDRUG', 'AARTIIND', 'PNTKYOR', 'WANBURY', 'KINGCHD', 'RESONANCE', 'NPNTCHM', 'GAEL', 'RCF', 'MAHAPOL', 'ZMRPL(5)', 'GUJINJEC', 'SKGSOLV', 'FACT', 'PRDEPDRDM', 'PRIMEPT', 'KRSHPLS', 'DAURALA', 'CONSOLFI', 'UNIMERQ', 'MAGNACOL', 'CBONIND', 'DUJODPPR', 'KOPRAN', 'AIMCOPEST', 'VYSLIPH', 'HILTINT', 'VBCIND', 'VIJAYCH', 'GUJTERC', 'PREYANS', 'KABRADG', 'SEYAIND', 'JAYAGROGN', 'BCLIL', 'SHHARICH', 'MADHURE', 'INDOBORAX', 'ELEGNPH', 'ICATLYS', 'AARTIDRUGS', 'NACROCH', 'SOLARFM', 'SPLPOLY', 'MILEORG', 'BODALCHEM', 'ORCHIDPHAR', 'EPICENZY', 'JMDEPACKR', 'JNAKINT', 'RINADRG', 'OMNDE', 'AMINXCHDM', 'CRAZYINF', 'MHNAVPH', 'VIMTALABS', 'BIOFILCHEM', 'DMNIAPH', 'ISHITADR', 'MRUTIOR**', 'MARKSANS', 'OMEGALAB', 'UNIVSTAR', 'SRHHL', 'AREYDRG', 'NORRIS', 'CDRMEDI', 'HITCHDR', 'SILCAL', 'KARLECH', 'ASINPET', 'ZORAPHA', 'CAMEXLTD', 'RAHICEM', 'EVEXIA', 'SABERORGAN', 'AHLCONQ', 'ORIACID', 'SUNSL', 'CUREREM', 'INDOEURO', 'RICHLNP', 'PAMDRGS', 'CHEMLAB-B', 'COREORG', 'WHITEPR', 'SYNCOMF', 'HITECOR', 'ZILLOPH', 'ESSPHRM', 'RIDDHI', 'SHILPLA', 'TRAMEDI', 'STLBNCH', 'SVCIND', 'IPCALAB', 'NEWRLDM', 'MRCRYPH', 'KILITCH', 'RAAJMEDI', 'REVAORG', 'CORALAB', 'VORLADM', 'RENCHEM', 'BOMDRDM', 'TULASEEBIOE', 'BACPHAR', 'KREBSBIO', 'KMCSHIL', 'LAFFANSQ', 'VELVINT', 'EARNHEA-B', 'BHASKAGR', 'SUNSTAR', 'ALLRESN', 'SECHE', 'SUKHJITS', 'SHABCHM', 'SHARMEH', 'SHASUNPHAR', 'ANILALM', 'MAHACHMDM', 'NEULANDLAB', 'GAYATRIBI', 'SHAPCHMDM', 'ECLATCH', 'PODARPIGQ', 'PHARMAID', 'RAVIINF', 'VIVIDIND', 'DOLPLAB', 'PRIYALT', 'TIRUSTA', 'KANODYE', 'QUAPHAMDM', 'EMEDTECH', 'HEMORGANIC', 'JDORGOCHEM', 'ASHOKALC', 'ALCORDM', 'AKSCHEM', 'FCLTECH', 'BANDARAM', 'ADLINE', 'BERLDRG', 'RATHIGRA', 'STELADG', 'INDXTRA', 'PASUMIR', 'ISTRNETWK', 'GAGAN', 'SRIMANP', 'PARKERAC', 'IOTACH', 'SHUKRAPHAR', 'ALUFLUOR', 'OXYGENTAPH', 'ARCHITORG', 'SIKOZY', 'STERLCH', 'VITACHM-B', 'INDOAMIN', 'NARMADACHEM', 'INDSWFTLTD', 'NATCAPSUQ', 'WELCURE', 'BIBCL', 'ADDLP', 'SOTL', 'HESTERBIO', 'KABSON', 'UPLIMEC', 'HINCHEM', 'METROCHE', 'KANVHYD', 'BASANTGL', 'PARENTLD', 'RSPETRO', 'ASIANFR', 'PIONEPD', 'KILBURNC', 'KEDIACHE', 'SANDUPHQ', 'NACLIND', 'VISTAPH', 'SUNPHARMA', 'TITANBIO', 'SOCRUSBIO', 'TRIAFIN', 'BIJHANS', 'BHUTI', 'SDL', 'MERVEND', 'JENBURPH*', 'HIKAL', 'BENZOCH', 'KPGELATDM', 'CAPPL', 'FISCHER', 'SIRISLT-B', 'LINKPH', 'BHASIDM', 'DECIPHER', 'GUJMEDI', 'EMAAIDG', 'WINTAC', 'ARVINDIN', 'NOVASUR', 'NUTRA', 'EMMESSA', 'MAYARAS', 'LAMEDICDM', 'NGLFINE', 'ANMOLDG', 'BAGRICH', 'FINEDRUG', 'SUPHA', 'TIPHARM', 'ELDERPG', 'EVERESTO', 'PCICHEM', 'MATRIXLAB', 'VARDHCH', 'PALMACH', 'HEMPECH', 'VEROLAB', 'AUROPHARMA', 'CLARICH', 'PHYTO', 'CEPMS', 'EMERGY', 'MARTICH', 'NATCOPHARM', 'DYNAMIND', 'PANAMAPET', 'UMEDXPH', 'BALPHARMA', 'JUPITER', 'BDH', 'ELDERHCL', 'JAUSPOL', 'ALPSLAB', 'TUBTECS', 'PROCAL', 'KEMROCK', 'CHERCON', 'INDPROG', 'PRUDPOL', 'GLOBUSCON', 'CUBEXTUB', 'ASAGALI', 'CRYSS', 'JILICHL', 'SARIPNT', 'RAMLEAT', 'POLYCHMP', 'LUMITECH', 'SHLAKSHMI', 'DECCNPL', 'POINTPL', 'KRMINT.', 'NAMASTEXP', 'NOVAINT', 'MAYOH', 'TKNOMIN', 'KCCLPLASTC', 'ICICONE', 'STELLANT', 'GALXBRG', 'VINRKLB', 'ACELABO-B', 'HANSFLN', 'SCAGRO', 'SUTHTWNDM', 'SGARRES', 'SHEZLEADM', 'ROOFITIND', 'RANCC', 'SATHAISPAT', 'RALEGRA', 'SIMCOIN', 'PRICOL', 'DGIFLEX', 'UNRYLMA', 'KARANWO', 'SHERVANI', 'INDAMOP', 'LYNXOPT', 'ARHNTTO', 'SUPERTEX', 'SHETR', 'TRABI', 'COMDI', 'MPL', 'INTCHIT', 'CONSCON', 'APEXINT', 'NIKHILAD', 'SPENTA', 'MRNCRGO', 'IGGIRES-B', 'INDBGEM', 'MULTIBASE', 'VIRALSYN', 'ANDREWYU', 'ADAMCO', 'LUDLOWJUT', 'INTLHOME', 'ASHRAM', 'AIRCTEC', 'COSMLEA', 'ROYALCU', 'NOGMIND', 'CITYLIF', 'SCURIND', 'DCLMRTC', 'KSOILS', 'SURJIND', 'CARBINDDM', 'HITECHCORP', 'BLOOM', 'FILATEX', 'JAYABUSDM', 'STDSFAC', 'MERCATOR', 'MORGAN', 'ARNPROC', 'AMRAPLIN', 'BHAGWGL', 'PREMEXPLQ', 'DARSHAN', 'MIDEASTP', 'KLJPLST', 'IDEALCAR', 'KLTHRAE', 'MOLDTEK', 'ZENITHSTL', 'CRSTCHM', 'FLOWRTI', 'SHALIHT', 'RHNISTR', 'NGARJNG', 'ESTNGRA', 'DIVYAJYQ', 'MDHYVEX', 'VLVOTER', 'VRUNSEA', 'MPHASIS', 'MEDINOV', 'NOVAPUM', 'PHELAPP', 'HINDIND', 'ASHAGRO', 'NUTECH', 'DIVSHKT', 'RSHIOILDM', 'ORIENTLTD', 'HANSPOL', 'ADVMULT', 'NCLMARB', 'SHREYASI', 'MONTRIL', 'DECOTUB', 'PANJON', 'ACCLAIM', 'PARTIND', 'PASHUSEO', 'DUROPACK', 'STRLKAL', 'SWARNSAR', 'GANESHHOUC', 'NMDC', 'CINDHO', 'ANJNSOL', 'KONTY', 'PATINTLOG', 'HAMLSHO', 'GUJPE', 'MULCOFF', 'SKYLEATDM', 'NEELKNT', 'RAJSFORDM', 'ALPHAGEO', 'VISHFOT', 'GURULET', 'RGNYMIS', 'RPIL', 'KKALPANAIND', 'MOVILEX', 'PANDGRP-B', 'OKPLA', 'SPLINDL', 'LOKMIND', 'KRITIIND', 'FDTYMIS-BDM', 'OJAST', 'WELTI', 'ASMTEC', 'PERFEPA', 'SRINICO', 'AMBIT', 'VISIONCINE', 'DATASOFT', 'INDRANIB', 'JAYRAPID', 'KARNAALF', 'VIDIMIS', 'SOFTRAKT', 'TRANMED', 'UGHOR', 'RAGHAVIN', 'EURLEADDM', 'EUROLED', 'SUPERIA', 'WINSOMBR', 'ELEFLOR', 'HOTKRIS', 'SAENTER', 'SKYIND', 'PHOENXINTL', 'EDUEXEL', 'HITECHIJEW', 'BHUDEVI', 'PRATIK', 'RISHIROOP', 'PROMACT', 'RUBBERPR', 'ZENER', 'STRGRENWO', 'VISHCHR', 'DOLPHMED', 'SYSTMTXC', 'SHAHISHIP', 'SHAKMET', 'INTLNKP', 'ACMEIND', 'APPOSTO', 'ALPINEHOU', 'SANGHIIND', 'JAYENGY', 'WWALUM', 'SAKETEX', 'PARHOSG', 'SUDIN', 'SFPIL', 'INDOX', 'MEHTARB', 'MAXIMAA', 'SCANPGEOM', 'CHOKSILA', 'HARIPAM', 'CCHHL', 'RASIKPL', 'SALGUTI', 'JAMEHOT', 'EICL LTD', 'PEPL', 'ARIITHR', 'LONTE', 'MIDWEST', 'ENTRINT', 'TECHIN', 'CHAMPDIN', 'TPLPLAST', 'BAGWUDG', 'WIMPLAST', 'PHOTOQUP', 'BNANJEN', 'LIBERTSHOE', 'GUJNFLY', 'PATELON', 'LIPPISYS', 'PERTCOM-B', 'ELECTHERM', 'INHOUPROD', 'BLUEDART', 'EXPOGAS', 'NATPLAS', 'SKYHIPR', 'MFLINDIA', 'ELBEE', 'TRIDE', 'AJWAFUN', 'GEOLOGI', 'MPLCORP', 'VALPLUS', 'TEXELIN', 'RAYALEMA', 'MIRZAINT', 'TATAV', 'INDFL', 'TFCILTD', 'CALSREF', 'THAKDEV', 'NAVABHA-B', 'CANBAYPDM', 'PRESISH', 'ARENTERP', 'ANUGWOO', 'BIL', 'KAMATHOTEL', 'MKEL', 'TIRTPLS', 'KEEPLEARN', 'GALORE', 'SAISERVQ', 'UNIVAFOODS', 'CROCH', 'POLOHOT', 'FENOPLAS', 'PRETLEA', 'MAYHO', 'MICALEADM', 'KASIHSG', 'ABCOPLS', 'SAMASOKDM', 'ECOPLAST', 'ELEMARB', 'TURBOIN', 'ALCHEM', 'BITS', 'ADARSHPL', 'STIEFELDM', 'ANTARTICL', 'HPBL', 'MISOFPP', 'NICCOPAR', 'NTCIND', 'SANDESH', 'GARNET', 'GOLDIAM', 'BRIGHTBR', 'SUASHDIM', 'EXCAST', 'CORPOCO', 'SHAWGELTIN', 'CREDENCE', 'NATCOMS', 'ZOCTNMMS', 'PGFOILQ', 'SUNDERADM', 'GRATEXI', 'KRIPIND', 'VELHO', 'GANPTMSDM', 'VIAMEDI', 'HOWARHO', 'MULTILA', 'SOUTHFUEL', 'PRESSURS', 'VALIANT', 'NWPLAMS', 'HINAFIL', 'DRAGARWQ', 'CRESTANI', 'EUROMMS', 'NOELA', 'INGERMS', 'ARVRAMS', 'MHSGRMS', 'GREENPLY', 'UNQTYMI', 'PSL', 'OBROIMSDM', 'AMICOMP', 'SEAMECLTD', 'SATALMS', 'RAGHUNAT', 'RJPNTMS-B', 'CHEVIOT', 'TRNLMMS', 'DAICHI', 'RAJINFRA', 'SPICEISL', 'CONFIPET', 'NAINAMS', 'RACCL', 'SILKTEX', 'ANUSHMS', 'SIPL', 'SHAKTIPR', 'ATLANTADEV', 'ASHSI', 'BANARBEADS', 'AREXMIS', 'BI', 'MADHUFN', 'MAJESIN', 'ISFL', 'RISHILASE', 'MBINDUS', 'JAINCO', 'KUMPFIN', 'INTECCAP', 'RAJGASES', 'MGGLOMF', 'SIDDHEGA', 'UTLTD', '63MOONS', 'SHIKHAR', 'SARLAPOLY', 'INDOCRED', 'MKTCREAT', 'SRINIHAT', 'ODISEDM', 'HEXPHAR', 'HFIL', 'SONALAD', 'ROTOFIX', 'PADMAIND', 'YOGIPLY', 'UNQAGRO', 'CHDDLTD', 'ALPEXPS', '21STCENMGM', 'BOBSHELL', 'DION', 'HRYNSHP', 'KONAROR', 'ARUNIS', 'MNGLPRODM', 'VAICC', 'SHARAVE', 'TYROON', 'LAOPALA', 'GUJOC', 'STYLAMIND', 'VENUSREM', 'ABLBIO', 'UDL', 'WOODSVILA', 'LASTMILE', 'GLBFN', 'GUJCRAFT', 'HEERAISP', 'DHOOTIN', 'CLASPRS', 'AWASAYO', 'CRIMSON', 'SIDIN', 'SHBAJRG', 'ASHOKRE', 'AKSCRE', 'URJAGLOBA', 'ORIREME', 'ATLASCOPCO', 'ASHAPURMIN', 'SVOYHERDM', 'SHREEPAC', 'ATCOM', 'GUJALKALI', 'INDIACEM', 'JKTYRE', 'MANGCHEFER', 'SIL', 'JUBLPHARMA', 'ASIAREF', 'THEINVEST', 'SAMYAKINT', 'AADIIND', 'MHTSULF-B', 'ORIQUAL', 'MOONB', 'SANTOSHF', 'SREEJAYA', 'LORDSCH', 'YAMAPLY', 'ACKNIT', 'TITANSEC', 'MOHOTAIND', 'JJEXPO', 'MAMTAST', 'REALECO', 'HRMNYCP', 'VIVANZA', 'MAHASHR', 'ROCKTHR', 'YASHRAJC', 'NAGDRUG', 'LORDSHOTL', 'CSLFINANCE', 'PROTODEV', 'PARSOLI', 'SANGHVIMOV', 'SELAN', 'FRSHTRP', 'FAZE3Q', 'MOTMIND', 'ITALJEW', 'EUROIND', 'GODRICH', 'ZYDEN', 'ACEEDU', 'PRADHIN', 'XYLONLQ', 'TRENDES', 'LADAMFN', 'KRNTCHE', 'ANUPAM', 'RAJPACK', 'MAREXDM', 'IBINDDM', 'PRIVISCL', 'NATRAJPR', 'SUSHANTDM', 'SAMRATPH', 'NPRFIN', 'NILE', 'UDAICEMENT', 'AMCOIND', 'OPTIEMUS', 'KREONFIN', 'GYANDEV', 'PENNA', 'KISAN', 'KAPRIPH', 'KSLIND', 'VIJAYTX', 'JOLLYRID', 'TONIRPHQ', 'RIVERDAL', 'GLDCRSC', 'GARODCH', 'KERALAYUR', 'KANCHAN', 'MONGIPA', 'MOHITPPR', 'DAULAT', 'OSCARGLO', 'ODYSSEY', 'SPSINT', 'RSCINT', 'SARTHAK', 'SCOTTEX', 'SURATEX', 'ATHARVENT', 'PALAYPU', 'CHROMATIC', 'INTERDIA', 'GAZIFIN', 'FUNDVISER', 'THEMISMED', 'KALLAM', 'SANGHAS', 'BLJIGAL', 'BRAWN', 'AECENTP', 'FORINTL', 'KINGSINFR', 'SWOEF', 'NUTRICIRCLE', 'SARITASO', 'SPANDYE', 'RAJMINC', 'SURAJHLD', 'SHARODW', 'SUBSM', 'AUROLAB', 'KJMCFIN', 'GANDHHO', 'SUVEN', 'MINHASS', 'MANGASOF', 'ARYAMAN', 'BRIDGESE', 'RISAINTL', 'RAJTUBE', 'KAYPOWR', 'MIDAS', 'INTSTOIL', 'ARCUTTIP', 'GLOBALCA', 'SAINIK', 'SABOOBR', 'SCILVENTU', 'RICHUNV', 'LIBERTYP', 'BASECEM', 'KARAFIN', 'KUNALOVE', 'QUANTDIA', 'ZUARIFOR', 'VOLVOST', 'TRIGZIN', 'SPCAPIT', 'PAOS', 'WILFI', 'SHRAJOI', 'IDEA', 'KOTHARIPRO', 'NWERAAL', 'PICCADIL', 'CHAMANSEQ', 'CHANDRAP', 'DELTAPO', 'KIMIABL', 'HINDTIN', 'GODAVARI', 'VRGOLAI', 'UNIMININ', 'ERAINFRA', 'KUMARCO', 'KMCAPIT', 'MUKUIND', 'PREMCO', 'EMGEECA', 'EXELON', 'LABHCON', 'MUKESHB', 'GENUSPOWER', 'CREATIVW', 'MAGNUML', 'STONOMA', 'JOYHRDM', 'ASIANENE', 'KBSINDIA', 'PRABHHANS', 'UGARSUGAR', 'ORIENTBELL', 'NRBBEARING', 'VAMSHIRU', 'SKRCHEM', 'TRACKPA', 'NAKSHTRINF', 'NILA', 'JAYFLAS', 'PETRONENGG', 'SOUTHPO', 'EUROSOFTAL', 'GEEFC', 'DOTCOM', 'DBSTOCKBRO', 'HIMADRI', 'KAMAKSH', 'VINYOFL', 'VALLABH', 'JINDCAP', 'EPIC', 'EUPHARMLAB', 'MAGIN', 'ASIANVE', 'BAYERCROP', 'CHIPLUN', 'SUMEDHA', 'KUWERIN', 'SUNDYEX', 'CHOKSI', 'ASHISHPO', 'ADORFO', 'SHIVAAGRO', 'NOESISIND', 'MAYALLO', 'SIDDHA', 'MAHAN', 'KIRANSY-B', 'SUMERUIND', 'BESCOLT', 'RUNGTAIR', 'ZNARMDCE', 'THAPARC', 'ELVISIN', 'CINERAD', 'VALSONQ', 'SABOOSOD', 'UMAMAHM', 'CRYSTALC', 'GUJCYPROM', 'GSLSEC', 'BALAJHOTEL', 'ARAVIND', 'TINNARUBR', 'VIKRAMTH', 'ATLINFRA', 'KARNATFI', 'GRESOIL', 'SAMARTHI', 'VIBROSO', 'SOUTHIR', 'COIMBAT', 'STRATMONT', 'MARVEL', 'AKCAPIT', 'SARVODYA', 'GUJARAN', 'UPERGANGES', 'RAJMI', 'VANTECH-B', 'ARMAANE', 'ACCURATE', 'SHRIRAM', 'RELAXO', 'INTERFAC', 'VIRAT', 'KARISHM', 'SHEETAL', 'TRANSAG', 'KAMALAT', 'TRIENTP', 'TERAI', 'HINFINS', 'MANRAJH', 'SUPRAPT', 'MARG', 'COSCO', 'KENFIN', 'SHILPAMED', 'MONINFO', 'GLOBALI', 'PARACABLES', 'NCLRESE', 'PIYUSHT', 'RADGLOBAL', 'STRONTI', 'SSLFINANCE', 'ASBUSIN', 'SKNIND', 'EXPLICITFIN', 'TRINITY', 'SUNSS', 'LADDERUP', 'UYFINCORP', 'EKAMLEA', 'VOGUETEX', 'SWASTIKA', 'BARKHAI', 'PRIMAPLA', 'NOBLEBR', 'SIRHIND', 'TELECANOR', 'VIJAYSH', 'GMSCOM', 'JAGSONFI', 'KANDHAR', 'GSLNOVA', 'JAYFINL', 'CARNATIN', 'STURDY', 'GARGFUR', 'SAMPRE', 'RELIGLOBE', 'AAIL', 'JAINPUR', 'SOLIMTD-B', 'VIPULORG', 'MONARCH', 'ROSEZIN', 'HITKARIIN', 'TEXPI', 'BLINDUS', 'SHRINIR', 'ECORECO', 'MALVI', 'KANVAFI', 'SOFTECH', 'SHGANES', 'GOODLUCK', 'GLOBSEC', 'REGBLUI', 'GOYALASS', 'ZENITHHE', 'SRINANDAA', 'ACEENGITEC', 'PCRKPHA', 'YORKEXP', 'SUPREME', 'SHARDAS', 'DIARUZA', 'PITHP', 'GULABDA', 'LYKISLTD', 'AKASAGR', 'ADITYAINF', 'PRIMEPRO', 'ZENLABS', 'RAJRAYON', 'KDJHRL', 'INFODRIVE', 'FLORATX', 'AFTEK', 'GOWRALE', 'JAGANLAM', 'AJEL', 'ALPSINDUS', 'EGGROPA', 'IKFIN', 'ANGIND', 'ASITCFIN', 'NUBALIN', 'TERRYFB', 'SCINTSOFT', 'ENCODE', 'SUPERBAK', 'BAJAI', 'OVOBELE', 'GEINDSYS', 'LNIND', 'INDOASIAF', 'AHURAWE', 'BULLPOWDM', 'SURYOPLA', 'CORNE', 'STERTOOLS', 'SATHYAK', 'SUNBRIGHT', 'AGARWAL', 'FLEXICI', 'VENUSUNI', 'KLGCAP', 'IVRCLINFRA', 'WALKERIDM', 'INFRAIND', 'DYNAMICP', 'INTERHG', 'TRANSASIA', 'PITAMBER', 'INLANPR', 'CEEJAY', 'PARAKTE', 'PENTAPH', 'SUNCITYSY', 'SHGANEL', 'ANNAINFRA', 'DIAMOND', 'BHAGIL', 'OIVL', 'REGALIAA', 'BNRUDY', 'NETVISTAIT', 'KRBL', 'REFNOL', 'TEATXEP', 'SSPDL', 'SOMATR', 'DAIKAFFI', 'KEMWINT-B', 'CILSEC', 'ABEEINF', 'ELTROL', 'CLIOINFO', 'SHRIBCL', 'CUPID', 'SUNSHIEL', 'KANOPLA', 'CODUREXDM', 'HIPOLIN', 'GDLLEAS', 'GARGFOR', 'COSBOARD', 'ASINFRA', 'FEINDIALTD', 'DHANELE', 'SFLINTER', 'PRAMANC', 'CHEMBOND', 'GIRHOTE', 'MODFC', 'CIFL', 'ABVL', 'SUCROSA', 'FIVECORE', 'INCFS', 'ALKA', 'RKB', 'MOULIKF', 'NGIND', 'ASIAPAK', 'ACIL', 'SAINDUS', 'SICAPIT', 'ERPSOFT', 'INDOBRIT', 'SHBHAGV', 'JRFOODS', 'RRSECUR', 'REMSONSIND', 'INTETHR', 'RCLFOODS', 'RAMSONS', 'EUROASIA', 'STANPACK', 'CILSOFN', 'SUNOLEO', 'UMSTECHNO', 'SABTN', 'GISL', 'DHARTEX', 'RAMINFO', 'SUNILAGR', 'MINDVISCAP', 'JAINGRA', 'DIANATEA', 'VIKASECO', 'JGFINAN', 'IOC', 'KYRALANDS', 'NIMBUSI', 'ALFAICA', 'SKCIL', 'INDIAHOME', 'SRHSYNT', 'GARVEEGDM', 'JPTSEC', 'LSKFINA', 'SHANTIVI', 'ROOPAIND', 'SARTHAKGL', 'SHIVEGGDM', 'UNIQUEO', 'BALAMINES', 'KAMAR', 'SWRNASE', 'PASCHIM', 'INTSE', 'BETACOR', 'EMKAR', 'SUNGRAN', 'VENMAX', 'ARISE', 'SHJAGDM', 'KUBERFL', 'TAURGEN', 'VISAGAR', 'LIBORD', 'BHATEXT', 'WELWORT', 'ZTAURGEN', 'REGAL', 'JRELTD', 'ZBPLREPP', 'COMPEAU', 'ZDHJERK', 'PRLAMIN', 'ADVPOWER', 'NEELKAN', 'VINTAGES', 'INDIM', 'GFLFIN', 'RITESPL', 'HATIGOR', 'INDECOM', 'PRSTEEL', 'OSWALOR', 'CONTILI', 'VIJSOLX', 'BLUEDIA', 'NUTEORG', 'NEPCPAPER', 'RAVRAJI', 'SHRIKRISH', 'ALANKIT', 'NIHARINF', 'INDOBONIT', 'LAKHANI', 'NAPAPER', 'KASHYAP', 'TULIPSTA', 'SWISSEN', 'UNITDCR', 'OMINFRAL', 'OPTEL', 'HARBORNE', 'PRIMETA', 'MOUNTEVE', 'JIWANFL', 'CHECKPOINT', 'SURANACORP', 'LIBERAL', 'ZAUTPALI', 'GJPROFN', 'ISHANCH', 'RLPETRODM', 'GOTHIPL', 'BALUFORGE', 'KARSPIN', 'GDRMEDIA', 'SYNERGY', 'KHEMGLB', 'SILSPL', 'CEENIK', 'PATELENG', 'SIEOP', 'GLDSTRW', 'STALGAR', 'SAHACEM', 'BLUMARI', 'VIRTUALS', 'MENAMANI', 'INDFO', 'INANI', 'MODIHOOV', 'MASCONGLO', 'CONTAIN', 'ASIFE', 'LEWATERIN', 'PITTSIRON', 'SPARKSH', 'GEMSI', 'COGRANI', 'ZRNKEXPO', 'SRJTC', 'CHIRAUF', 'ESENESF', 'ELFORGE', 'MEDICAMEQ', 'ALICON', 'ENCHANTE', 'SRANGMARK', 'ASCORPS', 'LYMPHALDM', 'STILESI', 'DILIGENT', 'BPLIMTD', 'EPSOMPRO', 'ALFAVIO', 'ORGCOAT', 'CATVISION', 'JMPCAST', 'SAUMYACAP', 'ABMKNO', 'EMAMILTD', 'KEMISTAR', 'LADIAMO', 'KALINGA', 'MFLSTBR', 'ORIENTINFO', 'ASSOCER', 'SKPSEC', 'TREZERO', 'DEVIKA', 'PRANAVSP', 'SYSCHEM', 'SRPLLTD', 'BLSINFOTE', 'MEFCOMCAP', 'HEMANG', 'ARMANFIN', 'APAMUSE', 'ALFAEXPDM', 'MANKNIT', 'SSKFISC', 'CHISO', 'SWETCHM', 'CLAFS', 'GUJBP', 'TAVERNIER', 'FILTRON', 'MIDINFRA', 'RAJHANS-B', 'BRAHMAINF', 'VEDVYAS', 'GAGANPO', 'GOEAFIN', 'DHANADACO', 'GLANCE', 'MAPLLEINF', 'SHILCTECH', 'AMBEHOT', 'TRADEWELL', 'RIZVIEX', 'TINEAGRO', 'KWALITYCL', 'RAYLA', 'PRIMUSC', 'NUCLEUS', 'COLINZ', 'WELLNESS', 'NLFL', 'MANAPPURAM', 'KANELEC', 'RTSPOWR', 'COMFINTE', 'WESTE', 'RISHABFIN', 'SHYAMAINFO', 'HICSCEM', 'MAYURFL', 'VIBINVEDM', 'ANJANI', 'COMPUTECH', 'XTGLOBAL', 'DOONVAL', 'DECOMIC', 'RANDER', 'ZSBIMAGB', 'SIDVINF', 'JINDRUG', 'RASIELEC', 'SCOOBEEDAY', 'CITIPOR', 'MEWARPOL', 'DHRUVCA', 'BETALAB', 'SHAMROIN', 'LINC', 'GUMINDL', 'KORATLS', 'JANZNMT', 'PRIMAIN', 'ALPHA', 'ZASELECT', 'WLPACKP', 'RNBIND', 'PEBBLEI', 'ANERI', 'INDGELA', 'OPTIFIN', 'PARAGONF', 'PRAVEEN', 'PRATIKSH', 'KPRTLPR', 'ESHAMEDIA', 'REFEXRENEW', 'CONCURINF', 'SURINDL', 'ANSUSPNDM', 'PIOCASH', 'PROGREXV', 'VSTTILLERS', 'INDVANI', 'B2BSOFT', 'KLGSYSTEL', 'DAZZEL', 'NIKKIGL', 'RADHEDE', 'KINETRU', 'BOMSS', 'RETIFNL', 'ELIXIR', 'TRISHAKT', 'PANKAJPO', 'MARBLE', 'VIRPOLY', 'CINDRELL', 'HITESTX', 'ASLAKTO', 'MVCOTSP', 'NATPLASTI', 'LEADFIN', 'NATFIT', 'SHDYECH', 'REACTOP', 'NALINCH', 'PRAMFIN', 'VSMFNEX', 'SUNLAKE', 'MXORCHADM', 'ARTEFACT', 'KINJAMT', 'CENLC', 'AMITINT', 'HIGHSTREE', 'RICHSTODM', 'NUTECGLOB', 'GLOBALX', 'DHPIND', 'RRIL', 'AVAILFC', 'RAHILIN', 'SANRAA', 'SPARKFD', 'INTCAPM', 'ICHALSO', 'SANDURL', 'GERMANGA', 'TRANSCON', 'MARUTISE', 'EXOTICCOAL', 'AMEXCHE', 'HAVISHA', 'JAYIND', 'ROSELABS', 'VINIMETDM', 'MPTELE', 'CHARMS', 'KRETTOSYS', 'COSAPAR', 'DYNMICR', 'TIMESHI', 'STRLIND', 'GARWALL', 'VIKALPS', 'ZYDUSWELL', 'AUROCOK', 'WINPRO', 'MILESTONE', 'JAIHINDPRO', 'BERVINL', 'GUJINV', 'ORBITPL', 'INDINFRA', 'CONCOR', 'SUNZI', 'EASTRED', 'HARSHIT', 'MOONDRUG', 'PANACEABIO', 'VOLGAAIR', 'SHRAJTX', 'PEETISEC', 'MKSECUR', 'PNCCAP', 'DHANLEA', 'CURESPEC', 'MERMETL', 'CHOICEIN', 'SRAMSET', 'GOLECHA', 'EMETALSI', 'ISMTL', 'KARURKCP', 'EKANSH', 'NAISARG', 'KOHINOORBRO', 'DOLLEX', 'CRYCABL', 'WELLWININD', 'SPAR', 'RUPEBAR', 'BIOWIN', 'THEBYKE', 'SAAGRR', 'GCCLINP', 'CHERYFS', 'THANAEL', 'AVIEXPODM', 'CSURGSU', 'ARIHANT', 'JAVNTPR', 'NORSTGM', 'SUBRP', 'FLCLENT', 'HASTIFIN', 'SHBENZO', 'UPSURGE', 'RATNABAL', 'KRYKNIT', 'MARVINY', 'PADAMCO', 'WOMENNET', 'POLYCON', 'SOURCENTRL', 'GGAUTO', 'ALMONDZ', 'KHODIYAR', 'LWSKNIT', 'LWSNITW', 'ZICOM', 'SUGAT', 'ANSINDUS', 'HAMARDG', 'PARMXPH', 'ALCHCORP', 'GUJFOIL', 'TUNITEX', 'RADIXIND', 'KIRANPR', 'MSINVES', 'NRSTEXT', 'NARPROP', 'MEGACOR', 'SYSTELIN', 'GOPLEEIN', 'BMBMUMG', 'IGHIGHM', 'KESPRINT', 'NATUBIO', 'IDHOTIN', 'MRCOTEX', 'TNPL', 'BIRMT', 'ADVENT', 'STGRFLD', 'SHAKTIPUMP', 'SYTIXSE', 'SUNGOLD', 'INDOXOC', 'LIMCHEM', 'SAFFRON', 'PWASML', 'CRYAGRI', 'GOLDTECH', 'PANDRUG', 'LYONSCO', 'AMRALCO', 'TAMRMIL', 'VARDHMAN', 'KEDICON', 'ROCKONENT', 'SAFALSEC', 'GRMOVER', 'KECITRL-B', 'HAPPYHMDM', 'NCCFIN', 'MOHITIND', 'POLYLINK', 'PRFOTRN', 'MINAXI', 'NARSM', 'BOSTONBIO', 'VENTRON', 'CONTICON', 'SUAPARL', 'BHAAF', 'GBLINFRA', 'ISPATPROF', 'NOUVEAU', 'FERNHIL', 'ARNAVCORP', 'PRSBS', 'VMATHUR', 'EMPORIS', 'DUKEOFS', 'CYBELEIND', 'CETHARI', 'COMPSKIL', 'KAMPECO', 'KANSTEL', 'GOAFRUT', 'ESSKAY', 'GLOBAL', 'DANINLT', 'BETKAPA', 'SHYAAXPH', 'VIRTIND', 'HITKARICH', 'FILME', 'SNEEL', 'SANIM', 'CGVAK', 'MANPELE', 'BGROWTHDM', 'PENTASOFTTE', 'MAXCOUN', 'NAVKAR', 'BLUECOAST', 'OMKAR', 'MADHUCON', 'CLFILAM', 'SYBLY', 'RAJESHEXPO', 'INDENAL', 'ESARIND', 'MARIS', 'GRWESIN', 'INDERGR', 'SKRABUL', 'SOMPHYT', 'EVEREADY', 'STEP2COR', 'LINTAS', 'NEVTIAS', 'ORIENTTR', 'ARIHCLAF', 'AASHEESH', 'MAHANIN', 'EMKAYIN', 'ALANGIND', 'VIKASPROP', 'ANKUSHFI', 'PANIND', 'DESHRAK', 'RASOYPR', 'PALPEUG', 'ICSA', 'ACESOFT', 'RADRO', 'LLORF', 'MAARSOFTW', 'SOFTRAKV', 'BETALA', 'HATSUN', 'GLORYCH', 'ECOM', 'AMEREDM', 'CANVYCH', 'SRIMT', 'JYOTHI', 'SHAYONA', 'RISHDIGA', 'MAINFRA', 'KOBO', 'JINDWORLD', 'VERTEXSPG', 'SURSTON', 'WALFARM', 'TIRIN', 'SOMANYCERA', 'AGRIMAS', 'JHACC', 'INCORPI', 'RAGHUTOB', 'DRL', 'TOPTELE', 'KAMINIS', 'CORALFINAC', 'AMITSEC', 'BHARFOR', 'FEDERBK', 'AROMAENT', 'AKASHSG', 'PAMRAFI', 'WELCO', 'INDOPACIFIC', 'LILACPW', 'VIZARAG', 'ASHUTPM', 'SANJIVIN', 'BLAZONMRB', 'PLUSFIN', 'RANJITSE', 'CRESTER', 'VASINFRA', 'HPMINDL', 'MTCAPLS', 'KMFBLDR', 'KEMICARE', 'ALKADIA', 'BERYLSE', 'RAP', 'MARTEXT', 'DEVINE', 'KNIWE', 'ADITYAIN', 'GEDEVEL', 'BILPOWER', 'BAMPSL', 'GENPHARMA', 'AROCSIL', 'INCON', 'CGCL', 'VISALAG', 'MIDPOLY', 'NIMBUSFOO', 'FDC', 'GOGIACAP', 'GCVSERV', 'KOFFBREAK', 'SAWACA', 'SRIKAND', 'LLOYDCE', 'ICPSECL', 'MFLHF', 'GORANIN', 'KGPETRO', 'UFMINDL', 'AADHAARVEN', 'KGNIND', 'MAL', 'MICRONC', 'ERABUILD', 'STARCOM', 'OSIAIND', 'MARALFN', 'ENEPRO', 'CENTERAC', 'JYOTPOL', 'COUNCODOS', 'SANHP', 'OROSMITHS', 'RAGHAVAEPL', 'TEJASSVI', 'RICHF', 'CANOPYS', 'AVINF', 'LINCOPH', 'ROYINDL', 'SILVOAK', 'TUSEXPO', 'PRAVEG', 'SURAJLTD', 'ROCHEBRE', 'SICL', 'MARICO', 'ASRAGRO', 'TOKYOFIN', 'SOUISPAT', 'RFLINT', 'BJDUP', 'MAHAVIRIND', 'WERTERNIN', 'VAXHS', 'NATGENI', 'THIRDFIN', 'CHABRASP', 'CHETAKS', 'CRYPTAG', 'RANXLAB', 'ABATEAS', 'TSL', 'GLOBALFIL', 'HITTCO', 'PSCABLE', 'YUVRAAJHPL', 'MAHAV', 'JAYNTPA', 'ARHNTIN', 'RRMETAL', 'VISIONCO', 'NISUFIN', 'CLASSICB', 'BISIL', 'INANISEC', 'ANKIN', 'INDOASIAP', 'TRICOM', 'VAGHANI', 'ARISINT', 'ANANDCR', 'MAYUR', 'AMERISE', 'CATECH', 'ANKURDRUGS', 'FRONTFN', 'ADVIKLA', 'KGL', 'PRITHVIEXCH', 'MAHAREM', 'SEAGUL', 'RUSODSE', 'KHYATI', 'YANTRA', 'RAINBOWF', 'VERONICAPRO', 'VSDCONF', 'VIPSECU', 'KRFOODS', 'SUPRDOM', 'RSCORP', 'SHSAINA', 'TRIBHSG', 'ROCPROJ', 'LANYARD', 'VIJYREM', 'SUNINFO', 'GOLDMUL', 'PRUDSTK', 'TRILOGIC', 'BLUCHIP', 'MANMADE', 'SHUKUN', 'TRICOMFRU', 'VIDHIING', 'ANIKSHIP', 'BHAGCHEM', 'ALPGRAPH', 'ZENGLOB', 'SHIVANA', 'STAMPEDE', 'HRBFLOR', 'MCCIL', 'PANCHSHEEL', 'MENNPIS', 'AMRITBANA', 'SKYLIDTE', 'CAPSEINDM', 'AARYAGLOBL', 'MERCFUND', 'BAFNASP', 'NICCOCORQ', 'PRISMFN', 'SSPPOLY', 'GREENCREST', 'SILICON', 'GENNEX', 'PATPART', 'STGUJHS', 'SKYCHEM', 'HIRAUTO', 'GINISILK', 'SGLOBEX', 'PRAENG', 'MECAQUI', 'GRANFLO', 'ENCORE', 'SONCLOC', 'BIOGEN', 'FLUIDARDM', 'FINCOM', 'DOMILEADM', 'LIVERPO', 'RKSUITG', 'GKCONS', 'EXELSOF', 'FUFITIN', 'APOLLOPIPES', 'UNJHAFOR', 'MZFABRI', 'SUPRTELE', 'JMDALOY', 'HNCOMPR', 'POLYMED', 'PFLINFOTC', 'SHELMER', 'SHRADDHA', 'CHETEXT', 'SHALIINF', 'TRIPEXO', 'CISTRO', 'INTELVIS', 'KACHCHH', 'PADALPO', 'KACL', 'SAPANCHEM', 'OASISME', 'AZUREEXIM', 'KCLINFRA', 'AMERPNT', 'AESCURE', 'AESCREM', 'RHUTUDY', 'UNIMEDIA', 'NOVAGOLD', 'MAALFNC', 'INFRAQUEST', 'SESHACHAL', 'ATULAUTO', 'SRINFEA', 'SCANPRO', 'SHARPRIN', 'SHEETALB', 'MANNA', 'PRERINFRA', 'VIRDEVE', 'PUNLSFN', 'INGVYSYABK', 'METALCO', 'SGNTE', 'GANGAPA', 'TIRSARJ', 'PANORAMUNI', 'HYDEQUI', 'NUWAY', 'FINCR', 'MUNOTHFI', 'RODIUM', 'ARVINDREM', 'RCCEMEN', 'DKARTAV', 'HIMFINC', 'MANDUIN', 'SANVAN', 'TODAYS', 'UNISH', 'NAGTECH', 'KRIPSPG', 'NATHUEC', 'EICHERLTD', 'NIRSA', 'GLOSS', 'SMSTECH', 'JJSPECT', 'IECEDU', 'INDUSFINL', 'LAHOTIOV', 'MYMTECH', 'SU-RAJD', 'ZENITHSTL', 'TRINITYLEA', 'ASTAR', 'REGEAGP', 'KAMAOVR', 'ROHITIS', 'APOWERTOOL', 'SHIVTEX', 'FUNWTRD', 'PRABHAVIN', 'ARHSUED', 'ORIRAIL', 'GLOES', 'JOINDRE', 'BHARATAGRI', 'SIGRUN', 'PALDISTDM', 'VOLTM', 'AAGAMCAP', 'UNITINT', 'VIFAIRW', 'SACHEMT', 'POPULARES', 'GLOBSYN', 'PEQGRTRDM', 'VENUSPOWR', 'IFBINDL', 'GHANS', 'DWARKFN', 'ANJANIFIN', 'PIONDIST', 'LYOIE', 'GMETCOAL', 'KWALITY', 'IDBIMUT', 'IDBIGRO', 'SVAINDIA', 'SCOPEIND', 'RAHME', 'REXNORD', 'INTECH', 'SNOWCEMIND', 'CONEQUE', 'KHANDSE', 'SAWABUSI', 'VATSAMUS', 'GLOKNIT', 'LICDHNMDM', 'ACCENTECH', 'SANGUI', 'TRYWLIN', 'CCLINTER', 'STERWEB', 'GALLOPENT', 'NATFLASK', 'GLOBUSCOR', 'ACCUEXPO', 'BILATOR', 'DIVINEENT', 'SHRUBER', 'CROISSANCE', 'MADHUVEER', 'GALAGEX', 'GOPAIST', 'REGSPIN', 'GSPLIND', 'KUMETAL', 'TWINSTAR', 'HINDAPL', 'MUDITFN', 'SURYODAL', 'AGARIND', 'VOLPLAST', 'DHAMPURE', 'ALPSINFO', 'SHAQUAK', 'PRTINDL', 'NEXCEN', 'GOLCA', 'INNOCORP', 'SARTHAKIND', 'SAICAPI', 'CGIMPEX', 'WASHISOF', 'SUPREMETEX', 'ASINSTR', 'BLUECHIP', 'BECKONIN', 'MOHFAST', 'GENIUSCO', 'VINTAFD', 'INESODM', 'MILLENCY', 'CSJTEC', 'SERVOTEACH', 'SUNITEE', 'CHADPAP', 'KGNAGRO', 'SOASMUS', 'NEHAEXP', 'VERTEX', 'PROTSEC', 'RIBATEX', 'GCCL', 'NIRMANC', 'PROLINSO', 'INBKITA', 'INBKITB', 'EIDERTELE', 'NEWINFRA', 'KASHYAP', 'HERUKAG', 'SHREMETAL', 'UNICRSE', 'ENJNATF', 'PONAMRS', 'BNKMADM', 'KESGRIN', 'IITLPROJ', 'NARJEWL', 'VRUNDSE', 'HARIGOV', 'TRIDETOOL', 'MORINOV', 'INDOKOR', 'ITLFNLS', 'KEDIN', 'CHLOGIST', 'AMBIKCO', 'HINDALUMI', 'SENINFO', 'VISHPAP', 'SPECFOOD', 'NUMUP', 'GUJFISC', 'GAYLORD', 'ALAMFIN', 'CLCGLOBL', 'JANTE', 'DECPO', 'AMRAAGRI', 'GLDTORE', 'SCRUCLT', 'AUTOPINS', 'SHIAE', 'ODYCORP', 'GOVAI', 'IFSLLTD', 'ANANDRU', 'BROTFLR', 'INDCTST', 'DINIRST', 'SAMINDUS', 'KCSFINA', 'SHVFL', 'JVGDEST', 'GOWRIPL', 'NETVIS', 'POOJAENT', 'SHIVGAR', 'NAVALTC', 'GRAVITY', 'ESPIRE', 'JKCORLT', 'FAIRDTR', 'LCCINFOTEC', 'VINSFRJ', 'SENBO', 'FILATFASH', 'SANCOKE', 'RBGUPTA', 'SOWBHAGYA', 'THEWEST', 'BONANZAB', 'SURFUNC', 'SINDHUTRAD', 'MCSLMTD', 'SARCHEM', 'BASILCH', 'JAINSTUDIO', 'SAFALHBS', 'UNISTRMU', 'TOPMEDIA', 'GIRIRAJ', 'EMMSONS', 'ZENOTECH', 'RASAGEX', 'HINDBIO', 'FRONTCORP', 'SKIPLAS', 'PASUFAB', 'NEXXOFT', 'APTYARNS', 'ASIANFILMS', 'MALVICAE', 'ALAMCHE', 'PRIYFAB', 'SWELECTES', 'UMAFABR', 'WALLFORT', 'KDDL*', 'RASHELAG', 'ADIEXRE', 'ABHICAP', 'GUJARTH', 'ELQPO', 'GRPWRPR', 'GALBATR', 'AUTOMO STAM', 'HBLIBRL', 'KILPEST', 'ARAMUSK', 'PASUPATIF', 'SUMUKAAG', 'INTERDIGI', 'MARIN', 'JBCHPHM', 'WOOLWAY', 'BEQSTPADM', 'BOIEQSTDM', 'MONIND', 'MUNISFG', 'GTCLM', 'KSERASERA', 'ZODICEM', 'SHKALYN', 'FASTRAENT', 'MKTCRET', 'OCENINFR', 'ESTLAGR', 'VIRAJFG', 'MOH', 'VANDANA', 'ORBIT', 'SAGARPROD', 'VENKPHR', 'GFUNPRK', 'HINDLVR', 'KOTHARIP', 'MUKANDENGG', 'DATABASE', 'INDOCITY', 'MINISPP', 'SBECSUG', 'AUROMED', 'CMSINFO', 'MEGFI', 'REIAGROLTD', 'MEDTEDM', 'PANHLRS', 'MANSUINDM', 'ARCHOLC', 'VRWOODA', 'BRIJLEAS', 'AREALTY', 'STOTZBL', 'XOINFO', 'PLATINUM', 'SAINFO', 'MUSKXMK', 'ORICONT', 'DENABANK', 'SIDPHAR', 'BSELINFRA', 'RELIABVEN', 'GEMINAGDM', 'RASPHOT', 'MOBILTEL', 'MOBTLCM', 'HEXAWARE', 'TRIUMPIN', 'IFGLREFRAC', 'BANKBARODA', 'BKBAROD', 'CLMUSRM', 'CPLARTS-B', 'SMCREDT', 'GTEIT', 'MOHITE', 'ANDHRACEMT', 'SKMEGGPROD', 'WELCORP', 'HOTLSILV', 'CANPENF', 'CILSNOR', 'KOLARBIO', 'BANKINDIA', 'INDRAMEDCO', 'ZTAUGEN', 'ZTAUNEW', 'RAINCALCIN', 'JOHNPHARMA', 'GAIL', 'VAIBHAVGBL', 'DOWELWE', 'SBIMTXP', 'TRESCON', 'GUJSTATFIN', 'BAFEG', 'JKPAPER', 'SAREGAMA', 'MINOLTAF', 'RANSISOF', 'ALKASEC', 'OMKARPH', 'MADRASFERT', 'SUJTRFI', 'DATT', 'ADROITINFO', 'CYBERTECH', 'ICICIBANK', 'CYIENT', 'PAVCI', 'ZIGMASOF', 'ENGINERSIN', 'CORPBANK', 'DHANBANK', 'GMDCLTD', 'BLINTEC', 'GAYATRI', 'CALDYNA', 'INDUSINDBK', 'ITDC', 'ARYANPE', 'SBT', 'TINNAFN', 'BOBELSS', 'CNBKPEP', 'NCLSECC', 'BHAGCOT', 'PSI', 'MYSOREBANK', 'AMBCEMES', 'SBMAGNU', 'CYAAGDM', 'MANPAIN', 'J&KBANK', 'CUB', 'SUNEARTH', 'ARCHIES', 'INOXL', 'VISUALSOFT', 'AXISBANK', 'HBSTOCK', 'SIELFNS', 'SOUTHBANK', 'ENERGYDEV', 'UTIMVUPDM', 'SONATSOFTW', 'BENGALT', 'NATIONALUM', 'IDBIBANK', 'RADKHDM', 'INDNIPPON', 'SQL', 'TIMEBDM', 'POLARIS', 'NSIL', 'TRANSRIN', 'APARINDS', 'TCIIND', 'INDAGERES', 'FSS', 'ACCELYA', 'ORCHASP', 'CBOP', 'QUINTEGRA', 'LANDMARC', 'SYNDIBANK', 'RSLMDDM', 'HCLTECH', 'CASTEXTECH', 'KAASHYAP', 'TCFCFINQ', 'GEOJITFSL', 'JINDALSTEL', 'ENTEGRA', 'BLBLIMITED', 'KOPDRUGS', 'SOFTTECHGR', 'GLENMARK', 'ZENITHINFO', 'TV18', 'WOCKPHARMA', 'TATACOFFEE', 'SIBARSOF', 'INTEGHIT', 'KJMCCORP', 'INDSWFTLAB', 'COMPUDYNE', 'MELSTAR', 'EONOUR', 'GEPIL', 'SHREERAMA', 'TUTIS', 'GEOMETRIC', 'MAHLIFE', 'PENTAGLO', 'TELESYS', 'SKUMAR', 'BOBEL97', 'GEMINI', 'TVSFIN', 'VAARAD', 'ZYDUSLIFE', 'ELDERPHARM', 'SHIVACEM', 'CINEVISTA', 'VITALCOMM', 'INTENTECH', 'ALLSOFT', 'RANEBRAKE', 'DANLAW', 'BIOPAC', 'AJANTPHARM', 'CURATECH', 'HBPOR', 'HBESD', 'AMBICAAGAR', 'BARONINF', 'IGATE', 'VALUEMART', 'COMPUSOFT', 'OMNIAX', 'IZMO', 'COMMEXTECH', 'TVSMOTOR', 'SOFTSOL', 'GATI', 'BLUESTINFO', 'HELIOSMATH', 'SUBEX', 'TCI', 'PADMALAYAT', 'AKSHOPTFBR', 'KIRLMU', 'SIBARMED', 'VIRGOGLOB', 'PICTUREHS', 'TRIVENI', 'MUKTAARTS', 'TELEDATAGL', 'HITKITGLO', 'VINCARDS', 'SHAPRDM', 'NAGPI', 'CTIL', 'CYBERSC', 'DSSL', 'PNBGILTS', 'KANIKAIN', 'BCG', 'RAMCOIND', 'RAMCOSYS', 'TTML', 'VIRINCHI', 'WEPSOLN', 'STLTECH', 'TIPSINDLTD', 'MRO-TEK', 'BATHINAT', 'UNIVARTS', 'FIRSTFIN', 'BABA', 'INDUSNET', 'BALAJITELE', 'VISIONLTD', 'TYCHE', 'AZTECSOFT', 'CALSOFT', 'PNC', 'IOB', 'VALECHAENG', 'TAJGVK', 'OPTOCIRCUI', 'CREATIVEYE', 'GESBBPH', 'GEBBDM', 'AXISCADES', 'VANTEL', 'KONNDOR', 'UMESLTD', 'RELMEDIA', 'BSOFT', 'VIJAYABANK', 'USGTECH', '4THGEN', '7TEC', 'CCSIN', 'AVANTEL', 'MOSCHIP', 'MEGASOFT', 'SYGENTA', 'TRANSCOR', 'VISESHINFO', 'RYMBBPH', 'CEREBRAINT', 'IKFTECH', 'SELBBPH', 'NEXTMEDIA', 'ESTAR', 'ANDHRABANK', 'SMARTLINK', 'FENBBPH', 'IQINF', 'SEQSOFT', 'JATBBPH', 'GODREJCP', 'GENUSPRIME', 'SEMBBPH', 'RELBBPH', 'WINBBPH', 'STEBBPH', 'BFUTILITIE', 'BDMBBPH', 'UNITDSPR', 'BRTPHBB', 'BHMBBPH', 'SANINFRA', 'KEIBBPH', 'OCIBBPH', 'JOFBBPH', 'OLECTRA', 'MPSLTD', 'RAINBOWDQ', 'MWTEXX', 'CERA', 'TSPIRITUAL', 'EXDBBPH', 'GOCBBPH', 'DUPHARPH', 'HERBBPH', 'GGDBBPH', 'BLCBBPH', 'HNDBBPH', 'SAPETRO', 'BLSBBPH', 'BHARTIARTL', 'SHALIWIR', 'COMPUAGE', 'GULPOLY', 'IVPPHBB', 'FAZE3AUTO', 'PONNIERODE', 'PNB', 'DEEBBPH', 'RSLTEXTIL', 'RAMCOSUP', 'TAFNCCPEQ', 'OFSS', 'HAZOOR', 'KAMAHOLD', 'MPPLQ', 'MPFSL', 'SIRPURBBPH', 'GLOFAME', 'SRFPOBBPH', 'SOLITARBBPH', 'APTECHT', 'VENPHBB', 'UNIONBANK', 'UBL', 'ISMTLTD', 'ALBK', 'NOIDATOLL', 'GRANULES', 'CANBK', 'SUNBBPH', 'BLIL', 'POKARNA', 'ECEINDBBPH', 'DIVISLAB', 'ARVINPRO', 'RANENGIN', 'ECEIND', 'INDOGULFFE', 'ASTRAMICRO', 'MICROTECH', 'FINLNCBBPH', 'RADICO', 'SHRIRAMCIT', 'MARUTI', 'INDORAMTX', 'MAZDABBPH', 'RAJPALAYAM', 'NAVINFLUOR', 'UCOBANK', 'ACESFEXBBPH', 'BAGFILMS', 'JSL', 'SUPRAJIT', 'ASLEYF', 'EXCELCROP', 'MAWANA', 'TVSELECT', 'IGL', 'TVTODAY', 'SURYAPHARM', 'PATNI', 'FLORENCE', 'JKSUGAR', 'PALRED', 'PETRONET', 'BIOCON', 'PTC', 'MAHABANK', 'DISHMAN', 'RKFORGE', 'DATAMATICS', 'NDTV', 'MASTEKBBPH', 'STAR', 'JPASSOCIAT', 'AVERYBBPH', 'RELBBPHY', 'BRITANIBBPH', 'KOJAM', 'LUMAXAUTO', 'ULTRACEMCO', 'UNOMINDA', 'TCS', 'COFORGE', 'CREWBOS', 'GULFPETRO', 'IBULLS', 'FKONCO', 'CENTURYPLY', 'WELENT', 'NTPC', 'SALSTEEL', 'JBMA', 'PARAL', 'ONTRACK', 'DCHL', 'BHARATIDIL', 'DWARKESH', 'RILBBPH', 'INDOCO', 'VIPCLOTHNG', 'IMPEXFERRO', 'ETC', 'XCHANGING', 'JETAIRWAYS', 'VISHALEXPO', 'UTVSOF', 'AEGISLOGBB', 'MORARJEE', 'GDL', 'NRINTER', 'JINDALPHOT', 'DILBBPH', 'PONDYOXIDE', 'JPPOWER', '3IINFOTECH', 'MBECL', 'GOKEX', 'FAMEINDIA', 'GLAXOSMBBPH', 'ALLSEC', 'ETCBBPH', 'IIFL', 'MANGALAM', 'SHOPERSTOP', 'POLARISBBPH', 'CYBERMEDIA', 'NDL', 'JSWHL', 'SGFL', 'JKCEMENT', 'BEEYU', 'UNIPLY', 'PROVOGE', 'YESBANK', 'NECLIFE', 'MSPL', 'SPLIL', 'KTKBANK', 'HINVDIR', 'MCLEODRUSS', 'BALASTEELS', 'FACORALL', 'FACORSTE', 'EON', 'IDFC', 'VIVIMEDLAB', 'RML', 'HTMEDIA', 'SASKEN', 'AMAR', 'RAJVIR', 'FCSSOFT', 'SUZLON', 'AURIONPRO', 'SBTL', 'RENUKA', 'JYOTHYCONS', 'GLODYNE', 'KMSUGAR', 'BASML', 'PRITHVI', 'PBAINFRA', 'VIKASHMET', 'BRFL', 'SORILINFRA', 'PRIMESEBBPH', 'IBULLSBBPH', 'ABGSHIP', 'AIAENG', 'EKC', 'SRFPOLYBBPH', 'KERNEX', 'REPRO', 'COMSYS', 'PVR', 'RAMSARUP', 'TULIP', 'RMCL', 'PUNJLLOYD', 'ASMS', 'CELEBRITY', 'EDUCOMP', 'NITINSPIN', 'ROHLTD', 'ENIL', 'CELLA', 'GSPL', 'RCAPVL', 'RENVL', 'JAGRAN', 'INOXLEISUR', 'DYNPRO', 'GVKPIL', 'RNRL', 'SADBHAV', 'SUNILHITEC', 'RCOM', 'SAKUMA', 'KEC', 'GITANJALI', 'GILLANDERS', 'INDOTECH', 'PRATIBHA', 'BLKASHYAP', 'M&MFIN', 'VISASTEEL', 'NITCO', 'MPDL', 'MOUNTEVTR', 'SOLARINDS', 'GALLANTT', 'ADHUNIK', 'MALUPAPER', 'UTTAMSUGAR', 'SGL', 'ROHITFERRO', 'KKCL', 'SUNTV', 'GPIL', 'RSYSTEMINT', 'POWERSOF', 'EMKAY', 'TANTIACONS', 'PLETHICO', 'LOKESHMACH', 'KAMDHENU', 'PAUSHAKLTD', 'RPL', 'GTNTEX', 'INDICAP', 'UNITY', 'KFA', 'PFOCUS', 'ALLCARGO', 'SRFLTDBBPH', 'EASUNREYRL', 'REVTEQBBPH', 'ASHIM', 'GMRINFRA', 'TECHM', 'MAHINDCIE', 'VOLTAMP', 'KEWIND', 'ATLANTA', 'DEEPENR', 'HOVS', 'ACE', 'ICIBBPH', 'GEECEE', 'USHERAGRO', 'RICHAIND', 'GAYAPROJ', 'FIEMIND', 'HANUNG', 'JHS', 'DCBBANK', 'GLOBALVECT', 'INSPIRISYS', 'GTLINFRA', 'SHIVAMAUTO', 'NAUKRI', 'LITL', 'TORNTPOWER', 'PARSVNATH', 'BLUEBIRD', 'SUTLEJTEX', 'DAAWAT', 'SOBHA', 'RUCHIRA', 'GTOFFSHORE', 'ESSDEE', 'XLENERGY', 'NCOPPER', 'TANLA', 'PSTL', 'CAIRN', 'SHREEASHTA', 'ZEEMEDIA', 'SITINET', 'LUMAXTECH', 'AUTOIND', 'NETWORK18', 'HUBTOWN', 'TV18BRDCST', 'CTE', 'NATCOBBPH', 'POCHIRAJU', 'TIIL', 'REDINGTON', 'AICHAMP', 'CINELINE', 'PGIL', 'FSL', 'PFC', 'AHLUCONT', 'TFL', 'CANDC', 'INDIANB', 'SMSPHARMA', 'BROADCAST', 'ORIENTALTL', 'EVINIX', 'MINDTREE', 'ELAND', 'INDUSFILA', 'IDEA', 'EUROCERA', 'VTXIND', 'JAGJANANI', 'RAJTV', 'PAGEIND', 'AMDIND', 'LEHAR', 'ASTRAL', 'ABHISHEK', 'IBREALEST', 'SPARSHBPO', 'CAMLINFINE', 'ICRA', 'SANCIA', 'ORBITCORP', 'GAELBBPH', 'DISHTV', 'ADVANTA', 'SAHYADRI', 'SRHHYPOLTD', 'FORTIS', 'ASELBBPH', 'TGBHOTELS', 'MROTEKBBPH', 'HILTON', 'DELTACORP', 'BINANICEM', 'MIC', 'INSECTICID', 'MCDHOLDING', 'ASAHISONG', 'NITINFIRE', 'HARYNACAP', 'TIMETECHNO', 'GLORY', 'DECOLIGHT', 'HGS', 'NETFLIER', 'IPRUFMP36AG', 'IPRUFMP36AD', 'SPICETELE', 'NELCAST', 'MEGH', 'QUINTEGRA', 'V2RETAIL', 'DLF', 'TARMAT', 'ANKITMETAL', 'CELESTIAL', 'SPARC', 'HDIL', 'SURYACHAKRA', 'ADSL', 'EVERONN', 'SIMPLEX', 'ALPA', 'SSLEL', 'OMAXE', 'IVRCLAH', 'OMNITECH', 'ZYLOG', 'REFEX', 'CENTRALBK', 'SELMCL', 'NTL', 'ASIANTILES', 'KPRMILL', 'TAKE', 'PURVA', 'MOTILALOFS', 'VTMLTD', 'INDOWIND', 'NAGREEKCAP', 'MAGNUM', 'HULBBPH', 'POWERGRID', 'KSCL', 'PAISALO', 'KOUTONS', 'CCCL', 'DHANUS', 'SUPREMEINF', 'SAAMYABIO', 'MAANALU', 'IL&FSENGG', 'SHARONBIO', 'GRABALALK', 'ANILLTD', 'PARLEIND', 'NET4', 'CSIL', 'ARCOTECH', 'RELIGARE', 'BVCL', 'VARUN', 'RATHIBAR', 'ACIASIA', 'EDL', 'ADANIPORTS', 'EDELWEISS', 'RGL', 'KOLTEPATIL', 'KAUSHALYA', 'JYOTHYLAB', 'ECLERX', 'TRIL', 'BRIGADE', 'BGRENERGY', 'BURNPUR', 'MANAKSIA', 'PORWAL', 'PPAP', 'ARIES', 'KUANTUM', 'CAPF', 'RPOWER', 'JKIL', 'CORDSCABLE', 'KNRCON', 'MDRASCMBBPH', 'ONMOBILE', 'SEPC', 'BANG', 'IRB', 'TULSI', 'PIRAMGLAS', 'MANJUSHREE', 'GSS', 'NAHARCAP', 'VGUARD', 'RELINFRBBPH', 'RECLTD', 'SOLECTEMS', 'GOKAKTEX', 'ETCN', 'AJRINFRA', 'DHANI', 'SITASHREE', 'DWSFTS43RG', 'DWSFTS43RD', 'DWSFTS43IG', 'PATNIBBPH', 'TWL', 'KIRIINDUS', 'MASTKBBPH', 'CHINVEST', 'GREATOFBBPH', 'SASKENBBPH', 'SANKHYAIN', 'GOLDIAMBBPH', 'BIRLAMONEY', 'AISHWARYA', 'JAIBALAJI', 'BAJAJ-AUTO', 'BAJAJFINSV', 'PIRPHYTO', 'GOKUL', 'ANULABS', 'SRFLBBPH', 'RPGLIFE', 'ENSOSECUT', 'KTKSENSEX', 'NIRAJ', 'RBL', 'RANEENGINE', 'BAFNAPHARM', 'METKORE', 'MVL', 'CHLLTD', 'SEJAL', 'ARCHIDPLY', 'AVONCORP', 'FIRSTWIN', 'KSK', 'LEHIL', 'NEXTGENT', 'ANGAUTOBBPH', 'SOMICONV', 'DWSFTS50AD', 'DWSFTS50BD', 'BIRLACOT', 'LGBFORGE', 'OISL', 'GDLBBPH', 'OCTAVINV', 'CORAL-HUB', 'LPDC', 'GUJFLUOBBPH', 'SICAGEN', 'NUTEK', 'AUSTRAL', 'RMMIL', 'SIMPLXMIL', 'SIMPLXPAP', 'RAINBBPH', 'SURANABBPH', '20MICRONS', 'ZFCVINDIA', 'VALIANTBBPH', 'HEGBBPH', 'CHEMCEL', 'DLFBBPH', 'RSYSBBPH', 'ALKALI', 'MAESTROBBPH', 'FDCBBPH', 'IPCALABBBPH', 'ISGEC', 'GODRJCPBBPH', 'ALEMBICBBPH', 'MONNETBBPH', 'SUPREMEBBPH', 'JINDPOLBBPH', 'EIDPARYBBPH', 'BOSCHBBPH', 'IIFLBBPH', 'SPRMPETBBPH', 'NBVENTRBBPH', 'SELANBBPH', 'HOVBBPH', 'AUSTENGBBPH', 'IMFA', 'GISOLUTION', 'MANGALCBBPH', 'GSSAMERBBPH', 'HYDROSBBPH', 'TTKHEBBPH', 'LKPFINBBPH', 'KLBRENGBBPH', 'EDSERV', 'VEDAVAAG', 'TVTNBBPH', 'ZENTECBBPH', 'BRANDHOUSE', 'SANDESHBBPH', 'APLOTYRBBPH', 'GITNJLIBBPH', 'REISIXTEN', 'IBVENBBPH', 'PENARINBBPH', 'ARROWTEX', 'AVANTELBBPH', 'DAICHIBBPH', 'GODRJBBPH', 'MANJEERA', 'SANDPLAST', 'MOLDTKPAC', 'MERCKBBPH', 'AROGRANBBPH', 'RDEVCAB', 'SM1AD', 'SM1AG', 'SM1BD', 'SM1BG', 'MHRIL', 'TELEDATAIT', 'EXCEL', 'DCHLBBPH', 'AEGISLOBBPH', 'RAJOIL', 'JINDLPOBBPH', 'BENGALASM', 'ADANIPOWER', 'SOFTSOLBBPH', 'NHPC', 'PROVOGUBBPH', 'PEIL', 'SURYAAMBA', 'SRFBBPH', 'JINDCOT', 'GLOBUSSPR', 'OIL', 'RNAVAL', 'BTTL', 'EUROMULTI', 'SPSL', 'BHAGYINBBPH', 'EXPLEOSOL', 'RTNPOWER', 'GOLDIMBBPH', 'PODDARBBPH', 'DEN', 'ASTEC', 'RBN', 'COX&KINGS', 'APCOTEXBBPH', 'DLINKINDIA', 'BRITBRBBPH', 'JSWENERGY', 'ESSARSEC', 'GODREJPROP', 'DBCORP', 'MBLINFRA', 'FDCLTDBBPH', 'INFINITE', 'JUBLFOOD', 'VASCONEQ', 'SYNCOM', 'THANGAMAYL', 'AQUA', 'DBREALTY', 'EMMBI', 'HATHWAY', 'ARSSINFRA', 'TEXMOPIPES', 'TIPSBBPH', 'SUNDARAM', 'COROENGG', 'ROSSELLIND', 'MANINFRA', 'TAMBOLI', 'UNITEDBNK', 'DQE', 'IL&FSTRANS', 'PRADIP', 'PERSISTENT', 'SGJHL', 'ISFT', 'GOENKA', 'KCPSUGIND', 'KECL', 'TALWALKARS', 'MNAKSIABBPH', 'SATCH', 'TARAPUR', 'GBGLOBAL', 'GEODLTDBBPH', 'SJVN', 'JPINFRATEC', 'EMAMIPAP', 'SAMRUDDHI', 'KRITINUT', 'PARABDRUGS', 'GKB', 'FRONTSEC', 'PANACEABBPH', 'TECHNOFAB', 'HMVL', 'EMAMIREAL', 'SHRIASTER', 'MIDFIELD', 'AHLWEST', 'HULTDBBPH', 'AHLEAST', 'BHARATFIN', 'BAJAJCON*', 'PRAKASHSTL', 'CNSDSECBBPH', 'GPPL', 'WELINV', 'HIRAFERRO', 'INDOSOLAR', 'TIRUPATIINK', 'SASTASUNDR', 'CAREERP', 'EROSMEDIA', 'RAMKY', 'GREENPOWER', 'ESL', 'GALLISPAT', 'TECPRO', 'CANTABIL', 'SEATV', 'WABAG', 'BEDMUTHA', 'ASHOKA', 'JWL', 'OBEROIRLTY', 'PRESTIGE', 'GAL', 'BSLIMITED', 'CRISILBBPH', 'COALINDIA', 'TECHNO', 'GRAVITA', 'SASKENBBPH', 'RPPINFRA', 'RDBRIL', 'MOIL', 'ZEELEARN', 'CLARIS', 'KTIL', 'A2ZINFRA', 'KIRLOSENG', 'RKDL', 'PSB', 'FMNL', 'KBIL', 'SURANASOL', 'SPYL', 'KICL', 'BFINVEST', 'CMAHENDRA', 'SRSREAL', 'SUMMITSEC', 'DALMIABHA', 'MIDVAL', 'HINCOMBBPH', 'AGSINFO', 'INOVSYNTH', 'STEL', 'OMKARCHEM', 'JUBLINDS', 'BILENERGY', 'TEXRAIL', 'INDTERRAIN', 'ACROPETAL', 'BCMLBBPH', 'SUDAR', 'FCL', 'DHUNINV', 'ZENTEC', 'LOVABLE', 'PFS', 'RELINFBBPH', 'SHILPI', 'HEGLTDBBPH', 'TCIDEVELOP', 'ADSLBBPH', 'ICSILBBPH', 'MUTHOOTFIN', 'PARAPRINT', 'FCONSUMER', 'SERVALL', 'INNOIND', 'CNOVAPETRO', 'SANGHVIFOR', 'DRDATSONS', 'VMS', 'TIMBOR', 'KARMAENG', 'DELPHIFX', 'PVRBBPH', 'TELEMARINE', 'BIRLAPAC', 'RUSHIL', 'ENKEIWHEL', 'KRIINFRA', 'WELGLOB', 'ZEEENTBBPH', 'BGLOBAL', 'INVENTURE', 'L&TFH', 'YAARI', 'HEALTHTECH', 'TREEHOUSE', 'BROOKS', 'RUPA', 'TDPOWERSYS', 'ONMOBBBPH', 'SRSLTD', 'APLLTD', 'VASWANI', 'PGEL', 'LESHAIND', 'SETUINFRA', 'RDBRL', 'EONBBPH', 'TIJARIA', 'ONELIFECAP', 'FLEXITUFF', 'TAKSHEEL', 'UJAAS', 'TRITURBINE', 'INDOTHAI', 'RAINCOBBPH', 'ESSARSHPNG', 'GEMINIBBPH', 'AVANTEBBPH', 'APLAPOLLO', 'GPTINFRA', 'KGNENT', 'PRAJINDBBPH', 'BOROSILBBPH', 'ANSALHSBBPH', 'RELBANK', 'FERVENTSYN', 'AMTEKBBPH', 'VALCOMBBPH', 'THOMASCOTT', 'RELINDBBPH', 'TERASOFT', 'GEECEEBBPH', 'ACCELYABBPH', 'KIROILBBPH', 'JKLAKBBPH', 'PMCFIN', 'FUTSOL', 'AIML', 'RHIM', 'MCX', 'PYXISFIN', 'JSWISPLBBPH', 'SCHNEIDER', 'NAGAROIL', 'OLPCL', 'NBCC', 'MTEDUCARE', 'HEXATRADEX', 'MAXHEIGHTS', 'INDBULBBPH', 'TBZ', 'VSSL', 'UPLBBPH', 'LOOKS', 'SPECIALITY', 'LKPFINABBPH', 'ALCARGOBBPH', 'LYPSAGEMS', 'BGPL', 'MASL', 'ASEEMG', 'VKSPL', 'RTNINDIA', 'SEPOWER', 'JTLIND', 'AMTL', 'NECCLTD', 'WAAREERTL', 'JUPITERIN', 'VINAYAKPOL', 'KANORIABBPH', 'JOINTECAED', 'DUCON', 'PROZONINTU', 'SRGHFL', 'LAKSHVILAS', 'COMCL', 'ADITRI', 'SHANTIGURU', 'CINEMAXIND', 'BITL', 'CASPIAN', 'SUPREMEX', 'RMCHEM', 'BCHL', 'VIRTUALG', 'ZUARI', 'MASTEKLBBPH', 'STEELXIND', 'TRIOMERC', 'TARAJEWELS', 'FOCUSIRL', 'CIGNITI', 'CDG', 'CARERATING', 'PCJEWELLER', 'INDUSTOWER', 'EFPL', 'GRADBBPH', 'COVIDH', 'EBFL', 'VMART', 'KRBLBBPH', 'NIBE', 'SRDL', 'CNEL', 'MUKTA', 'MYSTICELE', 'HPCBL', 'PANAMABBPH', 'COMFINCAP', 'SBISENSEX', 'BMAL', 'SHRIDINBBPH', 'REPCOHOME', 'LAKHOTIA', 'GCMSECU', 'NIBL', 'SRL', 'AIFL', 'DELTALTD', 'IDFCEOS1RD', 'IDFCEOS1DD', 'RLL', 'PRIMECAPM', 'KIFS', 'ZENTECHBBPH', 'MAHSEAMBBPH', 'AVANTBBPH', 'SMSPHABBPH', 'SREEL', 'SHARDA', 'BINNYMILLS', 'SVGLOBAL', 'HTMEDIBBPH', 'SDC', 'JUSTDIAL', 'OONE', 'PAWANSUT', 'IFINSEC', 'INFINITBBPH', 'PENNARBBPH', 'BRAHMINFRA', 'EDSL', 'SPICEMBBPH', 'QUEST', 'MOTILALBBPH', 'KHOOBSURAT', 'ORIENTCEM', 'ABFRL', 'CGPOWERBBPH', 'IBULHSGFIN', 'APTECHBBPH', 'MMLF', 'ALSL', 'GCMCOMM', 'ESSENTIA', 'ECLERXBBPH', 'SILINFRA', 'GESHIPBBPH', 'VKJINFRA', 'JBFINDBBPH', 'NITINBBPH', 'KUSHAL', 'TIGERLOGS', 'JSPLBBPH', 'RJBIOTECH', 'ATWL', 'JK AGRI', 'FLFL', 'TRIMURTHI', 'GRFIBREBBPH', 'SKFL', 'NEWEVER', 'PVVINFRA', 'SFCL', 'SUBHTEX', 'VCU', 'INDRENEW', 'SRGSFL', 'ACFSL', 'STELLAR', 'FIVEXTRADE', 'AIMLBBPH', 'JPOLYINVST', 'SRSFIN', 'BOSTONTEK', 'YURANUS', 'INTELSOFT', 'MOM100', 'BPCAP', 'CPL', 'RCLEDPLADD', 'RCLEDPLADG', 'RCLENDPLAD', 'RCLENDPLAG', 'ICICINIFTY', 'ICICINF100', 'SATYA', 'ARNOLD', 'MODEX', 'TENTIMETAL', 'RCLEDPLBDD', 'RCLEDPLBDG', 'RCLENDPLBD', 'RCLENDPLBG', 'SUNLOC', 'RCIIND', 'SUYOG', 'CAIRNBBPH', 'NATHBIOGEN', 'AGRITECH', 'ISGECBBPH', 'CHEMTECH', 'GAILBBPH', 'TAAZAINT', 'IDFCEOS2RD', 'IDFCEOS2DD', 'NIF100BEES', 'RELNIFTY', 'AGRIMONY', 'VIAANINDUS', 'DENISCHEM', 'POLYMAC', 'UNISHIRE', 'BSLFEFS1RG', 'BSLFEFS1RN', 'BSLFEFS1DG', 'BSLFEFS1DN', 'IPRU2262', 'IPRU2263', 'IPRU8462', 'IPRU8463', 'DCMSLBBPH', 'LAXMIPATI', 'IDFCEOS3RD', 'IDFCEOS3DD', 'INDOBCLBBPH', 'ETT', 'KOTAKNIFTY', 'HANSUGAR', 'KIRANVYPAR', 'BCP', 'KCSL', 'RACE', 'MANGIND', 'VFL', 'NEGOTIUM', 'PHOENIXTN', 'RAUNAQEPC', 'HRGESSRG2', 'HRGESSRD2', 'HRGESSDG2', 'HRGESSDD2', 'IPRU2296', 'IPRU8496', 'SKP', 'LICNFR2GP', 'LICNFR2DP', 'LICNFR2G1', 'LICNFR2D1', 'INFRONICS', 'BSLFEFS2RG', 'BSLFEFS2RN', 'BSLFEFS2DG', 'BSLFEFS2DN', 'OBIL', 'CPSEETF', 'HARIAAPL', 'VASUPRADA', 'RNBDENIMS', 'WOMENSNEXT', 'GOLDLINE', 'SHARPINV', 'EFSLBBPH', 'WONDERLA', 'RESPONSINF', 'TARANG', 'KAUSAMBI', 'IPRU2365', 'IPRU2366', 'IPRU8565', 'IPRU8566', 'GCMCAPI', 'AFEL', 'BCPAL', 'INCREDIBLE', 'WESTLEIRES', 'NAM', 'MMSINFRA', 'METSL', 'SPS', 'RCLEDIIADD', 'RCLEDIIADG', 'RCLENDIIAD', 'RCLENDIIAG', 'JACKSON', 'ALPSMOTOR', 'DIVINUS', 'CCFCL', 'MONEYBOXX', 'DHYANAFIN', 'WORTH', 'QUASAR', 'TPROJECT', 'AMARSEC', 'CTL', 'TARINI', 'IPRU2401', 'IPRU8601', 'MARICOKAYEL', 'CML', 'SBL', 'YAANENT', 'OMANSH', 'WELSPUNENT', 'JTAPARIA', 'RLFL', 'INCEPTUM', 'GOLDCOINHF', 'BRPL', 'OASIS', 'VITANAGRO', 'ARMAN', 'SAIBABA', 'SKIPPER', 'ADARSH', 'JAMESWARREN', 'VISTARAMAR', 'APOLLOTRI', 'GULFOILLUB', 'FRUTION', 'TRIVENIENT', 'ACHAL', 'SOLISMAR', 'BHANDERI', 'IPRU2428', 'IPRU8628', 'TRIVIKRAMA', 'NCAPBULADD', 'NCAPBULADG', 'NCAPBUILAD', 'NCAPBUILAG', 'GLOSTER', 'QUANTBUILD', 'TTIENT', 'VISHAL', 'TOYAMSL', 'DWITIYA', 'GAJANANSEC', 'UNISON', 'RTFL', 'NCAPBULBDD', 'NCAPBULBDG', 'NCAPBUILBD', 'NCAPBUILBG', 'VRL', 'SNOWMAN', 'QGO', 'PURSHOTTAM', 'IPRU2487', 'IPRU2488', 'IPRU8687', 'IPRU8688', 'HCLTD', 'EML', 'SHARDACROP', 'SIROHIA', 'NAYSAA', 'CITYONLINE', 'SENSEXBEES', 'ENCASH', 'SHEMAROO', 'PARTANI', 'ULTRACAB', 'RCCL', 'ETIL', 'SEOFIGR', 'SEOFIDR', 'SEOFIGD', 'SEOFIDD', 'ATISHAY', 'SUCHITRA', 'DHABRIYA', 'ARYACAPM', 'RCAPBULCDD', 'RCAPBULCDG', 'RCAPBUILCD', 'RCAPBUILCG', 'IPRU2511', 'IPRU8711', 'PDSL', 'HANMAN', 'VGCL', 'STARLIT', 'CEINSYSTECH', 'PANACHE', 'MUDUNURU', 'BSLFEFS3RG', 'BSLFEFS3RN', 'BSLFEFS3DG', 'BSLFEFS3DN', 'IPRU2530', 'IPRU8730', 'JSHL', 'CRANEINFRA', 'PINCON', 'NIYOGIN', 'ASIACAP', 'AKASHDEEP', 'CIL', 'GBFL', 'GILADAFINS', 'BUDGE BUDGE', 'TEJINFOWAY', 'JETINFRA', 'SAPPL', 'D3YRCEERG', 'D3YRCEERDP', 'D3YRCEEDG', 'D3YRCEEDDP', 'AANCHALISP', 'CAPPIPES', 'SEOFIIGR', 'SEOFIIDR', 'SEOFIIGD', 'SEOFIIDD', 'ANUBHAV', 'JMJFIN', 'INTELLECT', 'MONTECARLO', 'JSTL', 'ICL', 'BSLFEFS4RG', 'BSLFEFS4RN', 'BSLFEFS4DG', 'BSLFEFS4DN', 'RCBFIIADD', 'RCBFIIADG', 'RCBFIIAD', 'RCBFIIAG', 'SCC', 'CAMSONBIO', 'RSYSTEMBBPH', 'PANAFIC', 'AMSONS', 'MYMONEY', 'AMARNATH', 'CSL', 'WINYCOMM', 'NEXUSSURGL', 'SELLWIN', 'STSERV', 'GALADAFIN', 'EMERALD', 'MKEXIM', 'MCLOUD', 'IPRU2586', 'IPRU8788', 'OCTAL', 'MIHIKA', 'KANCHI', 'SHRINIWAS', 'DHUNTEAIND', 'VANICOM', 'SKILVEN', 'VINCOFE', 'RAFL', 'COSYN', 'SOFCOM', 'IPRU2591', 'IPRU8793', 'NAPL', 'KARNAVATI', 'ABHIFIN', 'IPRU2598', 'IPRU8800', 'RCBFIIBDD', 'RCBFIIBDG', 'RCBFIIBD', 'RCBFIIBG', 'MERCANTILE', 'SONAL', 'ALFL', 'LICNFR3G', 'LICNFR3D', 'LICNFR3G1', 'LICNFR3D1', 'GENUSPAPER', 'MINDACORP', 'PACT', 'MERCURYLAB', 'CONCORD', 'WARDINMOBI', 'SHREESEC', 'GRNLAMIND', 'HFEFDG', 'HFEFDD', 'HFEFRG', 'HFEFRD', 'TALBROSENG', 'SAPL', 'PUROHITCON', 'JAYATMA', 'PTCIL', 'PINCONLIFE', 'TIRUFIN', 'GBLIL', 'SMADL', 'CHENFERRO', 'MEGRISOFT', 'GITARENEW', 'KALPACOMME', 'ORTEL', 'NEIL', 'STARHFL', 'BEEKAY', 'SSPNFIN', 'SETFBSE100', 'FRASER', 'TTIL', 'SVPHOUSING', 'AGIIL', 'BKMINDST', 'MANAKSTELTD', 'MNKALCOLTD', 'MNKCMILTD', 'BSLFEFS5RG', 'BSLFEFS5RN', 'BSLFEFS5DG', 'BSLFEFS5DN', 'IMAGICAA', 'RCBFIICDD', 'RCBFIICDG', 'RCBFIICD', 'RCBFIICG', 'INOXWIND', 'IPRU2619', 'IPRU8821', 'RAJPUTANA', 'CITL', 'IPRU8841', 'IPRU8842', 'IPRU2639', 'IPRU2640', 'AANANDALAK', 'HKG', 'FILTRA', 'ATHCON', 'IPRU2626', 'IPRU8828', 'NORTHLINK', 'SHESHAINDS', 'SAB', 'PML', 'HINDSECR', 'ALAN SCOTT', 'OPCHAINS', 'SUJALA', 'VRLLOG', 'JAINMARMO', 'BFFL', 'PALCO', 'BODHTREE', 'VBIND', 'SARVOTTAM', 'LAYLA', 'MEP', 'CLLIMITED', 'WARDWIZFBL', 'KTKKIGFG', 'HFEFBRG', 'KTKKIGFD', 'KTKKIGFGD', 'KTKKIGFDD', 'HFEFBRD', 'HFEFBDG', 'HFEFBDD', 'UFO', 'NIFTYEES', 'PANTH', 'SHIVALIK', 'ICSL', 'PNCINFRA', 'ARFIN', 'VLL', 'SPISYS', 'FUNNY', 'HELPAGE', 'INDRAIND', 'HAWAENG', 'AIIL', 'PELTD', 'IPRU2670', 'IPRU8872', 'ADHBHUTIN', 'DFL', 'POEL', 'AEL', 'DEVHARI', 'CAPFIN', 'SGFIN', 'NOBPOL', 'SATIA', 'RCBFIIIAX', 'RCBFIIIAZ', 'RCBFIIIAD', 'RCBFIIIAG', 'GVBL', 'MANPASAND', 'GARMNTMNTR', 'SRESTHA', 'SAUMYA', 'MUL', 'MISHKA', 'SPORTKING', 'GROWINGTON', 'AMBITION', 'HCKKVENTURE', 'JIYAECO', 'RUDRA', 'LOYAL', 'GGPL', 'MRSS', 'CHEMIESYNT', 'GPL', 'JEL', 'BALKRISHNA', 'SCFL', 'SURYAINDIA', 'ADANITRANS', 'STARDELTA', 'AMRAFIN', 'CONCRETE', 'SAMSRITA', 'SYNGENE', 'PECOS', 'BLFL', 'MSL', 'KAYA', 'ALSTONE', 'SYMBIOX', 'IPRU8895', 'IPRU2693', 'ORTINLAABS', 'AVI', 'AURUM', 'BINDALAGRO', 'OZONEWORLD', 'AKSPINTEX', 'ARVSMART', 'POWERMECH', 'MINDAFIN', 'CANOPYFIN', 'RAMASTEEL', 'THINKINK', 'NFIL', 'UTISENSETF', 'UTINIFTETF', 'UNIAUTO', 'IPRU8917', 'IPRU8910', 'IPRU2715', 'IPRU2708', 'VETO', 'NAVKARCORP', 'PENPEBS', 'SHREEPUSHK', 'CHPLIND', 'GUJGAS', 'WAAREE', 'SADBHIN', 'PHL', 'PRABHAT', 'PBFL', 'SALAUTO', 'POLYSPIN', 'PRITIKAUTO', 'SKC', 'SML', 'MINFY', 'KRISHNACAP', 'ACME', 'SANGFROID', 'KCL', 'IPRU8923', 'IPRU8924', 'IPRU2721', 'IPRU2722', 'VISHALBL', 'BELLACASA', 'MALLCOM', 'PJL', 'VAL', 'ARAMBHAN', 'SATIN', 'DITCO', 'SWAGTAM', 'GENCON', 'KUBERJI', 'NEERAJ', 'MUZALI', 'BSLFEFS6RG', 'BSLFEFS6RN', 'BSLFEFS6DG', 'BSLFEFS6DN', 'TEJNAKSH', 'INDOGLOBAL', 'BRIPORT', 'RFSL', 'COFFEEDAY', 'IDFCFIRSTB', 'KRISHFAB', 'BEARDSELL', 'INDIGO', 'IGCIL', 'SHK', 'ARYAVAN', 'IPRU8937', 'IPRU8938', 'IPRU2735', 'IPRU2736', 'TFSL', 'PANORAMA', 'SHREEGANES', 'GTV', 'LICNETFN50', 'PARIKSHA', 'GEETANJ', 'LICNETFSEN', 'TFLL', 'GARBIFIN', 'ADHARSHILA', 'SMARTFIN', 'RAJKOTINV', 'ADCON', 'QUINT', 'HDFCNIFETF', 'SXETF', 'UDAYJEW', 'MAYUKH', 'SHAILJA', 'NAVIGANT', 'GROVY', 'ALKEM', 'LALPATHLAB', 'NAVKETAN', 'SCTL', 'CREATIVE', 'AAYUSH', 'ELITECON', 'LUXIND', 'VALLEY', 'ABHIINFRA', 'APOORVA', 'BNL', 'NH', 'FMEC', 'DDIL', 'ABHIJIT', 'REMLIFE', 'AARNAV', 'ACEWIN', 'SCL', 'SIPTL', 'SHIVA', 'MISHTANN', 'NATECO', 'DELTA', 'JSLHISAR', 'ORACLECR', 'KEL', 'CHAMAK', 'BLUECLOUDS', 'AINFRA', 'BCLENTERPR', 'IPRU8957', 'IPRU8958', 'IPRU2755', 'IPRU2756', 'AARCOM', 'PRECAM', 'BVL', 'TEAMLEASE', 'VIDLI', 'BESTAGRO', 'ACEMEN', 'BFLAFL', 'RGF', 'RCL', 'QUICKHEAL', 'KAPILRAJ', 'GANGAPHARM', 'DAL', 'LUCENT', 'SHIVKAMAL', 'KPEL', 'RGCEL', 'IFINSER', 'ALORA', 'HILIKS', 'IPRU2766', 'IPRU2767', 'IPRU8968', 'IPRU8969', 'HYPERSOFT', 'GOKULAGRO', 'FREDUN', 'SIMBHALS', 'RELICAB', 'VKAL', 'MODCL', 'MNIL', 'DARJEELING', 'ADVIKCA', 'LICNFNHGP', 'PDMJEPAPER', 'DUNE', 'HCG', 'KDML', 'UMIYA', 'BHARATWIRE', 'CHDCHEM', 'INFIBEAM', 'LELAVOIR', 'MUDRA', 'SICLTD', 'BALGOPAL', 'SUPERIOR', 'RUBY', 'RPEL', 'DRREDDYBBPH', 'FRANKLIN', 'EILBBPH', 'LANCER', 'SYSCO', 'NINSYS', 'EQUITAS', 'GOLDENCAP', 'HALDER', 'SKIL', 'GHUSHINE', 'THYROCARE', 'BAJAJHCARE', 'BRONZE', 'UJJIVAN', 'RSDFIN', 'CROMPTON', 'PILANIINVS', 'DARSHANORNA', 'IPRU2812', 'IPRU2813', 'IPRU9014', 'IPRU9015', 'PARAGMILK', 'MADHAVIPL', 'SAGL', 'DIDL', 'LATENT', 'KOCL', 'SNIM', 'NAGARFERT', 'SEIL', 'RGIL', 'LIKHAMI', 'MIL', 'YASHCHEM', 'MAXVIL', 'ICICINV20', 'BAZELINTER', 'JLL', 'IPRU2821', 'IPRU9023', 'TAALENT', 'MGL', 'QFSL', 'ZEAL', 'QUESS', 'DIGJAMLTD', 'ICICIMCAP', 'MAXINDIA-', 'ASYL', 'SIDH', 'HUIL', 'TITAANIUM', 'COMSYN', 'CFEL', 'LLOYDSTEEL', 'KPL', 'LTIM', 'EASTWEST', 'BSLSENETFG', 'COLORCHIPS', 'ASHARI', 'ADVENZYMES', 'LAHL', 'PTIL', 'ADFBBPH', 'DBL', 'SPAL', 'BIGBLOC', 'GOLDENCREST', 'ECS', 'FRETAIL', 'RBLBANK', 'AMS', 'CAMSONSEEDS', 'SHIVAEXPO', 'BLS', 'MITSU', 'SPRAYKING', 'NARAYANI', 'GOVNOW', 'RSTL', 'TVVISION', 'SPICY', 'VISCO', 'BSLRIFS1RG', 'BSLRIFS1RD', 'BSLRIFS1RS', 'BSLRIFS1DG', 'BSLRIFS1DD', 'BSLRIFS1DS', 'TIAANC', 'LTTS', 'GNA', 'RADHIKAJWE', 'SIIL', 'ICICIPRULI', 'IISL', 'ARCFIN', 'HPL', 'SAGARSOFT', 'DRA', 'VALIANTORG', 'ACML', 'SHASHIJIT', 'BINDALEXPO', 'TRANSPEBBPH', 'MHEL', 'DIKSAT', 'IGRL', 'ENDURANCE', 'IDFSENSEXE', 'PURPLE', 'SUPRAP', 'PNBHOUSING', 'SOUTHERNIN', 'REGENCY', 'IPRU2880', 'IPRU9082', 'IPRU9083', 'IPRU2881', 'VBL', 'SALEM', 'UPROTECH', 'FRANKLININD', 'FCLBBPH', 'LKPSEC', 'AMBIKCOBBPH', 'BSLRIFS2RG', 'BSLRIFS2RN', 'BSLRIFS2DG', 'BSLRIFS2DN', 'OSIAJEE', 'CMBL', 'SFL', 'EIKO', 'AVL', 'HEADSUP', 'SIFL', 'TCIEXP*', 'SHASHANK', 'LAURUSLABS', 'NEWLIGHT', 'AXISE1D1D', 'AXISE1DGG', 'AXISE1DPD', 'AXISE1GPG', 'VSL', 'SNTCL', 'MTPL', 'IPRU2894', 'IPRU2895', 'IPRU9096', 'IPRU9097', 'SHANGAR', 'GLCL', 'FLORACORP', 'TRU', 'SKL', 'RAIDEEPIND', 'IPRU2896', 'IPRU2897', 'IPRU9098', 'IPRU9099', 'PRICOLLTD', 'GHCLBBPH', 'RAMCOBBPH', 'CFL', 'JITFINFRA', 'SUERYAAKNI', 'ICRABBPH', 'TANVI', 'AXISE2D1D', 'AXISE2DGG', 'AXISE2DPD', 'AXISE2GPG', 'RMC', 'PARMAX', 'LLFICL', 'DANUBE', 'RADIOCITY', 'DMART', 'IFL', 'BSLRIFS3RG', 'BSLRIFS3RD', 'BSLRIFS3DG', 'BSLRIFS3DD', 'KDLL', 'ONTIC', 'SMLT', 'JDML', 'CHEMCRUX', 'MANOMAY', 'MAXIMUS', 'MANAS', 'CLEDUCATE', 'PRIMEFRESH', 'OCEANIC', 'OCTAWARE', 'CA50T', 'CA10T', 'CD50T', 'CD10T', 'CA50R', 'CA10R', 'CD50R', 'CD10R', 'SHANKARA', 'RELSTRUCT', 'ESCORP', 'PARMSILK', 'KMSMEDI', 'IPRU2933', 'IPRU9135', 'CLFL', 'STARLENT', 'SCHAND', 'KANUNGO', 'MEERA', 'HUDCO', 'IPRU2955', 'IPRU9157', 'PSPPROJECT', 'BGJL', 'YUG', 'AXISAEDGG', 'AXISAEGPG', 'VARIMAN', 'STARCEMENT', 'IPRU2969', 'IPRU2970', 'IPRU9171', 'IPRU9172', 'RIDDHICORP', 'HEOFDG1126', 'HEOFDD1126', 'HEOFRG1126', 'HEOFRD1126', 'TEJASNET', 'ERIS', 'CONTAINER', 'GTPL', 'AUBANK', 'ICICILOVOL', 'GEL', 'GGENG', '7NR', 'ARTEMIS', 'BSLRIFS4RG', 'BSLRIFS4RD', 'BSLRIFS4DG', 'BSLRIFS4DD', 'BHAGYAPROP', 'IPRU2987', 'IPRU2988', 'IPRU9189', 'IPRU9190', 'HEOFDG1100', 'HEOFDD1100', 'HEOFRG1100', 'HEOFRD1100', 'SALASAR', 'GANGESSEC', 'PALASHSEC', 'AVADHSUGAR', 'MAGADHSUGAR', 'JIGAR', 'CTCL', 'SINTEXPLAST', 'GSTL', 'UTINEXT50', 'JDBBPH', 'AXISAHDGG', 'AXISAHGPG', 'SIS', 'COCHINSHIP', 'SMSLIFE', 'KIOCL', 'CHOTHANI', 'IPRU2991', 'IPRU2992', 'IPRU9193', 'IPRU9194', 'SMRUTHIORG', 'ABCAPITAL', 'APEX', 'SHISHIND', 'ANG', 'DWL', 'KCDGROUP', 'AMFL', 'NEL', 'DIXON', 'BRNL', 'DCAL', 'LASA', 'PROCLB', 'MATRIMONY', 'RELHOME', 'CAPACITE', 'IPRU3003', 'IPRU3004', 'IPRU9205', 'IPRU9206', 'SAGAR', 'ICICIGI', 'PQIF', 'AKM', 'SBILIFE', 'DIAMONDYD', 'SHAREINDIA', 'TTFL', 'POOJA', 'SAYAJIIND', 'VANTABIO', 'MEHAI', 'IRIS', 'SIDDH', 'SGRL', 'STL', 'ABSLRIF5RG', 'ABSLRIF5RD', 'ABSLRIF5DG', 'ABSLRIF5DD', 'GODREJAGRO', 'MESCON', 'MASFIN', 'IEX*', 'GICRE', 'KAARYAFSL', 'SCPL', 'NCBFIVADD', 'NCBFIVADG', 'NCBFIVAD', 'NCBFIVAG', 'TIINDIA', 'IPRU3013', 'IPRU3014', 'IPRU9215', 'IPRU9216', 'NAM-INDIA', 'MAHLOG', 'NIACL', 'IFGLEXPOR', 'KHADIM', '5PAISA', 'HDFCLIFE', 'NIVBDDP', 'NIVBDGP', 'NIVBDP', 'NIVBGP', 'SBRANDS', 'VRLLOGBBPH', 'SHARIKA', 'ICICIB22', 'ASPIRA', 'DNAMEDIA', 'EASTERNGAS', 'HHOF1140DG', 'HHOF1140DD', 'HHOF1140RG', 'HHOF1140RD', 'DYNAMIC', 'RATNABHUMI', 'SHALBY', 'FSC', 'DACEFRG', 'DACEFRDP', 'DACEFDG', 'DACEFDDP', 'MRCAGRO', 'SREELBBPH', 'DML', 'KMSL', 'SADHNA', 'SANTOSHIND', 'VITESSE', 'ASTRON', 'NCBFIVBCD', 'NCBFIVCG', 'NCBFIVBCG', 'NCBFIVCD', 'CHANDRIMA', 'RITHWIKFMS', 'JFL', 'IPRU3018', 'IPRU3019', 'IPRU9220', 'IPRU9221', '7SEASL', 'APOLLO', 'NCBFIVDDD', 'NCBFIVDG', 'NCBFIVDDG', 'NCBFIVDD', 'NEWGEN', 'PRAXIS', 'AMBER', 'CRPRISK', 'TIRUFOAM', 'SRUSTEELS', 'AML', 'GALAXYSURF', 'GGL', 'MEDICO', 'GUJHYSPIN', 'FSSPL', 'IPRU3034', 'IPRU3035', 'IPRU9236', 'IPRU9237', 'LAL', 'KENVI', 'IWP', 'TDSL', 'BHATIA', 'SHIVAMILLS', 'ASTERDM', 'YSL', 'KTINDF4RG', 'KTINDF4RD', 'KTINDF4DG', 'KTINDF4DD', 'KANCOTEA', 'ANGEL', 'HGINFRA', 'EIS', 'AXISCBD1D', 'AXISCBDGG', 'AXISCBDPD', 'AXISCBGPG', 'INFLAME', 'DACE2RG', 'DACE2RDP', 'DACE2DG', 'DACE2DDP', 'ABSLRIF6RG', 'ABSLRIF6RD', 'ABSLRIF6DG', 'ABSLRIF6DD', 'BPLPHARMA', 'SHREESHAY', 'ACFL', 'BDL', 'ACTIVE', 'RIDINGS', 'GOYALALUM', 'BANDHANBNK', 'HAL', 'KBCGLOBAL', 'SANDHAR', 'YASHO', 'BENARA', 'ISEC', 'MIDHANI', 'LEX', 'OBCL', 'TRL', 'LEMONTREE', 'ABSLRIF7RG', 'ABSLRIF7RD', 'ABSLRIF7DG', 'ABSLRIF7DD', 'CHEMFABALKA', 'HARDWYN', 'DLCL', 'ORIENTELEC', 'DHRUV', 'AKSHAR', 'INDOUS', 'IPRU3095', 'IPRU3096', 'IPRU9297', 'IPRU9298', 'ICICI500', 'INDOSTAR', 'MILEFUR', 'UHZAVERI', 'KTKIND5RG', 'KTKIND5RD', 'KTKIND5DG', 'KTKIND5DD', 'PARVATI', 'MEGASTAR', 'INNOVATORS', 'UCIL', 'ZIMLAB', 'ARIHANTINS', 'AFFORDABLE', 'DOLLAR', 'NGIL', 'PALMJEWELS', 'WAA', 'ADANIGREEN', 'MCLEODBBPH', 'UNICK', 'SOLARA', 'TALWGYM', 'GAYAHWS', 'RITES', 'FINEORG', 'VARROC', 'RAJNISH', 'HITECHWIND', 'STRAEXPO', 'RAWEDGE', 'IPRU3143', 'IPRU3144', 'IPRU9345', 'IPRU9346', 'TVF1D', 'TVF1DZ', 'TVF1G', 'TVF1GZ', 'TCNSBRANDS', 'SUPERSHAKT', 'ASHNI', 'GFIL', 'IDFCEOS6RG', 'IDFCEOS6RD', 'IDFCEOS6DG', 'IDFCEOS6DD', 'HDFCAMC', 'RADIOCITYPH', 'VIVANTA', 'TINNATFL', 'TVF2D', 'TVF2DZ', 'TVF2G', 'TVF2GZ', 'CREDITACC', 'AMINTAN', 'DEEP', 'SMEL', 'IPRU3168', 'IPRU3169', 'IPRU9370', 'IPRU9371', 'ICICINXT50', 'ASRL', 'KTKIND7RG', 'KTKIND7RD', 'KTKIND7DG', 'KTKIND7DD', 'SPACEINCUBA', 'SGIL', 'THYROBBPH', 'RANJEET', 'IRCON', 'SKYGOLD', 'SETFSN50', 'MACH', 'MANORAMA', 'INNOVATIVE', 'NIOSAG', 'NIOSAD', 'NIOSADG', 'NIOSADD', 'AAVAS', 'GENERAAGRI', 'DCL', 'GRSE', 'AAL', 'DOLFIN', 'TDPOWBBPH', 'SHUBHAM', 'AKI', 'SUNRETAIL', 'SMGOLD', 'VIVIDM', 'BCPL', 'ATGL', 'LAXMIBBPH', 'NETRIPPLES', 'PHOSPHATE', 'MAN50ETF', 'TECHNOE', 'RONI', 'SKIFL', 'DGL', 'IPRU3218', 'IPRU3219', 'IPRU9420', 'IPRU9421', 'ORIENTBBPH', 'ARYAN', 'NIVAKA', 'DALBHARAT', 'ABSLNN50ET', 'NILASPACES', 'SRD', 'TREJHARA', 'AXISCCDID', 'AXISCCDGG', 'AXISCCDPD', 'AXISCCGPG', 'DECCAN', 'SETLBBPH', 'AXITA', 'KPIGREEN', 'HIKLASS', 'RPSGVENT', 'SPENCER', 'GLOSTERLTD', 'XELPMOC', 'SPACAPS', 'AARSHYAM', 'RITCO', 'CHALET', 'PSLBBPH', 'CYIENTBBPH', 'ANMOL', 'JONJUA', 'KRANTI', 'ANUP', 'GLEAM', 'ARVINDFASN', 'MAHIP', 'UTISXN50', 'AIHL', 'MAZDALTDBP', 'INFYBBPH', 'JYOTIN', 'AGOL', 'AARTECH', 'HBEL', 'MSTC', 'ROOPSHRI', 'CHANDNIMACH', 'NSL', 'CKFSL', 'RVNL', 'METROPOLIS', 'KPITTECH', 'POLYCAB', 'JINAAM', 'VRFILMS', 'VIKASLIFE', 'NEOGEN', 'GKP', 'WORL', 'EVANS', 'BMW', 'AEPL', 'MAHESH', 'CHCL', 'DEL', 'HARISH', 'SUICH', 'PPL', 'DGCONTENT', 'PARSHVA', 'ARL', 'EARUM', 'SBC', 'INDIAMART', 'CPML', 'SKIEL', 'DCMNVL', 'ICICIBANKN', 'SNXT50BEES', 'AFFLE', 'SEACOAST', 'ICICIBANKP', 'SPANDANA', 'SWSOLAR', 'ALPHALOGIC', 'NOVATEOR', '360ONE', 'IIFLSEC', 'MUFIN', 'MISQUITA', 'GALACTICO', 'VEL', 'NIESSPJ', 'NIESSPI', 'NIESSPB', 'NIESSPO', 'NIESSPC', 'NIESSPP', 'NIESSPA', 'NIESSPG', 'FLUOROCHEM', 'NIEHSPA', 'NIEHSPB', 'NIEHSPC', 'NIEHSPF', 'NIEHSPI', 'NIEHSPK', 'NIEHSPM', 'NIEHSPN', 'IRCTC', 'NIESSPD', 'NIESSPE', 'NIESSPF', 'NIEHSPD', 'NIESSPH', 'NIEHSPE', 'NIESSPK', 'NIEHSPG', 'NIEHSPH', 'NIEHSPJ', 'NIEHSPL', 'NIESSPL', 'NIESSPM', 'NIESSPN', 'GOBLIN', 'GENSOL', 'VISHWARAJ', 'GREENPANEL', 'SHAHLON', 'ABSLBANETF', 'MOUNT', 'ANUROOP', 'COLABCLOUD', 'CSBBANK', 'UJJIVANSFB', 'HINDWAREAP', 'EASUN', 'PRINCEPIPE', 'ASSAMENT', 'GIANLIFE', 'ARTEMISMED', 'SUMICHEM', 'ICICIM150', 'MANXT50ETF', 'JANUSCORP', 'VARDHANCFL', 'BIRLATYRES', 'UNIVPHOTO', 'CBPL', 'ICLORGANIC', 'OCTAVIUSPL', 'SUVENPHAR', 'SMAUTO', 'SBICARD', '08MPD', '08ADR', '08MPR', '08AMD', '08AMR', '08BPB', '08GPG', '08ABB', '08QPD', '08AGG', '08QPR', '08AQD', '08DPD', '08AQR', '08DPR', '08ADD', 'ROJL', 'COSPOWER', '11DPR', '11GPG', '11MPD', '11MPR', '11QPD', '11QPR', '11ADD', '11ADR', '11AGG', '11AMD', '11AMR', '11AQD', '11AQR', '11DPD', 'POWERINDIA', 'DJML', 'NATURAL', 'REGIS', 'BILLWIN', 'AARTISURF', 'BONLON', 'BOROLTD', 'ROSSARI', 'NDRAUTO', 'SBGLP', 'ICICIALPLV', 'MAXHEALTH', 'ICICITECH', 'MAXINDIA', 'HBANKETF', 'UTIBANKETF', 'HAPPSTMNDS', 'ROUTE', 'SAMRATFORG', 'ADVAIT', 'ADL', 'CAMS', 'CHEMCON', 'SECMARK', 'ANGELONE', 'ATAM', 'MAZDOCK', 'UTIAMC', 'GMPL', 'LIKHITHA', 'VGIL', 'HEMIPROP', 'EQUITASBNK', 'SHINEFASH', 'GLAND', 'MAESGETF', 'RBA', 'TARC', 'RVHL', 'FAIRCHEMOR', 'BECTORFOOD', 'AWHCL', 'INFRABEES', 'RFLL', 'IRFC', 'INDIGOPNTS', 'HOMEFIRST', 'STOVEKRAFT', 'MRP', 'SMCGLOBAL', 'NURECA', 'RAILTEL', 'HERANBA', 'DAVANGERE', 'DRCSYSTEMS', 'MTARTECH', 'JUBLINGREA', 'EASEMYTRIP', 'KMEW', 'SUUMAYA', 'ANURAS', 'CRAFTSMAN', 'LXCHEM', 'KALYANKJIL', 'SURYODAY', 'NAZARA', 'SUVIDHAA', 'BARBEQUE', 'EKI', 'RCAN', 'JETMALL', 'LODHA', 'DEEPIND', 'MAFANG', 'ICICIPHARM', 'IWEL', 'VINEETLAB', 'SHYAMMETL', 'SONACOMS', 'NAVODAYENT', 'DODLA', 'KIMS', 'ADESHWAR', 'TIMESGREEN', 'IPL', 'FOCUS', 'GRINFRA', 'CLEAN', 'AAPLUSTRAD', 'ZOMATO', 'TATVA', 'GLS', 'MAFSETF', 'GCSL', 'ROLEXRINGS', 'ICICIFMCG', 'EXXARO', 'KRSNAA', 'WINDLAS*', 'DEVYANI', 'MOL', 'MFL', 'CARTRADE', 'NUVOCO', 'APTUS', 'CHEMPLASTS', 'SHARPLINE', 'AASHKA', 'AXISTECETF', 'AXISHETF', 'AMIORG', 'VIJAYA', 'POBS', 'AXISCETF', 'SANSERA', 'PREVEST', 'MARKOLINES', 'MASPTOP50', 'SBLI', 'PARAS', 'GETALONG', 'SVRL', 'ABSLAMC', 'PROMAX', 'SAMOR', 'ADISHAKTI', 'ICICICONSU', 'NYKAA', 'FINOPB', 'SJS', 'DSPNEWETF', 'SIGACHI', 'POLICYBZR', 'SGFRL', 'PAYTM*', 'SAPPHIRE', 'LATENTVIEW', 'TARSONS', 'OMNIPOTENT', 'GOCOLORS', 'DMR', 'HITECH', 'STARHEALTH', 'TEGA', 'MAHKTECH', 'ANANDRATHI', 'ZODIAC', 'RATEGAIN', 'SHRIRAMPPS', 'JETFREIGHT', 'MAPMYINDIA', 'METROBRAND', 'MEDPLUS', 'DATAPATTNS', 'HPAL', 'SUPRIYA', 'CLARA', 'MONQ50', 'DSPQ50ETF', 'BRANDBUCKT', 'DSPN50ETF', 'CMSINFO', 'BCONCEPTS', 'FABINO', 'WEL', 'ICICIAUTO', 'AGSTRA', 'ALKOSIGN', 'MAMFGETF', 'AWL', 'QRIL', 'SSTL', 'DEVIT', 'MANYAVAR', 'SPITZE', 'MOMOMENTUM', 'SOFTTECH', 'TECH', 'HEALTHY', 'BSLNIFTY', 'EKENNIS', 'MAM150ETF', 'EUREKAFORBE', 'GATEWAY', 'GMRP&UI', 'BCCL', 'MSUMI', 'ACHYUT', 'EVOQ', 'MOLOWVOL', 'AVROIND', 'UMAEXPORTS', 'VERANDA', 'SEML', 'DHYAANI', 'HARIOMPIPE', 'EIGHTY', 'SFSL', 'GLHRL', 'FONE4', 'NVENTURES', 'CAMPUS', 'RAINBOW', 'SILVERTUC', 'LICI', 'PRUDENT', 'VENUSPIPES', 'DELHIVERY', 'PARADEEP', 'TIERRA', 'ETHOSLTD', 'EMUDHRA', 'AETHER', 'WEWIN', 'SILVERPRL', 'SCARNOSE', 'GOEL', 'MODIS', 'PGCRL', 'SAILANI', 'KESAR', 'BRRL', 'JAYANT', 'VEERKRUPA', 'HEALTHYLIFE', 'DDEVPLASTIK', 'MOHEALTH', 'ICICIMOM30', 'HDFCNIF100', 'HDFCNEXT50', 'ICICIINFRA', 'SYRMA', 'NIFTYQLITY', 'MOMENTUM', 'MOVALUE', 'MOQUALITY', 'OLATECH', 'NATURO', 'RHETAN', 'DREAMFOLKS', 'DBOL', 'DPL', 'EPBIO', 'TMB', 'VOEPL', 'SISL', 'KSOLVES', 'HARSHA', 'HDFCQUAL', 'CONTAINE', 'HDFCGROWTH', 'HDFCVALUE', 'MAFIA', 'TIPSFILMS', 'SRSOLTD', 'TLL', 'REETECH', 'CARGOTRANS', 'CNCRD', 'INA', 'CARGOSOL', 'STML', 'VEDANTASSET', 'MAAGHADV', 'SECURCRED', 'EMIL', 'HDFCLOWVOL', 'HDFCMOMENT', 'PPLPHARMA', 'DCI', 'PACE', 'TRACXN', 'NARMADA', 'INFOBEAN', 'HPIL', 'DCXINDIA', 'DAPS', 'FUSION', 'BIKAJI', 'MEDANTA', 'TECHNOPACK', 'ACI', 'FIVESTAR', 'KAYNES', 'HDFCNIFIT', 'HDFCPVTBAN', 'INOXGREEN', 'BBTCL', 'RUSTOMJEE', 'VINNY', 'AAATECH', 'ICICIFIN', 'AMBOAGRI', 'SIRCA', 'DHARMAJ', 'SARVESHWAR', 'UNIPARTS', 'GARGI', 'ICICICOMMO', 'SULA', 'AHL', 'DRONACHRYA', 'LANDMARK', 'IEL', 'KFINTECH', 'ELIN', 'RADIANTCMS', 'AVEER', 'DSPBANKETF', 'SAH', 'REXSEAL', 'SVS', 'ELIL', 'KAMOPAINTS', 'AARTIPHARM', 'DHARNI', 'TRANSVOY', 'BB1TEST7', 'BB2TEST7', 'EARTH', 'ICICISENSX', 'TATAMTRDVR', 'FELDVR', 'GUJNREDVR', 'JISLDVREQS', 'SCAPDVR', 'STAN', 'CHETTICE', 'KARURVYSYA', 'LOTTE', 'TIDEWATER', 'AMRUTANJAN', 'GRABAL', 'MOVINGPI', 'USHAINTL', 'XPROINDIA', 'UTIUS64I10', 'UTIUS64I12', 'HISARMET', 'BHARATRAS', 'EASTSILK', 'ELGIRUB', 'FACT', 'GINNIFILA', 'GODAVARIF', 'JAYPEE', 'NICCO', 'RPGTRAN', 'SPIC', 'DENORA', 'SEPSL', 'TIRFOAM', 'KALPAPER', 'STEELXIND1', 'VISUINTL', 'KAVVERITEL', 'HARITASEAT', 'TEZPORE', 'SMRUTHI', 'CSSTECH2', 'SAKSOFT', 'KARMOB', 'JEYPORE', 'POLYSPIN1', 'SALONACOT', 'EQUIPPP', 'BRUSHMAN', 'ANDHRSUGAR', 'DUNCANSLTD', 'IMPAL', 'KCP', 'KHAITANLTD', 'RADAAN', 'SUNDARMFIN', 'SUNDRMBRAK', 'WHEELS', 'ORTIN', 'LAMBODHARA', 'CAMSONBIO2', 'RANKLIN', 'MAITHANALL', 'JOONKTOLL1', 'EASTERNGAS1', 'BRAHMANAN', 'LOHIASEC', 'MAVENSBIO', 'KANCOENT', 'GLOSTER2', 'ORISSAMINE', 'ELLENBARR', 'ADINATHBI', 'CIGNITI2', 'SWAGRO', 'TRINETHRA', 'TRIMURTHI1', 'FARMAXIND', 'UTISUNDER', 'NIFTYBEES', 'JUNIORBEES', 'BANKBEES', 'KOTAKPSUBK', 'PSUBNKBEES', 'SHARIABEES', 'QNIFTY', 'VAISHNAVI', 'KOTAKNIFTY2', 'TAAZAINT2', 'MOM50', '7SEAS', 'MAHAVEERINF', 'INFRONICS1', 'PROVEST', 'PILANIINV', 'ASHIKACR', 'DENORABBPH', 'RUNEECHA', 'GRADIENTE', 'SHREETULSI', 'STARDELTA2', 'OKANCOTEA', 'SREEL2', 'JAYMAHESH', 'GENERA', 'MADRASFERT', 'KOTAKBKETF', 'SETFNIFBK', 'SETFNIF50', '$SAKTI52', 'PRESYNT', 'SAKSUGL', 'STELCORDM', 'ICICICRP', 'ICICR', 'SAKSUGR', 'BILINDS', 'BILINDT', 'BLUEBLN', 'UMSPLST', 'CTRMFGR', 'ICICORPO', 'ICIPFP2', 'RAJMECH', 'MANSCRP', 'ICICICRP4', 'AAMTOPR', 'ICIP5', 'ICICPR6', 'ICICPR7', 'ICICPR8', 'ICIP9', 'ICIPT', 'ICICRPE', 'ICICTWL', 'ICICRTH', 'ICICRPF', 'SHBEARI', 'SAKTSUG', 'BINYLTD', 'MIRCHTECHNO', 'SWRUBER', 'SWSTRUB', 'TATACNS', 'PNYAMCM', 'ORENTAB', 'SWSURFC', 'FABWRT', 'MAHESWR', 'MCHFERT', 'MCFRTS', 'CITRIC', 'JKINVESTODM', 'DERCOOL', 'KIRTINV', 'NAVBHARDM', 'MEDICRTDM', 'APARI', 'SRIMSPG', 'MANTHCO', 'MANTRHS', 'GRESCDM', 'GRAESDM', 'GESPCDM', 'GRESHDM', 'UNIABEX', 'KDLBIOL', 'GRATEAC', 'GREATESTC', 'GLENCRPC', 'MARICOCRP', 'SUNPHCRP', 'ASHOKLEFCRP', 'MAHASEAMCRP', 'JAYAGCRP', 'THRPRE', 'UNITEDPHCRP', 'ARROWPS', 'ESTERCRPS', 'ASAHIPS', 'ALOKCRPS', 'NICHOLASPS', 'NICHOPS', 'FEROALCRP', 'MERCATORCRP', 'ESSARSTPS', 'FACORALLPS', 'FACORSTEPS', 'MARKSANPS', 'MASLCRPS', 'THOMASPSA', 'AMRITBNPS', 'PRUCORPDM', '$SHENTCH', '$PRECICT', 'CLFMENT', 'SREINFN', 'SRINFIN', 'SCHLENG', 'GULOILI', 'PRSYNLT', 'CRDFINL', 'BALJHOT', 'SKUMSNF', 'NAGCCPSDM', 'SRAMASM', 'MANGALP', 'TAFINANDM', 'MANTHSG', 'KOPDRLT', 'ASLEFDM', 'MAHASEADM', 'TATFINCDM', 'FLEXOOCPS', 'UBROCPS', 'PIDRUGOCPS', 'NETW18PCCPS', 'TRENTCCCPSA', 'TRENTCCCPSB', 'TAINCOR', 'SQLSRIN', 'JIKINDU', 'HITACHI', 'SANGIR', 'ALEMBR', 'SAINTR', 'DGOLDR', 'TELDATAR', 'MUKANDR', 'SPICENETR', 'VARUNSHIPLR', 'SCHENHELR', 'NEEMTEKLR', 'DEWANHLR', 'KAIRALR', 'KTKBAKLR', 'SHALPRDLR', 'INGVYSYALR', 'SIRPURLR', 'SAREGAMALR', 'SOUTHIRLR', 'BALPHLR', 'OUDHLR', 'BATALR', 'TRENTLR', 'JMCPROJLR', 'ENNOREFOULR', 'APPAPERLR', 'GATILR', 'NICPIRMALLR', 'GVFILMSLR', 'COMFINTELR', 'TILAKINDLR', 'COLORCHLR', 'SIMBALSLR', 'SOBTLR', 'CENTEXTRLR', 'SHPRECOATLR', 'LAKSHMIPRLR', 'APWPRESLR', 'HINDALCOLR', 'RAMCOSYSLR', 'DOLPHINMELR', 'PRIYADSPLR', 'PANTARETLR', 'CEATLR', 'AGRODUTCLR', 'BGWTATOLR', 'UNITWESBKLR', 'KLBRENGLR', 'DEEPAKNITLR', 'NCLINDLR', 'TITANLR', 'DSKULKARLR', 'MOHITINDLR', 'SHBHAWLR', 'GOACARBLR', 'CALIFORLR', 'KAYCEELR', 'DIGVIJAYLR', 'VAMAINDLR', 'BHGEARSLR', 'HESTERLR', 'UPPERGANLR', 'HBLNIFELR', 'PONDYOXILR', 'BASAGROLR', 'HINDOILEXLR', 'MORARTEXTLR', 'GRUHFINLR', 'OCLINDLR', 'TTLTDLR', 'ITDCEMENLR', 'GEELTDLR', 'JMCPROLR', 'RSSOFTLR', 'SUNSHIELDLR', 'TATACOFFELR', 'TATATELELR', 'BIRLAVXLLR', 'SPICELR', 'BAJAJFINLR', 'BAJFINNCDLR', 'ABNUVOLTDLR', 'DUTRONPOLR', 'KIRLOFERRLR', 'ENNOREEQLR', 'ENNOREWRTLR', 'BENGALTEALR', 'LGBALALR', 'VIMALOILLR', 'UNIPRDCTLR', 'ACGLLR', 'TRENTLTDLR', 'INFODRIVELR', 'SRINISHIPLR', 'ORIENTPAPLR', 'SHALIMARLR', 'DAGGERFORLR', 'KANPURPLALR', 'GTLINFRALR', 'FORTISFSLR', 'CHOLAMDBSLR', 'ORBITEXPOLR', 'FEDMOGULLR', 'ITDCEMENTLR', 'DICINDIALR', 'SAKTHIFINLR', 'TATASTLEQLR', 'TATACCPSLR', 'HINDUSOILLR', 'FEDERALBKLR', 'EXIDEINDLR', 'KHAITANWELR', 'NANDANEXILR', 'UBENGINELR', 'STATEBNKLR', 'DLAKSHMILR', 'MUKESHSTLR', 'INDHOTEQLR', 'INDHOTNCDLR', 'BODALCHELR', 'NETWORK18LR', 'GODREJCONLR', 'VISAGARPOLR', 'FILMCITYMLR', 'UNITDBREWLR', 'CENTURYEXLR', 'SANGMEDIALR', 'ENTEGRALR', 'OUDHSUGARLR', 'JKTYRELR', 'FACTENTLR', 'HINDALINDLR', 'DAMODARLR', 'TATAMOEQLR', 'TATAMOAEQLR', 'SADHANALR', 'TATAINVLR', 'TAYOROLLSLR', 'RESTILELR', 'UGARSUGARLR', 'FEDEMOGULLR', 'SUMEETINDLR', 'DISHTVLR', 'THOMASCKLR', 'MULTIPLUSLR', 'MONEYMATTLR', 'CHEMPLASTLR', 'GANGOTRILR', 'ALOKINDLR', 'HIGHENERGLR', 'SYNCOMFORLR', 'NOUVEAULR', 'PIRGLASSLR', 'JMCLR', 'TINPLATEQLR', 'TINPLATEFCD', 'GREENPLYLR', 'PERFECTLR', 'TELE18LR', 'GREYCELLSLR', 'WIRELR', 'FORTISLR', 'MORARJEELR', 'IMPEXLR', 'CITYUNIONLR', 'INFOMEDIALR', 'RELIGARELR', 'JAYSHREELR', 'SWARAJLR', 'APPMILLSLR', 'ARIHANTLR', 'IBN18LR', 'INTELLCAPLR', 'TULIVEDEVLR', 'HINDUJAFOLR', 'VIDEOCONLR', 'ADANIENTLR', 'PREMIERLR', 'SUZLONLR', 'COMFORTLR', 'REIAGROLR', 'ECEINDLR', 'TRENTRLR', 'GULFOILLR', 'CAMFINELR', 'SADBHAVLR', 'SBMLR', 'ROHITLR', 'RAMKASHLR', 'MURUDCELR', 'JYOTISTLR', 'KMCSHILLR', 'EIHLR', 'KARBANKLR', 'ARROWTEXLR', 'CBILR', 'TULSYANLR', 'SBBJLR', 'KRYPTONLR', 'ASALLR', 'BAMPSLLR', 'MUTHTFNLR', 'ELFORGELR', 'JKPPRLR', 'ARVINDLR', 'VELHOLR', 'ATULAUTOLR', 'BAJAJHINDLR', 'VELJANDENLR', 'FAMEINDIALR', 'AAREYDRUGLR', 'ARCPRLR', 'GAYATRIPRLR', 'LGBFORGELR', 'NEULANDLR', 'ARIHANTSLR', 'EPCINLR', 'NATIONALOXY', 'SUNPARMALR', 'NETWORK18R', 'UTTAMSUGRLR', 'SUDITILR', 'BAJAJFINSLR', 'TV18BRDCSTR', 'EIHASSOLR', 'CITYUNIBKLR', 'BHUSHANSTLR', 'BAJFINANCER', 'HITACHILR', 'MEDIAMATLR', 'ALOKINDSLR', 'KESORAMLR', 'DALALSTLR', 'RELMEDIALR', 'KOKUYOLR', 'ASAHILR', 'GODREJPROLR', 'WATERBASELR', 'UNIPHOSLR', 'COROENGLR', 'MUKANDLR', 'WHEELSLR', 'TATAPOWERLR', 'GOLDENGOLR', 'EASUNREYRLR', 'ECOFRIENDLR', 'ILFSTNLLR', 'RAMCOSYLR', 'DENISCHEMLR', 'INDHOTELLR', 'LAKVILBKLR', 'MIRCELELR', 'NEULABLR', 'NCCLTDLR', 'ESTBIOLR', 'CHANNINELR', 'FUTURERELR', 'FUTUREDVRLR', 'CANFINHOMLR', 'STBKOFTRALR', 'GMRINFRASLR', 'ZEEMEDIALR', 'TATAMOTORLR', 'TATAMODVRLR', 'MCKTRCOLDLR', 'VASCONEQLR', 'UNICABLR', 'DECNGOLDLR', 'ILFSTRNLLR', 'ASHIMALR', 'JMCPROJEQLR', 'BNRATHILR', 'SPARCLR', 'THEINVESTR', 'POLSONLR', 'SINTEXLR', 'CRESTLR', 'KARNATAKALR', 'CNOVAPETRLR', 'ORIENTPPRLR', 'IPRINGLTDLR', 'CANBKLR', 'SOUTHBANKLR', 'ARCHITORGLR', 'VISHALLR', 'KINGFALR', 'MAHLIFELR', 'VSSLLR', 'ZENOTECHLR', 'INTELLECTLR', 'DENISLR', 'BRPLLR', 'INDHOTELR', 'KARURVYSYLR', 'HIRECTLR', 'HCL-INSYSLR', 'JOSTSLR', 'VIPCLOTHLR', 'LAKSHVILALR', 'SUMEETINDLR', 'KANPRPLALR', 'PELLR', 'TATASTFPLR', 'TATASTPPLR', 'IBVENTURELR', 'SCANPGEOMLR', 'ELPROINTLLR', 'SHALPAINTLR', 'HATSUNLR', 'MAXVILLR', 'SHALIMALR', 'HCCLR', 'CIFLR', 'LGBFORGLR', 'KREBSBIOLR', 'IDEALR', 'BHARATGRLR', 'AIRTELLR', 'SCANPOINTLR', 'TATASTLLPR', 'RELCHEMQLR', 'ISHANCHLR', '5PAISALR', 'PACIFICILR', 'PATELENGLR', 'SKCILLR', 'PELTDLR', 'BAJAJELECLR', 'BROOKSLABLR', 'RELIANCELR', 'ARVINDF-RE', 'ABFRL-RE', 'SFL-RE', 'PVR-RE', 'REFEX-RE', 'M&MFIN-RE', 'GDL-RE', 'SPENCER-RE', 'SATIN-RE', 'UNOMINDA-RE', 'RUSHIL-RE', 'DEEPAK-RE', 'EIH-RE', 'MOLDTEK-RE', 'SHOPER-RE', 'PRICOL-RE', 'URJA-RE', 'L&TFH-RE', 'PATINT-RE', 'AIIL-RE', 'AFL-RE', 'RAJAPLM-RE', 'WEPSOLN-RE', 'EMERALD-RE', 'IGRID-RE', 'KDDL-RE', 'VLIFE-RE', 'VECO-RE', 'APLAB-RE', 'MEGA-RE', 'SCANPGEO-RE', 'TEXELIN-RE', 'PRAXIS-RE', 'BASML-RE', 'ASIAN-RE', 'KIL-RE', 'RPP-RE', 'ARUNA-RE', 'AIRTEL-RE', 'TRAIL-RE', 'PATINT-RE1', 'VLIFE-RE1', 'NXTDIG-RE', 'ASIAT-RE', 'ANUROOP-RE', 'BGEAR-RE', 'IHCL-RE', 'SWISSMIL-RE', 'HKG-RE', 'NATCAPS-RE', 'VECO-RE1', 'RIDHISYN-RE', 'VISVENL-RE', 'SHIVAM-RE', 'BNRSEC-RE', 'BEARD-RE', 'SDBL-RE', 'CHOICEIN-RE', 'VEERGIL-RE', 'VASUPR-RE', 'VIDLI-RE', 'WARDWIZ-RE', 'DATAINF-RE', 'TILAK-RE', 'PRISMX-RE', 'WOCKH-RE', 'ADVIKCA-RE', 'RAINBOWF-RE', 'ASMTEC-RE', 'SPVGLOB-RE', 'HPBL-RE', 'MAKERSL-RE', 'NGIL-RE', 'BCIL-RE', 'ASIAN-RE1', 'AURUM-RE', 'TCM-RE', 'NCLRESE-RE', 'ESSEN-RE', 'DYNPRO-RE', 'DAVAN-RE', 'SATSILK-RE', 'KALLAM-RE', 'SABOOSOD-RE', 'BANASFN-RE', 'MAHACOP-RE', 'PTCIN-RE', 'GENNEX-RE', 'SANDUMA-RE', 'SWISSM-RE', 'MERMETL-RE', 'ASRL-RE', 'KCLINF-RE', 'GGENG-RE', '7NR-RE', 'NAYSAA-RE', 'COAST-RE', 'SUDTIND-RE', 'GGL-RE', 'SUZLON-RE', 'SUVEN-RE', 'HILTON-RE', 'TFL-RE', 'COMP-RE', 'ESSEN-RE1', 'SAMOR-RE', 'RUNGTA-RE', 'RONI-RE', 'SMCREDT-RE', 'ADCON-RE', 'HATSUN-RE', 'RSWM-RE', 'THAMBBI-RE', 'APCL-RE', 'GAL-RE', 'QUINT-RE', 'VISAGAR-RE', 'RAJAPAL-RE', 'VEL-RE', 'PACIFIC-RE', 'JETFRE-RE', 'FAMILY-RE', 'AARTI-RE', 'MARKO-RE', 'INDO-RE', 'HERIT-RE', 'HAZOOR-RE', 'SGRL-RE', 'SPRAY-RE', 'JDL', 'AUTUMN', 'LEAP', 'DEKSON', 'PCPL', 'SUPERNOVA', 'MCL', 'KDTWL', 'RICHWAY', 'GOKULSOL', 'CITYON', 'HASJUICE', 'SANASATECH', 'WEBSL', 'ADHIRAJ', 'JIGYASA', 'PRITIKAST']\n"
          ]
        }
      ]
    },
    {
      "cell_type": "code",
      "source": [
        "arr_indus.sort\n",
        "print(len(arr_indus))"
      ],
      "metadata": {
        "colab": {
          "base_uri": "https://localhost:8080/"
        },
        "id": "M3ipU3B8EwCd",
        "outputId": "1c933c92-00ac-436e-b1ed-9eac5937b8c3"
      },
      "execution_count": 67,
      "outputs": [
        {
          "output_type": "stream",
          "name": "stdout",
          "text": [
            "1780\n"
          ]
        }
      ]
    },
    {
      "cell_type": "code",
      "source": [
        "def getMatch(arr1 , arr2 ):  #arr1>arr2\n",
        "  ll =[]\n",
        "  for i in range(0,len(arr2)):\n",
        "    for j in range(0,len(arr1)):\n",
        "      if str(arr1[j]) in str(arr2[i]):\n",
        "        ll.append(arr1[j])\n",
        "        break\n",
        "        \n",
        "  return ll"
      ],
      "metadata": {
        "id": "XUfHd_fggAm3"
      },
      "execution_count": 68,
      "outputs": []
    },
    {
      "cell_type": "code",
      "source": [],
      "metadata": {
        "id": "Ru4An0D5J-5Q"
      },
      "execution_count": 68,
      "outputs": []
    },
    {
      "cell_type": "code",
      "source": [
        "for i in range(0,len(arr_indus)):\n",
        "  if str(\"20MICRONS\") in str(arr_indus[i]):\n",
        "    print(arr_indus[i])"
      ],
      "metadata": {
        "colab": {
          "base_uri": "https://localhost:8080/"
        },
        "id": "bcVXbh85JA1Z",
        "outputId": "1693931e-7a01-4b66-cee5-ba9bc6929343"
      },
      "execution_count": 69,
      "outputs": [
        {
          "output_type": "stream",
          "name": "stdout",
          "text": [
            "220MICRONS20 MICRONS LTD\n"
          ]
        }
      ]
    },
    {
      "cell_type": "code",
      "source": [
        "ll = getMatch(final_list , arr_indus )"
      ],
      "metadata": {
        "id": "Yn3KO_-FlWei"
      },
      "execution_count": 70,
      "outputs": []
    },
    {
      "cell_type": "code",
      "source": [
        "ll.sort\n",
        "print(len(set(ll)))"
      ],
      "metadata": {
        "colab": {
          "base_uri": "https://localhost:8080/"
        },
        "id": "rwtqCoJpEeO-",
        "outputId": "ffe4de2f-cf3b-43b3-9b09-e5046222bcdc"
      },
      "execution_count": 74,
      "outputs": [
        {
          "output_type": "stream",
          "name": "stdout",
          "text": [
            "1028\n"
          ]
        }
      ]
    },
    {
      "cell_type": "code",
      "source": [
        "!git clone https://github.com/ee-adii/Exploratory-data-analysis.git"
      ],
      "metadata": {
        "colab": {
          "base_uri": "https://localhost:8080/"
        },
        "id": "_gRwfwJ5lyCH",
        "outputId": "1ff4c270-3d43-4772-9213-84a0da0e4d9f"
      },
      "execution_count": 1,
      "outputs": [
        {
          "output_type": "stream",
          "name": "stdout",
          "text": [
            "Cloning into 'Exploratory-data-analysis'...\n",
            "remote: Enumerating objects: 29, done.\u001b[K\n",
            "remote: Counting objects: 100% (7/7), done.\u001b[K\n",
            "remote: Compressing objects: 100% (7/7), done.\u001b[K\n",
            "remote: Total 29 (delta 1), reused 0 (delta 0), pack-reused 22\u001b[K\n",
            "Unpacking objects: 100% (29/29), 150.46 KiB | 407.00 KiB/s, done.\n"
          ]
        }
      ]
    }
  ]
}