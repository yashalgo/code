{
 "cells": [
  {
   "cell_type": "code",
   "execution_count": 32,
   "metadata": {},
   "outputs": [],
   "source": [
    "%matplotlib inline\n",
    "\n",
    "import pandas as pd\n",
    "import stumpy\n",
    "import numpy as np\n",
    "import matplotlib.pyplot as plt\n",
    "import matplotlib.dates as dates\n",
    "from matplotlib.patches import Rectangle\n",
    "import plotly.graph_objects as go\n",
    "import datetime as dt\n",
    "import os\n",
    "from glob import glob\n",
    "import datetime\n",
    "import sys\n",
    "import subprocess\n",
    "import pkg_resources\n",
    "from helper_functions import *"
   ]
  },
  {
   "cell_type": "code",
   "execution_count": null,
   "metadata": {},
   "outputs": [],
   "source": [
    "path_minute = '/Users/yash/Desktop/Trading/code/stumpy'\n",
    "nifty500 = '/Users/yash/Desktop/Trading/tradingview_watchlists/broad/NIFTY_500.txt'\n",
    "path_minute_nifty500 = '/Users/yash/Desktop/Trading/kite connect/historical_data/nifty_500'"
   ]
  },
  {
   "cell_type": "code",
   "execution_count": null,
   "metadata": {},
   "outputs": [],
   "source": [
    "\n",
    "df = df.groupby(df.index.date, group_keys=False).apply(vwap)"
   ]
  },
  {
   "cell_type": "code",
   "execution_count": null,
   "metadata": {},
   "outputs": [],
   "source": [
    "start_ = '20221123'\n",
    "end_ = '20221205'\n",
    "Q_df = read_file_from_symbol('UCOBANK')\n",
    "\n",
    "# Q_df = pd.DataFrame(filter_df_dates(Q_df, start_, end_)['pivot'])"
   ]
  },
  {
   "cell_type": "code",
   "execution_count": 7,
   "metadata": {},
   "outputs": [],
   "source": [
    "\n",
    "nifty500_str = txt_to_str(nifty500)\n",
    "nifty500_list = tv_str_to_list(nifty500_str)"
   ]
  }
 ],
 "metadata": {
  "kernelspec": {
   "display_name": "Python 3.10.9 64-bit",
   "language": "python",
   "name": "python3"
  },
  "language_info": {
   "codemirror_mode": {
    "name": "ipython",
    "version": 3
   },
   "file_extension": ".py",
   "mimetype": "text/x-python",
   "name": "python",
   "nbconvert_exporter": "python",
   "pygments_lexer": "ipython3",
   "version": "3.10.9 (main, Dec 15 2022, 17:11:09) [Clang 14.0.0 (clang-1400.0.29.202)]"
  },
  "orig_nbformat": 4,
  "vscode": {
   "interpreter": {
    "hash": "b0fa6594d8f4cbf19f97940f81e996739fb7646882a419484c72d19e05852a7e"
   }
  }
 },
 "nbformat": 4,
 "nbformat_minor": 2
}
