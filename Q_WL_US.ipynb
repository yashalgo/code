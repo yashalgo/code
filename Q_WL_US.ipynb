{
 "cells": [
  {
   "cell_type": "code",
   "execution_count": 1,
   "metadata": {},
   "outputs": [],
   "source": [
    "from libs import *\n",
    "from paths import *\n",
    "from helper_functions import *\n",
    "from pandas_datareader import data as pdr\n",
    "from yahoo_fin import stock_info as si\n",
    "import yfinance as yf\n",
    "yf.pdr_override()"
   ]
  },
  {
   "cell_type": "code",
   "execution_count": 2,
   "metadata": {},
   "outputs": [],
   "source": [
    "def get_yf_df(df2):\n",
    "    df2.rename(columns=str.lower, inplace=True)\n",
    "    df2.drop('close', axis=1, inplace=True)\n",
    "    df2.rename(columns={'adj close': 'close'}, inplace=True)\n",
    "    df2.reset_index(inplace=True)\n",
    "    return df2"
   ]
  },
  {
   "cell_type": "code",
   "execution_count": 3,
   "metadata": {},
   "outputs": [],
   "source": [
    "#SCREENER\n",
    "fcustom = Custom()\n",
    "cols = [0,1,2,3,4,6,43,44,45,51,52,53,63,65,68]"
   ]
  },
  {
   "cell_type": "code",
   "execution_count": 4,
   "metadata": {},
   "outputs": [
    {
     "name": "stdout",
     "output_type": "stream",
     "text": [
      "886fo] loading page [##############################] 45/45 \n"
     ]
    }
   ],
   "source": [
    "\n",
    "vol1 = 'Month - Over 3%'\n",
    "perf1 = 'Month +10%'\n",
    "mcap = '+Micro (over $50mln)'\n",
    "filters_dict1 = {'Market Cap.': mcap, 'Volatility': vol1, 'Performance': perf1}\n",
    "\n",
    "fcustom.set_filter(filters_dict=filters_dict1)\n",
    "df1 = fcustom.screener_view(columns=cols, sleep_sec = 1, order= 'Performance (Month)', ascend=False)\n",
    "print(df1.shape[0])"
   ]
  },
  {
   "cell_type": "code",
   "execution_count": 5,
   "metadata": {},
   "outputs": [],
   "source": [
    "end_date = datetime.today()\n",
    "today_ = end_date.strftime('%Y/%m/%d')\n",
    "path_ = q_wl / today_ \n",
    "if not os.path.isdir(path_):\n",
    "    os.mkdir(path_)\n",
    "os.chdir(path_)"
   ]
  },
  {
   "cell_type": "code",
   "execution_count": 7,
   "metadata": {},
   "outputs": [],
   "source": [
    "df1.to_csv('US_STOCKS.csv')"
   ]
  },
  {
   "cell_type": "code",
   "execution_count": 6,
   "metadata": {},
   "outputs": [],
   "source": [
    "# df1 = pd.read_csv('US_STOCKS.csv')"
   ]
  },
  {
   "cell_type": "code",
   "execution_count": 9,
   "metadata": {},
   "outputs": [],
   "source": [
    "os.chdir(daily_us) \n",
    "files = glob('*.csv')"
   ]
  },
  {
   "cell_type": "code",
   "execution_count": 10,
   "metadata": {},
   "outputs": [],
   "source": [
    "for f in files:\n",
    "    if today_.replace('/','') not in f:\n",
    "        # print('Deleting: ', f)\n",
    "        os.remove(f)"
   ]
  },
  {
   "cell_type": "code",
   "execution_count": 11,
   "metadata": {},
   "outputs": [],
   "source": [
    "tickers = df1['Ticker']\n",
    "request_times = []\n",
    "errors = 0\n",
    "ticker_df = pd.DataFrame(columns=['Ticker', '1m', '3m', '6m', 'DV', 'ADR%'])"
   ]
  },
  {
   "cell_type": "code",
   "execution_count": 12,
   "metadata": {},
   "outputs": [
    {
     "name": "stdout",
     "output_type": "stream",
     "text": [
      "Time taken: 428.47184705734253\n"
     ]
    }
   ],
   "source": [
    "start_time = time.time()\n",
    "for ticker in tickers:\n",
    "    try:\n",
    "        outfile = ticker + '_' +today_.replace('/','')+ '.csv'\n",
    "        if outfile in files:\n",
    "            print('Ticker present: ', ticker)\n",
    "            df = pd.read_csv(outfile)\n",
    "        else:\n",
    "            #API LIMIT\n",
    "            while len(request_times) >= 2000 and (time.time() - request_times[-2000]) < 3600:\n",
    "                time.sleep(1)\n",
    "            df = yf.download(ticker, period='6mo', progress=False)\n",
    "            request_times.append(time.time())\n",
    "            df = get_yf_df(df)\n",
    "            #ADD TAs\n",
    "            df['DollarVolume'] = df['close'] * df['volume']\n",
    "            adr(df)\n",
    "            for i in [1,3,6]:\n",
    "                n_month_gain(df, i)\n",
    "    \n",
    "        ticker_df.loc[len(ticker_df.index)] = [ticker, df['1M_low_gain'].iloc[-1], df['3M_low_gain'].iloc[-1], df['6M_low_gain'].iloc[-1],  df['DollarVolume'].iloc[-1], df['ADR%'].iloc[-1]]\n",
    "        df.to_csv(outfile)\n",
    "    except:\n",
    "        print('Error for ticker: ', ticker)\n",
    "        errors += 1\n",
    "print('Time taken: {}'.format(time.time() - start_time))"
   ]
  },
  {
   "cell_type": "code",
   "execution_count": 13,
   "metadata": {},
   "outputs": [],
   "source": [
    "ticker_df = pd.merge(ticker_df, df1, on='Ticker')\n",
    "ticker_df = ticker_df[['Ticker', '1m','3m','6m','DV', 'ADR%', 'Company', 'Sector', 'Industry', 'Market Cap', 'Price', 'Earnings']]"
   ]
  },
  {
   "cell_type": "code",
   "execution_count": 14,
   "metadata": {},
   "outputs": [],
   "source": [
    "#PARAMETERS\n",
    "mil = 10 ** 6\n",
    "adr_filter = 5.0\n",
    "dv_filter = 5 * mil\n",
    "limit = 100"
   ]
  },
  {
   "cell_type": "code",
   "execution_count": 15,
   "metadata": {},
   "outputs": [],
   "source": [
    "#FILTER\n",
    "ticker_df_filt = ticker_df[(ticker_df['ADR%'] >= adr_filter) & (ticker_df['DV'] >= dv_filter)]"
   ]
  },
  {
   "cell_type": "code",
   "execution_count": 16,
   "metadata": {},
   "outputs": [],
   "source": [
    "#RANK\n",
    "ticker_df_filt['1m_Rating'] = ticker_df_filt['1m'].rank(ascending=False)\n",
    "ticker_df_filt['3m_Rating'] = ticker_df_filt['3m'].rank(ascending=False)\n",
    "ticker_df_filt['6m_Rating'] = ticker_df_filt['6m'].rank(ascending=False)\n",
    "\n",
    "ticker_df_1m = ticker_df_filt[ticker_df_filt['1m_Rating'] <= limit]\n",
    "ticker_df_3m = ticker_df_filt[ticker_df_filt['3m_Rating'] <= limit]\n",
    "ticker_df_6m = ticker_df_filt[ticker_df_filt['6m_Rating'] <= limit]"
   ]
  },
  {
   "cell_type": "code",
   "execution_count": 17,
   "metadata": {},
   "outputs": [],
   "source": [
    "ticker_df_final = pd.concat([ticker_df_1m, ticker_df_3m, ticker_df_6m], axis=0)\n",
    "ticker_df_final = ticker_df_final.drop_duplicates(subset=['Ticker'], keep='first')"
   ]
  },
  {
   "cell_type": "code",
   "execution_count": 18,
   "metadata": {},
   "outputs": [],
   "source": [
    "os.chdir(q_wl / today_)"
   ]
  },
  {
   "cell_type": "code",
   "execution_count": 19,
   "metadata": {},
   "outputs": [
    {
     "name": "stdout",
     "output_type": "stream",
     "text": [
      "20230217_1_M_Q_US.txt\n",
      "20230217_3_M_Q_US.txt\n",
      "20230217_6_M_Q_US.txt\n",
      "20230217_Q_US.txt\n"
     ]
    }
   ],
   "source": [
    "s1 = set(ticker_df_1m['Ticker'])\n",
    "set_to_tv(s1, datetime.today().strftime('%Y%m%d') + '_1_M_Q_US.txt')\n",
    "s3 = set(ticker_df_3m['Ticker'])\n",
    "set_to_tv(s3, datetime.today().strftime('%Y%m%d') + '_3_M_Q_US.txt')\n",
    "s6 = set(ticker_df_6m['Ticker'])\n",
    "set_to_tv(s6, datetime.today().strftime('%Y%m%d') + '_6_M_Q_US.txt')\n",
    "\n",
    "s = set(ticker_df_final['Ticker'])\n",
    "set_to_tv(s, datetime.today().strftime('%Y%m%d') + '_Q_US.txt')\n"
   ]
  },
  {
   "cell_type": "code",
   "execution_count": 20,
   "metadata": {},
   "outputs": [],
   "source": [
    "ticker_df_final.to_csv('INFO.csv')"
   ]
  }
 ],
 "metadata": {
  "kernelspec": {
   "display_name": "Python 3",
   "language": "python",
   "name": "python3"
  },
  "language_info": {
   "codemirror_mode": {
    "name": "ipython",
    "version": 3
   },
   "file_extension": ".py",
   "mimetype": "text/x-python",
   "name": "python",
   "nbconvert_exporter": "python",
   "pygments_lexer": "ipython3",
   "version": "3.10.9"
  },
  "orig_nbformat": 4,
  "vscode": {
   "interpreter": {
    "hash": "b0fa6594d8f4cbf19f97940f81e996739fb7646882a419484c72d19e05852a7e"
   }
  }
 },
 "nbformat": 4,
 "nbformat_minor": 2
}
