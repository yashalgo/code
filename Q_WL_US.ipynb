{
 "cells": [
  {
   "cell_type": "code",
   "execution_count": 3,
   "id": "f516b741",
   "metadata": {},
   "outputs": [],
   "source": [
    "from libs import *\n",
    "from helper_functions import *"
   ]
  },
  {
   "cell_type": "code",
   "execution_count": 4,
   "id": "0d63aaae",
   "metadata": {},
   "outputs": [],
   "source": [
    "fcustom = Custom()"
   ]
  },
  {
   "cell_type": "markdown",
   "id": "b83616cc",
   "metadata": {},
   "source": [
    "------FILTERS------"
   ]
  },
  {
   "cell_type": "code",
   "execution_count": 5,
   "id": "c898a42f",
   "metadata": {},
   "outputs": [],
   "source": [
    "today = datetime.today().strftime('%Y%m%d')"
   ]
  },
  {
   "cell_type": "code",
   "execution_count": 6,
   "id": "2dc0d6b2",
   "metadata": {},
   "outputs": [],
   "source": [
    "today_ = datetime.today().strftime('%Y/%m/%d')\n"
   ]
  },
  {
   "cell_type": "code",
   "execution_count": 25,
   "id": "ef7e1fc9",
   "metadata": {},
   "outputs": [
    {
     "data": {
      "text/plain": [
       "'/Users/yash/Desktop/Trading/Q/watchlists/2023/02/01'"
      ]
     },
     "execution_count": 25,
     "metadata": {},
     "output_type": "execute_result"
    }
   ],
   "source": [
    "path_ = \"/Users/yash/Desktop/Trading/Q/watchlists/\"+today_\n",
    "if not os.path.isdir(path_):\n",
    "    os.mkdir(path_)\n",
    "os.chdir(path_)\n",
    "os.getcwd()"
   ]
  },
  {
   "cell_type": "code",
   "execution_count": 1,
   "id": "048a4486",
   "metadata": {},
   "outputs": [
    {
     "ename": "NameError",
     "evalue": "name 'today' is not defined",
     "output_type": "error",
     "traceback": [
      "\u001b[0;31m---------------------------------------------------------------------------\u001b[0m",
      "\u001b[0;31mNameError\u001b[0m                                 Traceback (most recent call last)",
      "Cell \u001b[0;32mIn[1], line 2\u001b[0m\n\u001b[1;32m      1\u001b[0m \u001b[39m# In[4]:\u001b[39;00m\n\u001b[0;32m----> 2\u001b[0m outfile_ \u001b[39m=\u001b[39m today \u001b[39m+\u001b[39m \u001b[39m'\u001b[39m\u001b[39m_US.txt\u001b[39m\u001b[39m'\u001b[39m\n\u001b[1;32m      3\u001b[0m files \u001b[39m=\u001b[39m glob(\u001b[39m'\u001b[39m\u001b[39m**/*_US.txt\u001b[39m\u001b[39m'\u001b[39m, recursive \u001b[39m=\u001b[39m \u001b[39mTrue\u001b[39;00m)\n\u001b[1;32m      4\u001b[0m \u001b[39mprint\u001b[39m(files)\n",
      "\u001b[0;31mNameError\u001b[0m: name 'today' is not defined"
     ]
    }
   ],
   "source": [
    "\n",
    "# In[4]:\n",
    "outfile_ = today + '_US.txt'\n",
    "files = glob('**/*_US.txt', recursive = True)\n",
    "print(files)\n",
    "if outfile_ in files:\n",
    "    print('File already present. Aborting!')\n",
    "    exit()"
   ]
  },
  {
   "cell_type": "code",
   "execution_count": 15,
   "id": "d26643f4",
   "metadata": {},
   "outputs": [],
   "source": [
    "limit = 100\n",
    "\n",
    "#1-month performance\n",
    "perf1 = 'Month +50%'\n",
    "vol1 = 'Month - Over 8%'\n",
    "\n",
    "#3-month performance\n",
    "perf3 = 'Quarter +50%'\n",
    "vol3 = 'Month - Over 8%'\n",
    "\n",
    "#6-month performance\n",
    "perf6 = 'Half +100%'\n",
    "vol6 = 'Month - Over 5%'\n",
    "\n",
    "cols = [0,1,2,3,4,6,43,44,45,51,52,53,63,65,68]\n",
    "\n",
    "filters_dict1 = {'Market Cap.': '+Micro (over $50mln)','Performance': perf1, 'Price': 'Over $1',\n",
    "                'Volatility': vol1, 'Average Volume': 'Over 100K'}\n",
    "\n",
    "filters_dict3 = filters_dict1.copy()\n",
    "filters_dict3['Performance'] = perf3\n",
    "filters_dict3['Volatility'] = vol3\n",
    "\n",
    "filters_dict6 = filters_dict1.copy()\n",
    "filters_dict6['Performance'] = perf6\n",
    "filters_dict6['Volatility'] = vol6"
   ]
  },
  {
   "cell_type": "markdown",
   "id": "f4ea8f0d",
   "metadata": {},
   "source": [
    "--------------1 MONTH GAINERS-------------"
   ]
  },
  {
   "cell_type": "code",
   "execution_count": 16,
   "id": "1b91b2bd",
   "metadata": {},
   "outputs": [
    {
     "name": "stdout",
     "output_type": "stream",
     "text": [
      "139fo] loading page [##############################] 7/7 \n"
     ]
    },
    {
     "data": {
      "text/plain": [
       "100"
      ]
     },
     "execution_count": 16,
     "metadata": {},
     "output_type": "execute_result"
    }
   ],
   "source": [
    "fcustom.set_filter(filters_dict=filters_dict1)\n",
    "df1 = fcustom.screener_view(columns=cols, sleep_sec = 1, order= 'Performance (Month)', ascend=False)\n",
    "print(df1.shape[0])\n",
    "df1 = df1.head(limit)\n",
    "\n",
    "df1.shape[0]"
   ]
  },
  {
   "cell_type": "markdown",
   "id": "e63dd6e2",
   "metadata": {},
   "source": [
    "--------------3 MONTH GAINERS-------------"
   ]
  },
  {
   "cell_type": "code",
   "execution_count": 17,
   "id": "eefff25d",
   "metadata": {},
   "outputs": [
    {
     "name": "stdout",
     "output_type": "stream",
     "text": [
      "95nfo] loading page [##############################] 5/5 \n"
     ]
    },
    {
     "data": {
      "text/plain": [
       "95"
      ]
     },
     "execution_count": 17,
     "metadata": {},
     "output_type": "execute_result"
    }
   ],
   "source": [
    "fcustom.set_filter(filters_dict=filters_dict3)\n",
    "df3 = fcustom.screener_view(columns=cols, sleep_sec = 1,  order='Performance (Quarter)', ascend=False)\n",
    "print(df3.shape[0])\n",
    "df3 = df3.head(limit)\n",
    "\n",
    "df3.shape[0]"
   ]
  },
  {
   "cell_type": "markdown",
   "id": "71f77edc",
   "metadata": {},
   "source": [
    "--------------6 MONTH GAINERS-------------"
   ]
  },
  {
   "cell_type": "code",
   "execution_count": 18,
   "id": "9f21cdc6",
   "metadata": {},
   "outputs": [
    {
     "name": "stdout",
     "output_type": "stream",
     "text": [
      "69nfo] loading page [##############################] 4/4 \n"
     ]
    },
    {
     "data": {
      "text/plain": [
       "69"
      ]
     },
     "execution_count": 18,
     "metadata": {},
     "output_type": "execute_result"
    }
   ],
   "source": [
    "fcustom.set_filter(filters_dict=filters_dict6)\n",
    "df6 = fcustom.screener_view(columns=cols, sleep_sec = 1,  order='Performance (Half Year)', ascend=False)\n",
    "print(df6.shape[0])\n",
    "\n",
    "df6 = df6.head(limit)\n",
    "\n",
    "df6.shape[0]"
   ]
  },
  {
   "cell_type": "markdown",
   "id": "e2174ef8",
   "metadata": {},
   "source": [
    "--------------MERGE-------------"
   ]
  },
  {
   "cell_type": "code",
   "execution_count": 19,
   "id": "934b1ee2",
   "metadata": {},
   "outputs": [],
   "source": [
    "df_final = pd.concat([df1, df3, df6], axis=0)"
   ]
  },
  {
   "cell_type": "code",
   "execution_count": 20,
   "id": "a4470984",
   "metadata": {},
   "outputs": [],
   "source": [
    "df_final = df_final.drop_duplicates(subset=['Ticker'], keep='first')"
   ]
  },
  {
   "cell_type": "code",
   "execution_count": 21,
   "id": "9c474b04",
   "metadata": {},
   "outputs": [
    {
     "data": {
      "text/plain": [
       "191"
      ]
     },
     "execution_count": 21,
     "metadata": {},
     "output_type": "execute_result"
    }
   ],
   "source": [
    "df_final.shape[0]"
   ]
  },
  {
   "cell_type": "code",
   "execution_count": 22,
   "id": "4de270f9",
   "metadata": {},
   "outputs": [],
   "source": [
    "s = set(df_final['Ticker'])"
   ]
  },
  {
   "cell_type": "code",
   "execution_count": 26,
   "id": "d1649db1",
   "metadata": {},
   "outputs": [
    {
     "name": "stdout",
     "output_type": "stream",
     "text": [
      "20230201_US.txt\n"
     ]
    }
   ],
   "source": [
    "set_to_tv_US(s)"
   ]
  }
 ],
 "metadata": {
  "kernelspec": {
   "display_name": "Python 3.10.9 64-bit",
   "language": "python",
   "name": "python3"
  },
  "language_info": {
   "codemirror_mode": {
    "name": "ipython",
    "version": 3
   },
   "file_extension": ".py",
   "mimetype": "text/x-python",
   "name": "python",
   "nbconvert_exporter": "python",
   "pygments_lexer": "ipython3",
   "version": "3.10.9"
  },
  "vscode": {
   "interpreter": {
    "hash": "b0fa6594d8f4cbf19f97940f81e996739fb7646882a419484c72d19e05852a7e"
   }
  }
 },
 "nbformat": 4,
 "nbformat_minor": 5
}
