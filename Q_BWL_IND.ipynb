{
 "cells": [
  {
   "cell_type": "markdown",
   "id": "d72ef3e3",
   "metadata": {},
   "source": [
    "#Creates backwatchlist set for watchlists from last friday to most recent thursday => watchlists for all trading days for last trading week"
   ]
  },
  {
   "cell_type": "code",
   "execution_count": 2,
   "id": "59a15744",
   "metadata": {},
   "outputs": [],
   "source": [
    "from libs import *\n",
    "from helper_functions import *"
   ]
  },
  {
   "cell_type": "code",
   "execution_count": 4,
   "id": "997203c7",
   "metadata": {},
   "outputs": [],
   "source": [
    "today = date.today()\n",
    "last_friday = today + timedelta(days=-today.weekday())"
   ]
  },
  {
   "cell_type": "code",
   "execution_count": 5,
   "id": "04dbec81",
   "metadata": {},
   "outputs": [
    {
     "name": "stdout",
     "output_type": "stream",
     "text": [
      "2023-01-04 2023-01-02\n"
     ]
    }
   ],
   "source": [
    "print(today, last_friday)"
   ]
  },
  {
   "cell_type": "code",
   "execution_count": 6,
   "id": "2e22c8c9",
   "metadata": {},
   "outputs": [],
   "source": [
    "dateset = set()"
   ]
  },
  {
   "cell_type": "code",
   "execution_count": 7,
   "id": "849ca80d",
   "metadata": {},
   "outputs": [],
   "source": [
    "for i in range(7):\n",
    "    d = last_friday + timedelta(days=i)\n",
    "    ds = d.strftime('%Y%m%d')\n",
    "    dateset.add(ds)"
   ]
  },
  {
   "cell_type": "code",
   "execution_count": 8,
   "id": "68c1f055",
   "metadata": {
    "scrolled": false
   },
   "outputs": [],
   "source": [
    "os.chdir('/Users/yash/Desktop/Trading/Q/watchlists')"
   ]
  },
  {
   "cell_type": "code",
   "execution_count": 9,
   "id": "8b76be9a",
   "metadata": {},
   "outputs": [],
   "source": [
    "files = glob('**/????????_Q_IND.txt', recursive = True)"
   ]
  },
  {
   "cell_type": "code",
   "execution_count": 10,
   "id": "4fe51d86",
   "metadata": {},
   "outputs": [],
   "source": [
    "ticker_set = set()"
   ]
  },
  {
   "cell_type": "code",
   "execution_count": 11,
   "id": "05da662b",
   "metadata": {},
   "outputs": [
    {
     "name": "stdout",
     "output_type": "stream",
     "text": [
      "20221227\n",
      "20221229\n",
      "20221228\n",
      "20221226\n",
      "20221225\n",
      "272\n"
     ]
    }
   ],
   "source": [
    "for f in files:\n",
    "    ds = f.split('/')[-1].split('_')[0]\n",
    "    if ds in dateset:\n",
    "        print(ds)\n",
    "        with open(f, 'r') as file:\n",
    "            data = file.read().replace('\\n', '')\n",
    "        data = data.split(',')\n",
    "        ticker_set.update(set(data))\n",
    "print(len(ticker_set))"
   ]
  },
  {
   "cell_type": "code",
   "execution_count": 12,
   "id": "67791f20",
   "metadata": {},
   "outputs": [],
   "source": [
    "os.chdir('/Users/yash/Desktop/Trading/Q/backwatchlists/')"
   ]
  },
  {
   "cell_type": "code",
   "execution_count": 13,
   "id": "ebf62786",
   "metadata": {},
   "outputs": [
    {
     "name": "stdout",
     "output_type": "stream",
     "text": [
      "20221223_20230101_back.txt\n"
     ]
    }
   ],
   "source": [
    "set_to_tv(ticker_set, last_friday.strftime('%Y%m%d') + '_' + today.strftime('%Y%m%d') + '_back.txt')"
   ]
  }
 ],
 "metadata": {
  "kernelspec": {
   "display_name": "Python 3",
   "language": "python",
   "name": "python3"
  },
  "language_info": {
   "codemirror_mode": {
    "name": "ipython",
    "version": 3
   },
   "file_extension": ".py",
   "mimetype": "text/x-python",
   "name": "python",
   "nbconvert_exporter": "python",
   "pygments_lexer": "ipython3",
   "version": "3.11.0"
  },
  "vscode": {
   "interpreter": {
    "hash": "56f907f12ae4c0fedb4fac237b3f3bdbd6f9d775ac1b216482949b5c21c748d3"
   }
  }
 },
 "nbformat": 4,
 "nbformat_minor": 5
}
