{
 "cells": [
  {
   "cell_type": "code",
   "execution_count": null,
   "metadata": {},
   "outputs": [],
   "source": [
    "from libs import *\n",
    "from helper_functions import *"
   ]
  },
  {
   "cell_type": "code",
   "execution_count": null,
   "metadata": {},
   "outputs": [],
   "source": [
    "files = glob('*.csv')"
   ]
  },
  {
   "cell_type": "code",
   "execution_count": null,
   "metadata": {},
   "outputs": [],
   "source": [
    "to_tv('r.csv')"
   ]
  },
  {
   "cell_type": "code",
   "execution_count": null,
   "metadata": {
    "scrolled": false
   },
   "outputs": [],
   "source": [
    "for file in files:\n",
    "    to_tv(file)"
   ]
  },
  {
   "cell_type": "code",
   "execution_count": null,
   "metadata": {},
   "outputs": [],
   "source": [
    "#RESULTS\n",
    "os.chdir('results')\n",
    "\n",
    "df = pd.read_csv('Results.csv')\n",
    "\n",
    "s = set(df['Result Date'])\n",
    "\n",
    "for date in s:\n",
    "    df_temp = df[df['Result Date'] == date]\n",
    "    df_temp.to_csv(date + '.csv')\n",
    "\n",
    "for date in s:\n",
    "    to_tv(date + '.csv')"
   ]
  }
 ],
 "metadata": {
  "kernelspec": {
   "display_name": "Python 3",
   "language": "python",
   "name": "python3"
  },
  "language_info": {
   "codemirror_mode": {
    "name": "ipython",
    "version": 3
   },
   "file_extension": ".py",
   "mimetype": "text/x-python",
   "name": "python",
   "nbconvert_exporter": "python",
   "pygments_lexer": "ipython3",
   "version": "3.11.0"
  },
  "vscode": {
   "interpreter": {
    "hash": "56f907f12ae4c0fedb4fac237b3f3bdbd6f9d775ac1b216482949b5c21c748d3"
   }
  }
 },
 "nbformat": 4,
 "nbformat_minor": 2
}
