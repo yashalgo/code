{
 "cells": [
  {
   "cell_type": "code",
   "execution_count": 51,
   "metadata": {},
   "outputs": [],
   "source": [
    "import pandas as pd\n",
    "from glob import glob\n",
    "import os"
   ]
  },
  {
   "cell_type": "code",
   "execution_count": 52,
   "metadata": {},
   "outputs": [],
   "source": [
    "files = glob('*.csv')"
   ]
  },
  {
   "cell_type": "code",
   "execution_count": 53,
   "metadata": {},
   "outputs": [],
   "source": [
    "def to_tv(infile):\n",
    "    \n",
    "    df = pd.read_csv(infile)\n",
    "    df['tv_ticker'] = df['Security Name'].apply(lambda x: \"NSE:\" + x.replace(\"&\",\"_\").replace(\"-\",\"_\"))\n",
    "    tv_string = ','.join(list(df['tv_ticker']))\n",
    "    outfile = infile.replace('.csv','_tv.txt')\n",
    "    with open(outfile, \"w\") as text_file:\n",
    "        text_file.write(tv_string)\n",
    "    print(outfile)"
   ]
  },
  {
   "cell_type": "code",
   "execution_count": 5,
   "metadata": {},
   "outputs": [
    {
     "name": "stdout",
     "output_type": "stream",
     "text": [
      "r_tv.txt\n"
     ]
    }
   ],
   "source": [
    "to_tv('r.csv')"
   ]
  },
  {
   "cell_type": "code",
   "execution_count": 29,
   "metadata": {
    "scrolled": false
   },
   "outputs": [
    {
     "name": "stdout",
     "output_type": "stream",
     "text": [
      "ind_nifty50list_tv.txt\n",
      "ind_niftyautolist_tv.txt\n",
      "ind_niftybanklist_tv.txt\n",
      "ind_niftyfinancelist_tv.txt\n",
      "ind_niftyfmcglist_tv.txt\n",
      "ind_niftyhealthcarelist_tv.txt\n",
      "ind_niftyitlist_tv.txt\n",
      "ind_niftymedialist_tv.txt\n",
      "ind_niftymetallist_tv.txt\n",
      "ind_niftypharmalist_tv.txt\n",
      "ind_niftypsubanklist_tv.txt\n",
      "ind_niftyrealtylist_tv.txt\n"
     ]
    }
   ],
   "source": [
    "for file in files:\n",
    "    to_tv(file)"
   ]
  },
  {
   "cell_type": "code",
   "execution_count": 2,
   "metadata": {},
   "outputs": [],
   "source": [
    "#RESULTS\n",
    "os.chdir('results')\n",
    "\n",
    "df = pd.read_csv('Results.csv')\n",
    "\n",
    "s = set(df['Result Date'])\n",
    "\n",
    "for date in s:\n",
    "    df_temp = df[df['Result Date'] == date]\n",
    "    df_temp.to_csv(date + '.csv')\n",
    "\n",
    "for date in s:\n",
    "    to_tv(date + '.csv')"
   ]
  }
 ],
 "metadata": {
  "kernelspec": {
   "display_name": "Python 3",
   "language": "python",
   "name": "python3"
  },
  "language_info": {
   "codemirror_mode": {
    "name": "ipython",
    "version": 3
   },
   "file_extension": ".py",
   "mimetype": "text/x-python",
   "name": "python",
   "nbconvert_exporter": "python",
   "pygments_lexer": "ipython3",
   "version": "3.7.3"
  }
 },
 "nbformat": 4,
 "nbformat_minor": 2
}
