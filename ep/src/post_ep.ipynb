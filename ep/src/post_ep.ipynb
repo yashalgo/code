{
 "cells": [
  {
   "cell_type": "code",
   "execution_count": 5,
   "metadata": {},
   "outputs": [],
   "source": [
    "import pandas as pd\n",
    "# import utils.misc as misc\n",
    "from config import *\n",
    "# import yahoo_fin.stock_info as si\n",
    "import os\n",
    "from datetime import datetime, timedelta\n",
    "from finvizfinance.screener.custom import Custom\n",
    "from glob import glob"
   ]
  },
  {
   "cell_type": "code",
   "execution_count": 13,
   "metadata": {},
   "outputs": [],
   "source": [
    "def add_ma(df, n):\n",
    "    col_name = 'DMA'+str(n)\n",
    "    df[col_name] = df[\"close\"].rolling(n).mean()\n",
    "    return df\n",
    "def find_high(df):\n",
    "    high = max(df['high'])\n",
    "    high_date = (df[df['high'] == high].iloc[0,1])\n",
    "    print(high, high_date)\n",
    "    return (high, high_date)\n",
    "def find_low(df):\n",
    "    low = min(df['low'])\n",
    "    low_date = df[df['low'] == low].iloc[0,1]\n",
    "    # print(low, low_date)\n",
    "    return (low, low_date)\n",
    "def returns(buy_price, sell_price):\n",
    "    return round((sell_price/buy_price - 1) * 100, 2)"
   ]
  },
  {
   "cell_type": "code",
   "execution_count": 7,
   "metadata": {},
   "outputs": [],
   "source": [
    "def buy_hold(df, ex_date, next_ex_date = ''):\n",
    "    output = dict()\n",
    "    if len(next_ex_date) > 0:\n",
    "        df_buy_hold = df[(df['date'] >= ex_date) & (df['date'] < next_ex_date)]\n",
    "    else:\n",
    "        df_buy_hold = df[df['date'] >= ex_date]\n",
    "        df_buy_hold = df_buy_hold[:63]\n",
    "    buy_price = df_buy_hold.iloc[0].open\n",
    "    sell_price = df_buy_hold.iloc[-1].close\n",
    "    output['bh_returns'] = returns(buy_price, sell_price)\n",
    "    output['bh_close'] = sell_price\n",
    "    output['bh_high'], x = find_high(df_buy_hold)\n",
    "    output['bh_dth'] = df_buy_hold.loc[ex_date: x].shape[0] - 1\n",
    "    output['bh_low'], y = find_low(df_buy_hold)\n",
    "    output['bh_dtl'] = df_buy_hold.loc[ex_date: y].shape[0] - 1\n",
    "    output['bh_high_returns'] = returns(buy_price, output['bh_high'])\n",
    "    return output"
   ]
  },
  {
   "cell_type": "code",
   "execution_count": 8,
   "metadata": {},
   "outputs": [],
   "source": [
    "def trail(df, SMA):\n",
    "    sl = df.iloc[0].low\n",
    "    exit_price = -1\n",
    "    exit_method = ''\n",
    "\n",
    "    dma_col = 'DMA'+str(SMA)\n",
    "    df['above_DMA'] = (df['close'] >= df[dma_col])\n",
    "\n",
    "    if df['above_DMA'].iloc[0] == False:\n",
    "        print('Below DMA at entry, cannot trail!')\n",
    "        return -1\n",
    "    \n",
    "    for i, row in df.iterrows():\n",
    "        # print(i, row)\n",
    "        if row.low < sl:\n",
    "            exit_price = min(row.open, sl)\n",
    "            exit_method = 'SL'\n",
    "            break\n",
    "        elif row.above_DMA == False:\n",
    "            # print(row, dma_col)\n",
    "            exit_price = min(row.open, row[dma_col])\n",
    "            exit_method = 'DMA cross'\n",
    "            break\n",
    "        else:\n",
    "            exit_price = row.close\n",
    "            exit_method = 'In Position'\n",
    "    return (exit_method, row.date, exit_price)"
   ]
  },
  {
   "cell_type": "code",
   "execution_count": 9,
   "metadata": {},
   "outputs": [],
   "source": [
    "def trail_strategy(df, ex_date, SMA=10):\n",
    "    output = dict()\n",
    "    add_ma(df, SMA)\n",
    "    df_trail = df[df['date'] >= ex_date]\n",
    "    buy_price = df_trail.iloc[0].open\n",
    "    temp = trail(df_trail,SMA)\n",
    "    if temp == -1:\n",
    "        return output\n",
    "    else:\n",
    "        exit_method, exit_date, sell_price = temp\n",
    "    print(temp)\n",
    "    df_trail = df_trail[df_trail['date'] <= exit_date]\n",
    "    # print(df_trail)\n",
    "    output['tr_returns'] = returns(buy_price, sell_price)\n",
    "    output['tr_high'], x = find_high(df_trail)\n",
    "    output['tr_dth'] = df_trail.loc[ex_date: x].shape[0] - 1\n",
    "    output['tr_low'], y = find_low(df_trail)\n",
    "    output['tr_dtl'] = df_trail.loc[ex_date: y].shape[0] - 1\n",
    "    output['tr_high_returns'] = returns(buy_price, output['tr_high'])\n",
    "    output['method'] = exit_method\n",
    "    return output"
   ]
  },
  {
   "cell_type": "code",
   "execution_count": 14,
   "metadata": {},
   "outputs": [
    {
     "name": "stdout",
     "output_type": "stream",
     "text": [
      "176.14999389648438 2022-08-17\n",
      "{'bh_returns': -10.48, 'bh_close': 144.33981323242188, 'bh_high': 176.14999389648438, 'bh_dth': 13, 'bh_low': 134.3699951171875, 'bh_dtl': 53, 'bh_high_returns': 9.25}\n",
      "('DMA cross', '2022-08-22', 169.69000244140625)\n",
      "176.14999389648438 2022-08-17\n",
      "{'tr_returns': 5.24, 'tr_high': 176.14999389648438, 'tr_dth': 13, 'tr_low': 159.5, 'tr_dtl': 0, 'tr_high_returns': 9.25, 'method': 'DMA cross'}\n"
     ]
    },
    {
     "name": "stderr",
     "output_type": "stream",
     "text": [
      "C:\\Users\\basil\\AppData\\Local\\Temp\\ipykernel_18504\\2463640878.py:7: SettingWithCopyWarning: \n",
      "A value is trying to be set on a copy of a slice from a DataFrame.\n",
      "Try using .loc[row_indexer,col_indexer] = value instead\n",
      "\n",
      "See the caveats in the documentation: https://pandas.pydata.org/pandas-docs/stable/user_guide/indexing.html#returning-a-view-versus-a-copy\n",
      "  df['above_DMA'] = (df['close'] >= df[dma_col])\n"
     ]
    }
   ],
   "source": [
    "if __name__ == \"__main__\":\n",
    "\n",
    "    ticker = 'AAPL'\n",
    "    df = pd.read_csv(\"ohlc/{}_ADJUSTED_OHLC.csv\".format(ticker))\n",
    "    df.drop(columns=['close'], axis=1, inplace=True)\n",
    "    df.rename(columns={'adjclose': 'close'},inplace=True)\n",
    "    df.index = df['date']\n",
    "    \n",
    "    #input\n",
    "    ex_date = '2022-07-29'\n",
    "    next_ex_date = '2022-10-28'     # if next_ex_date is not available, pass \"\"\n",
    "    # next_ex_date = \"\"\n",
    "\n",
    "    #holding until next earnings\n",
    "    temp = buy_hold(df, ex_date, next_ex_date)\n",
    "    print(temp)\n",
    "\n",
    "\n",
    "    #trailing using 10 Day Moving Average\n",
    "    ma_period = 10\n",
    "    temp = trail_strategy(df, ex_date, ma_period)\n",
    "    print(temp)"
   ]
  },
  {
   "attachments": {},
   "cell_type": "markdown",
   "metadata": {},
   "source": [
    "Qullamaggie trail method\n",
    "1. Buy on ORB\n",
    "2. Stops at LOD\n",
    "3. Trail using 10 DMA"
   ]
  }
 ],
 "metadata": {
  "kernelspec": {
   "display_name": "Python 3.10.0 64-bit",
   "language": "python",
   "name": "python3"
  },
  "language_info": {
   "codemirror_mode": {
    "name": "ipython",
    "version": 3
   },
   "file_extension": ".py",
   "mimetype": "text/x-python",
   "name": "python",
   "nbconvert_exporter": "python",
   "pygments_lexer": "ipython3",
   "version": "3.10.0"
  },
  "orig_nbformat": 4,
  "vscode": {
   "interpreter": {
    "hash": "369f2c481f4da34e4445cda3fffd2e751bd1c4d706f27375911949ba6bb62e1c"
   }
  }
 },
 "nbformat": 4,
 "nbformat_minor": 2
}
