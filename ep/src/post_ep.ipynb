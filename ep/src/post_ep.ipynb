{
 "cells": [
  {
   "cell_type": "code",
   "execution_count": 23,
   "metadata": {},
   "outputs": [],
   "source": [
    "import pandas as pd\n",
    "import utils.misc as misc\n",
    "from config import *\n",
    "import yahoo_fin.stock_info as si\n",
    "import os\n",
    "from datetime import datetime, timedelta\n",
    "from finvizfinance.screener.custom import Custom\n",
    "from glob import glob"
   ]
  },
  {
   "cell_type": "code",
   "execution_count": 136,
   "metadata": {},
   "outputs": [],
   "source": [
    "def add_ma(df, n):\n",
    "    col_name = 'DMA'+str(n)\n",
    "    df[col_name] = df[\"close\"].rolling(n).mean()\n",
    "    return df\n",
    "def find_high(df):\n",
    "    high = max(df['high'])\n",
    "    high_date = df[df['high'] == high].iloc[0,1]\n",
    "    # print(high, high_date)\n",
    "    return (high, high_date)\n",
    "def find_low(df):\n",
    "    low = min(df['low'])\n",
    "    low_date = df[df['low'] == low].iloc[0,1]\n",
    "    # print(low, low_date)\n",
    "    return (low, low_date)\n",
    "def returns(buy_price, sell_price):\n",
    "    return round((sell_price/buy_price - 1) * 100, 2)"
   ]
  },
  {
   "cell_type": "code",
   "execution_count": 138,
   "metadata": {},
   "outputs": [],
   "source": [
    "def buy_hold(df, ex_date, next_ex_date):\n",
    "    output = dict()\n",
    "    df_buy_hold = df[(df['date'] >= ex_date) & (df['date'] < next_ex_date)]\n",
    "    buy_price = df_buy_hold.iloc[0].open\n",
    "    sell_price = df_buy_hold.iloc[-1].close\n",
    "    output['bh_returns'] = returns(buy_price, sell_price)\n",
    "    output['bh_high'], x = find_high(df_buy_hold)\n",
    "    output['bh_dth'] = df_buy_hold.loc[ex_date: x].shape[0]\n",
    "    output['bh_low'], y = find_low(df_buy_hold)\n",
    "    output['bh_dtl'] = df_buy_hold.loc[ex_date: y].shape[0]\n",
    "    output['bh_high_returns'] = returns(buy_price, output['bh_high'])\n",
    "    return output"
   ]
  },
  {
   "cell_type": "code",
   "execution_count": 144,
   "metadata": {},
   "outputs": [],
   "source": [
    "def trail(df, SMA):\n",
    "    sl = df.iloc[0].low\n",
    "    # print(sl)\n",
    "    dma_col = 'DMA'+str(SMA)\n",
    "    df['above_DMA'] = (df['close'] >= df[dma_col])\n",
    "    for i, row in df.iterrows():\n",
    "        # print(i, row)\n",
    "        if row.low < sl:\n",
    "            # print('SL hit')\n",
    "            return ('SL', row.date, sl)\n",
    "        elif row.above_DMA == False:\n",
    "            return ('DMA'+str(SMA), row.date, row.close)\n",
    "    return ('In Position', row.date, row.close)"
   ]
  },
  {
   "cell_type": "code",
   "execution_count": 145,
   "metadata": {},
   "outputs": [],
   "source": [
    "def trail_strategy(df, ex_date, SMA=10):\n",
    "    output = dict()\n",
    "    add_ma(df, SMA)\n",
    "    df_trail = df[df['date'] >= ex_date]\n",
    "    buy_price = df_trail.iloc[0].open\n",
    "    exit_method, exit_date, sell_price = trail(df_trail,SMA)\n",
    "    df_trail = df_trail[df_trail['date'] <= exit_date]\n",
    "    output['tr_returns'] = returns(buy_price, sell_price)\n",
    "    output['tr_high'], x = find_high(df_trail)\n",
    "    output['tr_dth'] = df_trail.loc[exit_date: x].shape[0]\n",
    "    output['tr_low'], y = find_low(df_trail)\n",
    "    output['tr_dtl'] = df_trail.loc[exit_date: y].shape[0]\n",
    "    output['tr_high_returns'] = returns(buy_price, output['tr_high'])\n",
    "    output['method'] = exit_method\n",
    "    return output"
   ]
  },
  {
   "cell_type": "code",
   "execution_count": 146,
   "metadata": {},
   "outputs": [
    {
     "name": "stdout",
     "output_type": "stream",
     "text": [
      "{'bh_returns': -32.65, 'bh_high': 343.0899963378906, 'bh_dth': 2, 'bh_low': 185.82000732421875, 'bh_dtl': 49, 'bh_high_returns': 1.42}\n",
      "{'tr_returns': -0.33, 'tr_high': 343.0899963378906, 'tr_dth': 1, 'tr_low': 331.8699951171875, 'tr_dtl': 1, 'tr_high_returns': 1.42, 'method': 'SL'}\n"
     ]
    },
    {
     "name": "stderr",
     "output_type": "stream",
     "text": [
      "/var/folders/_3/qbdc2k351_379d2nk16_q9p80000gn/T/ipykernel_26215/1101902381.py:5: SettingWithCopyWarning: \n",
      "A value is trying to be set on a copy of a slice from a DataFrame.\n",
      "Try using .loc[row_indexer,col_indexer] = value instead\n",
      "\n",
      "See the caveats in the documentation: https://pandas.pydata.org/pandas-docs/stable/user_guide/indexing.html#returning-a-view-versus-a-copy\n",
      "  df['above_DMA'] = (df['close'] >= df[dma_col])\n"
     ]
    }
   ],
   "source": [
    "if __name__ == \"__main__\":\n",
    "\n",
    "    ticker = 'META'\n",
    "    df = pd.read_csv(f\"../data/{ticker}_ADJUSTED_OHLC.csv\")\n",
    "    df.drop(columns=['close'], axis=1, inplace=True)\n",
    "    df.rename(columns={'adjclose': 'close'},inplace=True)\n",
    "    df.index = df['date']\n",
    "    \n",
    "    #input\n",
    "    ex_date = '2022-01-03'\n",
    "    next_ex_date = '2022-03-31'\n",
    "\n",
    "    #holding until next earnings\n",
    "    temp = buy_hold(df, ex_date, next_ex_date)\n",
    "    print(temp)\n",
    "\n",
    "    #trailing using 10 Day Moving Average\n",
    "    ma_period = 10\n",
    "    temp = trail_strategy(df, ex_date, ma_period)\n",
    "    print(temp)"
   ]
  },
  {
   "attachments": {},
   "cell_type": "markdown",
   "metadata": {},
   "source": [
    "Qullamaggie trail method\n",
    "1. Buy on ORB\n",
    "2. Stops at LOD\n",
    "3. Trail using 10 DMA"
   ]
  }
 ],
 "metadata": {
  "kernelspec": {
   "display_name": "Python 3",
   "language": "python",
   "name": "python3"
  },
  "language_info": {
   "codemirror_mode": {
    "name": "ipython",
    "version": 3
   },
   "file_extension": ".py",
   "mimetype": "text/x-python",
   "name": "python",
   "nbconvert_exporter": "python",
   "pygments_lexer": "ipython3",
   "version": "3.10.9"
  },
  "orig_nbformat": 4
 },
 "nbformat": 4,
 "nbformat_minor": 2
}
