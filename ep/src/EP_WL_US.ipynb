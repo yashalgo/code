{
 "cells": [
  {
   "cell_type": "code",
   "execution_count": 1,
   "metadata": {},
   "outputs": [],
   "source": [
    "import pandas as pd\n",
    "from config import *\n",
    "import os\n",
    "from datetime import datetime\n",
    "from finvizfinance.screener.custom import Custom\n",
    "import utils.tradingview as tv\n",
    "import utils.misc as msc\n",
    "import yfinance as yf\n",
    "from glob import glob"
   ]
  },
  {
   "cell_type": "code",
   "execution_count": 2,
   "metadata": {},
   "outputs": [],
   "source": [
    "class finviz:\n",
    "    mcap_50 = '+Micro (over $50mln)'\n",
    "\n",
    "    earnings_prev5 = 'Previous 5 Days'\n",
    "    earnings_next5 = 'Next 5 Days'\n",
    "    earnings_amc = 'Yesterday After Market Close'\n",
    "    earnings_bmo = 'Today Before Market Open'\n",
    "\n",
    "    country_usa = 'USA'\n",
    "    \n",
    "    price_1 = 'Over $1'\n",
    "\n",
    "    def standardize(df1):\n",
    "        df1['Market Cap'] = df1['Market Cap']/1e6\n",
    "        df1['Float'] = df1['Float']/1e6\n",
    "        df1['Volatility M'] = df1['Volatility M'] * 100\n",
    "        df1['Perf Quart'] = df1['Perf Quart'] * 100\n",
    "        df1['Inst Own'] = df1['Inst Own'] * 100\n",
    "        return df1"
   ]
  },
  {
   "cell_type": "code",
   "execution_count": 3,
   "metadata": {},
   "outputs": [],
   "source": [
    "def get_yf_df(symbol, period_=\"1mo\"):\n",
    "    df2 = yf.download(symbol, period=period_, progress=False)\n",
    "    df2.rename(columns=str.lower, inplace=True)\n",
    "    df2.drop(\"close\", axis=1, inplace=True)\n",
    "    df2.rename(columns={\"adj close\": \"close\"}, inplace=True)\n",
    "    df2.reset_index(inplace=True)\n",
    "    return df2"
   ]
  },
  {
   "cell_type": "code",
   "execution_count": 4,
   "metadata": {},
   "outputs": [
    {
     "name": "stdout",
     "output_type": "stream",
     "text": [
      "[Info] loading page [##############################] 3/3 \r"
     ]
    }
   ],
   "source": [
    "#SCREENER\n",
    "fcustom = Custom()\n",
    "cols = [0,1,2,3,4,6,16,22,23,25,28,31,44,51,57,58,63,65,68]\n",
    "\n",
    "filters_dict1 = {'Market Cap.': finviz.mcap_50, 'Earnings Date': finviz.earnings_prev5, 'Price': finviz.price_1, 'Country': finviz.country_usa}\n",
    "filters_dict2 = {'Market Cap.': finviz.mcap_50, 'Earnings Date': finviz.earnings_next5, 'Price': finviz.price_1, 'Country': finviz.country_usa}\n",
    "\n",
    "fcustom.set_filter(filters_dict=filters_dict1)\n",
    "df1 = fcustom.screener_view(columns=cols, sleep_sec = 1)\n",
    "\n",
    "fcustom.set_filter(filters_dict=filters_dict2)\n",
    "df2 = fcustom.screener_view(columns=cols, sleep_sec = 1)\n",
    "\n",
    "df_final = pd.concat([df1, df2], axis=0)\n",
    "df_final = finviz.standardize(df_final)\n"
   ]
  },
  {
   "cell_type": "code",
   "execution_count": 5,
   "metadata": {},
   "outputs": [],
   "source": [
    "df_final['DollarVolume'] = df_final['Price'] * df_final['Avg Volume']"
   ]
  },
  {
   "cell_type": "code",
   "execution_count": 6,
   "metadata": {},
   "outputs": [],
   "source": [
    "df = get_yf_df('META')\n",
    "df[\"Date\"] = df[\"Date\"].apply(\n",
    "    lambda x: datetime.strptime(datetime.strftime(x,  \"%Y-%m-%d\"), \"%Y-%m-%d\")\n",
    ")\n",
    "df = df[df['Date'] < datetime.today()]"
   ]
  },
  {
   "cell_type": "code",
   "execution_count": 7,
   "metadata": {},
   "outputs": [],
   "source": [
    "today_ = datetime.today()\n",
    "previous_day = df.iloc[-1,0]"
   ]
  },
  {
   "cell_type": "code",
   "execution_count": 8,
   "metadata": {},
   "outputs": [],
   "source": [
    "previous_day_str = datetime.strftime(previous_day, '%b %d') + '/a'\n",
    "today_str = datetime.strftime(today_, '%b %d') + '/b'"
   ]
  },
  {
   "cell_type": "code",
   "execution_count": 9,
   "metadata": {},
   "outputs": [
    {
     "name": "stdout",
     "output_type": "stream",
     "text": [
      "Mar 21/a Mar 22/b\n"
     ]
    }
   ],
   "source": [
    "print(previous_day_str, today_str)"
   ]
  },
  {
   "cell_type": "code",
   "execution_count": 10,
   "metadata": {},
   "outputs": [],
   "source": [
    "df_final = df_final[(df_final['DollarVolume'] >= 1e6) & ((df_final['Earnings'] == previous_day_str) | (df_final['Earnings'] == today_str))]"
   ]
  },
  {
   "cell_type": "code",
   "execution_count": 11,
   "metadata": {},
   "outputs": [],
   "source": [
    "os.chdir(ep_wl)"
   ]
  },
  {
   "cell_type": "code",
   "execution_count": 12,
   "metadata": {},
   "outputs": [],
   "source": [
    "s1 = set(df_final['Ticker'])\n",
    "# tv.set_to_tv(s1, datetime.today().strftime('%Y%m%d') + '_AMC.txt')"
   ]
  },
  {
   "cell_type": "code",
   "execution_count": 13,
   "metadata": {},
   "outputs": [
    {
     "name": "stdout",
     "output_type": "stream",
     "text": [
      "20230322_EP_UNFILTERED.txt\n"
     ]
    }
   ],
   "source": [
    "tv.set_to_tv(s1, datetime.today().strftime('%Y%m%d') + '_EP_UNFILTERED.txt')"
   ]
  },
  {
   "cell_type": "markdown",
   "metadata": {},
   "source": [
    "ZACKS - Remove -ve surprises"
   ]
  },
  {
   "cell_type": "code",
   "execution_count": 56,
   "metadata": {},
   "outputs": [],
   "source": [
    "# today_zr = today_.strftime('%Y-%m-%d')\n",
    "# previous_day_zr = previous_day.strftime('%Y-%m-%d')\n",
    "# today_file = glob(f'*{today_zr}*')[0]\n",
    "# previous_day_file = glob(f'*{previous_day_zr}*')[0]\n",
    "# data_today = pd.read_table(today_file)\n",
    "# data_previous_day = pd.read_table(previous_day_file)\n",
    "# df_final_zr = pd.concat([data_today, data_previous_day], axis=0)\n",
    "# df_final_zr.fillna(0, inplace=True)\n",
    "# df_final_zr['Surprise'] = df_final_zr['Surprise'].apply(lambda x: x if isinstance(x, (float, int)) else float(x.replace(',','')))\n",
    "# df_final_zr = df_final_zr[df_final_zr['Surprise']>=0.0]\n",
    "# stocks_zr = set(df_final_zr['Symbol'])\n",
    "# print(len(s1), len(stocks_zr))\n",
    "# final = s1.intersection(stocks_zr)\n",
    "# print(len(final))\n",
    "# tv.set_to_tv(final, datetime.today().strftime('%Y%m%d') + '_EP.txt')"
   ]
  }
 ],
 "metadata": {
  "kernelspec": {
   "display_name": "Python 3",
   "language": "python",
   "name": "python3"
  },
  "language_info": {
   "codemirror_mode": {
    "name": "ipython",
    "version": 3
   },
   "file_extension": ".py",
   "mimetype": "text/x-python",
   "name": "python",
   "nbconvert_exporter": "python",
   "pygments_lexer": "ipython3",
   "version": "3.10.9"
  },
  "orig_nbformat": 4
 },
 "nbformat": 4,
 "nbformat_minor": 2
}
