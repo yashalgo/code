{
 "cells": [
  {
   "cell_type": "code",
   "execution_count": null,
   "metadata": {},
   "outputs": [],
   "source": [
    "import requests\n",
    "import pandas as pd\n",
    "import utils.misc as misc\n",
    "from config import *\n",
    "import yahoo_fin.stock_info as si\n",
    "from yahooquery import Ticker\n",
    "import quandl\n",
    "import os\n",
    "from datetime import datetime, timedelta\n",
    "from finvizfinance.screener.custom import Custom\n",
    "import time"
   ]
  },
  {
   "cell_type": "code",
   "execution_count": null,
   "metadata": {},
   "outputs": [],
   "source": [
    "BASE_URL = r\"https://www.alphavantage.co/query?\"\n",
    "av_api = 'CQLP7J9VZG14Y7O4'\n",
    "av_api_basil = 'IHLNUQ0G66C0MJID'"
   ]
  },
  {
   "cell_type": "markdown",
   "metadata": {},
   "source": [
    "using proxies"
   ]
  },
  {
   "cell_type": "code",
   "execution_count": null,
   "metadata": {},
   "outputs": [],
   "source": [
    "def av_api(func, api_key, symbol):\n",
    "    assert symbol is not None\n",
    "    symbol = symbol.strip().upper()\n",
    "\n",
    "    url = f\"{BASE_URL}function={func}&symbol={symbol}&apikey={api_key}\"\n",
    "    response = requests.get(url)\n",
    "    if func == 'EARNINGS':\n",
    "        try:\n",
    "            output = pd.DataFrame(response.json()['quarterlyEarnings'])\n",
    "        except:\n",
    "            print(response.json())\n",
    "            output = None\n",
    "    elif func == 'BALANCE_SHEET':\n",
    "        print(response)\n",
    "        print(response.json())\n",
    "        return pd.DataFrame(response.json()['quarterlyReports'])\n",
    "    elif func == 'INCOME_STATEMENT':\n",
    "        return pd.DataFrame(response.json()['quarterlyReports'])\n",
    "    return output"
   ]
  },
  {
   "cell_type": "code",
   "execution_count": null,
   "metadata": {},
   "outputs": [],
   "source": [
    "def get_av_data(symbol):\n",
    "    #For reported Earnings & Analyst Estimated EPS, totalRevenue, commonStockSharesOutstanding\n",
    "    df1 = av_api('EARNINGS',av_api, symbol)\n",
    "    print(df1)\n",
    "    df2 = av_api('INCOME_STATEMENT',av_api, symbol)[['fiscalDateEnding','totalRevenue']]\n",
    "    print(df2)\n",
    "    df1 = df1.merge(df2, on='fiscalDateEnding', how='left')\n",
    "    df3 = av_api('BALANCE_SHEET',av_api, symbol)[['fiscalDateEnding','commonStockSharesOutstanding']]\n",
    "    df1 = df1.merge(df3, on='fiscalDateEnding', how='left')\n",
    "\n",
    "    return df1\n",
    "\n",
    "df = get_av_data(\"EXFY\")"
   ]
  },
  {
   "cell_type": "code",
   "execution_count": null,
   "metadata": {},
   "outputs": [],
   "source": [
    "df"
   ]
  },
  {
   "cell_type": "code",
   "execution_count": null,
   "metadata": {},
   "outputs": [],
   "source": [
    "# %%timeit\n",
    "\n",
    "success = 0\n",
    "for i in range(50):\n",
    "    while True:\n",
    "        try:\n",
    "            df1 = av_api('EARNINGS',av_api_basil, 'META')\n",
    "            print(df1.head(1))\n",
    "            success+=1\n",
    "            break\n",
    "        except:\n",
    "            time.sleep(0.001)\n",
    "            continue"
   ]
  },
  {
   "cell_type": "code",
   "execution_count": null,
   "metadata": {},
   "outputs": [],
   "source": [
    "success"
   ]
  },
  {
   "cell_type": "code",
   "execution_count": null,
   "metadata": {},
   "outputs": [],
   "source": [
    "def get_ex_dates(symbol):\n",
    "    symbol = 'META'\n",
    "    tkr = Ticker(symbol)\n",
    "    df = tkr.sec_filings\n",
    "    df = df[(df['type'] == '10-Q') | ((df['type'] == '10-K'))]\n",
    "    df.reset_index(inplace=True)\n",
    "    df = df[['date','title']]\n",
    "    df.rename(columns={'date': 'Ex-Date'}, inplace=True)\n",
    "    return df"
   ]
  },
  {
   "cell_type": "code",
   "execution_count": null,
   "metadata": {},
   "outputs": [],
   "source": [
    "av_api('BALANCE_SHEET', av_api, symbol)"
   ]
  },
  {
   "cell_type": "code",
   "execution_count": null,
   "metadata": {},
   "outputs": [],
   "source": [
    "import yfinance as yf\n",
    "from yahoofinancials import YahooFinancials"
   ]
  },
  {
   "cell_type": "code",
   "execution_count": null,
   "metadata": {},
   "outputs": [],
   "source": [
    "yahoo_financials = YahooFinancials('AAPL')\n",
    "data = yahoo_financials.get_historical_price_data(start_date='2019-01-01', \n",
    "                                                  end_date='2019-12-31', \n",
    "                                                  time_interval='weekly')\n",
    "aapl_df = pd.DataFrame(data['AAPL']['prices'])\n",
    "aapl_df = aapl_df.drop('date', axis=1).set_index('formatted_date')\n",
    "aapl_df.head()"
   ]
  },
  {
   "cell_type": "code",
   "execution_count": null,
   "metadata": {},
   "outputs": [],
   "source": [
    "from __future__ import print_function\n",
    "import time\n",
    "import intrinio_sdk as intrinio\n",
    "from intrinio_sdk.rest import ApiException\n",
    "\n",
    "intrinio.ApiClient().set_api_key('YOUR_API_KEY')\n",
    "intrinio.ApiClient().allow_retries(True)\n",
    "\n",
    "identifier = 'AAPL'\n",
    "page_size = 100\n",
    "next_page = ''\n",
    "\n",
    "response = intrinio.ZacksApi().get_zacks_analyst_ratings(identifier=identifier, page_size=page_size, next_page=next_page)\n",
    "print(response)\n",
    "    "
   ]
  },
  {
   "attachments": {},
   "cell_type": "markdown",
   "metadata": {},
   "source": [
    "##IGNORE FOR NOW\n",
    "\n",
    "    NASDAQ DATALINK - FOR SHORT INTEREST"
   ]
  },
  {
   "cell_type": "code",
   "execution_count": null,
   "metadata": {},
   "outputs": [],
   "source": [
    "ndl_api = 'dys7Lqv_HziWD1ZFk4ry'"
   ]
  },
  {
   "cell_type": "code",
   "execution_count": null,
   "metadata": {},
   "outputs": [],
   "source": [
    "quandl.ApiConfig.api_key = ndl_api"
   ]
  },
  {
   "cell_type": "code",
   "execution_count": null,
   "metadata": {},
   "outputs": [],
   "source": [
    "os.chdir('/Users/yash/Desktop/Trading/intern/Basil/finra_short_interest')"
   ]
  },
  {
   "cell_type": "code",
   "execution_count": null,
   "metadata": {},
   "outputs": [],
   "source": [
    "df2 = pd.read_csv('equityshortinterest_2023_02_26_05_44_02.csv')"
   ]
  },
  {
   "cell_type": "markdown",
   "metadata": {},
   "source": [
    "Q4 Earnings 2022"
   ]
  },
  {
   "cell_type": "code",
   "execution_count": null,
   "metadata": {},
   "outputs": [],
   "source": [
    "df1.to_csv('us_stocks.csv')"
   ]
  },
  {
   "cell_type": "code",
   "execution_count": null,
   "metadata": {},
   "outputs": [],
   "source": [
    "earnings_df = pd.DataFrame(columns=['Symbol', 'Ex-Date', 'title'])"
   ]
  },
  {
   "cell_type": "code",
   "execution_count": null,
   "metadata": {},
   "outputs": [],
   "source": [
    "tickers = df1['Ticker']\n",
    "for t in tickers:\n",
    "    dft = get_ex_dates(t)\n",
    "    dft[\"Date\"] = dft[\"Ex-Date\"].apply(\n",
    "        lambda x: datetime.strptime(x, \"%Y-%m-%d\")\n",
    "    )\n",
    "    dft = dft[dft['Date'] >= datetime(2023,1,1)]\n",
    "    if dft.shape[0] > 0:\n",
    "        earnings_df.loc[len(earnings_df.index)] = [t]+list(dft.iloc[0,1:]) "
   ]
  },
  {
   "cell_type": "code",
   "execution_count": null,
   "metadata": {},
   "outputs": [],
   "source": [
    "import csv\n",
    "import requests\n",
    "\n",
    "# replace the \"demo\" apikey below with your own key from https://www.alphavantage.co/support/#api-key\n",
    "CSV_URL = f'https://www.alphavantage.co/query?function=TIME_SERIES_INTRADAY_EXTENDED&symbol=IBM&interval=1min&slice=year1month1&apikey={av_api}'\n",
    "\n",
    "with requests.Session() as s:\n",
    "    download = s.get(CSV_URL)\n",
    "    decoded_content = download.content.decode('utf-8')\n",
    "    cr = csv.reader(decoded_content.splitlines(), delimiter=',')\n",
    "    my_list = list(cr)\n",
    "    for row in my_list:\n",
    "        print(row)"
   ]
  },
  {
   "cell_type": "code",
   "execution_count": null,
   "metadata": {},
   "outputs": [],
   "source": [
    "import requests\n",
    "from bs4 import BeautifulSoup\n",
    "\n",
    "headers = {\n",
    "    \"User-Agent\": \"Mozilla/5.0 (X11; Ubuntu; Linux x86_64; rv:105.0) Gecko/20100101 Firefox/105.0\"\n",
    "}\n",
    "url = f\"https://finance.yahoo.com/quote/MSFT/analysis?p=MSFT\"\n",
    "soup = BeautifulSoup(requests.get(url, headers=headers).content, \"html5lib\")\n",
    "\n",
    "for table in soup.select(\"table\"):\n",
    "    th_row = [th.text for th in table.find_all(\"th\")]\n",
    "    print(th_row)\n",
    "\n",
    "    for tr in table.select(\"tr:has(td)\"):\n",
    "        td_row = [td.text for td in tr.find_all(\"td\")]\n",
    "        print(td_row)\n",
    "\n",
    "    print()"
   ]
  },
  {
   "cell_type": "code",
   "execution_count": null,
   "metadata": {},
   "outputs": [],
   "source": [
    "df2,e = ek.get_data('GOOGL.O',['TR.RevenueActValue.date','TR.RevenueActValue','TR.EPSActValue'],parameters = {'SDate':'0','EDate':'-5','Period':'FQ0','Frq':'FQ'}) "
   ]
  }
 ],
 "metadata": {
  "kernelspec": {
   "display_name": "Python 3.10.0 64-bit",
   "language": "python",
   "name": "python3"
  },
  "language_info": {
   "codemirror_mode": {
    "name": "ipython",
    "version": 3
   },
   "file_extension": ".py",
   "mimetype": "text/x-python",
   "name": "python",
   "nbconvert_exporter": "python",
   "pygments_lexer": "ipython3",
   "version": "3.10.9"
  },
  "orig_nbformat": 4,
  "vscode": {
   "interpreter": {
    "hash": "369f2c481f4da34e4445cda3fffd2e751bd1c4d706f27375911949ba6bb62e1c"
   }
  }
 },
 "nbformat": 4,
 "nbformat_minor": 2
}
