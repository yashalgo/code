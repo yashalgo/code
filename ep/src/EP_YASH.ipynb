{
 "cells": [
  {
   "cell_type": "code",
   "execution_count": 1,
   "metadata": {},
   "outputs": [],
   "source": [
    "import requests\n",
    "import pandas as pd\n",
    "import utils.misc as misc\n",
    "from config import *\n",
    "import yahoo_fin.stock_info as si\n",
    "from yahooquery import Ticker\n",
    "import quandl\n",
    "import os\n",
    "from datetime import datetime, timedelta\n",
    "from finvizfinance.screener.custom import Custom\n",
    "import time\n",
    "from glob import glob"
   ]
  },
  {
   "cell_type": "code",
   "execution_count": 2,
   "metadata": {},
   "outputs": [],
   "source": [
    "BASE_URL = r\"https://www.alphavantage.co/query?\"\n",
    "# av_api = 'CQLP7J9VZG14Y7O4'\n",
    "av_api2 = 'IHLNUQ0G66C0MJID' #basil"
   ]
  },
  {
   "cell_type": "code",
   "execution_count": 3,
   "metadata": {},
   "outputs": [],
   "source": [
    "request_times = [0] * 180"
   ]
  },
  {
   "cell_type": "code",
   "execution_count": 28,
   "metadata": {},
   "outputs": [],
   "source": [
    "def av_api(func, api_key, symbol):\n",
    "    assert symbol is not None\n",
    "    symbol = symbol.strip().upper()\n",
    "\n",
    "    url = f\"{BASE_URL}function={func}&symbol={symbol}&apikey={api_key}\"\n",
    "    while True:\n",
    "        if time.time() - request_times[-180] <= 60:\n",
    "            time.sleep(1/3)\n",
    "        else:\n",
    "            response = requests.get(url)\n",
    "            request_times.append(time.time())\n",
    "            break\n",
    "    try:\n",
    "        if func == 'EARNINGS':\n",
    "            return pd.DataFrame(response.json()['quarterlyEarnings'])\n",
    "            # except:\n",
    "            #     print(response.json())\n",
    "            #     output = None\n",
    "        elif func == 'BALANCE_SHEET':\n",
    "            # print(response)\n",
    "            # print(response.json())\n",
    "            return pd.DataFrame(response.json()['quarterlyReports'])\n",
    "        elif func == 'INCOME_STATEMENT':\n",
    "            print(response.json())\n",
    "            return pd.DataFrame(response.json()['quarterlyReports'])\n",
    "    except:\n",
    "        print(response.json())\n",
    "        return "
   ]
  },
  {
   "cell_type": "code",
   "execution_count": 29,
   "metadata": {},
   "outputs": [],
   "source": [
    "def get_av_data(symbol, api_key):\n",
    "    #For reported Earnings & Analyst Estimated EPS, totalRevenue, commonStockSharesOutstanding\n",
    "    df1 = av_api('EARNINGS',api_key, symbol)\n",
    "    # print(df1)\n",
    "    df2 = av_api('INCOME_STATEMENT',api_key, symbol)[['fiscalDateEnding','totalRevenue']]\n",
    "    print(df2)\n",
    "    df1 = df1.merge(df2, on='fiscalDateEnding', how='left')\n",
    "    df3 = av_api('BALANCE_SHEET',api_key, symbol)[['fiscalDateEnding','commonStockSharesOutstanding']]\n",
    "    df1 = df1.merge(df3, on='fiscalDateEnding', how='left')\n",
    "\n",
    "    return df1"
   ]
  },
  {
   "cell_type": "code",
   "execution_count": 6,
   "metadata": {},
   "outputs": [],
   "source": [
    "stocks = pd.read_csv('../data/remaining.csv', header=None)"
   ]
  },
  {
   "cell_type": "code",
   "execution_count": 7,
   "metadata": {},
   "outputs": [],
   "source": [
    "us_stocks = pd.read_csv('../data/us_stocks.csv')"
   ]
  },
  {
   "cell_type": "code",
   "execution_count": 8,
   "metadata": {},
   "outputs": [],
   "source": [
    "os.chdir(ep)"
   ]
  },
  {
   "cell_type": "code",
   "execution_count": 9,
   "metadata": {},
   "outputs": [],
   "source": [
    "os.chdir('data')"
   ]
  },
  {
   "cell_type": "code",
   "execution_count": 10,
   "metadata": {},
   "outputs": [
    {
     "data": {
      "text/plain": [
       "'/Users/yash/Desktop/Trading/EP/data'"
      ]
     },
     "execution_count": 10,
     "metadata": {},
     "output_type": "execute_result"
    }
   ],
   "source": [
    "os.getcwd()"
   ]
  },
  {
   "cell_type": "code",
   "execution_count": 23,
   "metadata": {},
   "outputs": [],
   "source": [
    "done_files = glob('*')"
   ]
  },
  {
   "cell_type": "code",
   "execution_count": 24,
   "metadata": {},
   "outputs": [
    {
     "name": "stdout",
     "output_type": "stream",
     "text": [
      "An exception occured: 'fiscalDateEnding' TCBIO Banks - Regional\n",
      "An exception occured: 'fiscalDateEnding' MBINN Banks - Regional\n",
      "An exception occured: 'fiscalDateEnding' JZ Education & Training Services\n",
      "An exception occured: 'fiscalDateEnding' HSAI Auto Parts\n",
      "An exception occured: \"None of [Index(['fiscalDateEnding', 'totalRevenue'], dtype='object')] are in the [columns]\" GRRR Software - Infrastructure\n",
      "An exception occured: \"None of [Index(['fiscalDateEnding', 'totalRevenue'], dtype='object')] are in the [columns]\" CRGO Integrated Freight & Logistics\n",
      "An exception occured: 'fiscalDateEnding' HKD Software - Application\n",
      "An exception occured: 'fiscalDateEnding' IXHL Drug Manufacturers - Specialty & Generic\n",
      "{'Error Message': 'Invalid API call. Please retry or visit the documentation (https://www.alphavantage.co/documentation/) for EARNINGS.'}\n",
      "{'Error Message': 'Invalid API call. Please retry or visit the documentation (https://www.alphavantage.co/documentation/) for INCOME_STATEMENT.'}\n",
      "An exception occured: 'NoneType' object is not subscriptable GET Software - Infrastructure\n",
      "{}\n",
      "{}\n",
      "An exception occured: 'NoneType' object is not subscriptable PAM Utilities - Independent Power Producers\n",
      "An exception occured: 'fiscalDateEnding' RBCP Tools & Accessories\n",
      "An exception occured: 'fiscalDateEnding' ACGLN Insurance - Diversified\n",
      "An exception occured: 'fiscalDateEnding' SBNYP Banks - Regional\n",
      "An exception occured: 'fiscalDateEnding' GRFX Other Industrial Metals & Mining\n",
      "An exception occured: 'fiscalDateEnding' CNTB Biotechnology\n",
      "An exception occured: 'fiscalDateEnding' AGNCL REIT - Mortgage\n",
      "An exception occured: \"None of [Index(['fiscalDateEnding', 'totalRevenue'], dtype='object')] are in the [columns]\" DCFC Electrical Equipment & Parts\n",
      "{'Error Message': 'Invalid API call. Please retry or visit the documentation (https://www.alphavantage.co/documentation/) for EARNINGS.'}\n",
      "{'Error Message': 'Invalid API call. Please retry or visit the documentation (https://www.alphavantage.co/documentation/) for INCOME_STATEMENT.'}\n",
      "An exception occured: 'NoneType' object is not subscriptable EU Uranium\n",
      "An exception occured: 'fiscalDateEnding' MSBIP Banks - Regional\n",
      "An exception occured: 'fiscalDateEnding' CDZIP Utilities - Regulated Water\n",
      "An exception occured: 'fiscalDateEnding' MBINM Banks - Regional\n",
      "An exception occured: 'fiscalDateEnding' TXO Oil & Gas E&P\n",
      "An exception occured: \"None of [Index(['fiscalDateEnding', 'totalRevenue'], dtype='object')] are in the [columns]\" NXT Solar\n",
      "An exception occured: 'fiscalDateEnding' BWBBP Banks - Regional\n",
      "An exception occured: 'fiscalDateEnding' QSG Education & Training Services\n",
      "An exception occured: 'fiscalDateEnding' SIGIP Insurance - Property & Casualty\n",
      "An exception occured: 'fiscalDateEnding' NIMC Utilities - Regulated Gas\n",
      "An exception occured: \"None of [Index(['fiscalDateEnding', 'totalRevenue'], dtype='object')] are in the [columns]\" NWTN Auto Manufacturers\n",
      "{}\n",
      "{}\n",
      "An exception occured: 'NoneType' object is not subscriptable ATLX Other Precious Metals & Mining\n",
      "An exception occured: \"None of [Index(['fiscalDateEnding', 'totalRevenue'], dtype='object')] are in the [columns]\" ECX Auto Parts\n",
      "An exception occured: \"None of [Index(['fiscalDateEnding', 'totalRevenue'], dtype='object')] are in the [columns]\" CACO Marine Shipping\n",
      "An exception occured: 'fiscalDateEnding' PARAP Entertainment\n",
      "An exception occured: 'fiscalDateEnding' APE Entertainment\n",
      "An exception occured: \"None of [Index(['fiscalDateEnding', 'totalRevenue'], dtype='object')] are in the [columns]\" LANV Luxury Goods\n",
      "An exception occured: 'fiscalDateEnding' FTAIN Rental & Leasing Services\n",
      "An exception occured: 'fiscalDateEnding' TOP Capital Markets\n",
      "An exception occured: \"None of [Index(['fiscalDateEnding', 'totalRevenue'], dtype='object')] are in the [columns]\" MLEC Biotechnology\n"
     ]
    }
   ],
   "source": [
    "for s in stocks[1]:\n",
    "    outfile = fr'{s}_DATA.csv'\n",
    "    industry = us_stocks[us_stocks['Ticker'] == s].iloc[0].Industry\n",
    "    # print(str(industry))\n",
    "    if (industry == 'Asset Management'):\n",
    "        # print('Skipping asst mgmt', s)\n",
    "        continue\n",
    "    if outfile in done_files:\n",
    "        # print('Already present', s)\n",
    "        continue\n",
    "    tries = 0\n",
    "    # while True and tries < 5:\n",
    "    #     tries += 1\n",
    "    try:\n",
    "        # print(s)\n",
    "        df = get_av_data(s, av_api2)\n",
    "        df.to_csv(outfile, mode='w', sep=',', header=df.columns)\n",
    "        break\n",
    "    except Exception as e:\n",
    "        print(\"An exception occured: {}\".format(e), s, industry)\n",
    "        time.sleep(1/3)\n",
    "        continue"
   ]
  },
  {
   "cell_type": "code",
   "execution_count": 30,
   "metadata": {},
   "outputs": [
    {
     "name": "stdout",
     "output_type": "stream",
     "text": [
      "{'symbol': 'GRRR', 'annualReports': [{'fiscalDateEnding': '2021-12-31', 'reportedCurrency': 'USD', 'grossProfit': '15774201', 'totalRevenue': '42242863', 'costOfRevenue': '26468662', 'costofGoodsAndServicesSold': '26468662', 'operatingIncome': '-8158259', 'sellingGeneralAndAdministrative': '3430230', 'researchAndDevelopment': '15053175', 'operatingExpenses': '23445044', 'investmentIncomeNet': 'None', 'netInterestIncome': '-628480', 'interestIncome': '37869', 'interestExpense': '666349', 'nonInterestIncome': 'None', 'otherNonOperatingIncome': 'None', 'depreciation': 'None', 'depreciationAndAmortization': '8747008', 'incomeBeforeTax': '-8786739', 'incomeTaxExpense': '-238445', 'interestAndDebtExpense': 'None', 'netIncomeFromContinuingOperations': '-8548294', 'comprehensiveIncomeNetOfTax': 'None', 'ebit': '-8120390', 'ebitda': '626618', 'netIncome': '-8548294'}, {'fiscalDateEnding': '2020-12-31', 'reportedCurrency': 'USD', 'grossProfit': '18555388', 'totalRevenue': '45412589', 'costOfRevenue': '26857201', 'costofGoodsAndServicesSold': '26857201', 'operatingIncome': '-5693913', 'sellingGeneralAndAdministrative': '2932144', 'researchAndDevelopment': '14342826', 'operatingExpenses': '22606120', 'investmentIncomeNet': 'None', 'netInterestIncome': '-301843', 'interestIncome': '159275', 'interestExpense': '461118', 'nonInterestIncome': 'None', 'otherNonOperatingIncome': 'None', 'depreciation': 'None', 'depreciationAndAmortization': '8205556', 'incomeBeforeTax': '-5995756', 'incomeTaxExpense': '-74903', 'interestAndDebtExpense': 'None', 'netIncomeFromContinuingOperations': '-5920853', 'comprehensiveIncomeNetOfTax': 'None', 'ebit': '-5534638', 'ebitda': '2670918', 'netIncome': '-5920853'}, {'fiscalDateEnding': '2019-12-31', 'reportedCurrency': 'USD', 'grossProfit': '18192700', 'totalRevenue': '39265254', 'costOfRevenue': '21072554', 'costofGoodsAndServicesSold': '21072554', 'operatingIncome': '-449221', 'sellingGeneralAndAdministrative': '2611796', 'researchAndDevelopment': '11342919', 'operatingExpenses': '18694104', 'investmentIncomeNet': 'None', 'netInterestIncome': '-114931', 'interestIncome': '353916', 'interestExpense': '468847', 'nonInterestIncome': 'None', 'otherNonOperatingIncome': 'None', 'depreciation': 'None', 'depreciationAndAmortization': '6415116', 'incomeBeforeTax': '-564152', 'incomeTaxExpense': '-28283', 'interestAndDebtExpense': 'None', 'netIncomeFromContinuingOperations': '-535869', 'comprehensiveIncomeNetOfTax': 'None', 'ebit': '-95305', 'ebitda': '6319811', 'netIncome': '-535869'}], 'quarterlyReports': []}\n"
     ]
    },
    {
     "ename": "KeyError",
     "evalue": "\"None of [Index(['fiscalDateEnding', 'totalRevenue'], dtype='object')] are in the [columns]\"",
     "output_type": "error",
     "traceback": [
      "\u001b[0;31m---------------------------------------------------------------------------\u001b[0m",
      "\u001b[0;31mKeyError\u001b[0m                                  Traceback (most recent call last)",
      "Cell \u001b[0;32mIn[30], line 1\u001b[0m\n\u001b[0;32m----> 1\u001b[0m get_av_data(\u001b[39m'\u001b[39;49m\u001b[39mGRRR\u001b[39;49m\u001b[39m'\u001b[39;49m, av_api2)\n",
      "Cell \u001b[0;32mIn[29], line 5\u001b[0m, in \u001b[0;36mget_av_data\u001b[0;34m(symbol, api_key)\u001b[0m\n\u001b[1;32m      3\u001b[0m df1 \u001b[39m=\u001b[39m av_api(\u001b[39m'\u001b[39m\u001b[39mEARNINGS\u001b[39m\u001b[39m'\u001b[39m,api_key, symbol)\n\u001b[1;32m      4\u001b[0m \u001b[39m# print(df1)\u001b[39;00m\n\u001b[0;32m----> 5\u001b[0m df2 \u001b[39m=\u001b[39m av_api(\u001b[39m'\u001b[39;49m\u001b[39mINCOME_STATEMENT\u001b[39;49m\u001b[39m'\u001b[39;49m,api_key, symbol)[[\u001b[39m'\u001b[39;49m\u001b[39mfiscalDateEnding\u001b[39;49m\u001b[39m'\u001b[39;49m,\u001b[39m'\u001b[39;49m\u001b[39mtotalRevenue\u001b[39;49m\u001b[39m'\u001b[39;49m]]\n\u001b[1;32m      6\u001b[0m \u001b[39mprint\u001b[39m(df2)\n\u001b[1;32m      7\u001b[0m df1 \u001b[39m=\u001b[39m df1\u001b[39m.\u001b[39mmerge(df2, on\u001b[39m=\u001b[39m\u001b[39m'\u001b[39m\u001b[39mfiscalDateEnding\u001b[39m\u001b[39m'\u001b[39m, how\u001b[39m=\u001b[39m\u001b[39m'\u001b[39m\u001b[39mleft\u001b[39m\u001b[39m'\u001b[39m)\n",
      "File \u001b[0;32m/opt/homebrew/lib/python3.10/site-packages/pandas/core/frame.py:3811\u001b[0m, in \u001b[0;36mDataFrame.__getitem__\u001b[0;34m(self, key)\u001b[0m\n\u001b[1;32m   3809\u001b[0m     \u001b[39mif\u001b[39;00m is_iterator(key):\n\u001b[1;32m   3810\u001b[0m         key \u001b[39m=\u001b[39m \u001b[39mlist\u001b[39m(key)\n\u001b[0;32m-> 3811\u001b[0m     indexer \u001b[39m=\u001b[39m \u001b[39mself\u001b[39;49m\u001b[39m.\u001b[39;49mcolumns\u001b[39m.\u001b[39;49m_get_indexer_strict(key, \u001b[39m\"\u001b[39;49m\u001b[39mcolumns\u001b[39;49m\u001b[39m\"\u001b[39;49m)[\u001b[39m1\u001b[39m]\n\u001b[1;32m   3813\u001b[0m \u001b[39m# take() does not accept boolean indexers\u001b[39;00m\n\u001b[1;32m   3814\u001b[0m \u001b[39mif\u001b[39;00m \u001b[39mgetattr\u001b[39m(indexer, \u001b[39m\"\u001b[39m\u001b[39mdtype\u001b[39m\u001b[39m\"\u001b[39m, \u001b[39mNone\u001b[39;00m) \u001b[39m==\u001b[39m \u001b[39mbool\u001b[39m:\n",
      "File \u001b[0;32m/opt/homebrew/lib/python3.10/site-packages/pandas/core/indexes/base.py:6113\u001b[0m, in \u001b[0;36mIndex._get_indexer_strict\u001b[0;34m(self, key, axis_name)\u001b[0m\n\u001b[1;32m   6110\u001b[0m \u001b[39melse\u001b[39;00m:\n\u001b[1;32m   6111\u001b[0m     keyarr, indexer, new_indexer \u001b[39m=\u001b[39m \u001b[39mself\u001b[39m\u001b[39m.\u001b[39m_reindex_non_unique(keyarr)\n\u001b[0;32m-> 6113\u001b[0m \u001b[39mself\u001b[39;49m\u001b[39m.\u001b[39;49m_raise_if_missing(keyarr, indexer, axis_name)\n\u001b[1;32m   6115\u001b[0m keyarr \u001b[39m=\u001b[39m \u001b[39mself\u001b[39m\u001b[39m.\u001b[39mtake(indexer)\n\u001b[1;32m   6116\u001b[0m \u001b[39mif\u001b[39;00m \u001b[39misinstance\u001b[39m(key, Index):\n\u001b[1;32m   6117\u001b[0m     \u001b[39m# GH 42790 - Preserve name from an Index\u001b[39;00m\n",
      "File \u001b[0;32m/opt/homebrew/lib/python3.10/site-packages/pandas/core/indexes/base.py:6173\u001b[0m, in \u001b[0;36mIndex._raise_if_missing\u001b[0;34m(self, key, indexer, axis_name)\u001b[0m\n\u001b[1;32m   6171\u001b[0m     \u001b[39mif\u001b[39;00m use_interval_msg:\n\u001b[1;32m   6172\u001b[0m         key \u001b[39m=\u001b[39m \u001b[39mlist\u001b[39m(key)\n\u001b[0;32m-> 6173\u001b[0m     \u001b[39mraise\u001b[39;00m \u001b[39mKeyError\u001b[39;00m(\u001b[39mf\u001b[39m\u001b[39m\"\u001b[39m\u001b[39mNone of [\u001b[39m\u001b[39m{\u001b[39;00mkey\u001b[39m}\u001b[39;00m\u001b[39m] are in the [\u001b[39m\u001b[39m{\u001b[39;00maxis_name\u001b[39m}\u001b[39;00m\u001b[39m]\u001b[39m\u001b[39m\"\u001b[39m)\n\u001b[1;32m   6175\u001b[0m not_found \u001b[39m=\u001b[39m \u001b[39mlist\u001b[39m(ensure_index(key)[missing_mask\u001b[39m.\u001b[39mnonzero()[\u001b[39m0\u001b[39m]]\u001b[39m.\u001b[39munique())\n\u001b[1;32m   6176\u001b[0m \u001b[39mraise\u001b[39;00m \u001b[39mKeyError\u001b[39;00m(\u001b[39mf\u001b[39m\u001b[39m\"\u001b[39m\u001b[39m{\u001b[39;00mnot_found\u001b[39m}\u001b[39;00m\u001b[39m not in index\u001b[39m\u001b[39m\"\u001b[39m)\n",
      "\u001b[0;31mKeyError\u001b[0m: \"None of [Index(['fiscalDateEnding', 'totalRevenue'], dtype='object')] are in the [columns]\""
     ]
    }
   ],
   "source": [
    "get_av_data('GRRR', av_api2)"
   ]
  },
  {
   "cell_type": "code",
   "execution_count": 13,
   "metadata": {},
   "outputs": [],
   "source": [
    "def get_ex_dates(symbol):\n",
    "    symbol = 'META'\n",
    "    tkr = Ticker(symbol)\n",
    "    df = tkr.sec_filings\n",
    "    df = df[(df['type'] == '10-Q') | ((df['type'] == '10-K'))]\n",
    "    df.reset_index(inplace=True)\n",
    "    df = df[['date','title']]\n",
    "    df.rename(columns={'date': 'Ex-Date'}, inplace=True)\n",
    "    return df"
   ]
  },
  {
   "cell_type": "code",
   "execution_count": null,
   "metadata": {},
   "outputs": [],
   "source": [
    "av_api('BALANCE_SHEET', av_api, symbol)"
   ]
  },
  {
   "cell_type": "code",
   "execution_count": null,
   "metadata": {},
   "outputs": [],
   "source": [
    "import yfinance as yf\n",
    "from yahoofinancials import YahooFinancials"
   ]
  },
  {
   "cell_type": "code",
   "execution_count": null,
   "metadata": {},
   "outputs": [],
   "source": [
    "yahoo_financials = YahooFinancials('AAPL')\n",
    "data = yahoo_financials.get_historical_price_data(start_date='2019-01-01', \n",
    "                                                  end_date='2019-12-31', \n",
    "                                                  time_interval='weekly')\n",
    "aapl_df = pd.DataFrame(data['AAPL']['prices'])\n",
    "aapl_df = aapl_df.drop('date', axis=1).set_index('formatted_date')\n",
    "aapl_df.head()"
   ]
  },
  {
   "cell_type": "code",
   "execution_count": null,
   "metadata": {},
   "outputs": [],
   "source": [
    "from __future__ import print_function\n",
    "import time\n",
    "import intrinio_sdk as intrinio\n",
    "from intrinio_sdk.rest import ApiException\n",
    "\n",
    "intrinio.ApiClient().set_api_key('YOUR_API_KEY')\n",
    "intrinio.ApiClient().allow_retries(True)\n",
    "\n",
    "identifier = 'AAPL'\n",
    "page_size = 100\n",
    "next_page = ''\n",
    "\n",
    "response = intrinio.ZacksApi().get_zacks_analyst_ratings(identifier=identifier, page_size=page_size, next_page=next_page)\n",
    "print(response)\n",
    "    "
   ]
  },
  {
   "attachments": {},
   "cell_type": "markdown",
   "metadata": {},
   "source": [
    "##IGNORE FOR NOW\n",
    "\n",
    "    NASDAQ DATALINK - FOR SHORT INTEREST"
   ]
  },
  {
   "cell_type": "code",
   "execution_count": null,
   "metadata": {},
   "outputs": [],
   "source": [
    "ndl_api = 'dys7Lqv_HziWD1ZFk4ry'"
   ]
  },
  {
   "cell_type": "code",
   "execution_count": null,
   "metadata": {},
   "outputs": [],
   "source": [
    "quandl.ApiConfig.api_key = ndl_api"
   ]
  },
  {
   "cell_type": "code",
   "execution_count": null,
   "metadata": {},
   "outputs": [],
   "source": [
    "os.chdir('/Users/yash/Desktop/Trading/intern/Basil/finra_short_interest')"
   ]
  },
  {
   "cell_type": "code",
   "execution_count": null,
   "metadata": {},
   "outputs": [],
   "source": [
    "df2 = pd.read_csv('equityshortinterest_2023_02_26_05_44_02.csv')"
   ]
  },
  {
   "cell_type": "markdown",
   "metadata": {},
   "source": [
    "Q4 Earnings 2022"
   ]
  },
  {
   "cell_type": "code",
   "execution_count": null,
   "metadata": {},
   "outputs": [],
   "source": [
    "df1.to_csv('us_stocks.csv')"
   ]
  },
  {
   "cell_type": "code",
   "execution_count": null,
   "metadata": {},
   "outputs": [],
   "source": [
    "earnings_df = pd.DataFrame(columns=['Symbol', 'Ex-Date', 'title'])"
   ]
  },
  {
   "cell_type": "code",
   "execution_count": null,
   "metadata": {},
   "outputs": [],
   "source": [
    "tickers = df1['Ticker']\n",
    "for t in tickers:\n",
    "    dft = get_ex_dates(t)\n",
    "    dft[\"Date\"] = dft[\"Ex-Date\"].apply(\n",
    "        lambda x: datetime.strptime(x, \"%Y-%m-%d\")\n",
    "    )\n",
    "    dft = dft[dft['Date'] >= datetime(2023,1,1)]\n",
    "    if dft.shape[0] > 0:\n",
    "        earnings_df.loc[len(earnings_df.index)] = [t]+list(dft.iloc[0,1:]) "
   ]
  },
  {
   "cell_type": "code",
   "execution_count": null,
   "metadata": {},
   "outputs": [],
   "source": [
    "import csv\n",
    "import requests\n",
    "\n",
    "# replace the \"demo\" apikey below with your own key from https://www.alphavantage.co/support/#api-key\n",
    "CSV_URL = f'https://www.alphavantage.co/query?function=TIME_SERIES_INTRADAY_EXTENDED&symbol=IBM&interval=1min&slice=year1month1&apikey={av_api}'\n",
    "\n",
    "with requests.Session() as s:\n",
    "    download = s.get(CSV_URL)\n",
    "    decoded_content = download.content.decode('utf-8')\n",
    "    cr = csv.reader(decoded_content.splitlines(), delimiter=',')\n",
    "    my_list = list(cr)\n",
    "    for row in my_list:\n",
    "        print(row)"
   ]
  },
  {
   "cell_type": "code",
   "execution_count": null,
   "metadata": {},
   "outputs": [],
   "source": [
    "import requests\n",
    "from bs4 import BeautifulSoup\n",
    "\n",
    "headers = {\n",
    "    \"User-Agent\": \"Mozilla/5.0 (X11; Ubuntu; Linux x86_64; rv:105.0) Gecko/20100101 Firefox/105.0\"\n",
    "}\n",
    "url = f\"https://finance.yahoo.com/quote/MSFT/analysis?p=MSFT\"\n",
    "soup = BeautifulSoup(requests.get(url, headers=headers).content, \"html5lib\")\n",
    "\n",
    "for table in soup.select(\"table\"):\n",
    "    th_row = [th.text for th in table.find_all(\"th\")]\n",
    "    print(th_row)\n",
    "\n",
    "    for tr in table.select(\"tr:has(td)\"):\n",
    "        td_row = [td.text for td in tr.find_all(\"td\")]\n",
    "        print(td_row)\n",
    "\n",
    "    print()"
   ]
  },
  {
   "cell_type": "code",
   "execution_count": null,
   "metadata": {},
   "outputs": [],
   "source": [
    "df2,e = ek.get_data('GOOGL.O',['TR.RevenueActValue.date','TR.RevenueActValue','TR.EPSActValue'],parameters = {'SDate':'0','EDate':'-5','Period':'FQ0','Frq':'FQ'}) "
   ]
  }
 ],
 "metadata": {
  "kernelspec": {
   "display_name": "Python 3.10.0 64-bit",
   "language": "python",
   "name": "python3"
  },
  "language_info": {
   "codemirror_mode": {
    "name": "ipython",
    "version": 3
   },
   "file_extension": ".py",
   "mimetype": "text/x-python",
   "name": "python",
   "nbconvert_exporter": "python",
   "pygments_lexer": "ipython3",
   "version": "3.10.0"
  },
  "orig_nbformat": 4,
  "vscode": {
   "interpreter": {
    "hash": "369f2c481f4da34e4445cda3fffd2e751bd1c4d706f27375911949ba6bb62e1c"
   }
  }
 },
 "nbformat": 4,
 "nbformat_minor": 2
}
