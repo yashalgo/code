{
 "cells": [
  {
   "cell_type": "code",
   "execution_count": 15,
   "metadata": {},
   "outputs": [],
   "source": [
    "import requests\n",
    "import pandas as pd\n",
    "import utils.misc as misc\n",
    "from config import *\n",
    "import yahoo_fin.stock_info as si\n",
    "from yahooquery import Ticker\n",
    "import quandl\n",
    "import os\n",
    "from datetime import datetime, timedelta\n",
    "from finvizfinance.screener.custom import Custom\n",
    "import time\n",
    "from glob import glob"
   ]
  },
  {
   "cell_type": "code",
   "execution_count": 16,
   "metadata": {},
   "outputs": [],
   "source": [
    "BASE_URL = r\"https://www.alphavantage.co/query?\"\n",
    "# av_api = 'CQLP7J9VZG14Y7O4'\n",
    "av_api2 = 'IHLNUQ0G66C0MJID' #basil"
   ]
  },
  {
   "cell_type": "code",
   "execution_count": 17,
   "metadata": {},
   "outputs": [],
   "source": [
    "request_times = [0] * 180"
   ]
  },
  {
   "cell_type": "code",
   "execution_count": 18,
   "metadata": {},
   "outputs": [],
   "source": [
    "def av_api(func, api_key, symbol):\n",
    "    assert symbol is not None\n",
    "    symbol = symbol.strip().upper()\n",
    "\n",
    "    url = f\"{BASE_URL}function={func}&symbol={symbol}&apikey={api_key}\"\n",
    "    while True:\n",
    "        if time.time() - request_times[-180] <= 60:\n",
    "            time.sleep(1/3)\n",
    "        else:\n",
    "            response = requests.get(url)\n",
    "            request_times.append(time.time())\n",
    "            break\n",
    "    try:\n",
    "        if func == 'EARNINGS':\n",
    "            return pd.DataFrame(response.json()['quarterlyEarnings'])\n",
    "            # except:\n",
    "            #     print(response.json())\n",
    "            #     output = None\n",
    "        elif func == 'BALANCE_SHEET':\n",
    "            # print(response)\n",
    "            # print(response.json())\n",
    "            return pd.DataFrame(response.json()['quarterlyReports'])\n",
    "        elif func == 'INCOME_STATEMENT':\n",
    "            print(response.json())\n",
    "            return pd.DataFrame(response.json()['quarterlyReports'])\n",
    "    except:\n",
    "        print(response.json())\n",
    "        return "
   ]
  },
  {
   "cell_type": "code",
   "execution_count": 19,
   "metadata": {},
   "outputs": [],
   "source": [
    "def get_av_data(symbol, api_key):\n",
    "    #For reported Earnings & Analyst Estimated EPS, totalRevenue, commonStockSharesOutstanding\n",
    "    df1 = av_api('EARNINGS',api_key, symbol)\n",
    "    # print(df1)\n",
    "    df2 = av_api('INCOME_STATEMENT',api_key, symbol)[['fiscalDateEnding','totalRevenue']]\n",
    "    print(df2)\n",
    "    df1 = df1.merge(df2, on='fiscalDateEnding', how='left')\n",
    "    df3 = av_api('BALANCE_SHEET',api_key, symbol)[['fiscalDateEnding','commonStockSharesOutstanding']]\n",
    "    df1 = df1.merge(df3, on='fiscalDateEnding', how='left')\n",
    "\n",
    "    return df1"
   ]
  },
  {
   "cell_type": "code",
   "execution_count": null,
   "metadata": {},
   "outputs": [],
   "source": [
    "stocks = pd.read_csv('../data/remaining.csv', header=None)"
   ]
  },
  {
   "cell_type": "code",
   "execution_count": null,
   "metadata": {},
   "outputs": [],
   "source": [
    "us_stocks = pd.read_csv('../data/us_stocks.csv')"
   ]
  },
  {
   "cell_type": "code",
   "execution_count": null,
   "metadata": {},
   "outputs": [],
   "source": [
    "os.chdir(ep)"
   ]
  },
  {
   "cell_type": "code",
   "execution_count": null,
   "metadata": {},
   "outputs": [],
   "source": [
    "os.chdir('data')"
   ]
  },
  {
   "cell_type": "code",
   "execution_count": null,
   "metadata": {},
   "outputs": [],
   "source": [
    "os.getcwd()"
   ]
  },
  {
   "cell_type": "code",
   "execution_count": null,
   "metadata": {},
   "outputs": [],
   "source": [
    "done_files = glob('*')"
   ]
  },
  {
   "cell_type": "code",
   "execution_count": null,
   "metadata": {},
   "outputs": [],
   "source": [
    "for s in stocks[1]:\n",
    "    outfile = fr'{s}_DATA.csv'\n",
    "    industry = us_stocks[us_stocks['Ticker'] == s].iloc[0].Industry\n",
    "    # print(str(industry))\n",
    "    if (industry == 'Asset Management'):\n",
    "        # print('Skipping asst mgmt', s)\n",
    "        continue\n",
    "    if outfile in done_files:\n",
    "        # print('Already present', s)\n",
    "        continue\n",
    "    tries = 0\n",
    "    # while True and tries < 5:\n",
    "    #     tries += 1\n",
    "    try:\n",
    "        # print(s)\n",
    "        df = get_av_data(s, av_api2)\n",
    "        df.to_csv(outfile, mode='w', sep=',', header=df.columns)\n",
    "        break\n",
    "    except Exception as e:\n",
    "        print(\"An exception occured: {}\".format(e), s, industry)\n",
    "        time.sleep(1/3)\n",
    "        continue"
   ]
  },
  {
   "cell_type": "code",
   "execution_count": null,
   "metadata": {},
   "outputs": [],
   "source": [
    "get_av_data('GRRR', av_api2)"
   ]
  },
  {
   "cell_type": "code",
   "execution_count": null,
   "metadata": {},
   "outputs": [],
   "source": [
    "def get_ex_dates(symbol):\n",
    "    symbol = 'META'\n",
    "    tkr = Ticker(symbol)\n",
    "    df = tkr.sec_filings\n",
    "    df = df[(df['type'] == '10-Q') | ((df['type'] == '10-K'))]\n",
    "    df.reset_index(inplace=True)\n",
    "    df = df[['date','title']]\n",
    "    df.rename(columns={'date': 'Ex-Date'}, inplace=True)\n",
    "    return df"
   ]
  },
  {
   "cell_type": "code",
   "execution_count": null,
   "metadata": {},
   "outputs": [],
   "source": [
    "av_api('BALANCE_SHEET', av_api, symbol)"
   ]
  },
  {
   "cell_type": "code",
   "execution_count": null,
   "metadata": {},
   "outputs": [],
   "source": [
    "import yfinance as yf\n",
    "from yahoofinancials import YahooFinancials"
   ]
  },
  {
   "cell_type": "code",
   "execution_count": null,
   "metadata": {},
   "outputs": [],
   "source": [
    "yahoo_financials = YahooFinancials('AAPL')\n",
    "data = yahoo_financials.get_historical_price_data(start_date='2019-01-01', \n",
    "                                                  end_date='2019-12-31', \n",
    "                                                  time_interval='weekly')\n",
    "aapl_df = pd.DataFrame(data['AAPL']['prices'])\n",
    "aapl_df = aapl_df.drop('date', axis=1).set_index('formatted_date')\n",
    "aapl_df.head()"
   ]
  },
  {
   "cell_type": "code",
   "execution_count": null,
   "metadata": {},
   "outputs": [],
   "source": [
    "from __future__ import print_function\n",
    "import time\n",
    "import intrinio_sdk as intrinio\n",
    "from intrinio_sdk.rest import ApiException\n",
    "\n",
    "intrinio.ApiClient().set_api_key('YOUR_API_KEY')\n",
    "intrinio.ApiClient().allow_retries(True)\n",
    "\n",
    "identifier = 'AAPL'\n",
    "page_size = 100\n",
    "next_page = ''\n",
    "\n",
    "response = intrinio.ZacksApi().get_zacks_analyst_ratings(identifier=identifier, page_size=page_size, next_page=next_page)\n",
    "print(response)\n",
    "    "
   ]
  },
  {
   "attachments": {},
   "cell_type": "markdown",
   "metadata": {},
   "source": [
    "##IGNORE FOR NOW\n",
    "\n",
    "    NASDAQ DATALINK - FOR SHORT INTEREST"
   ]
  },
  {
   "cell_type": "code",
   "execution_count": null,
   "metadata": {},
   "outputs": [],
   "source": [
    "ndl_api = 'dys7Lqv_HziWD1ZFk4ry'"
   ]
  },
  {
   "cell_type": "code",
   "execution_count": null,
   "metadata": {},
   "outputs": [],
   "source": [
    "quandl.ApiConfig.api_key = ndl_api"
   ]
  },
  {
   "cell_type": "code",
   "execution_count": null,
   "metadata": {},
   "outputs": [],
   "source": [
    "os.chdir('/Users/yash/Desktop/Trading/intern/Basil/finra_short_interest')"
   ]
  },
  {
   "cell_type": "code",
   "execution_count": null,
   "metadata": {},
   "outputs": [],
   "source": [
    "df2 = pd.read_csv('equityshortinterest_2023_02_26_05_44_02.csv')"
   ]
  },
  {
   "cell_type": "markdown",
   "metadata": {},
   "source": [
    "Q4 Earnings 2022"
   ]
  },
  {
   "cell_type": "code",
   "execution_count": null,
   "metadata": {},
   "outputs": [],
   "source": [
    "df1.to_csv('us_stocks.csv')"
   ]
  },
  {
   "cell_type": "code",
   "execution_count": null,
   "metadata": {},
   "outputs": [],
   "source": [
    "earnings_df = pd.DataFrame(columns=['Symbol', 'Ex-Date', 'title'])"
   ]
  },
  {
   "cell_type": "code",
   "execution_count": null,
   "metadata": {},
   "outputs": [],
   "source": [
    "tickers = df1['Ticker']\n",
    "for t in tickers:\n",
    "    dft = get_ex_dates(t)\n",
    "    dft[\"Date\"] = dft[\"Ex-Date\"].apply(\n",
    "        lambda x: datetime.strptime(x, \"%Y-%m-%d\")\n",
    "    )\n",
    "    dft = dft[dft['Date'] >= datetime(2023,1,1)]\n",
    "    if dft.shape[0] > 0:\n",
    "        earnings_df.loc[len(earnings_df.index)] = [t]+list(dft.iloc[0,1:]) "
   ]
  },
  {
   "cell_type": "code",
   "execution_count": null,
   "metadata": {},
   "outputs": [],
   "source": [
    "import csv\n",
    "import requests\n",
    "\n",
    "# replace the \"demo\" apikey below with your own key from https://www.alphavantage.co/support/#api-key\n",
    "CSV_URL = f'https://www.alphavantage.co/query?function=TIME_SERIES_INTRADAY_EXTENDED&symbol=IBM&interval=1min&slice=year1month1&apikey={av_api}'\n",
    "\n",
    "with requests.Session() as s:\n",
    "    download = s.get(CSV_URL)\n",
    "    decoded_content = download.content.decode('utf-8')\n",
    "    cr = csv.reader(decoded_content.splitlines(), delimiter=',')\n",
    "    my_list = list(cr)\n",
    "    for row in my_list:\n",
    "        print(row)"
   ]
  },
  {
   "attachments": {},
   "cell_type": "markdown",
   "metadata": {},
   "source": [
    "FINNHUB"
   ]
  },
  {
   "cell_type": "code",
   "execution_count": 8,
   "metadata": {},
   "outputs": [
    {
     "name": "stderr",
     "output_type": "stream",
     "text": [
      "\n",
      "[notice] A new release of pip available: 22.3.1 -> 23.0.1\n",
      "[notice] To update, run: python3.10 -m pip install --upgrade pip\n"
     ]
    }
   ],
   "source": [
    "misc.install_package({'finnhub-python'})"
   ]
  }
 ],
 "metadata": {
  "kernelspec": {
   "display_name": "Python 3.10.0 64-bit",
   "language": "python",
   "name": "python3"
  },
  "language_info": {
   "codemirror_mode": {
    "name": "ipython",
    "version": 3
   },
   "file_extension": ".py",
   "mimetype": "text/x-python",
   "name": "python",
   "nbconvert_exporter": "python",
   "pygments_lexer": "ipython3",
   "version": "3.10.0"
  },
  "orig_nbformat": 4,
  "vscode": {
   "interpreter": {
    "hash": "369f2c481f4da34e4445cda3fffd2e751bd1c4d706f27375911949ba6bb62e1c"
   }
  }
 },
 "nbformat": 4,
 "nbformat_minor": 2
}
