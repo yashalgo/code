{
 "cells": [
  {
   "cell_type": "code",
   "execution_count": 8,
   "metadata": {},
   "outputs": [],
   "source": [
    "import pandas as pd\n",
    "from config import *\n",
    "import os\n",
    "from datetime import datetime\n",
    "from finvizfinance.screener.custom import Custom\n",
    "import utils.tradingview as tv"
   ]
  },
  {
   "cell_type": "code",
   "execution_count": 9,
   "metadata": {},
   "outputs": [
    {
     "name": "stdout",
     "output_type": "stream",
     "text": [
      "No ticker found.\n"
     ]
    },
    {
     "ename": "AttributeError",
     "evalue": "'NoneType' object has no attribute 'shape'",
     "output_type": "error",
     "traceback": [
      "\u001b[0;31m---------------------------------------------------------------------------\u001b[0m",
      "\u001b[0;31mAttributeError\u001b[0m                            Traceback (most recent call last)",
      "Cell \u001b[0;32mIn[9], line 12\u001b[0m\n\u001b[1;32m     10\u001b[0m fcustom\u001b[39m.\u001b[39mset_filter(filters_dict\u001b[39m=\u001b[39mfilters_dict1)\n\u001b[1;32m     11\u001b[0m df1 \u001b[39m=\u001b[39m fcustom\u001b[39m.\u001b[39mscreener_view(columns\u001b[39m=\u001b[39mcols, sleep_sec \u001b[39m=\u001b[39m \u001b[39m1\u001b[39m, order\u001b[39m=\u001b[39m \u001b[39m'\u001b[39m\u001b[39mPerformance (Month)\u001b[39m\u001b[39m'\u001b[39m, ascend\u001b[39m=\u001b[39m\u001b[39mFalse\u001b[39;00m)\n\u001b[0;32m---> 12\u001b[0m \u001b[39mprint\u001b[39m(df1\u001b[39m.\u001b[39;49mshape[\u001b[39m0\u001b[39m], \u001b[39m'\u001b[39m\u001b[39m\\n\u001b[39;00m\u001b[39m'\u001b[39m)\n\u001b[1;32m     14\u001b[0m fcustom\u001b[39m.\u001b[39mset_filter(filters_dict\u001b[39m=\u001b[39mfilters_dict2)\n\u001b[1;32m     15\u001b[0m df2 \u001b[39m=\u001b[39m fcustom\u001b[39m.\u001b[39mscreener_view(columns\u001b[39m=\u001b[39mcols, sleep_sec \u001b[39m=\u001b[39m \u001b[39m1\u001b[39m, order\u001b[39m=\u001b[39m \u001b[39m'\u001b[39m\u001b[39mPerformance (Month)\u001b[39m\u001b[39m'\u001b[39m, ascend\u001b[39m=\u001b[39m\u001b[39mFalse\u001b[39;00m)\n",
      "\u001b[0;31mAttributeError\u001b[0m: 'NoneType' object has no attribute 'shape'"
     ]
    }
   ],
   "source": [
    "#SCREENER\n",
    "fcustom = Custom()\n",
    "cols = [0,1,2,3,4,6,43,44,45,51,52,53,63,65,68]\n",
    "# vol1 = 'Month - Over 3%'\n",
    "# perf1 = 'Month +10%'\n",
    "mcap = '+Micro (over $50mln)'\n",
    "filters_dict1 = {'Market Cap.': mcap, 'Earnings Date': 'Yesterday After Market Close'}\n",
    "filters_dict2 = {'Market Cap.': mcap, 'Earnings Date': 'Today Before Market Open'}\n",
    "\n",
    "fcustom.set_filter(filters_dict=filters_dict1)\n",
    "df1 = fcustom.screener_view(columns=cols, sleep_sec = 1, order= 'Performance (Month)', ascend=False)\n",
    "print(df1.shape[0], '\\n')\n",
    "\n",
    "fcustom.set_filter(filters_dict=filters_dict2)\n",
    "df2 = fcustom.screener_view(columns=cols, sleep_sec = 1, order= 'Performance (Month)', ascend=False)\n",
    "print(df2.shape[0], '\\n')"
   ]
  },
  {
   "cell_type": "code",
   "execution_count": 3,
   "metadata": {},
   "outputs": [],
   "source": [
    "os.chdir(ep_wl)"
   ]
  },
  {
   "cell_type": "code",
   "execution_count": 16,
   "metadata": {},
   "outputs": [
    {
     "ename": "TypeError",
     "evalue": "'NoneType' object is not subscriptable",
     "output_type": "error",
     "traceback": [
      "\u001b[0;31m---------------------------------------------------------------------------\u001b[0m",
      "\u001b[0;31mTypeError\u001b[0m                                 Traceback (most recent call last)",
      "Cell \u001b[0;32mIn[16], line 1\u001b[0m\n\u001b[0;32m----> 1\u001b[0m s1 \u001b[39m=\u001b[39m \u001b[39mset\u001b[39m(df1[\u001b[39m'\u001b[39;49m\u001b[39mTicker\u001b[39;49m\u001b[39m'\u001b[39;49m])\n\u001b[1;32m      2\u001b[0m s2 \u001b[39m=\u001b[39m \u001b[39mset\u001b[39m(df2[\u001b[39m'\u001b[39m\u001b[39mTicker\u001b[39m\u001b[39m'\u001b[39m])\n\u001b[1;32m      3\u001b[0m \u001b[39m# tv.set_to_tv(s1, datetime.today().strftime('%Y%m%d') + '_AMC.txt')\u001b[39;00m\n",
      "\u001b[0;31mTypeError\u001b[0m: 'NoneType' object is not subscriptable"
     ]
    }
   ],
   "source": [
    "s1 = set(df1['Ticker'])\n",
    "s2 = set(df2['Ticker'])\n",
    "# tv.set_to_tv(s1, datetime.today().strftime('%Y%m%d') + '_AMC.txt')"
   ]
  },
  {
   "cell_type": "code",
   "execution_count": 19,
   "metadata": {},
   "outputs": [
    {
     "ename": "AttributeError",
     "evalue": "'int' object has no attribute 'replace'",
     "output_type": "error",
     "traceback": [
      "\u001b[0;31m---------------------------------------------------------------------------\u001b[0m",
      "\u001b[0;31mAttributeError\u001b[0m                            Traceback (most recent call last)",
      "Cell \u001b[0;32mIn[19], line 2\u001b[0m\n\u001b[1;32m      1\u001b[0m s1\u001b[39m.\u001b[39mupdate(s2)\n\u001b[0;32m----> 2\u001b[0m tv\u001b[39m.\u001b[39;49mset_to_tv(s1, datetime\u001b[39m.\u001b[39;49mtoday()\u001b[39m.\u001b[39;49mstrftime(\u001b[39m'\u001b[39;49m\u001b[39m%\u001b[39;49m\u001b[39mY\u001b[39;49m\u001b[39m%\u001b[39;49m\u001b[39mm\u001b[39;49m\u001b[39m%d\u001b[39;49;00m\u001b[39m'\u001b[39;49m) \u001b[39m+\u001b[39;49m \u001b[39m'\u001b[39;49m\u001b[39m_EP.txt\u001b[39;49m\u001b[39m'\u001b[39;49m)\n",
      "File \u001b[0;32m/opt/homebrew/lib/python3.10/site-packages/utils-0.1-py3.10.egg/utils/tradingview.py:5\u001b[0m, in \u001b[0;36mset_to_tv\u001b[0;34m(s, outfile)\u001b[0m\n\u001b[1;32m      4\u001b[0m \u001b[39mdef\u001b[39;00m \u001b[39mset_to_tv\u001b[39m(s, outfile):\n\u001b[0;32m----> 5\u001b[0m     s \u001b[39m=\u001b[39m {x\u001b[39m.\u001b[39mreplace(\u001b[39m\"\u001b[39m\u001b[39m&\u001b[39m\u001b[39m\"\u001b[39m, \u001b[39m\"\u001b[39m\u001b[39m_\u001b[39m\u001b[39m\"\u001b[39m)\u001b[39m.\u001b[39mreplace(\u001b[39m\"\u001b[39m\u001b[39m-\u001b[39m\u001b[39m\"\u001b[39m, \u001b[39m\"\u001b[39m\u001b[39m_\u001b[39m\u001b[39m\"\u001b[39m) \u001b[39mfor\u001b[39;00m x \u001b[39min\u001b[39;00m s}\n\u001b[1;32m      6\u001b[0m     tv_string \u001b[39m=\u001b[39m \u001b[39m\"\u001b[39m\u001b[39m,\u001b[39m\u001b[39m\"\u001b[39m\u001b[39m.\u001b[39mjoin(\u001b[39mlist\u001b[39m(s))\n\u001b[1;32m      7\u001b[0m     \u001b[39mwith\u001b[39;00m \u001b[39mopen\u001b[39m(outfile, \u001b[39m\"\u001b[39m\u001b[39mw\u001b[39m\u001b[39m\"\u001b[39m) \u001b[39mas\u001b[39;00m text_file:\n",
      "File \u001b[0;32m/opt/homebrew/lib/python3.10/site-packages/utils-0.1-py3.10.egg/utils/tradingview.py:5\u001b[0m, in \u001b[0;36m<setcomp>\u001b[0;34m(.0)\u001b[0m\n\u001b[1;32m      4\u001b[0m \u001b[39mdef\u001b[39;00m \u001b[39mset_to_tv\u001b[39m(s, outfile):\n\u001b[0;32m----> 5\u001b[0m     s \u001b[39m=\u001b[39m {x\u001b[39m.\u001b[39;49mreplace(\u001b[39m\"\u001b[39m\u001b[39m&\u001b[39m\u001b[39m\"\u001b[39m, \u001b[39m\"\u001b[39m\u001b[39m_\u001b[39m\u001b[39m\"\u001b[39m)\u001b[39m.\u001b[39mreplace(\u001b[39m\"\u001b[39m\u001b[39m-\u001b[39m\u001b[39m\"\u001b[39m, \u001b[39m\"\u001b[39m\u001b[39m_\u001b[39m\u001b[39m\"\u001b[39m) \u001b[39mfor\u001b[39;00m x \u001b[39min\u001b[39;00m s}\n\u001b[1;32m      6\u001b[0m     tv_string \u001b[39m=\u001b[39m \u001b[39m\"\u001b[39m\u001b[39m,\u001b[39m\u001b[39m\"\u001b[39m\u001b[39m.\u001b[39mjoin(\u001b[39mlist\u001b[39m(s))\n\u001b[1;32m      7\u001b[0m     \u001b[39mwith\u001b[39;00m \u001b[39mopen\u001b[39m(outfile, \u001b[39m\"\u001b[39m\u001b[39mw\u001b[39m\u001b[39m\"\u001b[39m) \u001b[39mas\u001b[39;00m text_file:\n",
      "\u001b[0;31mAttributeError\u001b[0m: 'int' object has no attribute 'replace'"
     ]
    }
   ],
   "source": [
    "s1.update(s2)\n",
    "tv.set_to_tv(s1, datetime.today().strftime('%Y%m%d') + '_EP.txt')"
   ]
  }
 ],
 "metadata": {
  "kernelspec": {
   "display_name": "Python 3",
   "language": "python",
   "name": "python3"
  },
  "language_info": {
   "codemirror_mode": {
    "name": "ipython",
    "version": 3
   },
   "file_extension": ".py",
   "mimetype": "text/x-python",
   "name": "python",
   "nbconvert_exporter": "python",
   "pygments_lexer": "ipython3",
   "version": "3.10.9"
  },
  "orig_nbformat": 4
 },
 "nbformat": 4,
 "nbformat_minor": 2
}
