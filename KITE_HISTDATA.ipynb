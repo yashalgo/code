{
 "cells": [
  {
   "cell_type": "code",
   "execution_count": null,
   "id": "29e67d5e",
   "metadata": {},
   "outputs": [],
   "source": [
    "#!python\n",
    "from libs import *"
   ]
  },
  {
   "cell_type": "code",
   "execution_count": null,
   "id": "d980ac6b",
   "metadata": {},
   "outputs": [],
   "source": [
    "request_times = [0,0]"
   ]
  },
  {
   "cell_type": "code",
   "execution_count": null,
   "id": "571b65b0",
   "metadata": {},
   "outputs": [],
   "source": [
    "def historical_data(symbol, from_date, to_date, interval):\n",
    "\n",
    "    \"\"\"\n",
    "    This function will return historical data of the instrument for specific period of days for specific interval\n",
    "    \"\"\"\n",
    "    \n",
    "    df = pd.DataFrame()   \n",
    "    int_token = instrument_token(master_df, symbol)  #the function we defined above which will return token no. of instrument\n",
    "    \n",
    "    to_date   = pd.Timestamp(to_date)\n",
    "    from_date = pd.Timestamp(from_date)\n",
    "    \n",
    "    limit_dict = {'minute' : 60, '3minute' : 100, '5minute' : 100, '10minute' : 100, '15minute' : 200, '30minute' : 200, '60minute' : 400, 'day' : 2000}\n",
    "    limit = limit_dict[interval]\n",
    "    while True:\n",
    "        if from_date >= (to_date - dt.timedelta(limit)):\n",
    "            #if from_date is within the 60 days limit\n",
    "            while time.time() - request_times[-2] < 1:\n",
    "                pass\n",
    "            # print(int_token, from_date, to_date, interval)\n",
    "            while True:\n",
    "                try:\n",
    "                    # Fetch historical data\n",
    "                    temp_df = pd.DataFrame(kite.historical_data(int_token, from_date, to_date, interval))\n",
    "                    break\n",
    "                except exceptions.DataException:\n",
    "                    time.sleep(1)\n",
    "\n",
    "            request_times.append(time.time())\n",
    "            df = pd.concat([df, temp_df])\n",
    "            break\n",
    "            \n",
    "        else:                                                            #if from_date has more than 60 days limit\n",
    "            to_date_new = from_date + dt.timedelta(limit)\n",
    "            while time.time() - request_times[-2] < 1:\n",
    "                pass\n",
    "            # print(int_token, from_date, to_date_new, interval)\n",
    "            while True:\n",
    "                try:\n",
    "                    # Fetch historical data\n",
    "                    temp_df = pd.DataFrame(kite.historical_data(int_token, from_date, to_date_new, interval))\n",
    "                    break\n",
    "                except exceptions.DataException:\n",
    "                    time.sleep(1)\n",
    "            request_times.append(time.time())\n",
    "            df = pd.concat([df, temp_df])\n",
    "            #to_date = from_date.date() + dt.timedelta(60)\n",
    "            from_date = to_date_new\n",
    "            \n",
    "    return df"
   ]
  },
  {
   "cell_type": "code",
   "execution_count": null,
   "id": "d6bd1fce",
   "metadata": {},
   "outputs": [],
   "source": [
    "#paths\n",
    "trading_ = Path('/Users/yash/Desktop/Trading')\n",
    "code_ = trading_ / \"code\"\n",
    "minute_ = trading_ / \"historical_data/kite_connect/minute\"\n",
    "minute_5 = trading_ / \"historical_data/kite_connect/minute_5\"\n",
    "nifty500 = trading_ / \"tradingview_watchlists/broad/ind_nifty500list.csv\"\n",
    "df500 = pd.read_csv(nifty500)\n",
    "nifty500_list = df500['Symbol']"
   ]
  },
  {
   "cell_type": "code",
   "execution_count": null,
   "id": "a6d3c337",
   "metadata": {},
   "outputs": [],
   "source": [
    "connection_file = code_ / \"config/connection_info.json\"\n",
    "conInfo = get_connection_info(connection_file)\n",
    "kite = login_in_zerodha(conInfo['KITE_API_KEY'],\n",
    "                        conInfo['KITE_API_SECRET'],\n",
    "                        conInfo['USER'],\n",
    "                        conInfo['PASSWORD'],\n",
    "                        conInfo['TOTP_KEY'])\n",
    "print(kite.profile())"
   ]
  },
  {
   "cell_type": "code",
   "execution_count": null,
   "id": "e1b603d2",
   "metadata": {
    "scrolled": true
   },
   "outputs": [],
   "source": [
    "nse_df = pd.DataFrame(kite.instruments('NSE'))\n",
    "bse_df = pd.DataFrame(kite.instruments('BSE'))\n",
    "master_df = pd.concat([nse_df, bse_df])\n",
    "master_df.drop_duplicates(subset=\"tradingsymbol\",\n",
    "                     keep='first', inplace=True)\n",
    "master_df.drop_duplicates(subset=\"name\",\n",
    "                     keep='first', inplace=True)"
   ]
  },
  {
   "cell_type": "code",
   "execution_count": null,
   "id": "49bbafb8",
   "metadata": {},
   "outputs": [],
   "source": [
    "start_ = '2022-01-01'\n",
    "end_ = '2022-12-31'"
   ]
  },
  {
   "cell_type": "code",
   "execution_count": null,
   "id": "ba5b9395",
   "metadata": {},
   "outputs": [],
   "source": [
    "# gauth = GoogleAuth(settings_file=code_ / \"config/settings.yaml\")           \n",
    "# drive = GoogleDrive(gauth)"
   ]
  },
  {
   "cell_type": "code",
   "execution_count": null,
   "id": "ad8edcc2",
   "metadata": {},
   "outputs": [],
   "source": [
    "# #list\n",
    "# done_set = set()\n",
    "# minute_folder = '1tc6yb3kkqmgyDh7am7SU17_FupTlBg9o'\n",
    "# drive_list = drive.ListFile({'q': \"'{}' in parents and trashed=false\".format(minute_folder)}).GetList()"
   ]
  },
  {
   "cell_type": "code",
   "execution_count": null,
   "id": "003830a6",
   "metadata": {},
   "outputs": [],
   "source": [
    "# for file in drive_list:\n",
    "#     title = file['title']\n",
    "#     id = file['id']\n",
    "#     # print(title)\n",
    "#     # break\n",
    "#     if 'yash' in title:\n",
    "#         newTitle = title.split('/')[-1]\n",
    "#         print(newTitle)\n",
    "#         # renameFile(drive, id, newTitle)\n",
    "#         a=drive.auth.service.files().get(fileId=id).execute()\n",
    "#         a['title']=newTitle\n",
    "#         update=drive.auth.service.files().update(fileId=id,body=a).execute()"
   ]
  },
  {
   "cell_type": "code",
   "execution_count": null,
   "id": "5777b21c",
   "metadata": {},
   "outputs": [],
   "source": [
    "# print('Checking in GDrive')\n",
    "# done_set = set()\n",
    "# for file in drive_list:\n",
    "#     # print(file['title'])\n",
    "#     # break\n",
    "#     done_set.add(file['title'].split('_')[0])\n",
    "# print(len(done_set))\n",
    "# files = glob('/Users/yash/Desktop/Trading/historical_data/kite_connect/minute/*')\n",
    "# print('Checking in local machine')\n",
    "# for file in files:\n",
    "#     # print(file)\n",
    "#     # break\n",
    "#     done_set.add(file.split('/')[-1].split('_')[0])\n",
    "# print(len(done_set))"
   ]
  },
  {
   "cell_type": "code",
   "execution_count": null,
   "id": "19bf738b",
   "metadata": {},
   "outputs": [],
   "source": [
    "interval = \"5minute\""
   ]
  },
  {
   "cell_type": "code",
   "execution_count": null,
   "id": "57387e4e",
   "metadata": {},
   "outputs": [],
   "source": [
    "os.chdir(minute_5)"
   ]
  },
  {
   "cell_type": "code",
   "execution_count": null,
   "id": "54705451",
   "metadata": {},
   "outputs": [],
   "source": [
    "done_set = set()"
   ]
  },
  {
   "cell_type": "code",
   "execution_count": null,
   "id": "6c66b9db",
   "metadata": {},
   "outputs": [],
   "source": [
    "for symbol in nifty500_list:\n",
    "    try:\n",
    "        # break\n",
    "        fname = symbol + '_' + start_.replace('-','') + '_' + end_.replace('-','')\n",
    "        if symbol in done_set:\n",
    "            done_set.add(symbol)\n",
    "            print('Skipping ', symbol)\n",
    "            continue\n",
    "        # print(fname)\n",
    "        df = historical_data(symbol, start_, end_, interval)\n",
    "        # break\n",
    "        df.to_csv(fname)\n",
    "        done_set.add(symbol)\n",
    "\n",
    "        # files = glob(minute_.name + '*')\n",
    "        # while len(files) > 500:\n",
    "        #     print('Waiting')\n",
    "        #     pass\n",
    "        print(symbol)\n",
    "    except:\n",
    "        print('Error: ', symbol)"
   ]
  },
  {
   "cell_type": "markdown",
   "id": "e6cd2e68",
   "metadata": {},
   "source": [
    "NIFTY 500"
   ]
  }
 ],
 "metadata": {
  "kernelspec": {
   "display_name": "Python 3.10.9 64-bit",
   "language": "python",
   "name": "python3"
  },
  "language_info": {
   "codemirror_mode": {
    "name": "ipython",
    "version": 3
   },
   "file_extension": ".py",
   "mimetype": "text/x-python",
   "name": "python",
   "nbconvert_exporter": "python",
   "pygments_lexer": "ipython3",
   "version": "3.10.9"
  },
  "vscode": {
   "interpreter": {
    "hash": "b0fa6594d8f4cbf19f97940f81e996739fb7646882a419484c72d19e05852a7e"
   }
  }
 },
 "nbformat": 4,
 "nbformat_minor": 5
}
